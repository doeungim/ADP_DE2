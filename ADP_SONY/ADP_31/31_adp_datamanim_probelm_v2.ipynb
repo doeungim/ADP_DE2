{
 "cells": [
  {
   "cell_type": "markdown",
   "id": "1e530f30",
   "metadata": {},
   "source": [
    "# 31회 ADP 복원 "
   ]
  },
  {
   "cell_type": "markdown",
   "id": "d0c9251b",
   "metadata": {},
   "source": [
    "# 기계학습 (60점)"
   ]
  },
  {
   "cell_type": "markdown",
   "id": "435ce658",
   "metadata": {},
   "source": [
    "## 데이터 설명\n",
    "- 데이터 출처 : https://www.kaggle.com/datasets/mandysia/obesity-dataset-cleaned-and-data-sinthetic 후처리\n",
    "- 데이터 링크 : https://raw.githubusercontent.com/Datamanim/datarepo/main/adp/31/adp_31_1_obesity_v2.csv\n",
    "- 데이터 설명 : 각 환자의 의료정보이다. NObeyesdad를 종속변수로 하는 분류모델을 만드려고 한다.\n",
    "\n",
    "\n",
    "    id: unique id for each row    \n",
    "    Gender: sex - male or female    \n",
    "    Age: age    \n",
    "    Height: height    \n",
    "    Weight: weight    \n",
    "    family_history_with_overweight: Has a family member suffered or suffers f from overweight? - yes or no    \n",
    "    FAVC: Frequent consumption of high caloric food - yes or no     \n",
    "    FCVC: Frequency of consumption of vegetables - Never, Sometimes, Always    \n",
    "    NCP: Number of main meals - 1, 2, 3, 4     \n",
    "    CAEC: Consumption of food between meals - No, Sometimes, Frequently, Always    \n",
    "    SMOKE: Do you smoke - yes o no    \n",
    "    CH2O: Consumption of water daily - Less than a litter, between 1 and 2 l, more than 2 l    \n",
    "    SCC: Calories consumption monitoring - yes or no   \n",
    "    FAF: Physical activity frequency - 0, 1 to 2, 2 to 4, 4 to 5     \n",
    "    TUE: Time using technology devices - 0 to 2, 3 to 5, >5    \n",
    "    CALC: Consumption of alcohol - no, sometimes, frequently, always    \n",
    "    MTRANS: Transportation used - automobile, motorbike, bike, public_transportation, walking    \n",
    "    BMI: Body mass index\n",
    "    \n",
    "    (종속변수)     \n",
    "    NObeyesdad: Type of obesity - overweight-level_i, obesity_type_i, obesity_type_ii, obesity_type_iii"
   ]
  },
  {
   "cell_type": "markdown",
   "id": "c9373a22",
   "metadata": {},
   "source": [
    "## 1-1  EDA & 결측치 및 이상치를 판단하고 설명하라"
   ]
  },
  {
   "cell_type": "code",
   "execution_count": null,
   "id": "363b1389",
   "metadata": {},
   "outputs": [],
   "source": []
  },
  {
   "cell_type": "markdown",
   "id": "cdd7b70a",
   "metadata": {},
   "source": [
    "## 1-2 데이터 전처리 기법 2가지를 설명하고 주어진 데이터에 적용시 어떤 효과가 있는지 설명하라"
   ]
  },
  {
   "cell_type": "code",
   "execution_count": null,
   "id": "2bf785d4",
   "metadata": {},
   "outputs": [],
   "source": []
  },
  {
   "cell_type": "markdown",
   "id": "98cb5ad0",
   "metadata": {},
   "source": [
    "## 1-3 피쳐 엔지니어링을 통해 파생변수 1개를 생성하고 그 이유를 말하라"
   ]
  },
  {
   "cell_type": "code",
   "execution_count": null,
   "id": "1a322ad0",
   "metadata": {},
   "outputs": [],
   "source": []
  },
  {
   "cell_type": "markdown",
   "id": "2f91d43c",
   "metadata": {},
   "source": [
    "## 2-1 앙상블을 제외한 분류 모델 3가지 구축 및 결과 비교 및 설명하라"
   ]
  },
  {
   "cell_type": "code",
   "execution_count": null,
   "id": "4a1f7bdc",
   "metadata": {},
   "outputs": [],
   "source": []
  },
  {
   "cell_type": "markdown",
   "id": "660d2818",
   "metadata": {},
   "source": [
    "## 2-2 2-1에서 사용한 모델 중 하나를 골라 그리드 서치를 통해서 파라미터 튜닝 및 분류 모델 성능 평가 (precision ,recall)"
   ]
  },
  {
   "cell_type": "code",
   "execution_count": null,
   "id": "3c0a2e3e",
   "metadata": {},
   "outputs": [],
   "source": []
  },
  {
   "cell_type": "markdown",
   "id": "26ec3f77",
   "metadata": {},
   "source": [
    "## 2-3 2-1의 3가지 모델을 soft voting을 이용하여 모델링 한 결과와 2-2과 비교하라"
   ]
  },
  {
   "cell_type": "code",
   "execution_count": null,
   "id": "fe2e9e3d",
   "metadata": {},
   "outputs": [],
   "source": []
  },
  {
   "cell_type": "markdown",
   "id": "11a855de",
   "metadata": {},
   "source": [
    "## 3-2 하나의 모델을 선정하여 Drop Column Importance 방식으로 각 변수 별로 전체 컬럼을 포함한 모델과의 recall 값의 차이를 계산하고 시각화 하라"
   ]
  },
  {
   "cell_type": "code",
   "execution_count": null,
   "id": "9bc83885",
   "metadata": {},
   "outputs": [],
   "source": []
  },
  {
   "cell_type": "markdown",
   "id": "bf0b1e49",
   "metadata": {},
   "source": [
    "## 데이터 설명\n",
    "- 데이터 출처 : 자체제작\n",
    "- 데이터 링크 : https://raw.githubusercontent.com/Datamanim/datarepo/main/adp/31/adp_31_2_v2.csv\n",
    "- 데이터 설명 : 중고등학생 건강검진 데이터"
   ]
  },
  {
   "cell_type": "markdown",
   "id": "4e4fe7ae",
   "metadata": {},
   "source": [
    "## 4-1 아래의 기준으로 전처리를 하여 적정 체중 여부 컬럼을 생성하고 BMI를 5단위로 구분하여 와 적정 체중여부에 대한 빈도 표를 만들어라\n",
    " \n",
    "> bmi 계산\n",
    "    - Bmi = 몸무게(kg)/(키(m)**2)   \n",
    "\n",
    "> 만나이 구하기\n",
    "    - 건강검진을 받았던 날을 기준으로 생년월일과 일수 차이가 16년 364일 이하인 경우 만 16세 그 이상의 경우 만 17로 분류하라\n",
    "    - 윤년 등은 고려하지 않는다. 햇수로 16년 + 일수로 364일이 기준이다\n",
    "\n",
    "\n",
    "> 적정 체중 여부 (BMI가 아래 구간에 들어올 경우)     \n",
    "    17세 남자 : 21.03이상 23.21 미만   \n",
    "    17세 여자 : 20.03이상 22.39 미만    \n",
    "    16세 남자 : 21.18이상 23.45 미만   \n",
    "    16세 여자 : 19.61이상 21.74 미만       "
   ]
  },
  {
   "cell_type": "code",
   "execution_count": null,
   "id": "bd826283",
   "metadata": {},
   "outputs": [],
   "source": []
  },
  {
   "cell_type": "markdown",
   "id": "e4725c76",
   "metadata": {},
   "source": [
    "## 4-2 4-1에서 구한 적정 체중 여부와 나머지 컬럼(공학여부, 아침식사여부, 일주일운동시간, 채소섭취정도, 수면시간, 성별) 이 독립적인지 통계적으로 확인하라"
   ]
  },
  {
   "cell_type": "code",
   "execution_count": null,
   "id": "0e4742b3",
   "metadata": {},
   "outputs": [],
   "source": []
  },
  {
   "cell_type": "markdown",
   "id": "8979641c",
   "metadata": {},
   "source": [
    "## 4-3 4-2에서 유의한 변수들만 가지고 적정 체중 여부를 예측하는 모델을 구현하고 성능 평가 및 해석을 하라 (로지스틱회귀 ,xgb)\n",
    "> 로지스틱회귀 모델은 오즈비를 구하라\n",
    "> xgb의 경우 각 피쳐중요도를 확인하고 예측에 영향을 가장 미치는 변수를 확인하라"
   ]
  },
  {
   "cell_type": "code",
   "execution_count": null,
   "id": "47894af7",
   "metadata": {},
   "outputs": [],
   "source": []
  },
  {
   "cell_type": "markdown",
   "id": "d30b8589",
   "metadata": {},
   "source": [
    "## 4-4 4-3 두 모델의 roc-auc 그래프를 하나의 그래프에 겹쳐 그려라"
   ]
  },
  {
   "cell_type": "code",
   "execution_count": null,
   "id": "530b6171",
   "metadata": {},
   "outputs": [],
   "source": []
  },
  {
   "cell_type": "markdown",
   "id": "526e7015",
   "metadata": {},
   "source": [
    "# 통계 (40점)"
   ]
  },
  {
   "cell_type": "markdown",
   "id": "9da92811",
   "metadata": {},
   "source": [
    "## 5. 평균이 $\\theta$이고 분산이 100인 정규분포의 사전분포가 100, 256일때 120의 값을 가지는 데이터가 있을 경우 사후평균은? (5점)\n",
    "무게가 N($\\theta$, 100)인 정규분포에서, 사전분포는 N(100, 256)이다. 제품의 무게가 120kg일 때, 사후분포의 평균을 구하라"
   ]
  },
  {
   "cell_type": "code",
   "execution_count": null,
   "id": "207d3c80",
   "metadata": {},
   "outputs": [],
   "source": []
  },
  {
   "cell_type": "markdown",
   "id": "46d0923d",
   "metadata": {},
   "source": [
    "## 데이터 설명\n",
    "- 데이터 출처 : https://www.kaggle.com/datasets/yasserh/advertising-sales-dataset 후처리\n",
    "- 데이터 링크 : https://raw.githubusercontent.com/Datamanim/datarepo/main/adp/31/adp_31_5_advertising.csv\n",
    "- 데이터 설명 : TV, Radio, Newspaper에 각각 광고비(달러)를 다르게 했을때 매출액 (Sales , 밀리언달러)를 나타내는 데이터\n",
    "- 종속변수 : Sales"
   ]
  },
  {
   "cell_type": "code",
   "execution_count": null,
   "id": "f35e2c9c",
   "metadata": {},
   "outputs": [],
   "source": []
  },
  {
   "cell_type": "markdown",
   "id": "20f8b71f",
   "metadata": {},
   "source": [
    "## 6-1 회귀 모델링 후 유의하지 않는변수 파악 (15점)"
   ]
  },
  {
   "cell_type": "code",
   "execution_count": null,
   "id": "f4077ebc",
   "metadata": {},
   "outputs": [],
   "source": []
  },
  {
   "cell_type": "markdown",
   "id": "a3a3f23b",
   "metadata": {},
   "source": [
    "## 6-2 변수 선택시 먼저 제거 될 변수 및 근거 제시"
   ]
  },
  {
   "cell_type": "code",
   "execution_count": null,
   "id": "cc35387d",
   "metadata": {},
   "outputs": [],
   "source": []
  },
  {
   "cell_type": "markdown",
   "id": "b8167183",
   "metadata": {},
   "source": [
    "## 6-3 VIF를 통한 다중공선성 진단"
   ]
  },
  {
   "cell_type": "code",
   "execution_count": null,
   "id": "6ffb4f72",
   "metadata": {},
   "outputs": [],
   "source": []
  },
  {
   "cell_type": "markdown",
   "id": "a481bc78",
   "metadata": {},
   "source": [
    "## 7 (15점)  \n",
    "- 데이터 링크 : https://raw.githubusercontent.com/Datamanim/datarepo/main/adp/31/adp_31_7.csv\n",
    "- 데이터 설명 : A,B,C,D,E 영업사원의 각 계약 성사 유무 (1:계약 , 0:미계약) 를 나타낸 데이터이다. 영업사원의 평균 계약 성사 건수는 같은지 통계 검정하라"
   ]
  },
  {
   "cell_type": "code",
   "execution_count": null,
   "id": "688c6492",
   "metadata": {},
   "outputs": [],
   "source": []
  },
  {
   "cell_type": "markdown",
   "id": "23bc4496",
   "metadata": {},
   "source": [
    "## 8 유기견이 하루에 2.2마리 발생한다 (10점)"
   ]
  },
  {
   "cell_type": "markdown",
   "id": "4fc76499",
   "metadata": {},
   "source": [
    "## 8-1 한 마리도 안 버려질 확률"
   ]
  },
  {
   "cell_type": "code",
   "execution_count": null,
   "id": "79ec362c",
   "metadata": {},
   "outputs": [],
   "source": []
  },
  {
   "cell_type": "markdown",
   "id": "b3eec6b1",
   "metadata": {},
   "source": [
    "## 8-2 적어도 2마리 버려질 확률"
   ]
  },
  {
   "cell_type": "code",
   "execution_count": null,
   "id": "d666f6c9",
   "metadata": {},
   "outputs": [],
   "source": []
  }
 ],
 "metadata": {
  "kernelspec": {
   "display_name": "Python 3 (ipykernel)",
   "language": "python",
   "name": "python3"
  },
  "language_info": {
   "codemirror_mode": {
    "name": "ipython",
    "version": 3
   },
   "file_extension": ".py",
   "mimetype": "text/x-python",
   "name": "python",
   "nbconvert_exporter": "python",
   "pygments_lexer": "ipython3",
   "version": "3.8.18"
  }
 },
 "nbformat": 4,
 "nbformat_minor": 5
}
