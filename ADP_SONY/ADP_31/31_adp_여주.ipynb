{
 "cells": [
  {
   "cell_type": "markdown",
   "id": "e2802cc6",
   "metadata": {},
   "source": [
    "# 31회 ADP 복원 "
   ]
  },
  {
   "cell_type": "markdown",
   "id": "86f957f1",
   "metadata": {},
   "source": [
    "## 문제풀이 복원자 31회 시험 성적\n",
    "- 머신러닝: 52점\n",
    "- 통계분석: 35점\n",
    "- 총합: 87점"
   ]
  },
  {
   "cell_type": "code",
   "execution_count": 1,
   "id": "a5f0637a",
   "metadata": {},
   "outputs": [],
   "source": [
    "import warnings, platform\n",
    "import matplotlib.pyplot as plt\n",
    "\n",
    "from IPython.display import display, HTML"
   ]
  },
  {
   "cell_type": "code",
   "execution_count": 2,
   "id": "2ed51f7d",
   "metadata": {},
   "outputs": [
    {
     "data": {
      "text/html": [
       "<style>.container {width :98% !important;}</style>"
      ],
      "text/plain": [
       "<IPython.core.display.HTML object>"
      ]
     },
     "metadata": {},
     "output_type": "display_data"
    }
   ],
   "source": [
    "### HTML display 조정\n",
    "display(HTML(\"<style>.container {width :98% !important;}</style>\"))\n",
    "\n",
    "### Warning 제거\n",
    "warnings.filterwarnings('ignore')"
   ]
  },
  {
   "cell_type": "code",
   "execution_count": 3,
   "id": "416f3165",
   "metadata": {},
   "outputs": [],
   "source": [
    "### 한글 폰트 설정\n",
    "if platform.system()=='Darwin':\n",
    "    plt.rc('font', family='AppleGothic')\n",
    "elif platform.system()=='Linux':\n",
    "    # !wget \"https://www.wfonts.com/download/data/2016/06/13/malgun-gothic/malgun.ttf\"\n",
    "    # !mv malgun.ttf /usr/share/fonts/truetype/\n",
    "    import matplotlib.font_manager as fm\n",
    "    plt.rc('font', family='Malgun Gothic')\n",
    "    fm._rebuild()\n",
    "plt.rcParams['axes.unicode_minus'] = False # minus 폰트 깨짐 해결"
   ]
  },
  {
   "cell_type": "code",
   "execution_count": 4,
   "id": "a04a059a",
   "metadata": {},
   "outputs": [],
   "source": [
    "import numpy as np\n",
    "import pandas as pd\n",
    "\n",
    "import seaborn as sns\n",
    "import datetime as dt\n",
    "\n",
    "import scipy.stats as stats\n",
    "import statsmodels.api as sm\n",
    "import statsmodels.formula.api as smf\n",
    "\n",
    "from sklearn.model_selection import train_test_split, GridSearchCV\n",
    "from sklearn.preprocessing import StandardScaler, RobustScaler\n",
    "from sklearn.preprocessing import LabelEncoder\n",
    "\n",
    "from sklearn.metrics import accuracy_score, precision_score, recall_score, f1_score\n",
    "from sklearn.metrics import roc_curve, roc_auc_score\n",
    "from sklearn.metrics import PrecisionRecallDisplay, RocCurveDisplay\n",
    "\n",
    "from sklearn.linear_model import LogisticRegression\n",
    "from sklearn.tree import DecisionTreeClassifier\n",
    "from sklearn.neural_network import MLPClassifier\n",
    "from sklearn.ensemble import VotingClassifier\n",
    "from xgboost import XGBClassifier\n",
    "\n",
    "from patsy import dmatrices\n",
    "from statsmodels.stats.outliers_influence import variance_inflation_factor\n",
    "from statsmodels.stats.contingency_tables import cochrans_q"
   ]
  },
  {
   "cell_type": "code",
   "execution_count": 5,
   "id": "800979c1",
   "metadata": {},
   "outputs": [],
   "source": [
    "np.random.seed(1004)"
   ]
  },
  {
   "cell_type": "markdown",
   "id": "94680252",
   "metadata": {},
   "source": [
    "# 기계학습 (60점)"
   ]
  },
  {
   "cell_type": "markdown",
   "id": "2469c9db",
   "metadata": {},
   "source": [
    "## 1. 비만 예측 분석\n",
    "- 데이터 출처 : https://www.kaggle.com/datasets/mandysia/obesity-dataset-cleaned-and-data-sinthetic 후처리\n",
    "- 데이터 링크 : https://raw.githubusercontent.com/Datamanim/datarepo/main/adp/31/adp_31_1_obesity_v2.csv\n",
    "- 데이터 설명 : 각 환자의 의료정보이다. NObeyesdad를 종속변수로 하는 분류모델을 만드려고 한다.\n",
    "\n",
    "\n",
    "    id: unique id for each row    \n",
    "    Gender: sex - male or female    \n",
    "    Age: age    \n",
    "    Height: height    \n",
    "    Weight: weight    \n",
    "    family_history_with_overweight: Has a family member suffered or suffers f from overweight? - yes or no    \n",
    "    FAVC: Frequent consumption of high caloric food - yes or no     \n",
    "    FCVC: Frequency of consumption of vegetables - Never, Sometimes, Always    \n",
    "    NCP: Number of main meals - 1, 2, 3, 4     \n",
    "    CAEC: Consumption of food between meals - No, Sometimes, Frequently, Always    \n",
    "    SMOKE: Do you smoke - yes o no    \n",
    "    CH2O: Consumption of water daily - Less than a litter, between 1 and 2 l, more than 2 l    \n",
    "    SCC: Calories consumption monitoring - yes or no   \n",
    "    FAF: Physical activity frequency - 0, 1 to 2, 2 to 4, 4 to 5     \n",
    "    TUE: Time using technology devices - 0 to 2, 3 to 5, >5    \n",
    "    CALC: Consumption of alcohol - no, sometimes, frequently, always    \n",
    "    MTRANS: Transportation used - automobile, motorbike, bike, public_transportation, walking    \n",
    "    BMI: Body mass index\n",
    "    \n",
    "    (종속변수)     \n",
    "    NObeyesdad: Type of obesity - overweight-level_i, obesity_type_i, obesity_type_ii, obesity_type_iii"
   ]
  },
  {
   "cell_type": "code",
   "execution_count": 6,
   "id": "6c6dea88",
   "metadata": {},
   "outputs": [
    {
     "data": {
      "text/html": [
       "<div>\n",
       "<style scoped>\n",
       "    .dataframe tbody tr th:only-of-type {\n",
       "        vertical-align: middle;\n",
       "    }\n",
       "\n",
       "    .dataframe tbody tr th {\n",
       "        vertical-align: top;\n",
       "    }\n",
       "\n",
       "    .dataframe thead th {\n",
       "        text-align: right;\n",
       "    }\n",
       "</style>\n",
       "<table border=\"1\" class=\"dataframe\">\n",
       "  <thead>\n",
       "    <tr style=\"text-align: right;\">\n",
       "      <th></th>\n",
       "      <th>id</th>\n",
       "      <th>Gender</th>\n",
       "      <th>Age</th>\n",
       "      <th>Height</th>\n",
       "      <th>Weight</th>\n",
       "      <th>family_history_with_overweight</th>\n",
       "      <th>FAVC</th>\n",
       "      <th>FCVC</th>\n",
       "      <th>NCP</th>\n",
       "      <th>CAEC</th>\n",
       "      <th>SMOKE</th>\n",
       "      <th>CH2O</th>\n",
       "      <th>SCC</th>\n",
       "      <th>FAF</th>\n",
       "      <th>TUE</th>\n",
       "      <th>CALC</th>\n",
       "      <th>MTRANS</th>\n",
       "      <th>NObeyesdad</th>\n",
       "      <th>BMI</th>\n",
       "    </tr>\n",
       "  </thead>\n",
       "  <tbody>\n",
       "    <tr>\n",
       "      <th>0</th>\n",
       "      <td>4</td>\n",
       "      <td>male</td>\n",
       "      <td>27</td>\n",
       "      <td>1.800000</td>\n",
       "      <td>87</td>\n",
       "      <td>no</td>\n",
       "      <td>no</td>\n",
       "      <td>always</td>\n",
       "      <td>3</td>\n",
       "      <td>sometimes</td>\n",
       "      <td>no</td>\n",
       "      <td>between 1 and 2 l</td>\n",
       "      <td>no</td>\n",
       "      <td>2 to 4</td>\n",
       "      <td>0 to 2</td>\n",
       "      <td>frequently</td>\n",
       "      <td>walking</td>\n",
       "      <td>overweight_level_i</td>\n",
       "      <td>26.851852</td>\n",
       "    </tr>\n",
       "    <tr>\n",
       "      <th>1</th>\n",
       "      <td>11</td>\n",
       "      <td>male</td>\n",
       "      <td>26</td>\n",
       "      <td>1.850000</td>\n",
       "      <td>105</td>\n",
       "      <td>yes</td>\n",
       "      <td>yes</td>\n",
       "      <td>always</td>\n",
       "      <td>3</td>\n",
       "      <td>frequently</td>\n",
       "      <td>no</td>\n",
       "      <td>more than 2 l</td>\n",
       "      <td>no</td>\n",
       "      <td>2 to 4</td>\n",
       "      <td>&gt;5</td>\n",
       "      <td>sometimes</td>\n",
       "      <td>public_transportation</td>\n",
       "      <td>obesity_type_i</td>\n",
       "      <td>30.679328</td>\n",
       "    </tr>\n",
       "    <tr>\n",
       "      <th>2</th>\n",
       "      <td>14</td>\n",
       "      <td>male</td>\n",
       "      <td>41</td>\n",
       "      <td>1.800000</td>\n",
       "      <td>99</td>\n",
       "      <td>no</td>\n",
       "      <td>yes</td>\n",
       "      <td>sometimes</td>\n",
       "      <td>3</td>\n",
       "      <td>sometimes</td>\n",
       "      <td>no</td>\n",
       "      <td>between 1 and 2 l</td>\n",
       "      <td>no</td>\n",
       "      <td>2 to 4</td>\n",
       "      <td>3 to 5</td>\n",
       "      <td>frequently</td>\n",
       "      <td>automobile</td>\n",
       "      <td>obesity_type_i</td>\n",
       "      <td>30.555556</td>\n",
       "    </tr>\n",
       "    <tr>\n",
       "      <th>3</th>\n",
       "      <td>18</td>\n",
       "      <td>female</td>\n",
       "      <td>29</td>\n",
       "      <td>1.530000</td>\n",
       "      <td>78</td>\n",
       "      <td>no</td>\n",
       "      <td>yes</td>\n",
       "      <td>sometimes</td>\n",
       "      <td>1</td>\n",
       "      <td>sometimes</td>\n",
       "      <td>no</td>\n",
       "      <td>between 1 and 2 l</td>\n",
       "      <td>no</td>\n",
       "      <td>0</td>\n",
       "      <td>0 to 2</td>\n",
       "      <td>no</td>\n",
       "      <td>automobile</td>\n",
       "      <td>obesity_type_i</td>\n",
       "      <td>33.320518</td>\n",
       "    </tr>\n",
       "    <tr>\n",
       "      <th>4</th>\n",
       "      <td>20</td>\n",
       "      <td>female</td>\n",
       "      <td>23</td>\n",
       "      <td>1.650000</td>\n",
       "      <td>70</td>\n",
       "      <td>yes</td>\n",
       "      <td>no</td>\n",
       "      <td>sometimes</td>\n",
       "      <td>1</td>\n",
       "      <td>sometimes</td>\n",
       "      <td>no</td>\n",
       "      <td>between 1 and 2 l</td>\n",
       "      <td>no</td>\n",
       "      <td>0</td>\n",
       "      <td>0 to 2</td>\n",
       "      <td>sometimes</td>\n",
       "      <td>public_transportation</td>\n",
       "      <td>overweight_level_i</td>\n",
       "      <td>25.711662</td>\n",
       "    </tr>\n",
       "    <tr>\n",
       "      <th>...</th>\n",
       "      <td>...</td>\n",
       "      <td>...</td>\n",
       "      <td>...</td>\n",
       "      <td>...</td>\n",
       "      <td>...</td>\n",
       "      <td>...</td>\n",
       "      <td>...</td>\n",
       "      <td>...</td>\n",
       "      <td>...</td>\n",
       "      <td>...</td>\n",
       "      <td>...</td>\n",
       "      <td>...</td>\n",
       "      <td>...</td>\n",
       "      <td>...</td>\n",
       "      <td>...</td>\n",
       "      <td>...</td>\n",
       "      <td>...</td>\n",
       "      <td>...</td>\n",
       "      <td>...</td>\n",
       "    </tr>\n",
       "    <tr>\n",
       "      <th>1257</th>\n",
       "      <td>2,107</td>\n",
       "      <td>female</td>\n",
       "      <td>21</td>\n",
       "      <td>1.710730</td>\n",
       "      <td>131</td>\n",
       "      <td>yes</td>\n",
       "      <td>yes</td>\n",
       "      <td>always</td>\n",
       "      <td>3</td>\n",
       "      <td>sometimes</td>\n",
       "      <td>no</td>\n",
       "      <td>between 1 and 2 l</td>\n",
       "      <td>no</td>\n",
       "      <td>2 to 4</td>\n",
       "      <td>3 to 5</td>\n",
       "      <td>sometimes</td>\n",
       "      <td>public_transportation</td>\n",
       "      <td>obesity_type_iii</td>\n",
       "      <td>44.901475</td>\n",
       "    </tr>\n",
       "    <tr>\n",
       "      <th>1258</th>\n",
       "      <td>2,108</td>\n",
       "      <td>female</td>\n",
       "      <td>22</td>\n",
       "      <td>1.748584</td>\n",
       "      <td>134</td>\n",
       "      <td>yes</td>\n",
       "      <td>yes</td>\n",
       "      <td>always</td>\n",
       "      <td>3</td>\n",
       "      <td>sometimes</td>\n",
       "      <td>no</td>\n",
       "      <td>between 1 and 2 l</td>\n",
       "      <td>no</td>\n",
       "      <td>1 to 2</td>\n",
       "      <td>3 to 5</td>\n",
       "      <td>sometimes</td>\n",
       "      <td>public_transportation</td>\n",
       "      <td>obesity_type_iii</td>\n",
       "      <td>43.741923</td>\n",
       "    </tr>\n",
       "    <tr>\n",
       "      <th>1259</th>\n",
       "      <td>2,109</td>\n",
       "      <td>female</td>\n",
       "      <td>23</td>\n",
       "      <td>1.752206</td>\n",
       "      <td>134</td>\n",
       "      <td>yes</td>\n",
       "      <td>yes</td>\n",
       "      <td>always</td>\n",
       "      <td>3</td>\n",
       "      <td>sometimes</td>\n",
       "      <td>no</td>\n",
       "      <td>between 1 and 2 l</td>\n",
       "      <td>no</td>\n",
       "      <td>1 to 2</td>\n",
       "      <td>3 to 5</td>\n",
       "      <td>sometimes</td>\n",
       "      <td>public_transportation</td>\n",
       "      <td>obesity_type_iii</td>\n",
       "      <td>43.543817</td>\n",
       "    </tr>\n",
       "    <tr>\n",
       "      <th>1260</th>\n",
       "      <td>2,110</td>\n",
       "      <td>female</td>\n",
       "      <td>24</td>\n",
       "      <td>1.739450</td>\n",
       "      <td>133</td>\n",
       "      <td>yes</td>\n",
       "      <td>yes</td>\n",
       "      <td>always</td>\n",
       "      <td>3</td>\n",
       "      <td>sometimes</td>\n",
       "      <td>no</td>\n",
       "      <td>more than 2 l</td>\n",
       "      <td>no</td>\n",
       "      <td>1 to 2</td>\n",
       "      <td>3 to 5</td>\n",
       "      <td>sometimes</td>\n",
       "      <td>public_transportation</td>\n",
       "      <td>obesity_type_iii</td>\n",
       "      <td>44.071535</td>\n",
       "    </tr>\n",
       "    <tr>\n",
       "      <th>1261</th>\n",
       "      <td>2,111</td>\n",
       "      <td>female</td>\n",
       "      <td>24</td>\n",
       "      <td>1.738836</td>\n",
       "      <td>133</td>\n",
       "      <td>yes</td>\n",
       "      <td>yes</td>\n",
       "      <td>always</td>\n",
       "      <td>3</td>\n",
       "      <td>sometimes</td>\n",
       "      <td>no</td>\n",
       "      <td>more than 2 l</td>\n",
       "      <td>no</td>\n",
       "      <td>1 to 2</td>\n",
       "      <td>3 to 5</td>\n",
       "      <td>sometimes</td>\n",
       "      <td>public_transportation</td>\n",
       "      <td>obesity_type_iii</td>\n",
       "      <td>44.144338</td>\n",
       "    </tr>\n",
       "  </tbody>\n",
       "</table>\n",
       "<p>1262 rows × 19 columns</p>\n",
       "</div>"
      ],
      "text/plain": [
       "         id  Gender  Age    Height  Weight family_history_with_overweight  \\\n",
       "0         4    male   27  1.800000      87                             no   \n",
       "1        11    male   26  1.850000     105                            yes   \n",
       "2        14    male   41  1.800000      99                             no   \n",
       "3        18  female   29  1.530000      78                             no   \n",
       "4        20  female   23  1.650000      70                            yes   \n",
       "...     ...     ...  ...       ...     ...                            ...   \n",
       "1257  2,107  female   21  1.710730     131                            yes   \n",
       "1258  2,108  female   22  1.748584     134                            yes   \n",
       "1259  2,109  female   23  1.752206     134                            yes   \n",
       "1260  2,110  female   24  1.739450     133                            yes   \n",
       "1261  2,111  female   24  1.738836     133                            yes   \n",
       "\n",
       "     FAVC       FCVC  NCP        CAEC SMOKE               CH2O SCC     FAF  \\\n",
       "0      no     always    3   sometimes    no  between 1 and 2 l  no  2 to 4   \n",
       "1     yes     always    3  frequently    no      more than 2 l  no  2 to 4   \n",
       "2     yes  sometimes    3   sometimes    no  between 1 and 2 l  no  2 to 4   \n",
       "3     yes  sometimes    1   sometimes    no  between 1 and 2 l  no       0   \n",
       "4      no  sometimes    1   sometimes    no  between 1 and 2 l  no       0   \n",
       "...   ...        ...  ...         ...   ...                ...  ..     ...   \n",
       "1257  yes     always    3   sometimes    no  between 1 and 2 l  no  2 to 4   \n",
       "1258  yes     always    3   sometimes    no  between 1 and 2 l  no  1 to 2   \n",
       "1259  yes     always    3   sometimes    no  between 1 and 2 l  no  1 to 2   \n",
       "1260  yes     always    3   sometimes    no      more than 2 l  no  1 to 2   \n",
       "1261  yes     always    3   sometimes    no      more than 2 l  no  1 to 2   \n",
       "\n",
       "         TUE        CALC                 MTRANS          NObeyesdad        BMI  \n",
       "0     0 to 2  frequently                walking  overweight_level_i  26.851852  \n",
       "1         >5   sometimes  public_transportation      obesity_type_i  30.679328  \n",
       "2     3 to 5  frequently             automobile      obesity_type_i  30.555556  \n",
       "3     0 to 2          no             automobile      obesity_type_i  33.320518  \n",
       "4     0 to 2   sometimes  public_transportation  overweight_level_i  25.711662  \n",
       "...      ...         ...                    ...                 ...        ...  \n",
       "1257  3 to 5   sometimes  public_transportation    obesity_type_iii  44.901475  \n",
       "1258  3 to 5   sometimes  public_transportation    obesity_type_iii  43.741923  \n",
       "1259  3 to 5   sometimes  public_transportation    obesity_type_iii  43.543817  \n",
       "1260  3 to 5   sometimes  public_transportation    obesity_type_iii  44.071535  \n",
       "1261  3 to 5   sometimes  public_transportation    obesity_type_iii  44.144338  \n",
       "\n",
       "[1262 rows x 19 columns]"
      ]
     },
     "execution_count": 6,
     "metadata": {},
     "output_type": "execute_result"
    }
   ],
   "source": [
    "obesity = pd.read_csv(\"https://raw.githubusercontent.com/Datamanim/datarepo/main/adp/31/adp_31_1_obesity_v2.csv\", index_col='Unnamed: 0')\n",
    "obesity"
   ]
  },
  {
   "cell_type": "markdown",
   "id": "aba9487d",
   "metadata": {},
   "source": [
    "### 1-1  EDA & 결측치 및 이상치를 판단하고 설명하라\n",
    "- SCC 변수에 3개의 이상치가 있다. 칼로리 소비 모니터링 여부를 판단하는 이진 변수로 특정 값으로 치환하기 어렵고, 전체 데이터 개수에 비해 매우 적으므로 우선 데이터를 제거한 수 EDA를 진행한다."
   ]
  },
  {
   "cell_type": "code",
   "execution_count": 7,
   "id": "0c6abc04",
   "metadata": {},
   "outputs": [
    {
     "data": {
      "text/plain": [
       "SCC    3\n",
       "dtype: int64"
      ]
     },
     "execution_count": 7,
     "metadata": {},
     "output_type": "execute_result"
    }
   ],
   "source": [
    "na_cnt = obesity.isnull().sum()\n",
    "na_cnt[na_cnt > 0]"
   ]
  },
  {
   "cell_type": "code",
   "execution_count": 8,
   "id": "a30cf358",
   "metadata": {},
   "outputs": [],
   "source": [
    "obesity = obesity[obesity['SCC'].notna()]"
   ]
  },
  {
   "cell_type": "markdown",
   "id": "2b47f051",
   "metadata": {},
   "source": [
    "- 종속변수를 살펴보았다. Target Column인 NObeyesdad는 범주형 변수이며, 각 범주 내 개수는 비교적 고른 모습을 보인다."
   ]
  },
  {
   "cell_type": "code",
   "execution_count": 9,
   "id": "fc633fe9",
   "metadata": {},
   "outputs": [],
   "source": [
    "target_col = 'NObeyesdad'"
   ]
  },
  {
   "cell_type": "code",
   "execution_count": 10,
   "id": "aff1c2bc",
   "metadata": {},
   "outputs": [
    {
     "data": {
      "text/plain": [
       "obesity_type_i        350\n",
       "obesity_type_iii      323\n",
       "obesity_type_ii       296\n",
       "overweight_level_i    290\n",
       "Name: NObeyesdad, dtype: int64"
      ]
     },
     "execution_count": 10,
     "metadata": {},
     "output_type": "execute_result"
    }
   ],
   "source": [
    "obesity[target_col].value_counts()"
   ]
  },
  {
   "cell_type": "code",
   "execution_count": 11,
   "id": "307321b1",
   "metadata": {},
   "outputs": [
    {
     "data": {
      "image/png": "[encoded data removed]",
      "text/plain": [
       "<Figure size 432x288 with 1 Axes>"
      ]
     },
     "metadata": {
      "needs_background": "light"
     },
     "output_type": "display_data"
    }
   ],
   "source": [
    "sns.countplot(obesity[target_col])\n",
    "plt.show()"
   ]
  },
  {
   "cell_type": "markdown",
   "id": "9cbe5cf6",
   "metadata": {},
   "source": [
    "- 다음으로, 독립변수를 변수의 특성에 따라 구분하여 살펴보았다. 범주형은 barplot, 숫자형은 boxplot을 사용하여 도식화하였다.\n",
    "- NCP 변수는 수치형 변수이지만, 정수로 구성된 데이터이므로 범주형 변수로 취급하였고, id 변수는 단순히 데이터를 구분하기 위한 숫자이므로 제외한다."
   ]
  },
  {
   "cell_type": "code",
   "execution_count": 12,
   "id": "a365c12b",
   "metadata": {},
   "outputs": [],
   "source": [
    "num_col = ['Age', 'Height', 'Weight', 'BMI']\n",
    "cat_col = list(obesity.columns.difference([target_col, 'id'] + num_col))"
   ]
  },
  {
   "cell_type": "markdown",
   "id": "45575092",
   "metadata": {},
   "source": [
    "- 범주형 변수를 먼저 살펴보면, 다수 변수에서 범주 간 데이터 불균형이 나타나는 적절한 처리가 필요해 보인다.\n",
    "- 불균형이 있는 것으로 판단되는 변수에는 CAEC, CALC, FAF, FCVC, MRTANS, NCP, SCC, SMOKE, TUE, family_history_with_overweight이 있다."
   ]
  },
  {
   "cell_type": "code",
   "execution_count": 13,
   "id": "45ae3744",
   "metadata": {},
   "outputs": [
    {
     "data": {
      "image/png": "[encoded data removed]",
      "text/plain": [
       "<Figure size 1440x1440 with 16 Axes>"
      ]
     },
     "metadata": {
      "needs_background": "light"
     },
     "output_type": "display_data"
    }
   ],
   "source": [
    "fig, axes = plt.subplots(nrows=4, ncols=4, figsize=(20, 20))\n",
    "for i, col in enumerate(cat_col):\n",
    "    ax_col = i%4\n",
    "    ax_row = i//4\n",
    "    sns.countplot(x=col, data=obesity, ax=axes[ax_row, ax_col])"
   ]
  },
  {
   "cell_type": "markdown",
   "id": "d030e62b",
   "metadata": {},
   "source": [
    "- 수치형 변수의 분포를 보면, age 변수에서 140을 초과하는 이상치가 발견되었다. 이 데이터를 제거한 수 다시 시각화를 진행한다."
   ]
  },
  {
   "cell_type": "code",
   "execution_count": 14,
   "id": "49ca6586",
   "metadata": {},
   "outputs": [
    {
     "data": {
      "image/png": "[encoded data removed]",
      "text/plain": [
       "<Figure size 720x720 with 4 Axes>"
      ]
     },
     "metadata": {
      "needs_background": "light"
     },
     "output_type": "display_data"
    }
   ],
   "source": [
    "fig, axes = plt.subplots(nrows=2, ncols=2, figsize=(10, 10))\n",
    "for i, col in enumerate(num_col):\n",
    "    ax_col = i%2\n",
    "    ax_row = i//2\n",
    "    sns.boxplot(x=col, data=obesity, ax=axes[ax_row, ax_col])"
   ]
  },
  {
   "cell_type": "code",
   "execution_count": 15,
   "id": "1aa11d27",
   "metadata": {},
   "outputs": [],
   "source": [
    "obesity = obesity[obesity['Age'] < 140] # 이상치 제거"
   ]
  },
  {
   "cell_type": "markdown",
   "id": "617bdcfc",
   "metadata": {},
   "source": [
    "- Height, Weight, BMI 변수는 비교적 skewness가 적은 것으로 보이며, Age 변수도 이상치를 제거한 후에는 skewness가 많이 감소했음을 확인할 수 있지만, 추가 변수 변환이 필요할 것으로 생각된다.\n",
    "- Weight 변수에서 값이 매우 큰 데이터가 존재하나, 비만과 관련된 데이터의 특성 상 허용 가능할 것으로 보인다."
   ]
  },
  {
   "cell_type": "code",
   "execution_count": 16,
   "id": "d7e4924a",
   "metadata": {},
   "outputs": [
    {
     "data": {
      "image/png": "[encoded data removed]",
      "text/plain": [
       "<Figure size 720x720 with 4 Axes>"
      ]
     },
     "metadata": {
      "needs_background": "light"
     },
     "output_type": "display_data"
    }
   ],
   "source": [
    "fig, axes = plt.subplots(nrows=2, ncols=2, figsize=(10, 10))\n",
    "for i, col in enumerate(num_col):\n",
    "    ax_col = i%2\n",
    "    ax_row = i//2\n",
    "    sns.boxplot(x=col, data=obesity, ax=axes[ax_row, ax_col])"
   ]
  },
  {
   "cell_type": "markdown",
   "id": "b51d6531",
   "metadata": {},
   "source": [
    "- 수치형 변수에 대해서는 상관관계 여부를 추가로 파악하였다. BMI와 Weight의 상관계수가 0.85, Height과 Weight의 상관계수가 0.57로 높게 나타났다.\n",
    "- 몸무게는 키에 비례하고, BMI는 몸무게와 키의 관계를 가지고 산출하므로 자연스러운 결과로 생각된다.\n",
    "- BMI와 Weight의 경우 다중 공선성이 우려되기는 하나 상관계수가 0.9를 넘지는 않으므로 함께 모델링을 진행한다."
   ]
  },
  {
   "cell_type": "code",
   "execution_count": 17,
   "id": "9f07f9fb",
   "metadata": {
    "scrolled": false
   },
   "outputs": [
    {
     "data": {
      "image/png": "[encoded data removed]",
      "text/plain": [
       "<Figure size 432x288 with 2 Axes>"
      ]
     },
     "metadata": {
      "needs_background": "light"
     },
     "output_type": "display_data"
    }
   ],
   "source": [
    "sns.heatmap(obesity.corr(method='spearman'), annot=True)\n",
    "plt.show()"
   ]
  },
  {
   "cell_type": "markdown",
   "id": "8ab48ee2",
   "metadata": {},
   "source": [
    "### 1-2 데이터 전처리 기법 2가지를 설명하고 주어진 데이터에 적용시 어떤 효과가 있는지 설명하라\n",
    "- 본 시험에서는 카테고리 병합을 피쳐 엔지니어링으로 보았습니다. 하지만 카테고리 병합 또한 전처리로 보는 것이 더 적합하다고 판단되어 전처리 부분에 작성하였습니다.\n",
    "- 앞서 파악된 범주형 변수의 불균형을 해소하기 위해 데이터 카테고리 병합을 진행하고, 머신러닝 모델이 이해할 수 있는 형태로 만들기 위해 encoding을 진행한다.\n",
    "- 수치형 변수의 경우 모델 영향도 통일을 위해 scaling을 적용한다.\n",
    "- 이를 통해 변수가 모델에 미치는 영향을 보다 더 명확하게 파악하고, 모델의 성능을 상승시킬 수 있다.\n",
    "- 단, scaling의 경우 데이터 분할이 선행되어야 하므로, 1-3 파생변수 생성한 다음 서술한다."
   ]
  },
  {
   "cell_type": "markdown",
   "id": "8757d626",
   "metadata": {},
   "source": [
    "- 카테고리 병합은 3개 카테고리 이상이 존재하는 범주형 변수인 CAEC, CALC, FCVC, FAF, MTRANS, NCP, TUE 변수에 적용하였고, 카테고리는 가능한 비슷한 카테고리가 묶일 수 있도록 하였다.\n",
    "- 병합 대상 변수의 카테고리 분포를 살펴보면, 이전에 비해 불균형이 완화된 것을 볼 수 있다."
   ]
  },
  {
   "cell_type": "code",
   "execution_count": 18,
   "id": "c07dec4e",
   "metadata": {},
   "outputs": [],
   "source": [
    "# 데이터 카테고리 병합\n",
    "obesity['FCVC'] = np.where(obesity['FCVC']=='always', 'always', 'sometimes or never')\n",
    "\n",
    "obesity['CAEC'] = np.where(obesity['CAEC']=='no', 'sometimes or less', obesity['CAEC'])\n",
    "obesity['CAEC'] = np.where(obesity['CAEC']=='sometimes', 'sometimes or less', obesity['CAEC'])\n",
    "obesity['CAEC'] = np.where(obesity['CAEC']=='frequently', 'sometimes or less', obesity['CAEC'])\n",
    "obesity['CAEC'] = np.where(obesity['CAEC']=='always', 'frequently or more', obesity['CAEC'])\n",
    "\n",
    "obesity['CALC'] = np.where(obesity['CALC']=='no', 'no', 'sometimes or more')\n",
    "\n",
    "obesity['FAF'] = np.where(obesity['FAF']=='0', 'less than 2', obesity['FAF'])\n",
    "obesity['FAF'] = np.where(obesity['FAF']=='1 to 2', 'less than 2', obesity['FAF'])\n",
    "obesity['FAF'] = np.where(obesity['FAF']=='2 to 4', 'more than 2', obesity['FAF'])\n",
    "obesity['FAF'] = np.where(obesity['FAF']=='4 to 5', 'more than 2', obesity['FAF'])\n",
    "\n",
    "obesity['MTRANS'] = np.where(obesity['MTRANS']=='public_transportation', 'public_transportation or bike', obesity['MTRANS'])\n",
    "obesity['MTRANS'] = np.where(obesity['MTRANS']=='walking', 'public_transportation or bike', obesity['MTRANS'])\n",
    "obesity['MTRANS'] = np.where(obesity['MTRANS']=='bike', 'public_transportation or bike', obesity['MTRANS'])\n",
    "obesity['MTRANS'] = np.where(obesity['MTRANS']=='automobile', 'automobile or motorbike', obesity['MTRANS'])\n",
    "obesity['MTRANS'] = np.where(obesity['MTRANS']=='motorbike', 'automobile or motorbike', obesity['MTRANS'])\n",
    "\n",
    "obesity['NCP'] = np.where(obesity['NCP']=='1', '1 to 2', obesity['NCP'])\n",
    "obesity['NCP'] = np.where(obesity['NCP']=='2', '1 to 2', obesity['NCP'])\n",
    "obesity['NCP'] = np.where(obesity['NCP']=='3', '3 to 4', obesity['NCP'])\n",
    "obesity['NCP'] = np.where(obesity['NCP']=='4', '3 to 4', obesity['NCP'])\n",
    "\n",
    "obesity['TUE'] = np.where(obesity['TUE']=='0 to 2', '0 to 2', '3 or above')"
   ]
  },
  {
   "cell_type": "code",
   "execution_count": 19,
   "id": "3347a159",
   "metadata": {
    "scrolled": false
   },
   "outputs": [
    {
     "data": {
      "image/png": "[encoded data removed]",
      "text/plain": [
       "<Figure size 1440x720 with 8 Axes>"
      ]
     },
     "metadata": {
      "needs_background": "light"
     },
     "output_type": "display_data"
    }
   ],
   "source": [
    "merge_target_col = ['FCVC', 'CAEC', 'CALC', 'FAF', 'MTRANS', 'NCP', 'TUE']\n",
    "fig, axes = plt.subplots(nrows=2, ncols=4, figsize=(20, 10))\n",
    "for i, col in enumerate(merge_target_col):\n",
    "    ax_col = i%4\n",
    "    ax_row = i//4\n",
    "    sns.countplot(x=col, data=obesity, ax=axes[ax_row, ax_col])"
   ]
  },
  {
   "cell_type": "markdown",
   "id": "d9838383",
   "metadata": {},
   "source": [
    "- 그리고 Encoding을 수행한다. 본 데이터의 경우 다수 카테고리가 존재하는 경우 순서의 의미가 있기 때문에, LabelEncoding을 사용해도 무방하다고 판단하였다.\n",
    "- Encoding 진행하여 모든 변수가 숫자로 변경되었음을 확인하였으며, 이후 필요할 수도 있는 역변환 함수도 같이 구현하였다."
   ]
  },
  {
   "cell_type": "code",
   "execution_count": 20,
   "id": "f2880830",
   "metadata": {},
   "outputs": [],
   "source": [
    "encoder_dict = dict()\n",
    "for col in cat_col:\n",
    "    encoder = LabelEncoder()\n",
    "    encoder_dict[col] = encoder # encoder 저장 (inverse를 위함)\n",
    "    \n",
    "    obesity.loc[:, col] = encoder.fit_transform(obesity.loc[:, col])"
   ]
  },
  {
   "cell_type": "code",
   "execution_count": 21,
   "id": "e24c324b",
   "metadata": {},
   "outputs": [],
   "source": [
    "# target 변수 encoding\n",
    "encoder = LabelEncoder()\n",
    "encoder_dict[target_col] = encoder\n",
    "obesity.loc[:, target_col] = encoder.fit_transform(obesity.loc[:, target_col])"
   ]
  },
  {
   "cell_type": "code",
   "execution_count": 22,
   "id": "9e8d1f48",
   "metadata": {},
   "outputs": [
    {
     "data": {
      "text/html": [
       "<div>\n",
       "<style scoped>\n",
       "    .dataframe tbody tr th:only-of-type {\n",
       "        vertical-align: middle;\n",
       "    }\n",
       "\n",
       "    .dataframe tbody tr th {\n",
       "        vertical-align: top;\n",
       "    }\n",
       "\n",
       "    .dataframe thead th {\n",
       "        text-align: right;\n",
       "    }\n",
       "</style>\n",
       "<table border=\"1\" class=\"dataframe\">\n",
       "  <thead>\n",
       "    <tr style=\"text-align: right;\">\n",
       "      <th></th>\n",
       "      <th>id</th>\n",
       "      <th>Gender</th>\n",
       "      <th>Age</th>\n",
       "      <th>Height</th>\n",
       "      <th>Weight</th>\n",
       "      <th>family_history_with_overweight</th>\n",
       "      <th>FAVC</th>\n",
       "      <th>FCVC</th>\n",
       "      <th>NCP</th>\n",
       "      <th>CAEC</th>\n",
       "      <th>SMOKE</th>\n",
       "      <th>CH2O</th>\n",
       "      <th>SCC</th>\n",
       "      <th>FAF</th>\n",
       "      <th>TUE</th>\n",
       "      <th>CALC</th>\n",
       "      <th>MTRANS</th>\n",
       "      <th>NObeyesdad</th>\n",
       "      <th>BMI</th>\n",
       "    </tr>\n",
       "  </thead>\n",
       "  <tbody>\n",
       "    <tr>\n",
       "      <th>0</th>\n",
       "      <td>4</td>\n",
       "      <td>1</td>\n",
       "      <td>27</td>\n",
       "      <td>1.80</td>\n",
       "      <td>87</td>\n",
       "      <td>0</td>\n",
       "      <td>0</td>\n",
       "      <td>0</td>\n",
       "      <td>2</td>\n",
       "      <td>1</td>\n",
       "      <td>0</td>\n",
       "      <td>0</td>\n",
       "      <td>0</td>\n",
       "      <td>1</td>\n",
       "      <td>0</td>\n",
       "      <td>1</td>\n",
       "      <td>1</td>\n",
       "      <td>3</td>\n",
       "      <td>26.851852</td>\n",
       "    </tr>\n",
       "    <tr>\n",
       "      <th>1</th>\n",
       "      <td>11</td>\n",
       "      <td>1</td>\n",
       "      <td>26</td>\n",
       "      <td>1.85</td>\n",
       "      <td>105</td>\n",
       "      <td>1</td>\n",
       "      <td>1</td>\n",
       "      <td>0</td>\n",
       "      <td>2</td>\n",
       "      <td>1</td>\n",
       "      <td>0</td>\n",
       "      <td>2</td>\n",
       "      <td>0</td>\n",
       "      <td>1</td>\n",
       "      <td>1</td>\n",
       "      <td>1</td>\n",
       "      <td>1</td>\n",
       "      <td>0</td>\n",
       "      <td>30.679328</td>\n",
       "    </tr>\n",
       "    <tr>\n",
       "      <th>2</th>\n",
       "      <td>14</td>\n",
       "      <td>1</td>\n",
       "      <td>41</td>\n",
       "      <td>1.80</td>\n",
       "      <td>99</td>\n",
       "      <td>0</td>\n",
       "      <td>1</td>\n",
       "      <td>1</td>\n",
       "      <td>2</td>\n",
       "      <td>1</td>\n",
       "      <td>0</td>\n",
       "      <td>0</td>\n",
       "      <td>0</td>\n",
       "      <td>1</td>\n",
       "      <td>1</td>\n",
       "      <td>1</td>\n",
       "      <td>0</td>\n",
       "      <td>0</td>\n",
       "      <td>30.555556</td>\n",
       "    </tr>\n",
       "  </tbody>\n",
       "</table>\n",
       "</div>"
      ],
      "text/plain": [
       "   id  Gender  Age  Height  Weight  family_history_with_overweight  FAVC  \\\n",
       "0   4       1   27    1.80      87                               0     0   \n",
       "1  11       1   26    1.85     105                               1     1   \n",
       "2  14       1   41    1.80      99                               0     1   \n",
       "\n",
       "   FCVC  NCP  CAEC  SMOKE  CH2O  SCC  FAF  TUE  CALC  MTRANS  NObeyesdad  \\\n",
       "0     0    2     1      0     0    0    1    0     1       1           3   \n",
       "1     0    2     1      0     2    0    1    1     1       1           0   \n",
       "2     1    2     1      0     0    0    1    1     1       0           0   \n",
       "\n",
       "         BMI  \n",
       "0  26.851852  \n",
       "1  30.679328  \n",
       "2  30.555556  "
      ]
     },
     "execution_count": 22,
     "metadata": {},
     "output_type": "execute_result"
    }
   ],
   "source": [
    "obesity.head(3)"
   ]
  },
  {
   "cell_type": "code",
   "execution_count": 23,
   "id": "d37af2bc",
   "metadata": {},
   "outputs": [],
   "source": [
    "# 역 인코딩용 함수\n",
    "def inverse_transform(col):\n",
    "    return encoder_dict[col].inverse_transform(obesity[col])"
   ]
  },
  {
   "cell_type": "markdown",
   "id": "83b77d2d",
   "metadata": {},
   "source": [
    "### 1-3 피쳐 엔지니어링을 통해 파생변수 1개를 생성하고 그 이유를 말하라\n",
    "- 본 시험에서는 변수들의 카테고리를 합치는 과정을 파생 변수 생성이라고 생각하고 풀이하였으나 사실 이 과정은 전처리라고 보는 게 맞습니다. 감점이 있었을 것으로 추측되며, 이번에는 정답이라고 생각되는 방법으로 답안 작성하였습니다.\n",
    "- 술과 담배는 인체에 좋지 않은 영향을 주는 습관으로, 이를 함께할 경우 비만에 더 큰 영향을 줄 것으로 생각된다. 이에 CALC와 SMOKE 변수를 조합하여, 안함/술/담/술&담배 카테고리를 갖는 CALC_SMOKE 변수를 생성하였다.\n",
    "- 생성된 파생변수는 범주형 변수이므로, 다른 범주형 변수와 마찬가지로 인코딩을 수행한다."
   ]
  },
  {
   "cell_type": "code",
   "execution_count": 24,
   "id": "bac4be38",
   "metadata": {},
   "outputs": [],
   "source": [
    "obesity['CALC_SMOKE'] = np.where((inverse_transform('SMOKE')=='yes') & (inverse_transform('CALC')=='sometimes or more'), 'calc and smoke', \n",
    "                                 np.where(inverse_transform('SMOKE')=='yes', 'smoke', np.where(inverse_transform('CALC')=='sometimes or more', 'calc', 'no')))"
   ]
  },
  {
   "cell_type": "markdown",
   "id": "8aa58dd2",
   "metadata": {},
   "source": [
    "- 파생 생성된 CALC_SMOKE 데이터의 분포는 다음과 같다."
   ]
  },
  {
   "cell_type": "code",
   "execution_count": 25,
   "id": "fc715514",
   "metadata": {},
   "outputs": [
    {
     "data": {
      "image/png": "[encoded data removed]",
      "text/plain": [
       "<Figure size 432x288 with 1 Axes>"
      ]
     },
     "metadata": {
      "needs_background": "light"
     },
     "output_type": "display_data"
    }
   ],
   "source": [
    "sns.countplot(obesity['CALC_SMOKE'])\n",
    "plt.show()"
   ]
  },
  {
   "cell_type": "code",
   "execution_count": 26,
   "id": "b06c2a14",
   "metadata": {},
   "outputs": [],
   "source": [
    "cat_col.append('CALC_SMOKE') # 파생 변수 카테고리 변수 리스트에 추가"
   ]
  },
  {
   "cell_type": "code",
   "execution_count": 27,
   "id": "ea86a7d3",
   "metadata": {},
   "outputs": [],
   "source": [
    "# 파생변수 encoding\n",
    "encoder = LabelEncoder()\n",
    "encoder_dict['CALC_SMOKE'] = encoder\n",
    "obesity.loc[:, 'CALC_SMOKE'] = encoder.fit_transform(obesity.loc[:, 'CALC_SMOKE'])"
   ]
  },
  {
   "cell_type": "markdown",
   "id": "e91c5fda",
   "metadata": {},
   "source": [
    "- 그리고 1-2 문제에서 앞서 서술한 수치형 변수 변환을 수행한다.\n",
    "- 변환은 모든 수치형 변수 (Age, Height, Weight, BMI)에 적용하였다. 단, 일부 변수에 이상치가 존재하므로 이상치의 영향을 최소화하기 위해 RobustScaler를 사용하였다.\n",
    "- 또한 scaling은 학습 데이터에만 적용되어야 하므로 적용하기 전 먼저 데이터 분할을 진행하였으며, 수치형 변수들에 대하여만 scaling 과정을 거친 다음 train/test 데이터에 적용하였다. "
   ]
  },
  {
   "cell_type": "code",
   "execution_count": 28,
   "id": "29239425",
   "metadata": {},
   "outputs": [],
   "source": [
    "x = obesity.loc[:, cat_col + num_col]\n",
    "y = obesity[target_col]\n",
    "x_train, x_test, y_train, y_test = train_test_split(x, y, test_size=0.2, stratify=y)"
   ]
  },
  {
   "cell_type": "code",
   "execution_count": 29,
   "id": "ff5e7d9e",
   "metadata": {},
   "outputs": [],
   "source": [
    "scaler = RobustScaler()\n",
    "\n",
    "num_col_train_scaled = pd.DataFrame(scaler.fit_transform(x_train.loc[:, num_col]), columns=num_col)\n",
    "num_col_test_scaled = pd.DataFrame(scaler.transform(x_test.loc[:, num_col]), columns=num_col)"
   ]
  },
  {
   "cell_type": "code",
   "execution_count": 30,
   "id": "8f0dce05",
   "metadata": {},
   "outputs": [],
   "source": [
    "x_train.reset_index(drop=True, inplace=True)\n",
    "x_test.reset_index(drop=True, inplace=True)\n",
    "\n",
    "for col in num_col:\n",
    "    x_train.loc[:, col] = num_col_train_scaled.loc[:, col]\n",
    "    x_test.loc[:, col] = num_col_test_scaled.loc[:, col]"
   ]
  },
  {
   "cell_type": "markdown",
   "id": "3a3bc3f5",
   "metadata": {},
   "source": [
    "### 2-1. 앙상블을 제외한 분류 모델 3가지 구축 및 결과 비교 및 설명하라\n",
    "- 시험장에서는 성능이 60%대가 나왔던 것으로 기억하는데, 지금은 너무 높게 나와서 오히려 당황스럽네요.. 그리드 서치나 보팅의 결과도 시험장에서 비교했던 결과와 약간 다르게 도출됩니다. 모델 성능 예측하는 함수 만들라고 했던 기억도 있습니다.\n",
    "- 분류 모델로 LogisticRegression, Decision Tree, Neural Network를 선정하였다.\n",
    "- 구축이 쉽고 해석이 용이한 모델로 LogisticRegression과 Decision Tree를, 성능을 취하는 모델로 NN을 선정하였다.\n",
    "- 각 알고리즘에 대하여, 기본 파라미터를 가지고 모델을 생성하였다.\n",
    "- 모델 수행 결과, Neural Network와 Decision Tree의 정확도 0.992, Logisitc Regression의 정확도 0.988으로 Logistic 모델의 정확도가 악갼 낮게 도출되었고, F1-score도 비슷한 양상을 보였다."
   ]
  },
  {
   "cell_type": "code",
   "execution_count": 31,
   "id": "ec51d25e",
   "metadata": {},
   "outputs": [],
   "source": [
    "# 시험장 버전의 Logistic Regression은 기본 파라미터 사용 시 에러가 발생하므로 버전 업 필요\n",
    "# 버전 업 후 커널 재시작\n",
    "# !pip install scikit-learn==0.24.1"
   ]
  },
  {
   "cell_type": "code",
   "execution_count": 32,
   "id": "838ae020",
   "metadata": {},
   "outputs": [
    {
     "data": {
      "text/plain": [
       "MLPClassifier()"
      ]
     },
     "execution_count": 32,
     "metadata": {},
     "output_type": "execute_result"
    }
   ],
   "source": [
    "lr = LogisticRegression()\n",
    "dt = DecisionTreeClassifier()\n",
    "nn = MLPClassifier()\n",
    "\n",
    "lr.fit(x_train, y_train)\n",
    "dt.fit(x_train, y_train)\n",
    "nn.fit(x_train, y_train)"
   ]
  },
  {
   "cell_type": "code",
   "execution_count": 33,
   "id": "4ddc2dba",
   "metadata": {},
   "outputs": [
    {
     "name": "stdout",
     "output_type": "stream",
     "text": [
      "Logistic Regression 예측 정확도: 0.988\n",
      "Decision Tree 예측 정확도: 0.992\n",
      "Neural Network 예측 정확도: 0.992\n",
      "\n",
      "Logistic Regression F1-Score: 0.9881\n",
      "Decision Tree F1-Score: 0.992\n",
      "Neural Network F1-Score: 0.992\n"
     ]
    }
   ],
   "source": [
    "lr_pred = lr.predict(x_test)\n",
    "dt_pred = dt.predict(x_test)\n",
    "nn_pred = nn.predict(x_test)\n",
    "\n",
    "print(f'Logistic Regression 예측 정확도: {round(accuracy_score(y_test, lr_pred), 4)}')\n",
    "print(f'Decision Tree 예측 정확도: {round(accuracy_score(y_test, dt_pred), 4)}')\n",
    "print(f'Neural Network 예측 정확도: {round(accuracy_score(y_test, nn_pred), 4)}')\n",
    "print('')\n",
    "print(f'Logistic Regression F1-Score: {round(f1_score(y_test, lr_pred, average=\"weighted\"), 4)}')\n",
    "print(f'Decision Tree F1-Score: {round(f1_score(y_test, dt_pred, average=\"weighted\"), 4)}')\n",
    "print(f'Neural Network F1-Score: {round(f1_score(y_test, nn_pred, average=\"weighted\"), 4)}')"
   ]
  },
  {
   "cell_type": "markdown",
   "id": "e573fd0e",
   "metadata": {},
   "source": [
    "### 2-2. 2-1에서 사용한 모델 중 하나를 골라 그리드 서치를 통해서 파라미터 튜닝 및 분류 모델 성능 평가 (precision ,recall)\n",
    "- 앞선 모델링에서 높은 성능을 보였던 모델 중 하나인 Neural Network를 가지고 Grid Search를 진행하였다.\n",
    "- 대상 파라미터는 activation 함수와 초기 learning rate로 설정하였으며, scoring 기준은 precision, recall과 관련있는 f1-score로 하였다.\n",
    "- best parameter는 relu activation에 learning rate 0.005가 선정되었고, 해당 모델의 precision과 recall은 0.9961과 0.996으로 기존 모델보다 높다."
   ]
  },
  {
   "cell_type": "code",
   "execution_count": 34,
   "id": "5b4374e4",
   "metadata": {},
   "outputs": [
    {
     "name": "stdout",
     "output_type": "stream",
     "text": [
      "GridSearchCV 최적 하이퍼 파라미터: {'activation': 'relu', 'learning_rate_init': 0.005}\n",
      "GridSearchCV 최고 F1: 0.9880\n"
     ]
    }
   ],
   "source": [
    "parameters = {'activation': ['relu', 'tanh'], 'learning_rate_init': [0.0005, 0.001, 0.005, 0.01]}\n",
    "\n",
    "grid_clf = GridSearchCV(MLPClassifier(), param_grid=parameters, scoring='f1_weighted', cv=5)\n",
    "grid_clf.fit(x_train, y_train)\n",
    "\n",
    "print('GridSearchCV 최적 하이퍼 파라미터:', grid_clf.best_params_)\n",
    "print('GridSearchCV 최고 F1: {0:.4f}'.format(grid_clf.best_score_))\n",
    "best_clf = grid_clf.best_estimator_"
   ]
  },
  {
   "cell_type": "code",
   "execution_count": 35,
   "id": "7137ca42",
   "metadata": {
    "scrolled": true
   },
   "outputs": [
    {
     "name": "stdout",
     "output_type": "stream",
     "text": [
      "Precision: 0.9961\n",
      "Recall: 0.996\n"
     ]
    }
   ],
   "source": [
    "best_pred = best_clf.predict(x_test)\n",
    "\n",
    "print(f'Precision: {round(precision_score(y_test, best_pred, average=\"weighted\"), 4)}')\n",
    "print(f'Recall: {round(recall_score(y_test, best_pred, average=\"weighted\"), 4)}')"
   ]
  },
  {
   "cell_type": "markdown",
   "id": "7a09ccd1",
   "metadata": {},
   "source": [
    "### 2-3. 2-1의 3가지 모델을 soft voting을 이용하여 모델링 한 결과와 2-2과 비교하라\n",
    "- 2-1의 3가지 모델인 Logistic Regression, Decision Tree, Neural Network 세 가지 모델에 대하여, Soft Voting을 이용한 모델을 생성하였다.\n",
    "- 모델 예측 결과, precision과 recall 모두 2-2의 그리드 서치 결과와 동일한 결과를 보였다."
   ]
  },
  {
   "cell_type": "code",
   "execution_count": 36,
   "id": "53f89998",
   "metadata": {},
   "outputs": [
    {
     "name": "stdout",
     "output_type": "stream",
     "text": [
      "Precision: 0.9961\n",
      "Recall: 0.996\n"
     ]
    }
   ],
   "source": [
    "voting = VotingClassifier(estimators=[('lr', lr), ('dt', dt), ('nn', nn)], voting='soft')\n",
    "voting.fit(x_train, y_train)\n",
    "\n",
    "voting_pred = voting.predict(x_test)\n",
    "\n",
    "print(f'Precision: {round(precision_score(y_test, voting_pred, average=\"weighted\"), 4)}')\n",
    "print(f'Recall: {round(recall_score(y_test, voting_pred, average=\"weighted\"), 4)}')"
   ]
  },
  {
   "cell_type": "markdown",
   "id": "ab2da76d",
   "metadata": {},
   "source": [
    "### 3. 하나의 모델을 선정하여 Drop Column Importance 방식으로 각 변수 별로 전체 컬럼을 포함한 모델과의 recall 값의 차이를 계산하고 시각화 하라"
   ]
  },
  {
   "cell_type": "markdown",
   "id": "0054c2fe",
   "metadata": {},
   "source": [
    "- 실제 시험장에서는 일반적인 변수 중요도(또는 회귀 계수)를 가지고 풀이하여 감점이 있었지만, 여기에는 정답이라고 생각하는 풀이를 적었습니다.\n",
    "- Drop Column Importance 방식은 각 변수를 하나씩 제거한 모델과 전체 모델의 결과를 비교하는 방식으로 변수 중요도를 계산하며, 원리 이해와 해석이 상대적으로 쉬운 편이다.\n",
    "- 여기에서는 Soft Voting 모델을 바탕으로 변수 중요도를 확인해 보았다.\n",
    "- 변수 중요도를 계산해 본 결과 Gender, SCC, TUE, CALC_SMOKE, Age, Weight 변수가 상대적으로 중요한 것으로 도출되었다."
   ]
  },
  {
   "cell_type": "code",
   "execution_count": 37,
   "id": "bc3a2c42",
   "metadata": {},
   "outputs": [
    {
     "name": "stdout",
     "output_type": "stream",
     "text": [
      "[CAEC] Feature Importance: 0.0\n",
      "[CALC] Feature Importance: 0.0\n",
      "[CH2O] Feature Importance: 0.0\n",
      "[FAF] Feature Importance: 0.0\n",
      "[FAVC] Feature Importance: 0.0\n",
      "[FCVC] Feature Importance: 0.0\n",
      "[Gender] Feature Importance: 0.004\n",
      "[MTRANS] Feature Importance: 0.0\n",
      "[NCP] Feature Importance: 0.0\n",
      "[SCC] Feature Importance: 0.004\n",
      "[SMOKE] Feature Importance: 0.0\n",
      "[TUE] Feature Importance: 0.004\n",
      "[family_history_with_overweight] Feature Importance: 0.0\n",
      "[CALC_SMOKE] Feature Importance: 0.004\n",
      "[Age] Feature Importance: 0.004\n",
      "[Height] Feature Importance: 0.0\n",
      "[Weight] Feature Importance: 0.004\n",
      "[BMI] Feature Importance: 0.0\n"
     ]
    }
   ],
   "source": [
    "reduced_recall_dict = dict()\n",
    "for col in x_train.columns:\n",
    "    reduced_x_train = x_train.drop(col, axis=1)\n",
    "    reduced_x_test = x_test.drop(col, axis=1)\n",
    "    \n",
    "    reduced_model = VotingClassifier(estimators=[('lr', lr), ('dt', dt), ('nn', nn)], voting='soft')\n",
    "    reduced_model.fit(reduced_x_train, y_train)\n",
    "    reduced_pred = reduced_model.predict(reduced_x_test)\n",
    "    reduced_recall_dict[col] = recall_score(y_test, voting_pred, average=\"weighted\") - recall_score(y_test, reduced_pred, average=\"weighted\")\n",
    "    \n",
    "    print(f'[{col}] Feature Importance: {round(reduced_recall_dict[col], 4)}')"
   ]
  },
  {
   "cell_type": "code",
   "execution_count": 38,
   "id": "2177e6ee",
   "metadata": {},
   "outputs": [
    {
     "data": {
      "image/png": "[encoded data removed]",
      "text/plain": [
       "<Figure size 1800x720 with 1 Axes>"
      ]
     },
     "metadata": {
      "needs_background": "light"
     },
     "output_type": "display_data"
    }
   ],
   "source": [
    "plt.figure(figsize=(25, 10))\n",
    "sns.barplot(list(reduced_recall_dict.keys()), list(reduced_recall_dict.values()))\n",
    "plt.ylim([0, 0.014])\n",
    "plt.show()"
   ]
  },
  {
   "cell_type": "markdown",
   "id": "8fed2d71",
   "metadata": {},
   "source": [
    "## 4. 학생 건강검진 분석\n",
    "- 데이터 출처 : 자체제작\n",
    "- 데이터 링크 : https://raw.githubusercontent.com/Datamanim/datarepo/main/adp/31/adp_31_2_v2.csv\n",
    "- 데이터 설명 : 중고등학생 건강검진 데이터"
   ]
  },
  {
   "cell_type": "code",
   "execution_count": 39,
   "id": "2a63fa41",
   "metadata": {},
   "outputs": [
    {
     "data": {
      "text/html": [
       "<div>\n",
       "<style scoped>\n",
       "    .dataframe tbody tr th:only-of-type {\n",
       "        vertical-align: middle;\n",
       "    }\n",
       "\n",
       "    .dataframe tbody tr th {\n",
       "        vertical-align: top;\n",
       "    }\n",
       "\n",
       "    .dataframe thead th {\n",
       "        text-align: right;\n",
       "    }\n",
       "</style>\n",
       "<table border=\"1\" class=\"dataframe\">\n",
       "  <thead>\n",
       "    <tr style=\"text-align: right;\">\n",
       "      <th></th>\n",
       "      <th>ID</th>\n",
       "      <th>키</th>\n",
       "      <th>weight</th>\n",
       "      <th>생년월일</th>\n",
       "      <th>건강검진일</th>\n",
       "      <th>공학여부</th>\n",
       "      <th>채소섭취정도</th>\n",
       "      <th>아침식사여부</th>\n",
       "      <th>일주일운동시간</th>\n",
       "      <th>수면시간</th>\n",
       "      <th>성별</th>\n",
       "    </tr>\n",
       "  </thead>\n",
       "  <tbody>\n",
       "    <tr>\n",
       "      <th>0</th>\n",
       "      <td>ID_4135</td>\n",
       "      <td>169.01</td>\n",
       "      <td>65.47</td>\n",
       "      <td>20041003</td>\n",
       "      <td>2020_11_15</td>\n",
       "      <td>1</td>\n",
       "      <td>2</td>\n",
       "      <td>1</td>\n",
       "      <td>4.4</td>\n",
       "      <td>8.3</td>\n",
       "      <td>남성</td>\n",
       "    </tr>\n",
       "    <tr>\n",
       "      <th>1</th>\n",
       "      <td>ID_3289</td>\n",
       "      <td>181.62</td>\n",
       "      <td>69.36</td>\n",
       "      <td>19970725</td>\n",
       "      <td>2014_11_20</td>\n",
       "      <td>0</td>\n",
       "      <td>3</td>\n",
       "      <td>0</td>\n",
       "      <td>4.4</td>\n",
       "      <td>6.9</td>\n",
       "      <td>남성</td>\n",
       "    </tr>\n",
       "    <tr>\n",
       "      <th>2</th>\n",
       "      <td>ID_1847</td>\n",
       "      <td>160.89</td>\n",
       "      <td>65.12</td>\n",
       "      <td>20020921</td>\n",
       "      <td>2020_01_28</td>\n",
       "      <td>1</td>\n",
       "      <td>1</td>\n",
       "      <td>1</td>\n",
       "      <td>1.7</td>\n",
       "      <td>9.6</td>\n",
       "      <td>여성</td>\n",
       "    </tr>\n",
       "    <tr>\n",
       "      <th>3</th>\n",
       "      <td>ID_4785</td>\n",
       "      <td>162.21</td>\n",
       "      <td>62.28</td>\n",
       "      <td>20020106</td>\n",
       "      <td>2018_09_27</td>\n",
       "      <td>1</td>\n",
       "      <td>4</td>\n",
       "      <td>0</td>\n",
       "      <td>5.1</td>\n",
       "      <td>6.8</td>\n",
       "      <td>남성</td>\n",
       "    </tr>\n",
       "    <tr>\n",
       "      <th>4</th>\n",
       "      <td>ID_5693</td>\n",
       "      <td>159.13</td>\n",
       "      <td>54.11</td>\n",
       "      <td>19980708</td>\n",
       "      <td>2015_03_03</td>\n",
       "      <td>0</td>\n",
       "      <td>4</td>\n",
       "      <td>1</td>\n",
       "      <td>0.3</td>\n",
       "      <td>8.5</td>\n",
       "      <td>여성</td>\n",
       "    </tr>\n",
       "    <tr>\n",
       "      <th>...</th>\n",
       "      <td>...</td>\n",
       "      <td>...</td>\n",
       "      <td>...</td>\n",
       "      <td>...</td>\n",
       "      <td>...</td>\n",
       "      <td>...</td>\n",
       "      <td>...</td>\n",
       "      <td>...</td>\n",
       "      <td>...</td>\n",
       "      <td>...</td>\n",
       "      <td>...</td>\n",
       "    </tr>\n",
       "    <tr>\n",
       "      <th>6796</th>\n",
       "      <td>ID_6443</td>\n",
       "      <td>156.04</td>\n",
       "      <td>55.36</td>\n",
       "      <td>20030429</td>\n",
       "      <td>2020_04_23</td>\n",
       "      <td>1</td>\n",
       "      <td>4</td>\n",
       "      <td>1</td>\n",
       "      <td>7.8</td>\n",
       "      <td>9.3</td>\n",
       "      <td>여성</td>\n",
       "    </tr>\n",
       "    <tr>\n",
       "      <th>6797</th>\n",
       "      <td>ID_3606</td>\n",
       "      <td>182.46</td>\n",
       "      <td>67.55</td>\n",
       "      <td>20050528</td>\n",
       "      <td>2022_08_03</td>\n",
       "      <td>1</td>\n",
       "      <td>4</td>\n",
       "      <td>0</td>\n",
       "      <td>2.9</td>\n",
       "      <td>8.9</td>\n",
       "      <td>남성</td>\n",
       "    </tr>\n",
       "    <tr>\n",
       "      <th>6798</th>\n",
       "      <td>ID_5704</td>\n",
       "      <td>150.18</td>\n",
       "      <td>48.29</td>\n",
       "      <td>20030420</td>\n",
       "      <td>2020_02_29</td>\n",
       "      <td>0</td>\n",
       "      <td>1</td>\n",
       "      <td>1</td>\n",
       "      <td>6.0</td>\n",
       "      <td>7.8</td>\n",
       "      <td>여성</td>\n",
       "    </tr>\n",
       "    <tr>\n",
       "      <th>6799</th>\n",
       "      <td>ID_6637</td>\n",
       "      <td>159.45</td>\n",
       "      <td>60.53</td>\n",
       "      <td>20000718</td>\n",
       "      <td>2016_12_11</td>\n",
       "      <td>0</td>\n",
       "      <td>1</td>\n",
       "      <td>1</td>\n",
       "      <td>7.6</td>\n",
       "      <td>5.4</td>\n",
       "      <td>여성</td>\n",
       "    </tr>\n",
       "    <tr>\n",
       "      <th>6800</th>\n",
       "      <td>ID_2575</td>\n",
       "      <td>171.23</td>\n",
       "      <td>67.05</td>\n",
       "      <td>20010604</td>\n",
       "      <td>2019_02_01</td>\n",
       "      <td>1</td>\n",
       "      <td>0</td>\n",
       "      <td>0</td>\n",
       "      <td>8.0</td>\n",
       "      <td>9.0</td>\n",
       "      <td>남성</td>\n",
       "    </tr>\n",
       "  </tbody>\n",
       "</table>\n",
       "<p>6801 rows × 11 columns</p>\n",
       "</div>"
      ],
      "text/plain": [
       "           ID       키  weight      생년월일       건강검진일  공학여부  채소섭취정도  아침식사여부  \\\n",
       "0     ID_4135  169.01   65.47  20041003  2020_11_15     1       2       1   \n",
       "1     ID_3289  181.62   69.36  19970725  2014_11_20     0       3       0   \n",
       "2     ID_1847  160.89   65.12  20020921  2020_01_28     1       1       1   \n",
       "3     ID_4785  162.21   62.28  20020106  2018_09_27     1       4       0   \n",
       "4     ID_5693  159.13   54.11  19980708  2015_03_03     0       4       1   \n",
       "...       ...     ...     ...       ...         ...   ...     ...     ...   \n",
       "6796  ID_6443  156.04   55.36  20030429  2020_04_23     1       4       1   \n",
       "6797  ID_3606  182.46   67.55  20050528  2022_08_03     1       4       0   \n",
       "6798  ID_5704  150.18   48.29  20030420  2020_02_29     0       1       1   \n",
       "6799  ID_6637  159.45   60.53  20000718  2016_12_11     0       1       1   \n",
       "6800  ID_2575  171.23   67.05  20010604  2019_02_01     1       0       0   \n",
       "\n",
       "      일주일운동시간  수면시간  성별  \n",
       "0         4.4   8.3  남성  \n",
       "1         4.4   6.9  남성  \n",
       "2         1.7   9.6  여성  \n",
       "3         5.1   6.8  남성  \n",
       "4         0.3   8.5  여성  \n",
       "...       ...   ...  ..  \n",
       "6796      7.8   9.3  여성  \n",
       "6797      2.9   8.9  남성  \n",
       "6798      6.0   7.8  여성  \n",
       "6799      7.6   5.4  여성  \n",
       "6800      8.0   9.0  남성  \n",
       "\n",
       "[6801 rows x 11 columns]"
      ]
     },
     "execution_count": 39,
     "metadata": {},
     "output_type": "execute_result"
    }
   ],
   "source": [
    "bmi = pd.read_csv(\"https://raw.githubusercontent.com/Datamanim/datarepo/main/adp/31/adp_31_2_v2.csv\")\n",
    "bmi"
   ]
  },
  {
   "cell_type": "markdown",
   "id": "3e32fe17",
   "metadata": {},
   "source": [
    "### 4-1. 아래의 기준으로 전처리를 하여 적정 체중 여부 컬럼을 생성하고 BMI를 5단위로 구분하여 와 적정 체중여부에 대한 빈도 표를 만들어라\n",
    " \n",
    "> bmi 계산\n",
    "    - Bmi = 몸무게(kg)/(키(m)**2)   \n",
    "\n",
    "> 만나이 구하기\n",
    "    - 건강검진을 받았던 날을 기준으로 생년월일과 일수 차이가 16년 364일 이하인 경우 만 16세 그 이상의 경우 만 17로 분류하라\n",
    "    - 윤년 등은 고려하지 않는다. 햇수로 16년 + 일수로 364일이 기준이다\n",
    "\n",
    "\n",
    "> 적정 체중 여부 (BMI가 아래 구간에 들어올 경우)     \n",
    "    17세 남자 : 21.03이상 23.21 미만   \n",
    "    17세 여자 : 20.03이상 22.39 미만    \n",
    "    16세 남자 : 21.18이상 23.45 미만   \n",
    "    16세 여자 : 19.61이상 21.74 미만       "
   ]
  },
  {
   "cell_type": "markdown",
   "id": "56c1d7d8",
   "metadata": {},
   "source": [
    "- 먼저, 생년월일과 건강검진일 컬럼의 데이터 타입을 확인한다. 각각 int64와 object 타입으로 확인되므로, 처리를 위해 datetime 형식으로 변경해 준다.\n",
    "- 처리 결과 특별한 이슈 없이 변경됨을 확인할 수 있다."
   ]
  },
  {
   "cell_type": "code",
   "execution_count": 40,
   "id": "448c6a34",
   "metadata": {},
   "outputs": [
    {
     "name": "stdout",
     "output_type": "stream",
     "text": [
      "<class 'pandas.core.frame.DataFrame'>\n",
      "RangeIndex: 6801 entries, 0 to 6800\n",
      "Data columns (total 11 columns):\n",
      " #   Column   Non-Null Count  Dtype  \n",
      "---  ------   --------------  -----  \n",
      " 0   ID       6801 non-null   object \n",
      " 1   키        6801 non-null   float64\n",
      " 2   weight   6801 non-null   float64\n",
      " 3   생년월일     6801 non-null   int64  \n",
      " 4   건강검진일    6801 non-null   object \n",
      " 5   공학여부     6801 non-null   int64  \n",
      " 6   채소섭취정도   6801 non-null   int64  \n",
      " 7   아침식사여부   6801 non-null   int64  \n",
      " 8   일주일운동시간  6801 non-null   float64\n",
      " 9   수면시간     6801 non-null   float64\n",
      " 10  성별       6801 non-null   object \n",
      "dtypes: float64(4), int64(4), object(3)\n",
      "memory usage: 584.6+ KB\n"
     ]
    }
   ],
   "source": [
    "bmi.info()"
   ]
  },
  {
   "cell_type": "code",
   "execution_count": 41,
   "id": "52fb6988",
   "metadata": {},
   "outputs": [
    {
     "data": {
      "text/plain": [
       "0      2020-11-15\n",
       "1      2014-11-20\n",
       "2      2020-01-28\n",
       "3      2018-09-27\n",
       "4      2015-03-03\n",
       "          ...    \n",
       "6796   2020-04-23\n",
       "6797   2022-08-03\n",
       "6798   2020-02-29\n",
       "6799   2016-12-11\n",
       "6800   2019-02-01\n",
       "Name: 건강검진일, Length: 6801, dtype: datetime64[ns]"
      ]
     },
     "execution_count": 41,
     "metadata": {},
     "output_type": "execute_result"
    }
   ],
   "source": [
    "bmi.건강검진일 = pd.to_datetime(bmi.건강검진일, format='%Y_%m_%d')\n",
    "bmi.건강검진일"
   ]
  },
  {
   "cell_type": "code",
   "execution_count": 42,
   "id": "99dab99f",
   "metadata": {},
   "outputs": [
    {
     "data": {
      "text/plain": [
       "0      2004-10-03\n",
       "1      1997-07-25\n",
       "2      2002-09-21\n",
       "3      2002-01-06\n",
       "4      1998-07-08\n",
       "          ...    \n",
       "6796   2003-04-29\n",
       "6797   2005-05-28\n",
       "6798   2003-04-20\n",
       "6799   2000-07-18\n",
       "6800   2001-06-04\n",
       "Name: 생년월일, Length: 6801, dtype: datetime64[ns]"
      ]
     },
     "execution_count": 42,
     "metadata": {},
     "output_type": "execute_result"
    }
   ],
   "source": [
    "bmi.생년월일 = pd.to_datetime(bmi.생년월일, format='%Y%m%d')\n",
    "bmi.생년월일"
   ]
  },
  {
   "cell_type": "markdown",
   "id": "6c3c600c",
   "metadata": {},
   "source": [
    "- 그 다음, 두 변수의 차이를 구한다.\n",
    "- 건강검진일에서 생년월일을 빼면 timedelta 형식으로 반환되는데, 날짜 차이를 string 형태로 반환한 데이터를 1년 기준인 365로 나누어 만 나이를 계산한다.\n",
    "- 학생들의 만 나이는 16세 또는 17세로 판단된다."
   ]
  },
  {
   "cell_type": "code",
   "execution_count": 43,
   "id": "86cafe55",
   "metadata": {
    "scrolled": true
   },
   "outputs": [
    {
     "data": {
      "text/plain": [
       "0       16\n",
       "1       17\n",
       "2       17\n",
       "3       16\n",
       "4       16\n",
       "        ..\n",
       "6796    16\n",
       "6797    17\n",
       "6798    16\n",
       "6799    16\n",
       "6800    17\n",
       "Name: 만나이, Length: 6801, dtype: int64"
      ]
     },
     "execution_count": 43,
     "metadata": {},
     "output_type": "execute_result"
    }
   ],
   "source": [
    "bmi['만나이'] = (bmi.건강검진일 - bmi.생년월일).astype(str).str.split(' ').str[0].astype(int)//365\n",
    "bmi['만나이']"
   ]
  },
  {
   "cell_type": "code",
   "execution_count": 44,
   "id": "2ca4f315",
   "metadata": {
    "scrolled": true
   },
   "outputs": [
    {
     "data": {
      "text/plain": [
       "17    3686\n",
       "16    3115\n",
       "Name: 만나이, dtype: int64"
      ]
     },
     "execution_count": 44,
     "metadata": {},
     "output_type": "execute_result"
    }
   ],
   "source": [
    "bmi['만나이'].value_counts()"
   ]
  },
  {
   "cell_type": "markdown",
   "id": "5698e395",
   "metadata": {},
   "source": [
    "- bmi 산식으로 bmi 지수를 계산한다. 키의 경우 m가 단위인데 실제 데이터는 cm로 되어 있으므로 100으로 나누어 m로 변환해야 한다."
   ]
  },
  {
   "cell_type": "code",
   "execution_count": 45,
   "id": "14c619d0",
   "metadata": {},
   "outputs": [
    {
     "data": {
      "text/plain": [
       "0       22.920154\n",
       "1       21.027214\n",
       "2       25.156852\n",
       "3       23.669733\n",
       "4       21.368469\n",
       "          ...    \n",
       "6796    22.736531\n",
       "6797    20.290372\n",
       "6798    21.410805\n",
       "6799    23.807929\n",
       "6800    22.868573\n",
       "Name: bmi, Length: 6801, dtype: float64"
      ]
     },
     "execution_count": 45,
     "metadata": {},
     "output_type": "execute_result"
    }
   ],
   "source": [
    "bmi['bmi'] = bmi.weight/((bmi.키/100)**2)\n",
    "bmi['bmi']"
   ]
  },
  {
   "cell_type": "markdown",
   "id": "ad67715c",
   "metadata": {},
   "source": [
    "- 마지막으로 적정 체중 여부를 계산한다. 적정 체중의 경우 만 나이와 성별에 따라 bmi 수치의 기준이 다르므로, 이 변수를 기준으로 데이터를 분리한 다음 각각 계산해 준다.\n",
    "- 만 나이, 성별 각각 두 가지 케이스가 존재하므로, 나누어지는 데이터의 군집 개수는 4개이다.\n",
    "- 적정체중여부를 계산한 다음에는 다시 테이블를 하나로 만든다.\n",
    "- 적정체중여부 변수의 빈도를 살펴보면, 적정 체중인 학생이 3,993명, 그렇지 않은 학생이 2,808명으로 적정 체중인 학생의 비율이 더 높은 것으로 나타났다."
   ]
  },
  {
   "cell_type": "code",
   "execution_count": 46,
   "id": "f139f192",
   "metadata": {},
   "outputs": [
    {
     "data": {
      "text/html": [
       "<div>\n",
       "<style scoped>\n",
       "    .dataframe tbody tr th:only-of-type {\n",
       "        vertical-align: middle;\n",
       "    }\n",
       "\n",
       "    .dataframe tbody tr th {\n",
       "        vertical-align: top;\n",
       "    }\n",
       "\n",
       "    .dataframe thead th {\n",
       "        text-align: right;\n",
       "    }\n",
       "</style>\n",
       "<table border=\"1\" class=\"dataframe\">\n",
       "  <thead>\n",
       "    <tr style=\"text-align: right;\">\n",
       "      <th></th>\n",
       "      <th>ID</th>\n",
       "      <th>키</th>\n",
       "      <th>weight</th>\n",
       "      <th>생년월일</th>\n",
       "      <th>건강검진일</th>\n",
       "      <th>공학여부</th>\n",
       "      <th>채소섭취정도</th>\n",
       "      <th>아침식사여부</th>\n",
       "      <th>일주일운동시간</th>\n",
       "      <th>수면시간</th>\n",
       "      <th>성별</th>\n",
       "      <th>만나이</th>\n",
       "      <th>bmi</th>\n",
       "      <th>적정체중여부</th>\n",
       "    </tr>\n",
       "  </thead>\n",
       "  <tbody>\n",
       "    <tr>\n",
       "      <th>0</th>\n",
       "      <td>ID_4135</td>\n",
       "      <td>169.01</td>\n",
       "      <td>65.47</td>\n",
       "      <td>2004-10-03</td>\n",
       "      <td>2020-11-15</td>\n",
       "      <td>1</td>\n",
       "      <td>2</td>\n",
       "      <td>1</td>\n",
       "      <td>4.4</td>\n",
       "      <td>8.3</td>\n",
       "      <td>남성</td>\n",
       "      <td>16</td>\n",
       "      <td>22.920154</td>\n",
       "      <td>1</td>\n",
       "    </tr>\n",
       "    <tr>\n",
       "      <th>1</th>\n",
       "      <td>ID_4785</td>\n",
       "      <td>162.21</td>\n",
       "      <td>62.28</td>\n",
       "      <td>2002-01-06</td>\n",
       "      <td>2018-09-27</td>\n",
       "      <td>1</td>\n",
       "      <td>4</td>\n",
       "      <td>0</td>\n",
       "      <td>5.1</td>\n",
       "      <td>6.8</td>\n",
       "      <td>남성</td>\n",
       "      <td>16</td>\n",
       "      <td>23.669733</td>\n",
       "      <td>0</td>\n",
       "    </tr>\n",
       "    <tr>\n",
       "      <th>2</th>\n",
       "      <td>ID_4140</td>\n",
       "      <td>157.00</td>\n",
       "      <td>55.12</td>\n",
       "      <td>1998-08-15</td>\n",
       "      <td>2015-03-27</td>\n",
       "      <td>1</td>\n",
       "      <td>3</td>\n",
       "      <td>1</td>\n",
       "      <td>4.9</td>\n",
       "      <td>8.9</td>\n",
       "      <td>남성</td>\n",
       "      <td>16</td>\n",
       "      <td>22.361962</td>\n",
       "      <td>1</td>\n",
       "    </tr>\n",
       "    <tr>\n",
       "      <th>3</th>\n",
       "      <td>ID_4350</td>\n",
       "      <td>170.59</td>\n",
       "      <td>67.50</td>\n",
       "      <td>2000-11-26</td>\n",
       "      <td>2017-07-07</td>\n",
       "      <td>1</td>\n",
       "      <td>3</td>\n",
       "      <td>1</td>\n",
       "      <td>6.4</td>\n",
       "      <td>9.9</td>\n",
       "      <td>남성</td>\n",
       "      <td>16</td>\n",
       "      <td>23.195121</td>\n",
       "      <td>1</td>\n",
       "    </tr>\n",
       "    <tr>\n",
       "      <th>4</th>\n",
       "      <td>ID_4111</td>\n",
       "      <td>164.34</td>\n",
       "      <td>61.55</td>\n",
       "      <td>2006-11-11</td>\n",
       "      <td>2022-12-20</td>\n",
       "      <td>0</td>\n",
       "      <td>3</td>\n",
       "      <td>1</td>\n",
       "      <td>8.8</td>\n",
       "      <td>5.7</td>\n",
       "      <td>남성</td>\n",
       "      <td>16</td>\n",
       "      <td>22.789851</td>\n",
       "      <td>1</td>\n",
       "    </tr>\n",
       "    <tr>\n",
       "      <th>...</th>\n",
       "      <td>...</td>\n",
       "      <td>...</td>\n",
       "      <td>...</td>\n",
       "      <td>...</td>\n",
       "      <td>...</td>\n",
       "      <td>...</td>\n",
       "      <td>...</td>\n",
       "      <td>...</td>\n",
       "      <td>...</td>\n",
       "      <td>...</td>\n",
       "      <td>...</td>\n",
       "      <td>...</td>\n",
       "      <td>...</td>\n",
       "      <td>...</td>\n",
       "    </tr>\n",
       "    <tr>\n",
       "      <th>6796</th>\n",
       "      <td>ID_1349</td>\n",
       "      <td>162.77</td>\n",
       "      <td>51.35</td>\n",
       "      <td>1999-10-09</td>\n",
       "      <td>2017-01-25</td>\n",
       "      <td>1</td>\n",
       "      <td>4</td>\n",
       "      <td>0</td>\n",
       "      <td>6.4</td>\n",
       "      <td>8.4</td>\n",
       "      <td>여성</td>\n",
       "      <td>17</td>\n",
       "      <td>19.381693</td>\n",
       "      <td>0</td>\n",
       "    </tr>\n",
       "    <tr>\n",
       "      <th>6797</th>\n",
       "      <td>ID_255</td>\n",
       "      <td>166.43</td>\n",
       "      <td>59.08</td>\n",
       "      <td>2000-10-28</td>\n",
       "      <td>2018-01-04</td>\n",
       "      <td>0</td>\n",
       "      <td>0</td>\n",
       "      <td>1</td>\n",
       "      <td>4.6</td>\n",
       "      <td>8.3</td>\n",
       "      <td>여성</td>\n",
       "      <td>17</td>\n",
       "      <td>21.329332</td>\n",
       "      <td>1</td>\n",
       "    </tr>\n",
       "    <tr>\n",
       "      <th>6798</th>\n",
       "      <td>ID_124</td>\n",
       "      <td>149.18</td>\n",
       "      <td>47.56</td>\n",
       "      <td>2004-10-08</td>\n",
       "      <td>2022-08-04</td>\n",
       "      <td>1</td>\n",
       "      <td>0</td>\n",
       "      <td>1</td>\n",
       "      <td>8.3</td>\n",
       "      <td>7.6</td>\n",
       "      <td>여성</td>\n",
       "      <td>17</td>\n",
       "      <td>21.370793</td>\n",
       "      <td>1</td>\n",
       "    </tr>\n",
       "    <tr>\n",
       "      <th>6799</th>\n",
       "      <td>ID_433</td>\n",
       "      <td>169.14</td>\n",
       "      <td>57.81</td>\n",
       "      <td>2000-09-15</td>\n",
       "      <td>2018-07-05</td>\n",
       "      <td>0</td>\n",
       "      <td>4</td>\n",
       "      <td>0</td>\n",
       "      <td>0.0</td>\n",
       "      <td>6.0</td>\n",
       "      <td>여성</td>\n",
       "      <td>17</td>\n",
       "      <td>20.207394</td>\n",
       "      <td>1</td>\n",
       "    </tr>\n",
       "    <tr>\n",
       "      <th>6800</th>\n",
       "      <td>ID_1099</td>\n",
       "      <td>156.33</td>\n",
       "      <td>48.91</td>\n",
       "      <td>1997-10-02</td>\n",
       "      <td>2015-04-09</td>\n",
       "      <td>0</td>\n",
       "      <td>3</td>\n",
       "      <td>0</td>\n",
       "      <td>8.2</td>\n",
       "      <td>5.8</td>\n",
       "      <td>여성</td>\n",
       "      <td>17</td>\n",
       "      <td>20.013037</td>\n",
       "      <td>0</td>\n",
       "    </tr>\n",
       "  </tbody>\n",
       "</table>\n",
       "<p>6801 rows × 14 columns</p>\n",
       "</div>"
      ],
      "text/plain": [
       "           ID       키  weight       생년월일      건강검진일  공학여부  채소섭취정도  아침식사여부  \\\n",
       "0     ID_4135  169.01   65.47 2004-10-03 2020-11-15     1       2       1   \n",
       "1     ID_4785  162.21   62.28 2002-01-06 2018-09-27     1       4       0   \n",
       "2     ID_4140  157.00   55.12 1998-08-15 2015-03-27     1       3       1   \n",
       "3     ID_4350  170.59   67.50 2000-11-26 2017-07-07     1       3       1   \n",
       "4     ID_4111  164.34   61.55 2006-11-11 2022-12-20     0       3       1   \n",
       "...       ...     ...     ...        ...        ...   ...     ...     ...   \n",
       "6796  ID_1349  162.77   51.35 1999-10-09 2017-01-25     1       4       0   \n",
       "6797   ID_255  166.43   59.08 2000-10-28 2018-01-04     0       0       1   \n",
       "6798   ID_124  149.18   47.56 2004-10-08 2022-08-04     1       0       1   \n",
       "6799   ID_433  169.14   57.81 2000-09-15 2018-07-05     0       4       0   \n",
       "6800  ID_1099  156.33   48.91 1997-10-02 2015-04-09     0       3       0   \n",
       "\n",
       "      일주일운동시간  수면시간  성별  만나이        bmi  적정체중여부  \n",
       "0         4.4   8.3  남성   16  22.920154       1  \n",
       "1         5.1   6.8  남성   16  23.669733       0  \n",
       "2         4.9   8.9  남성   16  22.361962       1  \n",
       "3         6.4   9.9  남성   16  23.195121       1  \n",
       "4         8.8   5.7  남성   16  22.789851       1  \n",
       "...       ...   ...  ..  ...        ...     ...  \n",
       "6796      6.4   8.4  여성   17  19.381693       0  \n",
       "6797      4.6   8.3  여성   17  21.329332       1  \n",
       "6798      8.3   7.6  여성   17  21.370793       1  \n",
       "6799      0.0   6.0  여성   17  20.207394       1  \n",
       "6800      8.2   5.8  여성   17  20.013037       0  \n",
       "\n",
       "[6801 rows x 14 columns]"
      ]
     },
     "execution_count": 46,
     "metadata": {},
     "output_type": "execute_result"
    }
   ],
   "source": [
    "groups = bmi.groupby(['만나이', '성별'])\n",
    "m_16 = groups.get_group((16, '남성'))\n",
    "f_16 = groups.get_group((16, '여성'))\n",
    "m_17 = groups.get_group((17, '남성'))\n",
    "f_17 = groups.get_group((17, '여성'))\n",
    "\n",
    "m_16['적정체중여부'] = np.where(m_16['bmi'] < 21.18, 0, np.where(m_16['bmi'] >= 23.45, 0, 1))\n",
    "f_16['적정체중여부'] = np.where(f_16['bmi'] < 19.61, 0, np.where(f_16['bmi'] >= 21.74, 0, 1))\n",
    "m_17['적정체중여부'] = np.where(m_17['bmi'] < 21.03, 0, np.where(m_17['bmi'] >= 23.21, 0, 1))\n",
    "f_17['적정체중여부'] = np.where(f_17['bmi'] < 20.03, 0, np.where(f_17['bmi'] >= 22.39, 0, 1))\n",
    "\n",
    "cal_bmi = pd.concat([m_16, f_16, m_17, f_17], axis=0, ignore_index=True)\n",
    "cal_bmi"
   ]
  },
  {
   "cell_type": "code",
   "execution_count": 47,
   "id": "8671a242",
   "metadata": {},
   "outputs": [
    {
     "data": {
      "text/plain": [
       "1    3993\n",
       "0    2808\n",
       "Name: 적정체중여부, dtype: int64"
      ]
     },
     "execution_count": 47,
     "metadata": {},
     "output_type": "execute_result"
    }
   ],
   "source": [
    "cal_bmi.적정체중여부.value_counts()"
   ]
  },
  {
   "cell_type": "markdown",
   "id": "c607259e",
   "metadata": {},
   "source": [
    "### 4-2. 4-1에서 구한 적정 체중 여부와 나머지 컬럼(공학여부, 아침식사여부, 일주일운동시간, 채소섭취정도, 수면시간, 성별) 이 독립적인지 통계적으로 확인하라"
   ]
  },
  {
   "cell_type": "markdown",
   "id": "64abda17",
   "metadata": {},
   "source": [
    "- 본 시험에서는 아래와 같이 각 변수 하나와 종속변수의 독립성을 판단하는 것으로 풀이하였으나, 독립변수 간 상관성을 고려하면 전체 독립변수를 한번에 로지스틱 회귀 돌리는 방법이 좀 더 적합하지 않을까 하는 생각이 듭니다. 이 경우 공학여부, 수면시간 두 변수를 유의한 변수로 판단하게 됩니다.\n",
    "- 먼저 독립변수의 데이터 형태를 살펴보면, 공학여부, 아침식사여부, 채소섭취정도, 성별 변수는 범주형 변수이고 일주일운동시간과 수면시간은 수치형 변수이다. 그리고 종속변수인 적정체중여부는 이진 범주형 변수이다.\n",
    "- 따라서 공학여부, 아침식사여부, 채소섭취정도, 성별 변수는 카이제곱 독립성검정을 실시하고, 일주일운동시간과 수면시간 변수는 단순 로지스틱 회귀를 적용하여 각 독립변수와 적정체중여부 변수의 독립성을 판단한다.\n",
    "- H0: 독립변수와 적정체중여부는 관계가 없다.\n",
    "- H1: 독립변수와 적정체중여부는 관계가 있다."
   ]
  },
  {
   "cell_type": "markdown",
   "id": "56a8ed4c",
   "metadata": {},
   "source": [
    "- 유의수준 0.05하에서 검정을 실시하였다. 그 결과, p-value가 0.05를 넘는 아침식사여부와 일주일운동시간, 성별 변수는 적정체중여부와 독립인 것으로 볼 수 있었다.\n",
    "- 반대로 p-value가 0.05보다 작은 공학여부, 채소섭취정도와 수면시간은 적정체중여부와 상관관계가 있는 변수로 판단된다."
   ]
  },
  {
   "cell_type": "code",
   "execution_count": 48,
   "id": "3396a41a",
   "metadata": {
    "scrolled": false
   },
   "outputs": [
    {
     "name": "stdout",
     "output_type": "stream",
     "text": [
      "독립변수: 공학여부\n",
      "Statistic: 4.54236778900767\n",
      "p-value: 0.03306582384935249\n",
      "\n",
      "독립변수: 아침식사여부\n",
      "Statistic: 0.15215088093453705\n",
      "p-value: 0.6964883154464439\n",
      "\n",
      "독립변수: 채소섭취정도\n",
      "Statistic: 10.14319401986083\n",
      "p-value: 0.03808345509538242\n",
      "\n",
      "독립변수: 성별\n",
      "Statistic: 0.002344801636681143\n",
      "p-value: 0.9613790084238675\n",
      "\n",
      "독립변수: 일주일운동시간\n",
      "                 Generalized Linear Model Regression Results                  \n",
      "==============================================================================\n",
      "Dep. Variable:                 적정체중여부   No. Observations:                 6801\n",
      "Model:                            GLM   Df Residuals:                     6799\n",
      "Model Family:                Binomial   Df Model:                            1\n",
      "Link Function:                  Logit   Scale:                          1.0000\n",
      "Method:                          IRLS   Log-Likelihood:                -4610.2\n",
      "Date:                Sun, 25 Feb 2024   Deviance:                       9220.4\n",
      "Time:                        01:09:20   Pearson chi2:                 6.80e+03\n",
      "No. Iterations:                     4   Pseudo R-squ. (CS):          4.314e-05\n",
      "Covariance Type:            nonrobust                                         \n",
      "==============================================================================\n",
      "                 coef    std err          z      P>|z|      [0.025      0.975]\n",
      "------------------------------------------------------------------------------\n",
      "Intercept      0.3289      0.049      6.673      0.000       0.232       0.426\n",
      "일주일운동시간        0.0047      0.009      0.542      0.588      -0.012       0.022\n",
      "==============================================================================\n",
      "\n",
      "독립변수: 수면시간\n",
      "                 Generalized Linear Model Regression Results                  \n",
      "==============================================================================\n",
      "Dep. Variable:                 적정체중여부   No. Observations:                 6801\n",
      "Model:                            GLM   Df Residuals:                     6799\n",
      "Model Family:                Binomial   Df Model:                            1\n",
      "Link Function:                  Logit   Scale:                          1.0000\n",
      "Method:                          IRLS   Log-Likelihood:                -4607.2\n",
      "Date:                Sun, 25 Feb 2024   Deviance:                       9214.4\n",
      "Time:                        01:09:20   Pearson chi2:                 6.80e+03\n",
      "No. Iterations:                     4   Pseudo R-squ. (CS):          0.0009195\n",
      "Covariance Type:            nonrobust                                         \n",
      "==============================================================================\n",
      "                 coef    std err          z      P>|z|      [0.025      0.975]\n",
      "------------------------------------------------------------------------------\n",
      "Intercept      0.0362      0.129      0.281      0.778      -0.216       0.288\n",
      "수면시간           0.0424      0.017      2.500      0.012       0.009       0.076\n",
      "==============================================================================\n",
      "\n"
     ]
    }
   ],
   "source": [
    "cat_list = ['공학여부', '아침식사여부', '채소섭취정도', '성별']\n",
    "num_list = ['일주일운동시간', '수면시간']\n",
    "\n",
    "for cat_var in cat_list:\n",
    "    table = pd.crosstab(cal_bmi[cat_var], cal_bmi['적정체중여부'])\n",
    "    chi, p, df, expect = stats.chi2_contingency(table) \n",
    "    print(f'독립변수: {cat_var}')\n",
    "    print('Statistic:', chi)\n",
    "    print('p-value:', p)\n",
    "    print('')\n",
    "    \n",
    "for num_var in num_list:\n",
    "    mod_glm = smf.glm(formula = f\"적정체중여부 ~ {num_var}\", data=cal_bmi, family=sm.families.Binomial()).fit()\n",
    "    print(f'독립변수: {num_var}')\n",
    "    print(mod_glm.summary())\n",
    "    print('')"
   ]
  },
  {
   "cell_type": "markdown",
   "id": "f283f0a6",
   "metadata": {},
   "source": [
    "### 4-3. 4-2에서 유의한 변수들만 가지고 적정 체중 여부를 예측하는 모델을 구현하고 성능 평가 및 해석을 하라 (로지스틱회귀 ,xgb)\n",
    "> 로지스틱회귀 모델은 오즈비를 구하라\n",
    "> xgb의 경우 각 피쳐중요도를 확인하고 예측에 영향을 가장 미치는 변수를 확인하라"
   ]
  },
  {
   "cell_type": "markdown",
   "id": "d64c827e",
   "metadata": {},
   "source": [
    "- 앞선 검정에서 유의한 변수로 판단되었던 공학여부, 채소섭취정도, 수면시간을 독립변수로 하여 적정 체중 여부를 예측하는 모델을 구현하였다. 모델 기법으로는 로지스틱 회귀분석과 XGBoost를 사용하였다.\n",
    "- 모델의 성능을 평가하기 위해 8:2로 train/valid 데이터셋 분리를 진행하되, 적정체중여부 변수가 고르게 분포되게 하였다. 그리고 standard scaling을 진행하여 독립변수의 scale이 영향을 미치지 않도록 조치하였다.\n",
    "- 또한, 각 모델의 하이퍼파리미터는 default 값을 사용하였다."
   ]
  },
  {
   "cell_type": "code",
   "execution_count": 49,
   "id": "3f2ae07b",
   "metadata": {},
   "outputs": [],
   "source": [
    "x = cal_bmi.loc[:, ['공학여부', '채소섭취정도', '수면시간']]\n",
    "y = cal_bmi['적정체중여부']\n",
    "x_train, x_test, y_train, y_test = train_test_split(x, y, test_size=0.2, stratify=y)\n",
    "\n",
    "scaler = StandardScaler()\n",
    "\n",
    "x_train_scaled = scaler.fit_transform(x_train)\n",
    "x_test_scaled = scaler.transform(x_test)"
   ]
  },
  {
   "cell_type": "code",
   "execution_count": 50,
   "id": "22f5d64d",
   "metadata": {},
   "outputs": [
    {
     "data": {
      "text/plain": [
       "XGBClassifier()"
      ]
     },
     "execution_count": 50,
     "metadata": {},
     "output_type": "execute_result"
    }
   ],
   "source": [
    "lr = LogisticRegression()\n",
    "xgb = XGBClassifier()\n",
    "\n",
    "lr.fit(x_train_scaled, y_train)\n",
    "xgb.fit(x_train_scaled, y_train)"
   ]
  },
  {
   "cell_type": "markdown",
   "id": "f5a273c2",
   "metadata": {},
   "source": [
    "- Accuracy와 F1-Score를 기준으로 모델을 평가하였다.\n",
    "- Accuracy의 경우 Logisitc Regression 모델이 약 58.7%의 정확도를 보여 약간 더 좋았으며, F1-Score도 Logistic Regression이 0.74로 더 좋게 나타났다."
   ]
  },
  {
   "cell_type": "code",
   "execution_count": 51,
   "id": "1c93e003",
   "metadata": {
    "scrolled": true
   },
   "outputs": [
    {
     "name": "stdout",
     "output_type": "stream",
     "text": [
      "Logistic Regression 예측 정확도: 0.5871\n",
      "XGBoost 예측 정확도: 0.5849\n",
      "\n",
      "Logistic Regression F1-Score: 0.7398\n",
      "XGBoost F1-Score: 0.7293\n"
     ]
    }
   ],
   "source": [
    "lr_pred = lr.predict(x_test_scaled)\n",
    "xgb_pred = xgb.predict(x_test_scaled)\n",
    "\n",
    "print(f'Logistic Regression 예측 정확도: {round(accuracy_score(y_test, lr_pred), 4)}')\n",
    "print(f'XGBoost 예측 정확도: {round(accuracy_score(y_test, xgb_pred), 4)}')\n",
    "print('')\n",
    "print(f'Logistic Regression F1-Score: {round(f1_score(y_test, lr_pred), 4)}')\n",
    "print(f'XGBoost F1-Score: {round(f1_score(y_test, xgb_pred), 4)}')"
   ]
  },
  {
   "cell_type": "markdown",
   "id": "9c18ad2e",
   "metadata": {},
   "source": [
    "- 그리고 각 모델의 변수 중요도를 파악하였다. 두 모델 모두 공학여부를 적정체중여부 변수 예측에 가장 중요한 변수로 선택하였고, 그 다음은 수면시간과 채소섭취정도 순서였다."
   ]
  },
  {
   "cell_type": "code",
   "execution_count": 52,
   "id": "25597c36",
   "metadata": {},
   "outputs": [
    {
     "name": "stdout",
     "output_type": "stream",
     "text": [
      "Class 0 coef:[0.067 0.007 0.055]\n",
      "공학여부 : 0.067\n",
      "채소섭취정도 : 0.007\n",
      "수면시간 : 0.055\n"
     ]
    },
    {
     "data": {
      "image/png": "[encoded data removed]",
      "text/plain": [
       "<Figure size 432x288 with 1 Axes>"
      ]
     },
     "metadata": {
      "needs_background": "light"
     },
     "output_type": "display_data"
    }
   ],
   "source": [
    "### Logistic Regression feature importance\n",
    "print(\"Class 0 coef:{0}\".format(np.round(lr.coef_, 3)[0]))\n",
    "for name, value in zip(x.columns, lr.coef_[0]):\n",
    "    print('{0} : {1:.3f}'.format(name, value))\n",
    "\n",
    "sns.barplot(x=abs(lr.coef_[0]), y=pd.DataFrame(x).columns)\n",
    "plt.show()"
   ]
  },
  {
   "cell_type": "code",
   "execution_count": 53,
   "id": "d1fa91ab",
   "metadata": {},
   "outputs": [
    {
     "name": "stdout",
     "output_type": "stream",
     "text": [
      "Class 0 coef:[0.308 0.394 0.298]\n",
      "공학여부 : 0.308\n",
      "채소섭취정도 : 0.394\n",
      "수면시간 : 0.298\n"
     ]
    },
    {
     "data": {
      "image/png": "[encoded data removed]",
      "text/plain": [
       "<Figure size 432x288 with 1 Axes>"
      ]
     },
     "metadata": {
      "needs_background": "light"
     },
     "output_type": "display_data"
    }
   ],
   "source": [
    "### XGBoost feature importance\n",
    "print(\"Class 0 coef:{0}\".format(np.round(xgb.feature_importances_, 3)))\n",
    "for name, value in zip(x.columns, xgb.feature_importances_):\n",
    "    print('{0} : {1:.3f}'.format(name, value))\n",
    "\n",
    "sns.barplot(x=abs(lr.coef_[0]), y=pd.DataFrame(x).columns)\n",
    "plt.show()"
   ]
  },
  {
   "cell_type": "markdown",
   "id": "db353882",
   "metadata": {},
   "source": [
    "### 4-4. 4-3 두 모델의 roc-auc 그래프를 하나의 그래프에 겹쳐 그려라"
   ]
  },
  {
   "cell_type": "markdown",
   "id": "9db21e30",
   "metadata": {},
   "source": [
    "- Logistic Regression과 XGBoost의 ROC-AUC 그래프를 그리면 다음과 같다. AUC score는 오히려 XGBoost 모델이 소폭 더 높다."
   ]
  },
  {
   "cell_type": "code",
   "execution_count": 54,
   "id": "bc6a5c31",
   "metadata": {},
   "outputs": [
    {
     "data": {
      "image/png": "[encoded data removed]",
      "text/plain": [
       "<Figure size 432x288 with 1 Axes>"
      ]
     },
     "metadata": {
      "needs_background": "light"
     },
     "output_type": "display_data"
    }
   ],
   "source": [
    "fprs_lr, tprs_lr, thresholds = roc_curve(y_test, lr.predict_proba(x_test_scaled)[:, 1])\n",
    "fprs_xgb, tprs_xgb, thresholds = roc_curve(y_test, xgb.predict_proba(x_test_scaled)[:, 1])\n",
    "\n",
    "sns.lineplot(x=fprs_lr, y=tprs_lr, ci=False, label='ROC-Logistic')\n",
    "sns.lineplot(x=fprs_xgb, y=tprs_xgb, ci=False, label='ROC-XGBoost')\n",
    "sns.lineplot(x=[0, 1], y=[0, 1], color='black', linestyle='dashed', label='Random')\n",
    "      \n",
    "start, end = plt.xlim()\n",
    "plt.xticks(np.round(np.arange(start, end, 0.1),2))\n",
    "plt.xlim(0,1); plt.ylim(0,1)\n",
    "plt.xlabel('FPR( 1 - Specificity )'); plt.ylabel('TPR( Recall )')\n",
    "plt.legend()\n",
    "plt.show()"
   ]
  },
  {
   "cell_type": "code",
   "execution_count": 55,
   "id": "0af09f93",
   "metadata": {},
   "outputs": [
    {
     "name": "stdout",
     "output_type": "stream",
     "text": [
      "AUC score of Logistic Regression: 0.518\n",
      "AUC score of XGBoost: 0.526\n"
     ]
    }
   ],
   "source": [
    "print(f\"AUC score of Logistic Regression: {round(roc_auc_score(y_test, lr.predict_proba(x_test_scaled)[:, 1]), 3)}\")\n",
    "print(f\"AUC score of XGBoost: {round(roc_auc_score(y_test, xgb.predict_proba(x_test_scaled)[:, 1]), 3)}\")"
   ]
  },
  {
   "cell_type": "markdown",
   "id": "9ac70022",
   "metadata": {},
   "source": [
    "# 통계 (40점)"
   ]
  },
  {
   "cell_type": "markdown",
   "id": "d5695869",
   "metadata": {},
   "source": [
    "## 5. 무게가 N($\\theta$, 100)인 정규분포에서, 사전분포는 N(100, 256)이다. 무게가 120kg인 제품이 있을 때, 사후분포의 평균을 구하라 (5점)\n",
    "- 실제 시험장에서는 풀이하지 못했던 답안입니다.\n",
    "- $\\theta$를 샘플링된 제품의 무게인 120으로 가정하며, n=1로 두고 사후분포를 계산한다.\n",
    "- 추정된 사후분포 평균값은 114.38이다."
   ]
  },
  {
   "cell_type": "code",
   "execution_count": 56,
   "id": "07cbad3b",
   "metadata": {},
   "outputs": [
    {
     "data": {
      "text/plain": [
       "114.38"
      ]
     },
     "execution_count": 56,
     "metadata": {},
     "output_type": "execute_result"
    }
   ],
   "source": [
    "mu_b, sigma2_b = 100, 256 # 사전확률분포 모수\n",
    "mu, sigma2 = 120, 100 # theta를 120으로 가정\n",
    "\n",
    "round(sigma2/(sigma2_b + sigma2) * mu_b + (sigma2_b)/(sigma2_b + sigma2) * mu, 2)"
   ]
  },
  {
   "cell_type": "markdown",
   "id": "65c17688",
   "metadata": {},
   "source": [
    "## 6. 매체별 광고 효과 (15점)\n",
    "- 데이터 출처 : https://www.kaggle.com/datasets/yasserh/advertising-sales-dataset 후처리\n",
    "- 데이터 링크 : https://raw.githubusercontent.com/Datamanim/datarepo/main/adp/31/adp_31_5_advertising.csv\n",
    "- 데이터 설명 : TV, Radio, Newspaper에 각각 광고비(달러)를 다르게 했을때 매출액 (Sales , 밀리언달러)를 나타내는 데이터\n",
    "- 종속변수 : Sales"
   ]
  },
  {
   "cell_type": "code",
   "execution_count": 57,
   "id": "4c32cb68",
   "metadata": {},
   "outputs": [
    {
     "data": {
      "text/html": [
       "<div>\n",
       "<style scoped>\n",
       "    .dataframe tbody tr th:only-of-type {\n",
       "        vertical-align: middle;\n",
       "    }\n",
       "\n",
       "    .dataframe tbody tr th {\n",
       "        vertical-align: top;\n",
       "    }\n",
       "\n",
       "    .dataframe thead th {\n",
       "        text-align: right;\n",
       "    }\n",
       "</style>\n",
       "<table border=\"1\" class=\"dataframe\">\n",
       "  <thead>\n",
       "    <tr style=\"text-align: right;\">\n",
       "      <th></th>\n",
       "      <th>TV</th>\n",
       "      <th>Radio</th>\n",
       "      <th>Newspaper</th>\n",
       "      <th>Sales</th>\n",
       "    </tr>\n",
       "  </thead>\n",
       "  <tbody>\n",
       "    <tr>\n",
       "      <th>0</th>\n",
       "      <td>230.1</td>\n",
       "      <td>37.8</td>\n",
       "      <td>69.2</td>\n",
       "      <td>22.1</td>\n",
       "    </tr>\n",
       "    <tr>\n",
       "      <th>1</th>\n",
       "      <td>44.5</td>\n",
       "      <td>39.3</td>\n",
       "      <td>45.1</td>\n",
       "      <td>10.4</td>\n",
       "    </tr>\n",
       "    <tr>\n",
       "      <th>2</th>\n",
       "      <td>17.2</td>\n",
       "      <td>45.9</td>\n",
       "      <td>69.3</td>\n",
       "      <td>12.0</td>\n",
       "    </tr>\n",
       "    <tr>\n",
       "      <th>3</th>\n",
       "      <td>151.5</td>\n",
       "      <td>41.3</td>\n",
       "      <td>58.5</td>\n",
       "      <td>16.5</td>\n",
       "    </tr>\n",
       "    <tr>\n",
       "      <th>4</th>\n",
       "      <td>180.8</td>\n",
       "      <td>10.8</td>\n",
       "      <td>58.4</td>\n",
       "      <td>17.9</td>\n",
       "    </tr>\n",
       "    <tr>\n",
       "      <th>...</th>\n",
       "      <td>...</td>\n",
       "      <td>...</td>\n",
       "      <td>...</td>\n",
       "      <td>...</td>\n",
       "    </tr>\n",
       "    <tr>\n",
       "      <th>195</th>\n",
       "      <td>38.2</td>\n",
       "      <td>3.7</td>\n",
       "      <td>13.8</td>\n",
       "      <td>7.6</td>\n",
       "    </tr>\n",
       "    <tr>\n",
       "      <th>196</th>\n",
       "      <td>94.2</td>\n",
       "      <td>4.9</td>\n",
       "      <td>8.1</td>\n",
       "      <td>14.0</td>\n",
       "    </tr>\n",
       "    <tr>\n",
       "      <th>197</th>\n",
       "      <td>177.0</td>\n",
       "      <td>9.3</td>\n",
       "      <td>6.4</td>\n",
       "      <td>14.8</td>\n",
       "    </tr>\n",
       "    <tr>\n",
       "      <th>198</th>\n",
       "      <td>283.6</td>\n",
       "      <td>42.0</td>\n",
       "      <td>66.2</td>\n",
       "      <td>25.5</td>\n",
       "    </tr>\n",
       "    <tr>\n",
       "      <th>199</th>\n",
       "      <td>232.1</td>\n",
       "      <td>8.6</td>\n",
       "      <td>8.7</td>\n",
       "      <td>18.4</td>\n",
       "    </tr>\n",
       "  </tbody>\n",
       "</table>\n",
       "<p>200 rows × 4 columns</p>\n",
       "</div>"
      ],
      "text/plain": [
       "        TV  Radio  Newspaper  Sales\n",
       "0    230.1   37.8       69.2   22.1\n",
       "1     44.5   39.3       45.1   10.4\n",
       "2     17.2   45.9       69.3   12.0\n",
       "3    151.5   41.3       58.5   16.5\n",
       "4    180.8   10.8       58.4   17.9\n",
       "..     ...    ...        ...    ...\n",
       "195   38.2    3.7       13.8    7.6\n",
       "196   94.2    4.9        8.1   14.0\n",
       "197  177.0    9.3        6.4   14.8\n",
       "198  283.6   42.0       66.2   25.5\n",
       "199  232.1    8.6        8.7   18.4\n",
       "\n",
       "[200 rows x 4 columns]"
      ]
     },
     "execution_count": 57,
     "metadata": {},
     "output_type": "execute_result"
    }
   ],
   "source": [
    "sales = pd.read_csv(\"https://raw.githubusercontent.com/Datamanim/datarepo/main/adp/31/adp_31_5_advertising.csv\")\n",
    "sales"
   ]
  },
  {
   "cell_type": "markdown",
   "id": "92419888",
   "metadata": {},
   "source": [
    "### 6-1. 회귀 모델링 후 유의하지 않는변수 파악\n",
    "- 각 광고 매체를 독립변수로, Sales 변수를 종속변수로 하는 선형 회귀 모델을 확인하였다. 먼저, F-통계량의 p-value가 매우 작은 값이므로 해당 모델은 통계적으로 유의하다.\n",
    "- 변수 별 유의도를 검정하는 T-통계량들을 살펴보면, Newspaper 변수의 p-value가 0.95로 유의수준 0.05를 상회하여 유의하지 않은 것으로 판단된다."
   ]
  },
  {
   "cell_type": "code",
   "execution_count": 58,
   "id": "de240aaf",
   "metadata": {},
   "outputs": [
    {
     "data": {
      "text/html": [
       "<table class=\"simpletable\">\n",
       "<caption>OLS Regression Results</caption>\n",
       "<tr>\n",
       "  <th>Dep. Variable:</th>          <td>Sales</td>      <th>  R-squared:         </th> <td>   0.903</td>\n",
       "</tr>\n",
       "<tr>\n",
       "  <th>Model:</th>                   <td>OLS</td>       <th>  Adj. R-squared:    </th> <td>   0.901</td>\n",
       "</tr>\n",
       "<tr>\n",
       "  <th>Method:</th>             <td>Least Squares</td>  <th>  F-statistic:       </th> <td>   605.4</td>\n",
       "</tr>\n",
       "<tr>\n",
       "  <th>Date:</th>             <td>Sun, 25 Feb 2024</td> <th>  Prob (F-statistic):</th> <td>8.13e-99</td>\n",
       "</tr>\n",
       "<tr>\n",
       "  <th>Time:</th>                 <td>01:09:22</td>     <th>  Log-Likelihood:    </th> <td> -383.34</td>\n",
       "</tr>\n",
       "<tr>\n",
       "  <th>No. Observations:</th>      <td>   200</td>      <th>  AIC:               </th> <td>   774.7</td>\n",
       "</tr>\n",
       "<tr>\n",
       "  <th>Df Residuals:</th>          <td>   196</td>      <th>  BIC:               </th> <td>   787.9</td>\n",
       "</tr>\n",
       "<tr>\n",
       "  <th>Df Model:</th>              <td>     3</td>      <th>                     </th>     <td> </td>   \n",
       "</tr>\n",
       "<tr>\n",
       "  <th>Covariance Type:</th>      <td>nonrobust</td>    <th>                     </th>     <td> </td>   \n",
       "</tr>\n",
       "</table>\n",
       "<table class=\"simpletable\">\n",
       "<tr>\n",
       "      <td></td>         <th>coef</th>     <th>std err</th>      <th>t</th>      <th>P>|t|</th>  <th>[0.025</th>    <th>0.975]</th>  \n",
       "</tr>\n",
       "<tr>\n",
       "  <th>Intercept</th> <td>    4.6251</td> <td>    0.308</td> <td>   15.041</td> <td> 0.000</td> <td>    4.019</td> <td>    5.232</td>\n",
       "</tr>\n",
       "<tr>\n",
       "  <th>TV</th>        <td>    0.0544</td> <td>    0.001</td> <td>   39.592</td> <td> 0.000</td> <td>    0.052</td> <td>    0.057</td>\n",
       "</tr>\n",
       "<tr>\n",
       "  <th>Radio</th>     <td>    0.1070</td> <td>    0.008</td> <td>   12.604</td> <td> 0.000</td> <td>    0.090</td> <td>    0.124</td>\n",
       "</tr>\n",
       "<tr>\n",
       "  <th>Newspaper</th> <td>    0.0003</td> <td>    0.006</td> <td>    0.058</td> <td> 0.954</td> <td>   -0.011</td> <td>    0.012</td>\n",
       "</tr>\n",
       "</table>\n",
       "<table class=\"simpletable\">\n",
       "<tr>\n",
       "  <th>Omnibus:</th>       <td>16.081</td> <th>  Durbin-Watson:     </th> <td>   2.251</td>\n",
       "</tr>\n",
       "<tr>\n",
       "  <th>Prob(Omnibus):</th> <td> 0.000</td> <th>  Jarque-Bera (JB):  </th> <td>  27.655</td>\n",
       "</tr>\n",
       "<tr>\n",
       "  <th>Skew:</th>          <td>-0.431</td> <th>  Prob(JB):          </th> <td>9.88e-07</td>\n",
       "</tr>\n",
       "<tr>\n",
       "  <th>Kurtosis:</th>      <td> 4.605</td> <th>  Cond. No.          </th> <td>    454.</td>\n",
       "</tr>\n",
       "</table><br/><br/>Notes:<br/>[1] Standard Errors assume that the covariance matrix of the errors is correctly specified."
      ],
      "text/plain": [
       "<class 'statsmodels.iolib.summary.Summary'>\n",
       "\"\"\"\n",
       "                            OLS Regression Results                            \n",
       "==============================================================================\n",
       "Dep. Variable:                  Sales   R-squared:                       0.903\n",
       "Model:                            OLS   Adj. R-squared:                  0.901\n",
       "Method:                 Least Squares   F-statistic:                     605.4\n",
       "Date:                Sun, 25 Feb 2024   Prob (F-statistic):           8.13e-99\n",
       "Time:                        01:09:22   Log-Likelihood:                -383.34\n",
       "No. Observations:                 200   AIC:                             774.7\n",
       "Df Residuals:                     196   BIC:                             787.9\n",
       "Df Model:                           3                                         \n",
       "Covariance Type:            nonrobust                                         \n",
       "==============================================================================\n",
       "                 coef    std err          t      P>|t|      [0.025      0.975]\n",
       "------------------------------------------------------------------------------\n",
       "Intercept      4.6251      0.308     15.041      0.000       4.019       5.232\n",
       "TV             0.0544      0.001     39.592      0.000       0.052       0.057\n",
       "Radio          0.1070      0.008     12.604      0.000       0.090       0.124\n",
       "Newspaper      0.0003      0.006      0.058      0.954      -0.011       0.012\n",
       "==============================================================================\n",
       "Omnibus:                       16.081   Durbin-Watson:                   2.251\n",
       "Prob(Omnibus):                  0.000   Jarque-Bera (JB):               27.655\n",
       "Skew:                          -0.431   Prob(JB):                     9.88e-07\n",
       "Kurtosis:                       4.605   Cond. No.                         454.\n",
       "==============================================================================\n",
       "\n",
       "Notes:\n",
       "[1] Standard Errors assume that the covariance matrix of the errors is correctly specified.\n",
       "\"\"\""
      ]
     },
     "execution_count": 58,
     "metadata": {},
     "output_type": "execute_result"
    }
   ],
   "source": [
    "model = smf.ols(formula=\"Sales ~ TV + Radio + Newspaper\", data=sales)\n",
    "result = model.fit()\n",
    "result.summary()"
   ]
  },
  {
   "cell_type": "markdown",
   "id": "ce2b911a",
   "metadata": {},
   "source": [
    "### 6-2. 변수 선택시 먼저 제거 될 변수 및 근거 제시\n",
    "- 변수선택은 유의하지 않은 변수를 제거하고 적은 변수로 최적화된 성능을 얻는 것이 목적이므로, 앞선 회귀분석에서 유의하지 않은 변수였던 Newspaper가 우선적으로 제거될 가능성이 높다.\n",
    "- 이후 그 다음으로 유의하지 않은 변수를 제거해야 한다면, 유의한 변수 중 T-통계량 값이 가장 낮은 Radio 변수가 그 대상이 될 수 있다."
   ]
  },
  {
   "cell_type": "markdown",
   "id": "d8409e1d",
   "metadata": {},
   "source": [
    "### 6-3. 유의하지 않은 변수를 제거한 다음, VIF를 통한 다중공선성 진단\n",
    "- 유의하지 않은 변수인 Newspaper는 제거하고, 선형 회귀 모델을 구성하였다. 그 결과 F-통계량의 p-value가 매우 작은 유효한 모델이 도출되었고, 변수 별 유의도 역시 p-value 0.00으로 유의하다.\n",
    "- 따라서, 모델에서 유의한 변수였던 TV와 Radio 변수에 대하여 다중공선성을 판단하였으며, 두 변수의 VIF 값은 1.00으로 10 미만이므로 다중공선성은 없다고 볼 수 있다."
   ]
  },
  {
   "cell_type": "code",
   "execution_count": 59,
   "id": "ed26d5dc",
   "metadata": {
    "scrolled": false
   },
   "outputs": [
    {
     "data": {
      "text/html": [
       "<table class=\"simpletable\">\n",
       "<caption>OLS Regression Results</caption>\n",
       "<tr>\n",
       "  <th>Dep. Variable:</th>          <td>Sales</td>      <th>  R-squared:         </th> <td>   0.903</td> \n",
       "</tr>\n",
       "<tr>\n",
       "  <th>Model:</th>                   <td>OLS</td>       <th>  Adj. R-squared:    </th> <td>   0.902</td> \n",
       "</tr>\n",
       "<tr>\n",
       "  <th>Method:</th>             <td>Least Squares</td>  <th>  F-statistic:       </th> <td>   912.7</td> \n",
       "</tr>\n",
       "<tr>\n",
       "  <th>Date:</th>             <td>Sun, 25 Feb 2024</td> <th>  Prob (F-statistic):</th> <td>2.39e-100</td>\n",
       "</tr>\n",
       "<tr>\n",
       "  <th>Time:</th>                 <td>01:09:22</td>     <th>  Log-Likelihood:    </th> <td> -383.34</td> \n",
       "</tr>\n",
       "<tr>\n",
       "  <th>No. Observations:</th>      <td>   200</td>      <th>  AIC:               </th> <td>   772.7</td> \n",
       "</tr>\n",
       "<tr>\n",
       "  <th>Df Residuals:</th>          <td>   197</td>      <th>  BIC:               </th> <td>   782.6</td> \n",
       "</tr>\n",
       "<tr>\n",
       "  <th>Df Model:</th>              <td>     2</td>      <th>                     </th>     <td> </td>    \n",
       "</tr>\n",
       "<tr>\n",
       "  <th>Covariance Type:</th>      <td>nonrobust</td>    <th>                     </th>     <td> </td>    \n",
       "</tr>\n",
       "</table>\n",
       "<table class=\"simpletable\">\n",
       "<tr>\n",
       "      <td></td>         <th>coef</th>     <th>std err</th>      <th>t</th>      <th>P>|t|</th>  <th>[0.025</th>    <th>0.975]</th>  \n",
       "</tr>\n",
       "<tr>\n",
       "  <th>Intercept</th> <td>    4.6309</td> <td>    0.290</td> <td>   15.952</td> <td> 0.000</td> <td>    4.058</td> <td>    5.203</td>\n",
       "</tr>\n",
       "<tr>\n",
       "  <th>TV</th>        <td>    0.0544</td> <td>    0.001</td> <td>   39.726</td> <td> 0.000</td> <td>    0.052</td> <td>    0.057</td>\n",
       "</tr>\n",
       "<tr>\n",
       "  <th>Radio</th>     <td>    0.1072</td> <td>    0.008</td> <td>   13.522</td> <td> 0.000</td> <td>    0.092</td> <td>    0.123</td>\n",
       "</tr>\n",
       "</table>\n",
       "<table class=\"simpletable\">\n",
       "<tr>\n",
       "  <th>Omnibus:</th>       <td>16.227</td> <th>  Durbin-Watson:     </th> <td>   2.252</td>\n",
       "</tr>\n",
       "<tr>\n",
       "  <th>Prob(Omnibus):</th> <td> 0.000</td> <th>  Jarque-Bera (JB):  </th> <td>  27.973</td>\n",
       "</tr>\n",
       "<tr>\n",
       "  <th>Skew:</th>          <td>-0.434</td> <th>  Prob(JB):          </th> <td>8.43e-07</td>\n",
       "</tr>\n",
       "<tr>\n",
       "  <th>Kurtosis:</th>      <td> 4.613</td> <th>  Cond. No.          </th> <td>    425.</td>\n",
       "</tr>\n",
       "</table><br/><br/>Notes:<br/>[1] Standard Errors assume that the covariance matrix of the errors is correctly specified."
      ],
      "text/plain": [
       "<class 'statsmodels.iolib.summary.Summary'>\n",
       "\"\"\"\n",
       "                            OLS Regression Results                            \n",
       "==============================================================================\n",
       "Dep. Variable:                  Sales   R-squared:                       0.903\n",
       "Model:                            OLS   Adj. R-squared:                  0.902\n",
       "Method:                 Least Squares   F-statistic:                     912.7\n",
       "Date:                Sun, 25 Feb 2024   Prob (F-statistic):          2.39e-100\n",
       "Time:                        01:09:22   Log-Likelihood:                -383.34\n",
       "No. Observations:                 200   AIC:                             772.7\n",
       "Df Residuals:                     197   BIC:                             782.6\n",
       "Df Model:                           2                                         \n",
       "Covariance Type:            nonrobust                                         \n",
       "==============================================================================\n",
       "                 coef    std err          t      P>|t|      [0.025      0.975]\n",
       "------------------------------------------------------------------------------\n",
       "Intercept      4.6309      0.290     15.952      0.000       4.058       5.203\n",
       "TV             0.0544      0.001     39.726      0.000       0.052       0.057\n",
       "Radio          0.1072      0.008     13.522      0.000       0.092       0.123\n",
       "==============================================================================\n",
       "Omnibus:                       16.227   Durbin-Watson:                   2.252\n",
       "Prob(Omnibus):                  0.000   Jarque-Bera (JB):               27.973\n",
       "Skew:                          -0.434   Prob(JB):                     8.43e-07\n",
       "Kurtosis:                       4.613   Cond. No.                         425.\n",
       "==============================================================================\n",
       "\n",
       "Notes:\n",
       "[1] Standard Errors assume that the covariance matrix of the errors is correctly specified.\n",
       "\"\"\""
      ]
     },
     "execution_count": 59,
     "metadata": {},
     "output_type": "execute_result"
    }
   ],
   "source": [
    "model = smf.ols(formula=\"Sales ~ TV + Radio\", data=sales)\n",
    "result = model.fit()\n",
    "result.summary()"
   ]
  },
  {
   "cell_type": "code",
   "execution_count": 60,
   "id": "bc1b8bf2",
   "metadata": {},
   "outputs": [
    {
     "data": {
      "text/html": [
       "<div>\n",
       "<style scoped>\n",
       "    .dataframe tbody tr th:only-of-type {\n",
       "        vertical-align: middle;\n",
       "    }\n",
       "\n",
       "    .dataframe tbody tr th {\n",
       "        vertical-align: top;\n",
       "    }\n",
       "\n",
       "    .dataframe thead th {\n",
       "        text-align: right;\n",
       "    }\n",
       "</style>\n",
       "<table border=\"1\" class=\"dataframe\">\n",
       "  <thead>\n",
       "    <tr style=\"text-align: right;\">\n",
       "      <th></th>\n",
       "      <th>vif</th>\n",
       "      <th>variable</th>\n",
       "    </tr>\n",
       "  </thead>\n",
       "  <tbody>\n",
       "    <tr>\n",
       "      <th>0</th>\n",
       "      <td>1.003013</td>\n",
       "      <td>TV</td>\n",
       "    </tr>\n",
       "    <tr>\n",
       "      <th>1</th>\n",
       "      <td>1.003013</td>\n",
       "      <td>Radio</td>\n",
       "    </tr>\n",
       "  </tbody>\n",
       "</table>\n",
       "</div>"
      ],
      "text/plain": [
       "        vif variable\n",
       "0  1.003013       TV\n",
       "1  1.003013    Radio"
      ]
     },
     "execution_count": 60,
     "metadata": {},
     "output_type": "execute_result"
    }
   ],
   "source": [
    "### VIF 계산\n",
    "y, x = dmatrices(\"Sales ~ TV + Radio\", data=sales, return_type=\"dataframe\")\n",
    "\n",
    "vif_list = []\n",
    "for i in range(1, len(x.columns)): \n",
    "    vif_list.append([variance_inflation_factor(x.values, i), x.columns[i]])\n",
    "pd.DataFrame(vif_list, columns=['vif', 'variable'])"
   ]
  },
  {
   "cell_type": "markdown",
   "id": "406c6493",
   "metadata": {},
   "source": [
    "## 7. 계약 여부 비교 (10점)  \n",
    "- 데이터 링크 : https://raw.githubusercontent.com/Datamanim/datarepo/main/adp/31/adp_31_7.csv\n",
    "- 데이터 설명 : A,B,C,D,E 영업사원의 각 계약 성사 유무 (1:계약 , 0:미계약) 를 나타낸 데이터이다. 영업사원의 평균 계약 성사 건수는 같은지 통계 검정하라"
   ]
  },
  {
   "cell_type": "code",
   "execution_count": 61,
   "id": "5f059641",
   "metadata": {},
   "outputs": [
    {
     "data": {
      "text/html": [
       "<div>\n",
       "<style scoped>\n",
       "    .dataframe tbody tr th:only-of-type {\n",
       "        vertical-align: middle;\n",
       "    }\n",
       "\n",
       "    .dataframe tbody tr th {\n",
       "        vertical-align: top;\n",
       "    }\n",
       "\n",
       "    .dataframe thead th {\n",
       "        text-align: right;\n",
       "    }\n",
       "</style>\n",
       "<table border=\"1\" class=\"dataframe\">\n",
       "  <thead>\n",
       "    <tr style=\"text-align: right;\">\n",
       "      <th></th>\n",
       "      <th>A</th>\n",
       "      <th>B</th>\n",
       "      <th>C</th>\n",
       "      <th>D</th>\n",
       "      <th>E</th>\n",
       "    </tr>\n",
       "  </thead>\n",
       "  <tbody>\n",
       "    <tr>\n",
       "      <th>contract_1</th>\n",
       "      <td>1</td>\n",
       "      <td>0</td>\n",
       "      <td>1</td>\n",
       "      <td>1</td>\n",
       "      <td>1</td>\n",
       "    </tr>\n",
       "    <tr>\n",
       "      <th>contract_2</th>\n",
       "      <td>0</td>\n",
       "      <td>1</td>\n",
       "      <td>0</td>\n",
       "      <td>1</td>\n",
       "      <td>0</td>\n",
       "    </tr>\n",
       "    <tr>\n",
       "      <th>contract_3</th>\n",
       "      <td>1</td>\n",
       "      <td>0</td>\n",
       "      <td>0</td>\n",
       "      <td>0</td>\n",
       "      <td>0</td>\n",
       "    </tr>\n",
       "    <tr>\n",
       "      <th>contract_4</th>\n",
       "      <td>0</td>\n",
       "      <td>1</td>\n",
       "      <td>1</td>\n",
       "      <td>1</td>\n",
       "      <td>1</td>\n",
       "    </tr>\n",
       "    <tr>\n",
       "      <th>contract_5</th>\n",
       "      <td>0</td>\n",
       "      <td>1</td>\n",
       "      <td>0</td>\n",
       "      <td>1</td>\n",
       "      <td>0</td>\n",
       "    </tr>\n",
       "    <tr>\n",
       "      <th>contract_6</th>\n",
       "      <td>1</td>\n",
       "      <td>1</td>\n",
       "      <td>0</td>\n",
       "      <td>1</td>\n",
       "      <td>1</td>\n",
       "    </tr>\n",
       "    <tr>\n",
       "      <th>contract_7</th>\n",
       "      <td>0</td>\n",
       "      <td>1</td>\n",
       "      <td>1</td>\n",
       "      <td>0</td>\n",
       "      <td>0</td>\n",
       "    </tr>\n",
       "    <tr>\n",
       "      <th>contract_8</th>\n",
       "      <td>0</td>\n",
       "      <td>1</td>\n",
       "      <td>0</td>\n",
       "      <td>0</td>\n",
       "      <td>0</td>\n",
       "    </tr>\n",
       "    <tr>\n",
       "      <th>contract_9</th>\n",
       "      <td>1</td>\n",
       "      <td>0</td>\n",
       "      <td>0</td>\n",
       "      <td>1</td>\n",
       "      <td>1</td>\n",
       "    </tr>\n",
       "    <tr>\n",
       "      <th>contract_10</th>\n",
       "      <td>1</td>\n",
       "      <td>1</td>\n",
       "      <td>0</td>\n",
       "      <td>0</td>\n",
       "      <td>0</td>\n",
       "    </tr>\n",
       "    <tr>\n",
       "      <th>contract_11</th>\n",
       "      <td>1</td>\n",
       "      <td>0</td>\n",
       "      <td>0</td>\n",
       "      <td>1</td>\n",
       "      <td>0</td>\n",
       "    </tr>\n",
       "    <tr>\n",
       "      <th>contract_12</th>\n",
       "      <td>1</td>\n",
       "      <td>1</td>\n",
       "      <td>1</td>\n",
       "      <td>0</td>\n",
       "      <td>0</td>\n",
       "    </tr>\n",
       "  </tbody>\n",
       "</table>\n",
       "</div>"
      ],
      "text/plain": [
       "             A  B  C  D  E\n",
       "contract_1   1  0  1  1  1\n",
       "contract_2   0  1  0  1  0\n",
       "contract_3   1  0  0  0  0\n",
       "contract_4   0  1  1  1  1\n",
       "contract_5   0  1  0  1  0\n",
       "contract_6   1  1  0  1  1\n",
       "contract_7   0  1  1  0  0\n",
       "contract_8   0  1  0  0  0\n",
       "contract_9   1  0  0  1  1\n",
       "contract_10  1  1  0  0  0\n",
       "contract_11  1  0  0  1  0\n",
       "contract_12  1  1  1  0  0"
      ]
     },
     "execution_count": 61,
     "metadata": {},
     "output_type": "execute_result"
    }
   ],
   "source": [
    "contract = pd.read_csv(\"https://raw.githubusercontent.com/Datamanim/datarepo/main/adp/31/adp_31_7.csv\", index_col='Unnamed: 0')\n",
    "contract"
   ]
  },
  {
   "cell_type": "markdown",
   "id": "4942091d",
   "metadata": {},
   "source": [
    "### 7-1. 가설 설정\n",
    "- 이진 변수인 계약 유무에 대하여, 영업사원의 수가 3명 이상이고 각 계약별로 대응되어있는 형태이므로 Cochran's Q 검정을 이용한다.\n",
    "- H0: 영업사원 별 계약 성사 비율은 차이가 없다.\n",
    "- H1: 영업사원 별 계약 성사 비율은 차이가 있다."
   ]
  },
  {
   "cell_type": "markdown",
   "id": "aada5e21",
   "metadata": {},
   "source": [
    "### 7-2. 검정 결과 제시\n",
    "- Cochran's Q 검정 결과 검정 통계량 4.52, p-value 0.34로 유의수준 0.05 하에서 귀무가설을 기각할 수 없다.\n",
    "- 따라서 영업사원 별 계약 성사 비율에는 차이가 있다고 볼 통계적 근거가 부족하다."
   ]
  },
  {
   "cell_type": "code",
   "execution_count": 62,
   "id": "5b961ee7",
   "metadata": {
    "scrolled": true
   },
   "outputs": [
    {
     "name": "stdout",
     "output_type": "stream",
     "text": [
      "df          4\n",
      "pvalue      0.3406392758219471\n",
      "statistic   4.516129032258065\n"
     ]
    }
   ],
   "source": [
    "print(cochrans_q(contract))"
   ]
  },
  {
   "cell_type": "markdown",
   "id": "61979d5b",
   "metadata": {},
   "source": [
    "## 8. 유기견이 하루에 2.2마리 발생한다 (10점)\n",
    "- 시험문제는 일주일에 2.2마리라고 주어졌던 것으로 기억하고 있지만, 소문제들도 모두 일주일을 기준으로 답을 적게 해서 기간이 중요한 것은 아니었긴 합니다.\n",
    "- 일주일동안 발생하는 유기견 수는 평균이 2.2인 포아송분포를 따른다."
   ]
  },
  {
   "cell_type": "markdown",
   "id": "abd93296",
   "metadata": {},
   "source": [
    "### 8-1. 한 마리도 안 버려질 확률\n",
    "- 한 마리도 안 버려질 확률은 0.11이다."
   ]
  },
  {
   "cell_type": "code",
   "execution_count": 63,
   "id": "d4288d3e",
   "metadata": {},
   "outputs": [
    {
     "data": {
      "text/plain": [
       "0.11"
      ]
     },
     "execution_count": 63,
     "metadata": {},
     "output_type": "execute_result"
    }
   ],
   "source": [
    "round(stats.poisson.pmf(k=0, mu=2.2), 2)"
   ]
  },
  {
   "cell_type": "markdown",
   "id": "8c1a7f7c",
   "metadata": {},
   "source": [
    "### 8-2. 적어도 2마리 버려질 확률\n",
    "- 적어도 2마리 버려질 확율은 0.65이다."
   ]
  },
  {
   "cell_type": "code",
   "execution_count": 64,
   "id": "7d0605c9",
   "metadata": {},
   "outputs": [
    {
     "data": {
      "text/plain": [
       "0.65"
      ]
     },
     "execution_count": 64,
     "metadata": {},
     "output_type": "execute_result"
    }
   ],
   "source": [
    "round(1 - stats.poisson.cdf(k=1, mu=2.2), 2)"
   ]
  },
  {
   "cell_type": "markdown",
   "id": "8b6b39d7",
   "metadata": {},
   "source": [
    "끝. 14페이지"
   ]
  }
 ],
 "metadata": {
  "kernelspec": {
   "display_name": "Python 3 (ipykernel)",
   "language": "python",
   "name": "python3"
  },
  "language_info": {
   "codemirror_mode": {
    "name": "ipython",
    "version": 3
   },
   "file_extension": ".py",
   "mimetype": "text/x-python",
   "name": "python",
   "nbconvert_exporter": "python",
   "pygments_lexer": "ipython3",
   "version": "3.8.18"
  }
 },
 "nbformat": 4,
 "nbformat_minor": 5
}
