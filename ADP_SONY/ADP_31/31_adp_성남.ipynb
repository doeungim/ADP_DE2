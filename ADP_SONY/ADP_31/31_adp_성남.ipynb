{
 "cells": [
  {
   "cell_type": "markdown",
   "id": "36674c3e",
   "metadata": {},
   "source": [
    "합격 후기\n",
    "https://brunch.co.kr/@overmanwannabe/58"
   ]
  },
  {
   "cell_type": "markdown",
   "id": "87b04fcc",
   "metadata": {},
   "source": [
    "## 문제풀이 복원자 31회 시험 성적\n",
    "- 머신러닝: 50.3점\n",
    "- 통계분석: 25.5점\n",
    "- 총합: 75.8점"
   ]
  },
  {
   "cell_type": "markdown",
   "id": "0a9d2e88",
   "metadata": {},
   "source": [
    "# 31회 ADP 복원 "
   ]
  },
  {
   "cell_type": "markdown",
   "id": "5cd34cd1",
   "metadata": {},
   "source": [
    "# 기계학습 (60점)"
   ]
  },
  {
   "cell_type": "markdown",
   "id": "28346ee4",
   "metadata": {
    "tags": []
   },
   "source": [
    "## 데이터 설명\n",
    "- 데이터 출처 : https://www.kaggle.com/datasets/mandysia/obesity-dataset-cleaned-and-data-sinthetic 후처리\n",
    "- 데이터 링크 : https://raw.githubusercontent.com/Datamanim/datarepo/main/adp/31/adp_31_1_obesity_v2.csv\n",
    "- 데이터 설명 : 각 환자의 의료정보이다. NObeyesdad를 종속변수로 하는 분류모델을 만드려고 한다.\n",
    "\n",
    "\n",
    "    id: unique id for each row    \n",
    "    Gender: sex - male or female    \n",
    "    Age: age    \n",
    "    Height: height    \n",
    "    Weight: weight    \n",
    "    family_history_with_overweight: Has a family member suffered or suffers f from overweight? - yes or no    \n",
    "    FAVC: Frequent consumption of high caloric food - yes or no     \n",
    "    FCVC: Frequency of consumption of vegetables - Never, Sometimes, Always    \n",
    "    NCP: Number of main meals - 1, 2, 3, 4     \n",
    "    CAEC: Consumption of food between meals - No, Sometimes, Frequently, Always    \n",
    "    SMOKE: Do you smoke - yes o no    \n",
    "    CH2O: Consumption of water daily - Less than a litter, between 1 and 2 l, more than 2 l    \n",
    "    SCC: Calories consumption monitoring - yes or no   \n",
    "    FAF: Physical activity frequency - 0, 1 to 2, 2 to 4, 4 to 5     \n",
    "    TUE: Time using technology devices - 0 to 2, 3 to 5, >5    \n",
    "    CALC: Consumption of alcohol - no, sometimes, frequently, always    \n",
    "    MTRANS: Transportation used - automobile, motorbike, bike, public_transportation, walking    \n",
    "    BMI: Body mass index\n",
    "    \n",
    "    (종속변수)     \n",
    "    NObeyesdad: Type of obesity - overweight-level_i, obesity_type_i, obesity_type_ii, obesity_type_iii"
   ]
  },
  {
   "cell_type": "code",
   "execution_count": 1,
   "id": "81bf6483",
   "metadata": {
    "tags": []
   },
   "outputs": [
    {
     "data": {
      "text/html": [
       "<div>\n",
       "<style scoped>\n",
       "    .dataframe tbody tr th:only-of-type {\n",
       "        vertical-align: middle;\n",
       "    }\n",
       "\n",
       "    .dataframe tbody tr th {\n",
       "        vertical-align: top;\n",
       "    }\n",
       "\n",
       "    .dataframe thead th {\n",
       "        text-align: right;\n",
       "    }\n",
       "</style>\n",
       "<table border=\"1\" class=\"dataframe\">\n",
       "  <thead>\n",
       "    <tr style=\"text-align: right;\">\n",
       "      <th></th>\n",
       "      <th>Unnamed: 0</th>\n",
       "      <th>id</th>\n",
       "      <th>Gender</th>\n",
       "      <th>Age</th>\n",
       "      <th>Height</th>\n",
       "      <th>Weight</th>\n",
       "      <th>family_history_with_overweight</th>\n",
       "      <th>FAVC</th>\n",
       "      <th>FCVC</th>\n",
       "      <th>NCP</th>\n",
       "      <th>CAEC</th>\n",
       "      <th>SMOKE</th>\n",
       "      <th>CH2O</th>\n",
       "      <th>SCC</th>\n",
       "      <th>FAF</th>\n",
       "      <th>TUE</th>\n",
       "      <th>CALC</th>\n",
       "      <th>MTRANS</th>\n",
       "      <th>NObeyesdad</th>\n",
       "      <th>BMI</th>\n",
       "    </tr>\n",
       "  </thead>\n",
       "  <tbody>\n",
       "    <tr>\n",
       "      <th>0</th>\n",
       "      <td>0</td>\n",
       "      <td>4</td>\n",
       "      <td>male</td>\n",
       "      <td>27</td>\n",
       "      <td>1.80</td>\n",
       "      <td>87</td>\n",
       "      <td>no</td>\n",
       "      <td>no</td>\n",
       "      <td>always</td>\n",
       "      <td>3</td>\n",
       "      <td>sometimes</td>\n",
       "      <td>no</td>\n",
       "      <td>between 1 and 2 l</td>\n",
       "      <td>no</td>\n",
       "      <td>2 to 4</td>\n",
       "      <td>0 to 2</td>\n",
       "      <td>frequently</td>\n",
       "      <td>walking</td>\n",
       "      <td>overweight_level_i</td>\n",
       "      <td>26.851852</td>\n",
       "    </tr>\n",
       "    <tr>\n",
       "      <th>1</th>\n",
       "      <td>1</td>\n",
       "      <td>11</td>\n",
       "      <td>male</td>\n",
       "      <td>26</td>\n",
       "      <td>1.85</td>\n",
       "      <td>105</td>\n",
       "      <td>yes</td>\n",
       "      <td>yes</td>\n",
       "      <td>always</td>\n",
       "      <td>3</td>\n",
       "      <td>frequently</td>\n",
       "      <td>no</td>\n",
       "      <td>more than 2 l</td>\n",
       "      <td>no</td>\n",
       "      <td>2 to 4</td>\n",
       "      <td>&gt;5</td>\n",
       "      <td>sometimes</td>\n",
       "      <td>public_transportation</td>\n",
       "      <td>obesity_type_i</td>\n",
       "      <td>30.679328</td>\n",
       "    </tr>\n",
       "    <tr>\n",
       "      <th>2</th>\n",
       "      <td>2</td>\n",
       "      <td>14</td>\n",
       "      <td>male</td>\n",
       "      <td>41</td>\n",
       "      <td>1.80</td>\n",
       "      <td>99</td>\n",
       "      <td>no</td>\n",
       "      <td>yes</td>\n",
       "      <td>sometimes</td>\n",
       "      <td>3</td>\n",
       "      <td>sometimes</td>\n",
       "      <td>no</td>\n",
       "      <td>between 1 and 2 l</td>\n",
       "      <td>no</td>\n",
       "      <td>2 to 4</td>\n",
       "      <td>3 to 5</td>\n",
       "      <td>frequently</td>\n",
       "      <td>automobile</td>\n",
       "      <td>obesity_type_i</td>\n",
       "      <td>30.555556</td>\n",
       "    </tr>\n",
       "    <tr>\n",
       "      <th>3</th>\n",
       "      <td>3</td>\n",
       "      <td>18</td>\n",
       "      <td>female</td>\n",
       "      <td>29</td>\n",
       "      <td>1.53</td>\n",
       "      <td>78</td>\n",
       "      <td>no</td>\n",
       "      <td>yes</td>\n",
       "      <td>sometimes</td>\n",
       "      <td>1</td>\n",
       "      <td>sometimes</td>\n",
       "      <td>no</td>\n",
       "      <td>between 1 and 2 l</td>\n",
       "      <td>no</td>\n",
       "      <td>0</td>\n",
       "      <td>0 to 2</td>\n",
       "      <td>no</td>\n",
       "      <td>automobile</td>\n",
       "      <td>obesity_type_i</td>\n",
       "      <td>33.320518</td>\n",
       "    </tr>\n",
       "    <tr>\n",
       "      <th>4</th>\n",
       "      <td>4</td>\n",
       "      <td>20</td>\n",
       "      <td>female</td>\n",
       "      <td>23</td>\n",
       "      <td>1.65</td>\n",
       "      <td>70</td>\n",
       "      <td>yes</td>\n",
       "      <td>no</td>\n",
       "      <td>sometimes</td>\n",
       "      <td>1</td>\n",
       "      <td>sometimes</td>\n",
       "      <td>no</td>\n",
       "      <td>between 1 and 2 l</td>\n",
       "      <td>no</td>\n",
       "      <td>0</td>\n",
       "      <td>0 to 2</td>\n",
       "      <td>sometimes</td>\n",
       "      <td>public_transportation</td>\n",
       "      <td>overweight_level_i</td>\n",
       "      <td>25.711662</td>\n",
       "    </tr>\n",
       "  </tbody>\n",
       "</table>\n",
       "</div>"
      ],
      "text/plain": [
       "   Unnamed: 0  id  Gender  Age  Height  Weight family_history_with_overweight  \\\n",
       "0           0   4    male   27    1.80      87                             no   \n",
       "1           1  11    male   26    1.85     105                            yes   \n",
       "2           2  14    male   41    1.80      99                             no   \n",
       "3           3  18  female   29    1.53      78                             no   \n",
       "4           4  20  female   23    1.65      70                            yes   \n",
       "\n",
       "  FAVC       FCVC  NCP        CAEC SMOKE               CH2O SCC     FAF  \\\n",
       "0   no     always    3   sometimes    no  between 1 and 2 l  no  2 to 4   \n",
       "1  yes     always    3  frequently    no      more than 2 l  no  2 to 4   \n",
       "2  yes  sometimes    3   sometimes    no  between 1 and 2 l  no  2 to 4   \n",
       "3  yes  sometimes    1   sometimes    no  between 1 and 2 l  no       0   \n",
       "4   no  sometimes    1   sometimes    no  between 1 and 2 l  no       0   \n",
       "\n",
       "      TUE        CALC                 MTRANS          NObeyesdad        BMI  \n",
       "0  0 to 2  frequently                walking  overweight_level_i  26.851852  \n",
       "1      >5   sometimes  public_transportation      obesity_type_i  30.679328  \n",
       "2  3 to 5  frequently             automobile      obesity_type_i  30.555556  \n",
       "3  0 to 2          no             automobile      obesity_type_i  33.320518  \n",
       "4  0 to 2   sometimes  public_transportation  overweight_level_i  25.711662  "
      ]
     },
     "execution_count": 1,
     "metadata": {},
     "output_type": "execute_result"
    }
   ],
   "source": [
    "import pandas as pd\n",
    "medical=pd.read_csv('https://raw.githubusercontent.com/Datamanim/datarepo/main/adp/31/adp_31_1_obesity_v2.csv')\n",
    "medical.head()"
   ]
  },
  {
   "cell_type": "markdown",
   "id": "8ba889a2",
   "metadata": {},
   "source": [
    "## 1-1  EDA & 결측치 및 이상치를 판단하고 설명하라"
   ]
  },
  {
   "cell_type": "code",
   "execution_count": 6,
   "id": "2f1ed232",
   "metadata": {
    "tags": []
   },
   "outputs": [
    {
     "name": "stdout",
     "output_type": "stream",
     "text": [
      "<class 'pandas.core.frame.DataFrame'>\n",
      "RangeIndex: 1262 entries, 0 to 1261\n",
      "Data columns (total 19 columns):\n",
      " #   Column                          Non-Null Count  Dtype  \n",
      "---  ------                          --------------  -----  \n",
      " 0   id                              1262 non-null   object \n",
      " 1   Gender                          1262 non-null   object \n",
      " 2   Age                             1262 non-null   int64  \n",
      " 3   Height                          1262 non-null   float64\n",
      " 4   Weight                          1262 non-null   int64  \n",
      " 5   family_history_with_overweight  1262 non-null   object \n",
      " 6   FAVC                            1262 non-null   object \n",
      " 7   FCVC                            1262 non-null   object \n",
      " 8   NCP                             1262 non-null   int64  \n",
      " 9   CAEC                            1262 non-null   object \n",
      " 10  SMOKE                           1262 non-null   object \n",
      " 11  CH2O                            1262 non-null   object \n",
      " 12  SCC                             1259 non-null   object \n",
      " 13  FAF                             1262 non-null   object \n",
      " 14  TUE                             1262 non-null   object \n",
      " 15  CALC                            1262 non-null   object \n",
      " 16  MTRANS                          1262 non-null   object \n",
      " 17  NObeyesdad                      1262 non-null   object \n",
      " 18  BMI                             1262 non-null   float64\n",
      "dtypes: float64(2), int64(3), object(14)\n",
      "memory usage: 187.5+ KB\n"
     ]
    }
   ],
   "source": [
    "medical.info()"
   ]
  },
  {
   "cell_type": "code",
   "execution_count": 3,
   "id": "159b9588",
   "metadata": {
    "tags": []
   },
   "outputs": [
    {
     "data": {
      "text/plain": [
       "(1262, 20)"
      ]
     },
     "execution_count": 3,
     "metadata": {},
     "output_type": "execute_result"
    }
   ],
   "source": [
    "medical.shape"
   ]
  },
  {
   "cell_type": "code",
   "execution_count": 62,
   "id": "9b3c0b97",
   "metadata": {
    "tags": []
   },
   "outputs": [
    {
     "data": {
      "text/plain": [
       "id                                0\n",
       "Gender                            0\n",
       "Age                               0\n",
       "Height                            0\n",
       "Weight                            0\n",
       "family_history_with_overweight    0\n",
       "FAVC                              0\n",
       "FCVC                              0\n",
       "NCP                               0\n",
       "CAEC                              0\n",
       "SMOKE                             0\n",
       "CH2O                              0\n",
       "SCC                               3\n",
       "FAF                               0\n",
       "TUE                               0\n",
       "CALC                              0\n",
       "MTRANS                            0\n",
       "NObeyesdad                        0\n",
       "BMI                               0\n",
       "dtype: int64"
      ]
     },
     "execution_count": 62,
     "metadata": {},
     "output_type": "execute_result"
    }
   ],
   "source": [
    "#결측치 확인\n",
    "medical.isna().sum()"
   ]
  },
  {
   "cell_type": "markdown",
   "id": "07f51bef",
   "metadata": {},
   "source": [
    "SCC 변수의 결측치가 3개임을 확인하였다. 그러나 결측치가 포함된 행의 수가 적으므로 삭제하기로 한다 "
   ]
  },
  {
   "cell_type": "code",
   "execution_count": 2,
   "id": "3af04e99",
   "metadata": {
    "tags": []
   },
   "outputs": [
    {
     "data": {
      "text/plain": [
       "Unnamed: 0                        0\n",
       "id                                0\n",
       "Gender                            0\n",
       "Age                               0\n",
       "Height                            0\n",
       "Weight                            0\n",
       "family_history_with_overweight    0\n",
       "FAVC                              0\n",
       "FCVC                              0\n",
       "NCP                               0\n",
       "CAEC                              0\n",
       "SMOKE                             0\n",
       "CH2O                              0\n",
       "SCC                               0\n",
       "FAF                               0\n",
       "TUE                               0\n",
       "CALC                              0\n",
       "MTRANS                            0\n",
       "NObeyesdad                        0\n",
       "BMI                               0\n",
       "dtype: int64"
      ]
     },
     "execution_count": 2,
     "metadata": {},
     "output_type": "execute_result"
    }
   ],
   "source": [
    "medical_1=medical.dropna(axis=0)\n",
    "medical_1.isna().sum()"
   ]
  },
  {
   "cell_type": "markdown",
   "id": "0edecee9",
   "metadata": {},
   "source": [
    "@@저는 ADP 시험을 볼 때 plt.subplots을 사용해서 모든 데이터를 한 눈에 보기 편하게 시각화하는 것도 좋지만\n",
    "<br>항상 컬럼 하나하나를 시각화해서 들여다봤었습니다(무엇이 더 좋은지는 알 수 없지만..)\n",
    "<br>시각화를 하면서 페이지수가 길어지기는 하는데 그 다음 문제에서도 쓸 수 있는 인사이트를 얻을 수 있어서 이렇게 해왔습니다. "
   ]
  },
  {
   "cell_type": "code",
   "execution_count": 26,
   "id": "7a9f78fc",
   "metadata": {
    "scrolled": true,
    "tags": []
   },
   "outputs": [
    {
     "data": {
      "text/plain": [
       "4        1\n",
       "69       1\n",
       "20       1\n",
       "22       1\n",
       "24       1\n",
       "        ..\n",
       "2,107    1\n",
       "2,108    1\n",
       "2,109    1\n",
       "2,110    1\n",
       "2,111    1\n",
       "Name: id, Length: 1262, dtype: int64"
      ]
     },
     "execution_count": 26,
     "metadata": {},
     "output_type": "execute_result"
    }
   ],
   "source": [
    "#id 컬럼에서 중복값이 있는지 확인\n",
    "medical['id'].value_counts().sort_values(ascending=False)"
   ]
  },
  {
   "cell_type": "code",
   "execution_count": 59,
   "id": "0cfe965c",
   "metadata": {
    "tags": []
   },
   "outputs": [],
   "source": [
    "col_num=medical.select_dtypes(exclude='object').columns\n",
    "col_obj=medical.iloc[:,1:].select_dtypes(include='object').columns"
   ]
  },
  {
   "cell_type": "code",
   "execution_count": 53,
   "id": "250224ee",
   "metadata": {
    "tags": []
   },
   "outputs": [
    {
     "name": "stdout",
     "output_type": "stream",
     "text": [
      "count    1262.000000\n",
      "mean       25.749604\n",
      "std         9.898088\n",
      "min        15.000000\n",
      "25%        21.000000\n",
      "50%        24.000000\n",
      "75%        27.000000\n",
      "max       150.000000\n",
      "Name: Age, dtype: float64\n"
     ]
    },
    {
     "data": {
      "image/png": "[encoded data removed]",
      "text/plain": [
       "<Figure size 640x480 with 1 Axes>"
      ]
     },
     "metadata": {},
     "output_type": "display_data"
    },
    {
     "name": "stdout",
     "output_type": "stream",
     "text": [
      "\n",
      "\n",
      "count    1262.000000\n",
      "mean        1.709184\n",
      "std         0.091361\n",
      "min         1.450000\n",
      "25%         1.631576\n",
      "50%         1.711095\n",
      "75%         1.775768\n",
      "max         1.980000\n",
      "Name: Height, dtype: float64\n"
     ]
    },
    {
     "data": {
      "image/png": "[encoded data removed]",
      "text/plain": [
       "<Figure size 640x480 with 1 Axes>"
      ]
     },
     "metadata": {},
     "output_type": "display_data"
    },
    {
     "name": "stdout",
     "output_type": "stream",
     "text": [
      "\n",
      "\n",
      "count    1262.000000\n",
      "mean      101.083201\n",
      "std        21.520848\n",
      "min        53.000000\n",
      "25%        82.000000\n",
      "50%       105.000000\n",
      "75%       116.000000\n",
      "max       173.000000\n",
      "Name: Weight, dtype: float64\n"
     ]
    },
    {
     "data": {
      "image/png": "[encoded data removed]",
      "text/plain": [
       "<Figure size 640x480 with 1 Axes>"
      ]
     },
     "metadata": {},
     "output_type": "display_data"
    },
    {
     "name": "stdout",
     "output_type": "stream",
     "text": [
      "\n",
      "\n",
      "count    1262.000000\n",
      "mean        2.665610\n",
      "std         0.757143\n",
      "min         1.000000\n",
      "25%         3.000000\n",
      "50%         3.000000\n",
      "75%         3.000000\n",
      "max         4.000000\n",
      "Name: NCP, dtype: float64\n"
     ]
    },
    {
     "data": {
      "image/png": "[encoded data removed]",
      "text/plain": [
       "<Figure size 640x480 with 1 Axes>"
      ]
     },
     "metadata": {},
     "output_type": "display_data"
    },
    {
     "name": "stdout",
     "output_type": "stream",
     "text": [
      "\n",
      "\n",
      "count    1262.000000\n",
      "mean       34.439463\n",
      "std         6.106623\n",
      "min        22.826739\n",
      "25%        30.725995\n",
      "50%        34.332001\n",
      "75%        38.920119\n",
      "max        50.811753\n",
      "Name: BMI, dtype: float64\n"
     ]
    },
    {
     "data": {
      "image/png": "[encoded data removed]",
      "text/plain": [
       "<Figure size 640x480 with 1 Axes>"
      ]
     },
     "metadata": {},
     "output_type": "display_data"
    },
    {
     "name": "stdout",
     "output_type": "stream",
     "text": [
      "\n",
      "\n"
     ]
    }
   ],
   "source": [
    "#수치형 데이터 시각화\n",
    "for col in col_num :\n",
    "    print(medical[col].describe())\n",
    "    sns.histplot(medical[col])\n",
    "    plt.title(f'Histplot of {col}')\n",
    "    plt.show()\n",
    "    print('\\n');"
   ]
  },
  {
   "cell_type": "markdown",
   "id": "d1c3c1c4",
   "metadata": {},
   "source": [
    "Age 변수에서 이상치가 있음을 히스토그램을 통해 확인할 수 있다.\n",
    "<br>Age 변수의 이상치는 3시그마법을 이용하여 확인한다."
   ]
  },
  {
   "cell_type": "code",
   "execution_count": 5,
   "id": "b7cfdf98",
   "metadata": {
    "tags": []
   },
   "outputs": [
    {
     "data": {
      "text/html": [
       "<div>\n",
       "<style scoped>\n",
       "    .dataframe tbody tr th:only-of-type {\n",
       "        vertical-align: middle;\n",
       "    }\n",
       "\n",
       "    .dataframe tbody tr th {\n",
       "        vertical-align: top;\n",
       "    }\n",
       "\n",
       "    .dataframe thead th {\n",
       "        text-align: right;\n",
       "    }\n",
       "</style>\n",
       "<table border=\"1\" class=\"dataframe\">\n",
       "  <thead>\n",
       "    <tr style=\"text-align: right;\">\n",
       "      <th></th>\n",
       "      <th>id</th>\n",
       "      <th>Gender</th>\n",
       "      <th>Age</th>\n",
       "      <th>Height</th>\n",
       "      <th>Weight</th>\n",
       "      <th>family_history_with_overweight</th>\n",
       "      <th>FAVC</th>\n",
       "      <th>FCVC</th>\n",
       "      <th>NCP</th>\n",
       "      <th>CAEC</th>\n",
       "      <th>SMOKE</th>\n",
       "      <th>CH2O</th>\n",
       "      <th>SCC</th>\n",
       "      <th>FAF</th>\n",
       "      <th>TUE</th>\n",
       "      <th>CALC</th>\n",
       "      <th>MTRANS</th>\n",
       "      <th>NObeyesdad</th>\n",
       "      <th>BMI</th>\n",
       "    </tr>\n",
       "  </thead>\n",
       "  <tbody>\n",
       "    <tr>\n",
       "      <th>300</th>\n",
       "      <td>918</td>\n",
       "      <td>female</td>\n",
       "      <td>150</td>\n",
       "      <td>1.532322</td>\n",
       "      <td>62</td>\n",
       "      <td>yes</td>\n",
       "      <td>yes</td>\n",
       "      <td>sometimes</td>\n",
       "      <td>3</td>\n",
       "      <td>sometimes</td>\n",
       "      <td>no</td>\n",
       "      <td>more than 2 l</td>\n",
       "      <td>no</td>\n",
       "      <td>0</td>\n",
       "      <td>3 to 5</td>\n",
       "      <td>sometimes</td>\n",
       "      <td>automobile</td>\n",
       "      <td>overweight_level_i</td>\n",
       "      <td>26.583025</td>\n",
       "    </tr>\n",
       "    <tr>\n",
       "      <th>467</th>\n",
       "      <td>1,317</td>\n",
       "      <td>male</td>\n",
       "      <td>150</td>\n",
       "      <td>1.789992</td>\n",
       "      <td>98</td>\n",
       "      <td>yes</td>\n",
       "      <td>yes</td>\n",
       "      <td>sometimes</td>\n",
       "      <td>2</td>\n",
       "      <td>sometimes</td>\n",
       "      <td>no</td>\n",
       "      <td>more than 2 l</td>\n",
       "      <td>no</td>\n",
       "      <td>1 to 2</td>\n",
       "      <td>3 to 5</td>\n",
       "      <td>sometimes</td>\n",
       "      <td>automobile</td>\n",
       "      <td>obesity_type_i</td>\n",
       "      <td>30.592879</td>\n",
       "    </tr>\n",
       "    <tr>\n",
       "      <th>494</th>\n",
       "      <td>1,344</td>\n",
       "      <td>male</td>\n",
       "      <td>150</td>\n",
       "      <td>1.783906</td>\n",
       "      <td>109</td>\n",
       "      <td>yes</td>\n",
       "      <td>yes</td>\n",
       "      <td>sometimes</td>\n",
       "      <td>2</td>\n",
       "      <td>sometimes</td>\n",
       "      <td>no</td>\n",
       "      <td>between 1 and 2 l</td>\n",
       "      <td>no</td>\n",
       "      <td>1 to 2</td>\n",
       "      <td>3 to 5</td>\n",
       "      <td>no</td>\n",
       "      <td>public_transportation</td>\n",
       "      <td>obesity_type_i</td>\n",
       "      <td>34.316974</td>\n",
       "    </tr>\n",
       "    <tr>\n",
       "      <th>528</th>\n",
       "      <td>1,378</td>\n",
       "      <td>male</td>\n",
       "      <td>150</td>\n",
       "      <td>1.834842</td>\n",
       "      <td>105</td>\n",
       "      <td>yes</td>\n",
       "      <td>yes</td>\n",
       "      <td>always</td>\n",
       "      <td>3</td>\n",
       "      <td>sometimes</td>\n",
       "      <td>no</td>\n",
       "      <td>between 1 and 2 l</td>\n",
       "      <td>no</td>\n",
       "      <td>2 to 4</td>\n",
       "      <td>3 to 5</td>\n",
       "      <td>sometimes</td>\n",
       "      <td>automobile</td>\n",
       "      <td>obesity_type_i</td>\n",
       "      <td>31.247534</td>\n",
       "    </tr>\n",
       "    <tr>\n",
       "      <th>1193</th>\n",
       "      <td>2,043</td>\n",
       "      <td>female</td>\n",
       "      <td>150</td>\n",
       "      <td>1.686033</td>\n",
       "      <td>105</td>\n",
       "      <td>yes</td>\n",
       "      <td>yes</td>\n",
       "      <td>always</td>\n",
       "      <td>3</td>\n",
       "      <td>sometimes</td>\n",
       "      <td>no</td>\n",
       "      <td>less than a liter</td>\n",
       "      <td>no</td>\n",
       "      <td>0</td>\n",
       "      <td>3 to 5</td>\n",
       "      <td>sometimes</td>\n",
       "      <td>public_transportation</td>\n",
       "      <td>obesity_type_iii</td>\n",
       "      <td>36.856473</td>\n",
       "    </tr>\n",
       "  </tbody>\n",
       "</table>\n",
       "</div>"
      ],
      "text/plain": [
       "         id  Gender  Age    Height  Weight family_history_with_overweight  \\\n",
       "300     918  female  150  1.532322      62                            yes   \n",
       "467   1,317    male  150  1.789992      98                            yes   \n",
       "494   1,344    male  150  1.783906     109                            yes   \n",
       "528   1,378    male  150  1.834842     105                            yes   \n",
       "1193  2,043  female  150  1.686033     105                            yes   \n",
       "\n",
       "     FAVC       FCVC  NCP       CAEC SMOKE               CH2O SCC     FAF  \\\n",
       "300   yes  sometimes    3  sometimes    no      more than 2 l  no       0   \n",
       "467   yes  sometimes    2  sometimes    no      more than 2 l  no  1 to 2   \n",
       "494   yes  sometimes    2  sometimes    no  between 1 and 2 l  no  1 to 2   \n",
       "528   yes     always    3  sometimes    no  between 1 and 2 l  no  2 to 4   \n",
       "1193  yes     always    3  sometimes    no  less than a liter  no       0   \n",
       "\n",
       "         TUE       CALC                 MTRANS          NObeyesdad        BMI  \n",
       "300   3 to 5  sometimes             automobile  overweight_level_i  26.583025  \n",
       "467   3 to 5  sometimes             automobile      obesity_type_i  30.592879  \n",
       "494   3 to 5         no  public_transportation      obesity_type_i  34.316974  \n",
       "528   3 to 5  sometimes             automobile      obesity_type_i  31.247534  \n",
       "1193  3 to 5  sometimes  public_transportation    obesity_type_iii  36.856473  "
      ]
     },
     "execution_count": 5,
     "metadata": {},
     "output_type": "execute_result"
    }
   ],
   "source": [
    "age_mean=medical_1['Age'].mean()\n",
    "age_lower=age_mean-3*medical_1['Age'].std()\n",
    "age_upper=age_mean+3*medical_1['Age'].std()\n",
    "\n",
    "medical_1.loc[(medical_1['Age']<age_lower)|(medical_1['Age']>age_upper)]"
   ]
  },
  {
   "cell_type": "markdown",
   "id": "c402ed31",
   "metadata": {},
   "source": [
    "Age 변수에서 이상치가 포함된 행은 5개로 나타났다. 이상치가 포함된 데이터의 비율이 적으므로 전체 데이터 분석에 미치는 영향이 적다고 판단하여 삭제하기로 한다\n",
    "<br>이상치의 값이 모두 150으로 통일되어 있다는 점을 고려할 때, 결측치를 '150'으로 표현했을 가능성도 추론할 수 있다."
   ]
  },
  {
   "cell_type": "markdown",
   "id": "55078ddd",
   "metadata": {},
   "source": [
    "@@데이터를 변경해야 하는 경우(이상치 삭제, 결측치 처리 등등등) 꼭 copy 형식으로 데이터 보관하시길 추천드립니다 ㅠㅠㅠ 나중에 답안 수정할 때 진짜 힘들어요 "
   ]
  },
  {
   "cell_type": "code",
   "execution_count": 10,
   "id": "f9149b58",
   "metadata": {
    "tags": []
   },
   "outputs": [
    {
     "data": {
      "text/html": [
       "<div>\n",
       "<style scoped>\n",
       "    .dataframe tbody tr th:only-of-type {\n",
       "        vertical-align: middle;\n",
       "    }\n",
       "\n",
       "    .dataframe tbody tr th {\n",
       "        vertical-align: top;\n",
       "    }\n",
       "\n",
       "    .dataframe thead th {\n",
       "        text-align: right;\n",
       "    }\n",
       "</style>\n",
       "<table border=\"1\" class=\"dataframe\">\n",
       "  <thead>\n",
       "    <tr style=\"text-align: right;\">\n",
       "      <th></th>\n",
       "      <th>id</th>\n",
       "      <th>Gender</th>\n",
       "      <th>Age</th>\n",
       "      <th>Height</th>\n",
       "      <th>Weight</th>\n",
       "      <th>family_history_with_overweight</th>\n",
       "      <th>FAVC</th>\n",
       "      <th>FCVC</th>\n",
       "      <th>NCP</th>\n",
       "      <th>CAEC</th>\n",
       "      <th>SMOKE</th>\n",
       "      <th>CH2O</th>\n",
       "      <th>SCC</th>\n",
       "      <th>FAF</th>\n",
       "      <th>TUE</th>\n",
       "      <th>CALC</th>\n",
       "      <th>MTRANS</th>\n",
       "      <th>NObeyesdad</th>\n",
       "      <th>BMI</th>\n",
       "    </tr>\n",
       "  </thead>\n",
       "  <tbody>\n",
       "    <tr>\n",
       "      <th>0</th>\n",
       "      <td>4</td>\n",
       "      <td>male</td>\n",
       "      <td>27</td>\n",
       "      <td>1.80</td>\n",
       "      <td>87</td>\n",
       "      <td>no</td>\n",
       "      <td>no</td>\n",
       "      <td>always</td>\n",
       "      <td>3</td>\n",
       "      <td>sometimes</td>\n",
       "      <td>no</td>\n",
       "      <td>between 1 and 2 l</td>\n",
       "      <td>no</td>\n",
       "      <td>2 to 4</td>\n",
       "      <td>0 to 2</td>\n",
       "      <td>frequently</td>\n",
       "      <td>walking</td>\n",
       "      <td>overweight_level_i</td>\n",
       "      <td>26.851852</td>\n",
       "    </tr>\n",
       "    <tr>\n",
       "      <th>1</th>\n",
       "      <td>11</td>\n",
       "      <td>male</td>\n",
       "      <td>26</td>\n",
       "      <td>1.85</td>\n",
       "      <td>105</td>\n",
       "      <td>yes</td>\n",
       "      <td>yes</td>\n",
       "      <td>always</td>\n",
       "      <td>3</td>\n",
       "      <td>frequently</td>\n",
       "      <td>no</td>\n",
       "      <td>more than 2 l</td>\n",
       "      <td>no</td>\n",
       "      <td>2 to 4</td>\n",
       "      <td>&gt;5</td>\n",
       "      <td>sometimes</td>\n",
       "      <td>public_transportation</td>\n",
       "      <td>obesity_type_i</td>\n",
       "      <td>30.679328</td>\n",
       "    </tr>\n",
       "    <tr>\n",
       "      <th>2</th>\n",
       "      <td>14</td>\n",
       "      <td>male</td>\n",
       "      <td>41</td>\n",
       "      <td>1.80</td>\n",
       "      <td>99</td>\n",
       "      <td>no</td>\n",
       "      <td>yes</td>\n",
       "      <td>sometimes</td>\n",
       "      <td>3</td>\n",
       "      <td>sometimes</td>\n",
       "      <td>no</td>\n",
       "      <td>between 1 and 2 l</td>\n",
       "      <td>no</td>\n",
       "      <td>2 to 4</td>\n",
       "      <td>3 to 5</td>\n",
       "      <td>frequently</td>\n",
       "      <td>automobile</td>\n",
       "      <td>obesity_type_i</td>\n",
       "      <td>30.555556</td>\n",
       "    </tr>\n",
       "    <tr>\n",
       "      <th>3</th>\n",
       "      <td>18</td>\n",
       "      <td>female</td>\n",
       "      <td>29</td>\n",
       "      <td>1.53</td>\n",
       "      <td>78</td>\n",
       "      <td>no</td>\n",
       "      <td>yes</td>\n",
       "      <td>sometimes</td>\n",
       "      <td>1</td>\n",
       "      <td>sometimes</td>\n",
       "      <td>no</td>\n",
       "      <td>between 1 and 2 l</td>\n",
       "      <td>no</td>\n",
       "      <td>0</td>\n",
       "      <td>0 to 2</td>\n",
       "      <td>no</td>\n",
       "      <td>automobile</td>\n",
       "      <td>obesity_type_i</td>\n",
       "      <td>33.320518</td>\n",
       "    </tr>\n",
       "    <tr>\n",
       "      <th>4</th>\n",
       "      <td>20</td>\n",
       "      <td>female</td>\n",
       "      <td>23</td>\n",
       "      <td>1.65</td>\n",
       "      <td>70</td>\n",
       "      <td>yes</td>\n",
       "      <td>no</td>\n",
       "      <td>sometimes</td>\n",
       "      <td>1</td>\n",
       "      <td>sometimes</td>\n",
       "      <td>no</td>\n",
       "      <td>between 1 and 2 l</td>\n",
       "      <td>no</td>\n",
       "      <td>0</td>\n",
       "      <td>0 to 2</td>\n",
       "      <td>sometimes</td>\n",
       "      <td>public_transportation</td>\n",
       "      <td>overweight_level_i</td>\n",
       "      <td>25.711662</td>\n",
       "    </tr>\n",
       "  </tbody>\n",
       "</table>\n",
       "</div>"
      ],
      "text/plain": [
       "   id  Gender  Age  Height  Weight family_history_with_overweight FAVC  \\\n",
       "0   4    male   27    1.80      87                             no   no   \n",
       "1  11    male   26    1.85     105                            yes  yes   \n",
       "2  14    male   41    1.80      99                             no  yes   \n",
       "3  18  female   29    1.53      78                             no  yes   \n",
       "4  20  female   23    1.65      70                            yes   no   \n",
       "\n",
       "        FCVC  NCP        CAEC SMOKE               CH2O SCC     FAF     TUE  \\\n",
       "0     always    3   sometimes    no  between 1 and 2 l  no  2 to 4  0 to 2   \n",
       "1     always    3  frequently    no      more than 2 l  no  2 to 4      >5   \n",
       "2  sometimes    3   sometimes    no  between 1 and 2 l  no  2 to 4  3 to 5   \n",
       "3  sometimes    1   sometimes    no  between 1 and 2 l  no       0  0 to 2   \n",
       "4  sometimes    1   sometimes    no  between 1 and 2 l  no       0  0 to 2   \n",
       "\n",
       "         CALC                 MTRANS          NObeyesdad        BMI  \n",
       "0  frequently                walking  overweight_level_i  26.851852  \n",
       "1   sometimes  public_transportation      obesity_type_i  30.679328  \n",
       "2  frequently             automobile      obesity_type_i  30.555556  \n",
       "3          no             automobile      obesity_type_i  33.320518  \n",
       "4   sometimes  public_transportation  overweight_level_i  25.711662  "
      ]
     },
     "execution_count": 10,
     "metadata": {},
     "output_type": "execute_result"
    }
   ],
   "source": [
    "#Age 이상치 삭제\n",
    "\n",
    "age_abnormal_ind=medical_1.loc[(medical_1['Age']<age_lower)|(medical_1['Age']>age_upper)].index\n",
    "medical_2=medical_1.drop(index=age_abnormal_ind)\n",
    "medical_2.head()"
   ]
  },
  {
   "cell_type": "code",
   "execution_count": 61,
   "id": "ef6370f3",
   "metadata": {
    "tags": []
   },
   "outputs": [
    {
     "name": "stdout",
     "output_type": "stream",
     "text": [
      "male      636\n",
      "female    626\n",
      "Name: Gender, dtype: int64\n"
     ]
    },
    {
     "data": {
      "image/png": "[encoded data removed]",
      "text/plain": [
       "<Figure size 640x480 with 1 Axes>"
      ]
     },
     "metadata": {},
     "output_type": "display_data"
    },
    {
     "name": "stdout",
     "output_type": "stream",
     "text": [
      "\n",
      "\n",
      "yes    1173\n",
      "no       89\n",
      "Name: family_history_with_overweight, dtype: int64\n"
     ]
    },
    {
     "data": {
      "image/png": "[encoded data removed]",
      "text/plain": [
       "<Figure size 640x480 with 1 Axes>"
      ]
     },
     "metadata": {},
     "output_type": "display_data"
    },
    {
     "name": "stdout",
     "output_type": "stream",
     "text": [
      "\n",
      "\n",
      "yes    1221\n",
      "no       41\n",
      "Name: FAVC, dtype: int64\n"
     ]
    },
    {
     "data": {
      "image/png": "[encoded data removed]",
      "text/plain": [
       "<Figure size 640x480 with 1 Axes>"
      ]
     },
     "metadata": {},
     "output_type": "display_data"
    },
    {
     "name": "stdout",
     "output_type": "stream",
     "text": [
      "\n",
      "\n",
      "always       630\n",
      "sometimes    580\n",
      "never         52\n",
      "Name: FCVC, dtype: int64\n"
     ]
    },
    {
     "data": {
      "image/png": "[encoded data removed]",
      "text/plain": [
       "<Figure size 640x480 with 1 Axes>"
      ]
     },
     "metadata": {},
     "output_type": "display_data"
    },
    {
     "name": "stdout",
     "output_type": "stream",
     "text": [
      "\n",
      "\n",
      "sometimes     1190\n",
      "no              37\n",
      "frequently      22\n",
      "always          13\n",
      "Name: CAEC, dtype: int64\n"
     ]
    },
    {
     "data": {
      "image/png": "[encoded data removed]",
      "text/plain": [
       "<Figure size 640x480 with 1 Axes>"
      ]
     },
     "metadata": {},
     "output_type": "display_data"
    },
    {
     "name": "stdout",
     "output_type": "stream",
     "text": [
      "\n",
      "\n",
      "no     1237\n",
      "yes      25\n",
      "Name: SMOKE, dtype: int64\n"
     ]
    },
    {
     "data": {
      "image/png": "[encoded data removed]",
      "text/plain": [
       "<Figure size 640x480 with 1 Axes>"
      ]
     },
     "metadata": {},
     "output_type": "display_data"
    },
    {
     "name": "stdout",
     "output_type": "stream",
     "text": [
      "\n",
      "\n",
      "between 1 and 2 l    618\n",
      "more than 2 l        373\n",
      "less than a liter    271\n",
      "Name: CH2O, dtype: int64\n"
     ]
    },
    {
     "data": {
      "image/png": "[encoded data removed]",
      "text/plain": [
       "<Figure size 640x480 with 1 Axes>"
      ]
     },
     "metadata": {},
     "output_type": "display_data"
    },
    {
     "name": "stdout",
     "output_type": "stream",
     "text": [
      "\n",
      "\n",
      "no     1219\n",
      "yes      40\n",
      "Name: SCC, dtype: int64\n"
     ]
    },
    {
     "data": {
      "image/png": "[encoded data removed]",
      "text/plain": [
       "<Figure size 640x480 with 1 Axes>"
      ]
     },
     "metadata": {},
     "output_type": "display_data"
    },
    {
     "name": "stdout",
     "output_type": "stream",
     "text": [
      "\n",
      "\n",
      "1 to 2    482\n",
      "0         471\n",
      "2 to 4    260\n",
      "4 to 5     49\n",
      "Name: FAF, dtype: int64\n"
     ]
    },
    {
     "data": {
      "image/png": "[encoded data removed]",
      "text/plain": [
       "<Figure size 640x480 with 1 Axes>"
      ]
     },
     "metadata": {},
     "output_type": "display_data"
    },
    {
     "name": "stdout",
     "output_type": "stream",
     "text": [
      "\n",
      "\n",
      "0 to 2    615\n",
      "3 to 5    521\n",
      ">5        126\n",
      "Name: TUE, dtype: int64\n"
     ]
    },
    {
     "data": {
      "image/png": "[encoded data removed]",
      "text/plain": [
       "<Figure size 640x480 with 1 Axes>"
      ]
     },
     "metadata": {},
     "output_type": "display_data"
    },
    {
     "name": "stdout",
     "output_type": "stream",
     "text": [
      "\n",
      "\n",
      "sometimes     943\n",
      "no            287\n",
      "frequently     32\n",
      "Name: CALC, dtype: int64\n"
     ]
    },
    {
     "data": {
      "image/png": "[encoded data removed]",
      "text/plain": [
       "<Figure size 640x480 with 1 Axes>"
      ]
     },
     "metadata": {},
     "output_type": "display_data"
    },
    {
     "name": "stdout",
     "output_type": "stream",
     "text": [
      "\n",
      "\n",
      "public_transportation    971\n",
      "automobile               272\n",
      "walking                   12\n",
      "motorbike                  4\n",
      "bike                       3\n",
      "Name: MTRANS, dtype: int64\n"
     ]
    },
    {
     "data": {
      "image/png": "[encoded data removed]",
      "text/plain": [
       "<Figure size 640x480 with 1 Axes>"
      ]
     },
     "metadata": {},
     "output_type": "display_data"
    },
    {
     "name": "stdout",
     "output_type": "stream",
     "text": [
      "\n",
      "\n",
      "obesity_type_i        351\n",
      "obesity_type_iii      324\n",
      "obesity_type_ii       297\n",
      "overweight_level_i    290\n",
      "Name: NObeyesdad, dtype: int64\n"
     ]
    },
    {
     "data": {
      "image/png": "[encoded data removed]",
      "text/plain": [
       "<Figure size 640x480 with 1 Axes>"
      ]
     },
     "metadata": {},
     "output_type": "display_data"
    },
    {
     "name": "stdout",
     "output_type": "stream",
     "text": [
      "\n",
      "\n"
     ]
    }
   ],
   "source": [
    "#명목형 변수 EDA\n",
    "for col in col_obj:\n",
    "    print(medical[col].value_counts())\n",
    "    sns.countplot(x=medical[col])\n",
    "    plt.title(f'Countplot of {col}')\n",
    "    plt.show()\n",
    "    print('\\n');"
   ]
  },
  {
   "cell_type": "markdown",
   "id": "c0634901",
   "metadata": {},
   "source": [
    "명목형 변수는 데이터 간 불균형은 있으나 이상치나 결측치는 없음을 확인하였다."
   ]
  },
  {
   "cell_type": "markdown",
   "id": "d17e3600",
   "metadata": {},
   "source": [
    "## 1-2 데이터 전처리 기법 2가지를 설명하고 주어진 데이터에 적용시 어떤 효과가 있는지 설명하라"
   ]
  },
  {
   "cell_type": "markdown",
   "id": "8b5a41d1",
   "metadata": {},
   "source": [
    "첫 번째는 레이블 인코딩이다. 범주형 변수 중 family_history_with_overweight, FAVC, NCP, CAEC, SMOKE, FAF, CALC, FCVC, CH2O, SCC, TUE은\n",
    "<br>레이블 인코딩으로 변환하였을 때 값의 크기와 obesity가 상관관계가 있을 것으로 보이는 변수들이다.\n",
    "<br>따라서 레이블 인코딩을 수행한 데이터를 모델 훈련에 사용한다면 모델의 성능이 향상될 수 있을 것으로 보인다."
   ]
  },
  {
   "cell_type": "code",
   "execution_count": 21,
   "id": "d0c4df00",
   "metadata": {
    "tags": []
   },
   "outputs": [
    {
     "data": {
      "text/html": [
       "<div>\n",
       "<style scoped>\n",
       "    .dataframe tbody tr th:only-of-type {\n",
       "        vertical-align: middle;\n",
       "    }\n",
       "\n",
       "    .dataframe tbody tr th {\n",
       "        vertical-align: top;\n",
       "    }\n",
       "\n",
       "    .dataframe thead th {\n",
       "        text-align: right;\n",
       "    }\n",
       "</style>\n",
       "<table border=\"1\" class=\"dataframe\">\n",
       "  <thead>\n",
       "    <tr style=\"text-align: right;\">\n",
       "      <th></th>\n",
       "      <th>id</th>\n",
       "      <th>Gender</th>\n",
       "      <th>Age</th>\n",
       "      <th>Height</th>\n",
       "      <th>Weight</th>\n",
       "      <th>family_history_with_overweight</th>\n",
       "      <th>FAVC</th>\n",
       "      <th>FCVC</th>\n",
       "      <th>NCP</th>\n",
       "      <th>CAEC</th>\n",
       "      <th>SMOKE</th>\n",
       "      <th>CH2O</th>\n",
       "      <th>SCC</th>\n",
       "      <th>FAF</th>\n",
       "      <th>TUE</th>\n",
       "      <th>CALC</th>\n",
       "      <th>MTRANS</th>\n",
       "      <th>NObeyesdad</th>\n",
       "      <th>BMI</th>\n",
       "    </tr>\n",
       "  </thead>\n",
       "  <tbody>\n",
       "    <tr>\n",
       "      <th>0</th>\n",
       "      <td>4</td>\n",
       "      <td>male</td>\n",
       "      <td>27</td>\n",
       "      <td>1.80</td>\n",
       "      <td>87</td>\n",
       "      <td>0</td>\n",
       "      <td>0</td>\n",
       "      <td>0</td>\n",
       "      <td>2</td>\n",
       "      <td>3</td>\n",
       "      <td>0</td>\n",
       "      <td>0</td>\n",
       "      <td>0</td>\n",
       "      <td>2</td>\n",
       "      <td>0</td>\n",
       "      <td>0</td>\n",
       "      <td>walking</td>\n",
       "      <td>overweight_level_i</td>\n",
       "      <td>26.851852</td>\n",
       "    </tr>\n",
       "    <tr>\n",
       "      <th>1</th>\n",
       "      <td>11</td>\n",
       "      <td>male</td>\n",
       "      <td>26</td>\n",
       "      <td>1.85</td>\n",
       "      <td>105</td>\n",
       "      <td>1</td>\n",
       "      <td>1</td>\n",
       "      <td>0</td>\n",
       "      <td>2</td>\n",
       "      <td>1</td>\n",
       "      <td>0</td>\n",
       "      <td>2</td>\n",
       "      <td>0</td>\n",
       "      <td>2</td>\n",
       "      <td>2</td>\n",
       "      <td>2</td>\n",
       "      <td>public_transportation</td>\n",
       "      <td>obesity_type_i</td>\n",
       "      <td>30.679328</td>\n",
       "    </tr>\n",
       "    <tr>\n",
       "      <th>2</th>\n",
       "      <td>14</td>\n",
       "      <td>male</td>\n",
       "      <td>41</td>\n",
       "      <td>1.80</td>\n",
       "      <td>99</td>\n",
       "      <td>0</td>\n",
       "      <td>1</td>\n",
       "      <td>2</td>\n",
       "      <td>2</td>\n",
       "      <td>3</td>\n",
       "      <td>0</td>\n",
       "      <td>0</td>\n",
       "      <td>0</td>\n",
       "      <td>2</td>\n",
       "      <td>1</td>\n",
       "      <td>0</td>\n",
       "      <td>automobile</td>\n",
       "      <td>obesity_type_i</td>\n",
       "      <td>30.555556</td>\n",
       "    </tr>\n",
       "    <tr>\n",
       "      <th>3</th>\n",
       "      <td>18</td>\n",
       "      <td>female</td>\n",
       "      <td>29</td>\n",
       "      <td>1.53</td>\n",
       "      <td>78</td>\n",
       "      <td>0</td>\n",
       "      <td>1</td>\n",
       "      <td>2</td>\n",
       "      <td>0</td>\n",
       "      <td>3</td>\n",
       "      <td>0</td>\n",
       "      <td>0</td>\n",
       "      <td>0</td>\n",
       "      <td>0</td>\n",
       "      <td>0</td>\n",
       "      <td>1</td>\n",
       "      <td>automobile</td>\n",
       "      <td>obesity_type_i</td>\n",
       "      <td>33.320518</td>\n",
       "    </tr>\n",
       "    <tr>\n",
       "      <th>4</th>\n",
       "      <td>20</td>\n",
       "      <td>female</td>\n",
       "      <td>23</td>\n",
       "      <td>1.65</td>\n",
       "      <td>70</td>\n",
       "      <td>1</td>\n",
       "      <td>0</td>\n",
       "      <td>2</td>\n",
       "      <td>0</td>\n",
       "      <td>3</td>\n",
       "      <td>0</td>\n",
       "      <td>0</td>\n",
       "      <td>0</td>\n",
       "      <td>0</td>\n",
       "      <td>0</td>\n",
       "      <td>2</td>\n",
       "      <td>public_transportation</td>\n",
       "      <td>overweight_level_i</td>\n",
       "      <td>25.711662</td>\n",
       "    </tr>\n",
       "  </tbody>\n",
       "</table>\n",
       "</div>"
      ],
      "text/plain": [
       "   id  Gender  Age  Height  Weight  family_history_with_overweight  FAVC  \\\n",
       "0   4    male   27    1.80      87                               0     0   \n",
       "1  11    male   26    1.85     105                               1     1   \n",
       "2  14    male   41    1.80      99                               0     1   \n",
       "3  18  female   29    1.53      78                               0     1   \n",
       "4  20  female   23    1.65      70                               1     0   \n",
       "\n",
       "   FCVC  NCP  CAEC  SMOKE  CH2O  SCC  FAF  TUE  CALC                 MTRANS  \\\n",
       "0     0    2     3      0     0    0    2    0     0                walking   \n",
       "1     0    2     1      0     2    0    2    2     2  public_transportation   \n",
       "2     2    2     3      0     0    0    2    1     0             automobile   \n",
       "3     2    0     3      0     0    0    0    0     1             automobile   \n",
       "4     2    0     3      0     0    0    0    0     2  public_transportation   \n",
       "\n",
       "           NObeyesdad        BMI  \n",
       "0  overweight_level_i  26.851852  \n",
       "1      obesity_type_i  30.679328  \n",
       "2      obesity_type_i  30.555556  \n",
       "3      obesity_type_i  33.320518  \n",
       "4  overweight_level_i  25.711662  "
      ]
     },
     "execution_count": 21,
     "metadata": {},
     "output_type": "execute_result"
    }
   ],
   "source": [
    "columns=['family_history_with_overweight', 'FAVC', 'NCP', 'CAEC', 'SMOKE', 'FAF', 'CALC', 'FCVC', 'CH2O', 'SCC', 'TUE']\n",
    "from sklearn.preprocessing import LabelEncoder\n",
    "encoder=LabelEncoder()\n",
    "medical_3=medical_2.copy()\n",
    "\n",
    "for col in columns:\n",
    "    medical_3[col]=encoder.fit_transform(medical_2[col])\n",
    "\n",
    "medical_3.head()"
   ]
  },
  {
   "cell_type": "markdown",
   "id": "993dea89",
   "metadata": {},
   "source": [
    "두 번째는 범주화이다. BMI 데이터를 EDA로 확인하였을 때 정규분포를 따르지 않았던 것을 확인할 수 있다.\n",
    "<br>BMI를 구간별로 나누어 데이터를 전처리한다면 모델의 성능을 더 향상시킬 수 있을 것으로 보인다."
   ]
  },
  {
   "cell_type": "markdown",
   "id": "3a2ea9cb",
   "metadata": {},
   "source": [
    "@@이 부분은 제가 답안을 쓴지 오래돼서 뭐라고 썼었는지 정확하게 기억이 안나는데 'BMI를 등급으로 나눈다'는 느낌이었습니다"
   ]
  },
  {
   "cell_type": "code",
   "execution_count": 57,
   "id": "b6def39e",
   "metadata": {
    "tags": []
   },
   "outputs": [
    {
     "data": {
      "text/plain": [
       "0    291\n",
       "1    696\n",
       "2    267\n",
       "Name: BMI, dtype: int64"
      ]
     },
     "execution_count": 57,
     "metadata": {},
     "output_type": "execute_result"
    }
   ],
   "source": [
    "medical_4=medical_3.copy()\n",
    "\n",
    "medical_4['BMI']=np.where(medical_4['BMI']<30, 0, np.where(medical_4['BMI']<40, 1, 2))\n",
    "medical_4['BMI'].value_counts().sort_index()"
   ]
  },
  {
   "cell_type": "markdown",
   "id": "ef8b1614",
   "metadata": {
    "tags": []
   },
   "source": [
    "## 1-3 피쳐 엔지니어링을 통해 파생변수 1개를 생성하고 그 이유를 말하라"
   ]
  },
  {
   "cell_type": "markdown",
   "id": "d5caaa87",
   "metadata": {},
   "source": [
    "본 답안에서 대상자의 physical activity level을 고려할 수 있는 파생변수를 생성하고자 한다.\n",
    "<br>PAL(phyical activity level)은 값이 클수록 신체활동 수준이 높음을 나타낸다.\n",
    "<br>MTRANS는 automobile 0, motorbike 1, public_transportation 2, bike 3, walking 4으로 레이블 인코딩을 수행한 후 \n",
    "<br>PAL=FAF-TUE+MTRANS로 계산하여 변수를 생성한다."
   ]
  },
  {
   "cell_type": "markdown",
   "id": "e313f09e",
   "metadata": {},
   "source": [
    "@@의료계열 쪽 석사를 했어서 신체활동을 측정하는 도구를 만드는데 조금 더 익숙해서 수월하게 풀었던거 같아요\n",
    "<br>물론 저렇게 만드는게 아무런 근거는 없지만 근거가 있어보이도록 답안을 작성하는 건 점수 향상에 도움이 되었던 것 같습니다!"
   ]
  },
  {
   "cell_type": "code",
   "execution_count": 66,
   "id": "967fc404",
   "metadata": {
    "tags": []
   },
   "outputs": [],
   "source": [
    "medical_5=medical_4.copy()\n",
    "medical_5['MTRANS']=medical_5['MTRANS'].map({'automobile' : 0, 'motorbike' : 1, 'public_transportation' : 2, 'bike' : 3, 'walking' : 4})\n",
    "medical_5['PAL']=medical_5['FAF']-medical_5['TUE']+medical_5['MTRANS']"
   ]
  },
  {
   "cell_type": "code",
   "execution_count": 69,
   "id": "f620698d",
   "metadata": {
    "scrolled": true,
    "tags": []
   },
   "outputs": [
    {
     "data": {
      "text/plain": [
       "-2      6\n",
       "-1     45\n",
       " 0    139\n",
       " 1    248\n",
       " 2    404\n",
       " 3    305\n",
       " 4     90\n",
       " 5      9\n",
       " 6      6\n",
       " 7      2\n",
       "Name: PAL, dtype: int64"
      ]
     },
     "execution_count": 69,
     "metadata": {},
     "output_type": "execute_result"
    }
   ],
   "source": [
    "medical_5['PAL'].value_counts().sort_index()"
   ]
  },
  {
   "cell_type": "markdown",
   "id": "10ce9db3",
   "metadata": {},
   "source": [
    "모델 훈련에 직접 사용할 수 있도록 추가 전처리를 수행한다.\n",
    "<br>식별자인 id 컬럼은 삭제하고 Gender는 원-핫인코딩을 수행한다. 또한 종속변수인 NObeyesdad는 라벨링 인코딩을 수행한다."
   ]
  },
  {
   "cell_type": "code",
   "execution_count": 73,
   "id": "7b767277",
   "metadata": {
    "tags": []
   },
   "outputs": [],
   "source": [
    "medical_5=medical_5.drop(columns='id')\n",
    "medical_5['Gender']=medical_5['Gender'].map({'male' : 0, 'female' : 1})\n",
    "medical_5['NObeyesdad']=medical_5['NObeyesdad'].map({'overweight_level_i' : 0, 'obesity_type_i' : 1, 'obesity_type_ii' : 2,\n",
    "                                                     'obesity_type_iii' : 3})"
   ]
  },
  {
   "cell_type": "markdown",
   "id": "1a4bc1f1",
   "metadata": {},
   "source": [
    "## 2-1 앙상블을 제외한 분류 모델 3가지 구축 및 결과 비교 및 설명하라"
   ]
  },
  {
   "cell_type": "markdown",
   "id": "6f0d38c0",
   "metadata": {},
   "source": [
    "본 답안에서 로지스틱 회귀모델, KNN, 나이브 베이즈를 사용한다.\n",
    "<br>다중 분류이므로 평가 기준은 macro F1 score로 평가하며 KFold를 사용한다. "
   ]
  },
  {
   "cell_type": "code",
   "execution_count": 74,
   "id": "0daeb440",
   "metadata": {
    "tags": []
   },
   "outputs": [],
   "source": [
    "from sklearn.linear_model import LogisticRegression\n",
    "from sklearn.neighbors import KNeighborsClassifier\n",
    "from sklearn.naive_bayes import GaussianNB\n",
    "from sklearn.model_selection import cross_val_score"
   ]
  },
  {
   "cell_type": "code",
   "execution_count": 75,
   "id": "a61e107d",
   "metadata": {
    "tags": []
   },
   "outputs": [],
   "source": [
    "X=medical_5.drop(columns='NObeyesdad')\n",
    "y=medical_5['NObeyesdad']"
   ]
  },
  {
   "cell_type": "code",
   "execution_count": 79,
   "id": "52ce9855",
   "metadata": {
    "tags": []
   },
   "outputs": [
    {
     "name": "stdout",
     "output_type": "stream",
     "text": [
      "LogisticRegression()의 F1 score는 0.9049114669520802\n",
      "KNeighborsClassifier()의 F1 score는 0.974089593839944\n",
      "GaussianNB()의 F1 score는 0.8350252787894391\n"
     ]
    }
   ],
   "source": [
    "lr=LogisticRegression()\n",
    "knn=KNeighborsClassifier()\n",
    "nb=GaussianNB()\n",
    "models=[lr, knn, nb]\n",
    "\n",
    "for model in models:\n",
    "    scores=cross_val_score(model, X, y, scoring='f1_macro', cv=5)\n",
    "    print(f'{model}의 F1 score는 {np.mean(scores)}')"
   ]
  },
  {
   "cell_type": "markdown",
   "id": "abe064a8",
   "metadata": {},
   "source": [
    "macro F1 score를 기준으로 KNN의 점수가 0.97로 로지스틱 회귀모델, 나이브 베이즈보다 성능이 우수한 것을 알 수 있었다."
   ]
  },
  {
   "cell_type": "markdown",
   "id": "3d1c169e",
   "metadata": {},
   "source": [
    "## 2-2 2-1에서 사용한 모델 중 하나를 골라 그리드 서치를 통해서 파라미터 튜닝 및 분류 모델 성능 평가 (precision ,recall)"
   ]
  },
  {
   "cell_type": "markdown",
   "id": "06545f6f",
   "metadata": {},
   "source": [
    "@@흠.. 제 기억으로는 2-1에서 사용한 평가지표를 사용했던거로 기억해서 f1 macro로 수행했습니다..!"
   ]
  },
  {
   "cell_type": "markdown",
   "id": "c9d54ec8",
   "metadata": {},
   "source": [
    "로지스틱 회귀모델에 그리드 서치를 적용하여 파라미터를 튜닝한다"
   ]
  },
  {
   "cell_type": "code",
   "execution_count": 112,
   "id": "ec0043de",
   "metadata": {
    "tags": []
   },
   "outputs": [
    {
     "data": {
      "text/html": [
       "<style>#sk-container-id-7 {color: black;background-color: white;}#sk-container-id-7 pre{padding: 0;}#sk-container-id-7 div.sk-toggleable {background-color: white;}#sk-container-id-7 label.sk-toggleable__label {cursor: pointer;display: block;width: 100%;margin-bottom: 0;padding: 0.3em;box-sizing: border-box;text-align: center;}#sk-container-id-7 label.sk-toggleable__label-arrow:before {content: \"▸\";float: left;margin-right: 0.25em;color: #696969;}#sk-container-id-7 label.sk-toggleable__label-arrow:hover:before {color: black;}#sk-container-id-7 div.sk-estimator:hover label.sk-toggleable__label-arrow:before {color: black;}#sk-container-id-7 div.sk-toggleable__content {max-height: 0;max-width: 0;overflow: hidden;text-align: left;background-color: #f0f8ff;}#sk-container-id-7 div.sk-toggleable__content pre {margin: 0.2em;color: black;border-radius: 0.25em;background-color: #f0f8ff;}#sk-container-id-7 input.sk-toggleable__control:checked~div.sk-toggleable__content {max-height: 200px;max-width: 100%;overflow: auto;}#sk-container-id-7 input.sk-toggleable__control:checked~label.sk-toggleable__label-arrow:before {content: \"▾\";}#sk-container-id-7 div.sk-estimator input.sk-toggleable__control:checked~label.sk-toggleable__label {background-color: #d4ebff;}#sk-container-id-7 div.sk-label input.sk-toggleable__control:checked~label.sk-toggleable__label {background-color: #d4ebff;}#sk-container-id-7 input.sk-hidden--visually {border: 0;clip: rect(1px 1px 1px 1px);clip: rect(1px, 1px, 1px, 1px);height: 1px;margin: -1px;overflow: hidden;padding: 0;position: absolute;width: 1px;}#sk-container-id-7 div.sk-estimator {font-family: monospace;background-color: #f0f8ff;border: 1px dotted black;border-radius: 0.25em;box-sizing: border-box;margin-bottom: 0.5em;}#sk-container-id-7 div.sk-estimator:hover {background-color: #d4ebff;}#sk-container-id-7 div.sk-parallel-item::after {content: \"\";width: 100%;border-bottom: 1px solid gray;flex-grow: 1;}#sk-container-id-7 div.sk-label:hover label.sk-toggleable__label {background-color: #d4ebff;}#sk-container-id-7 div.sk-serial::before {content: \"\";position: absolute;border-left: 1px solid gray;box-sizing: border-box;top: 0;bottom: 0;left: 50%;z-index: 0;}#sk-container-id-7 div.sk-serial {display: flex;flex-direction: column;align-items: center;background-color: white;padding-right: 0.2em;padding-left: 0.2em;position: relative;}#sk-container-id-7 div.sk-item {position: relative;z-index: 1;}#sk-container-id-7 div.sk-parallel {display: flex;align-items: stretch;justify-content: center;background-color: white;position: relative;}#sk-container-id-7 div.sk-item::before, #sk-container-id-7 div.sk-parallel-item::before {content: \"\";position: absolute;border-left: 1px solid gray;box-sizing: border-box;top: 0;bottom: 0;left: 50%;z-index: -1;}#sk-container-id-7 div.sk-parallel-item {display: flex;flex-direction: column;z-index: 1;position: relative;background-color: white;}#sk-container-id-7 div.sk-parallel-item:first-child::after {align-self: flex-end;width: 50%;}#sk-container-id-7 div.sk-parallel-item:last-child::after {align-self: flex-start;width: 50%;}#sk-container-id-7 div.sk-parallel-item:only-child::after {width: 0;}#sk-container-id-7 div.sk-dashed-wrapped {border: 1px dashed gray;margin: 0 0.4em 0.5em 0.4em;box-sizing: border-box;padding-bottom: 0.4em;background-color: white;}#sk-container-id-7 div.sk-label label {font-family: monospace;font-weight: bold;display: inline-block;line-height: 1.2em;}#sk-container-id-7 div.sk-label-container {text-align: center;}#sk-container-id-7 div.sk-container {/* jupyter's `normalize.less` sets `[hidden] { display: none; }` but bootstrap.min.css set `[hidden] { display: none !important; }` so we also need the `!important` here to be able to override the default hidden behavior on the sphinx rendered scikit-learn.org. See: https://github.com/scikit-learn/scikit-learn/issues/21755 */display: inline-block !important;position: relative;}#sk-container-id-7 div.sk-text-repr-fallback {display: none;}</style><div id=\"sk-container-id-7\" class=\"sk-top-container\"><div class=\"sk-text-repr-fallback\"><pre>GridSearchCV(cv=5, estimator=LogisticRegression(),\n",
       "             param_grid={&#x27;C&#x27;: [0.001, 0.01, 0.1, 1, 10, 100]},\n",
       "             scoring=&#x27;f1_macro&#x27;)</pre><b>In a Jupyter environment, please rerun this cell to show the HTML representation or trust the notebook. <br />On GitHub, the HTML representation is unable to render, please try loading this page with nbviewer.org.</b></div><div class=\"sk-container\" hidden><div class=\"sk-item sk-dashed-wrapped\"><div class=\"sk-label-container\"><div class=\"sk-label sk-toggleable\"><input class=\"sk-toggleable__control sk-hidden--visually\" id=\"sk-estimator-id-15\" type=\"checkbox\" ><label for=\"sk-estimator-id-15\" class=\"sk-toggleable__label sk-toggleable__label-arrow\">GridSearchCV</label><div class=\"sk-toggleable__content\"><pre>GridSearchCV(cv=5, estimator=LogisticRegression(),\n",
       "             param_grid={&#x27;C&#x27;: [0.001, 0.01, 0.1, 1, 10, 100]},\n",
       "             scoring=&#x27;f1_macro&#x27;)</pre></div></div></div><div class=\"sk-parallel\"><div class=\"sk-parallel-item\"><div class=\"sk-item\"><div class=\"sk-label-container\"><div class=\"sk-label sk-toggleable\"><input class=\"sk-toggleable__control sk-hidden--visually\" id=\"sk-estimator-id-16\" type=\"checkbox\" ><label for=\"sk-estimator-id-16\" class=\"sk-toggleable__label sk-toggleable__label-arrow\">estimator: LogisticRegression</label><div class=\"sk-toggleable__content\"><pre>LogisticRegression()</pre></div></div></div><div class=\"sk-serial\"><div class=\"sk-item\"><div class=\"sk-estimator sk-toggleable\"><input class=\"sk-toggleable__control sk-hidden--visually\" id=\"sk-estimator-id-17\" type=\"checkbox\" ><label for=\"sk-estimator-id-17\" class=\"sk-toggleable__label sk-toggleable__label-arrow\">LogisticRegression</label><div class=\"sk-toggleable__content\"><pre>LogisticRegression()</pre></div></div></div></div></div></div></div></div></div></div>"
      ],
      "text/plain": [
       "GridSearchCV(cv=5, estimator=LogisticRegression(),\n",
       "             param_grid={'C': [0.001, 0.01, 0.1, 1, 10, 100]},\n",
       "             scoring='f1_macro')"
      ]
     },
     "execution_count": 112,
     "metadata": {},
     "output_type": "execute_result"
    }
   ],
   "source": [
    "from sklearn.model_selection import GridSearchCV\n",
    "param_grid={'C' : [0.001, 0.01, 0.1, 1, 10, 100]}\n",
    "grid_search=GridSearchCV(lr, param_grid, cv=5, scoring='f1_macro')\n",
    "\n",
    "grid_search.fit(X,y)"
   ]
  },
  {
   "cell_type": "code",
   "execution_count": 113,
   "id": "3ffb03b2",
   "metadata": {
    "tags": []
   },
   "outputs": [
    {
     "name": "stdout",
     "output_type": "stream",
     "text": [
      "{'C': 0.1}\n",
      "0.9087782780446411\n"
     ]
    }
   ],
   "source": [
    "print(grid_search.best_params_)\n",
    "print(grid_search.best_score_)"
   ]
  },
  {
   "cell_type": "markdown",
   "id": "a4af6095",
   "metadata": {},
   "source": [
    "그리드서치 튜닝 결과 C=0.1일 때 F1 score 0.9로 가장 성능이 뛰어났음을 알 수 있다."
   ]
  },
  {
   "cell_type": "markdown",
   "id": "1e55af48",
   "metadata": {},
   "source": [
    "## 2-3 2-1의 3가지 모델을 soft voting을 이용하여 모델링 한 결과와 2-2과 비교하라"
   ]
  },
  {
   "cell_type": "code",
   "execution_count": 115,
   "id": "577d30b3",
   "metadata": {
    "tags": []
   },
   "outputs": [
    {
     "name": "stdout",
     "output_type": "stream",
     "text": [
      "soft voting 모델의 F1 score는  0.9561012506825971\n"
     ]
    }
   ],
   "source": [
    "from sklearn.ensemble import VotingClassifier\n",
    "vote=VotingClassifier(estimators=[('lr' , lr), ('knn' , knn), ('nb' , nb)], voting='soft')\n",
    "\n",
    "#2-1과 같은 방식으로 모델링 수행\n",
    "scores_vote=cross_val_score(vote, X, y, scoring='f1_macro', cv=5)\n",
    "print('soft voting 모델의 F1 score는 ', np.mean(scores_vote))"
   ]
  },
  {
   "cell_type": "markdown",
   "id": "1ea8c624",
   "metadata": {},
   "source": [
    "soft voting 모델의 F1 score는 약 0.96으로 2-2에서 파라미터를 수행한 로지스틱 회귀모델의 F1 score 0.9보다 더 높은 것을 알 수 있다."
   ]
  },
  {
   "cell_type": "markdown",
   "id": "97345b27",
   "metadata": {},
   "source": [
    "## 3-2 하나의 모델을 선정하여 Drop Column Importance 방식으로 각 변수 별로 전체 컬럼을 포함한 모델과의 recall 값의 차이를 계산하고 시각화 하라"
   ]
  },
  {
   "cell_type": "markdown",
   "id": "2ac8c921",
   "metadata": {},
   "source": [
    "@@저는 시험장에서 Drop Columns Importance라는걸 처음 들었어요.. 그래서 그냥 permutation importance로 답안 작성해서 제출했는데 아마 이 부분은 다 감점을 받았을 거 같아요"
   ]
  },
  {
   "cell_type": "markdown",
   "id": "f2365080",
   "metadata": {},
   "source": [
    "## 데이터 설명\n",
    "- 데이터 출처 : 자체제작\n",
    "- 데이터 링크 : https://raw.githubusercontent.com/Datamanim/datarepo/main/adp/31/adp_31_2_v2.csv\n",
    "- 데이터 설명 : 중고등학생 건강검진 데이터"
   ]
  },
  {
   "cell_type": "markdown",
   "id": "75d2b276",
   "metadata": {},
   "source": [
    "## 4-1 아래의 기준으로 전처리를 하여 적정 체중 여부 컬럼을 생성하고 BMI를 5단위로 구분하여 와 적정 체중여부에 대한 빈도 표를 만들어라\n",
    " \n",
    "> bmi 계산\n",
    "    - Bmi = 몸무게(kg)/(키(m)**2)   \n",
    "\n",
    "> 만나이 구하기\n",
    "    - 건강검진을 받았던 날을 기준으로 생년월일과 일수 차이가 16년 364일 이하인 경우 만 16세 그 이상의 경우 만 17로 분류하라\n",
    "    - 윤년 등은 고려하지 않는다. 햇수로 16년 + 일수로 364일이 기준이다\n",
    "\n",
    "\n",
    "> 적정 체중 여부 (BMI가 아래 구간에 들어올 경우)     \n",
    "    17세 남자 : 21.03이상 23.21 미만   \n",
    "    17세 여자 : 20.03이상 22.39 미만    \n",
    "    16세 남자 : 21.18이상 23.45 미만   \n",
    "    16세 여자 : 19.61이상 21.74 미만       "
   ]
  },
  {
   "cell_type": "code",
   "execution_count": 142,
   "id": "9be137bf",
   "metadata": {
    "tags": []
   },
   "outputs": [
    {
     "data": {
      "text/html": [
       "<div>\n",
       "<style scoped>\n",
       "    .dataframe tbody tr th:only-of-type {\n",
       "        vertical-align: middle;\n",
       "    }\n",
       "\n",
       "    .dataframe tbody tr th {\n",
       "        vertical-align: top;\n",
       "    }\n",
       "\n",
       "    .dataframe thead th {\n",
       "        text-align: right;\n",
       "    }\n",
       "</style>\n",
       "<table border=\"1\" class=\"dataframe\">\n",
       "  <thead>\n",
       "    <tr style=\"text-align: right;\">\n",
       "      <th></th>\n",
       "      <th>ID</th>\n",
       "      <th>키</th>\n",
       "      <th>weight</th>\n",
       "      <th>생년월일</th>\n",
       "      <th>건강검진일</th>\n",
       "      <th>공학여부</th>\n",
       "      <th>채소섭취정도</th>\n",
       "      <th>아침식사여부</th>\n",
       "      <th>일주일운동시간</th>\n",
       "      <th>수면시간</th>\n",
       "      <th>성별</th>\n",
       "    </tr>\n",
       "  </thead>\n",
       "  <tbody>\n",
       "    <tr>\n",
       "      <th>0</th>\n",
       "      <td>ID_4135</td>\n",
       "      <td>169.01</td>\n",
       "      <td>65.47</td>\n",
       "      <td>20041003</td>\n",
       "      <td>2020_11_15</td>\n",
       "      <td>1</td>\n",
       "      <td>2</td>\n",
       "      <td>1</td>\n",
       "      <td>4.4</td>\n",
       "      <td>8.3</td>\n",
       "      <td>남성</td>\n",
       "    </tr>\n",
       "    <tr>\n",
       "      <th>1</th>\n",
       "      <td>ID_3289</td>\n",
       "      <td>181.62</td>\n",
       "      <td>69.36</td>\n",
       "      <td>19970725</td>\n",
       "      <td>2014_11_20</td>\n",
       "      <td>0</td>\n",
       "      <td>3</td>\n",
       "      <td>0</td>\n",
       "      <td>4.4</td>\n",
       "      <td>6.9</td>\n",
       "      <td>남성</td>\n",
       "    </tr>\n",
       "    <tr>\n",
       "      <th>2</th>\n",
       "      <td>ID_1847</td>\n",
       "      <td>160.89</td>\n",
       "      <td>65.12</td>\n",
       "      <td>20020921</td>\n",
       "      <td>2020_01_28</td>\n",
       "      <td>1</td>\n",
       "      <td>1</td>\n",
       "      <td>1</td>\n",
       "      <td>1.7</td>\n",
       "      <td>9.6</td>\n",
       "      <td>여성</td>\n",
       "    </tr>\n",
       "    <tr>\n",
       "      <th>3</th>\n",
       "      <td>ID_4785</td>\n",
       "      <td>162.21</td>\n",
       "      <td>62.28</td>\n",
       "      <td>20020106</td>\n",
       "      <td>2018_09_27</td>\n",
       "      <td>1</td>\n",
       "      <td>4</td>\n",
       "      <td>0</td>\n",
       "      <td>5.1</td>\n",
       "      <td>6.8</td>\n",
       "      <td>남성</td>\n",
       "    </tr>\n",
       "    <tr>\n",
       "      <th>4</th>\n",
       "      <td>ID_5693</td>\n",
       "      <td>159.13</td>\n",
       "      <td>54.11</td>\n",
       "      <td>19980708</td>\n",
       "      <td>2015_03_03</td>\n",
       "      <td>0</td>\n",
       "      <td>4</td>\n",
       "      <td>1</td>\n",
       "      <td>0.3</td>\n",
       "      <td>8.5</td>\n",
       "      <td>여성</td>\n",
       "    </tr>\n",
       "    <tr>\n",
       "      <th>...</th>\n",
       "      <td>...</td>\n",
       "      <td>...</td>\n",
       "      <td>...</td>\n",
       "      <td>...</td>\n",
       "      <td>...</td>\n",
       "      <td>...</td>\n",
       "      <td>...</td>\n",
       "      <td>...</td>\n",
       "      <td>...</td>\n",
       "      <td>...</td>\n",
       "      <td>...</td>\n",
       "    </tr>\n",
       "    <tr>\n",
       "      <th>6796</th>\n",
       "      <td>ID_6443</td>\n",
       "      <td>156.04</td>\n",
       "      <td>55.36</td>\n",
       "      <td>20030429</td>\n",
       "      <td>2020_04_23</td>\n",
       "      <td>1</td>\n",
       "      <td>4</td>\n",
       "      <td>1</td>\n",
       "      <td>7.8</td>\n",
       "      <td>9.3</td>\n",
       "      <td>여성</td>\n",
       "    </tr>\n",
       "    <tr>\n",
       "      <th>6797</th>\n",
       "      <td>ID_3606</td>\n",
       "      <td>182.46</td>\n",
       "      <td>67.55</td>\n",
       "      <td>20050528</td>\n",
       "      <td>2022_08_03</td>\n",
       "      <td>1</td>\n",
       "      <td>4</td>\n",
       "      <td>0</td>\n",
       "      <td>2.9</td>\n",
       "      <td>8.9</td>\n",
       "      <td>남성</td>\n",
       "    </tr>\n",
       "    <tr>\n",
       "      <th>6798</th>\n",
       "      <td>ID_5704</td>\n",
       "      <td>150.18</td>\n",
       "      <td>48.29</td>\n",
       "      <td>20030420</td>\n",
       "      <td>2020_02_29</td>\n",
       "      <td>0</td>\n",
       "      <td>1</td>\n",
       "      <td>1</td>\n",
       "      <td>6.0</td>\n",
       "      <td>7.8</td>\n",
       "      <td>여성</td>\n",
       "    </tr>\n",
       "    <tr>\n",
       "      <th>6799</th>\n",
       "      <td>ID_6637</td>\n",
       "      <td>159.45</td>\n",
       "      <td>60.53</td>\n",
       "      <td>20000718</td>\n",
       "      <td>2016_12_11</td>\n",
       "      <td>0</td>\n",
       "      <td>1</td>\n",
       "      <td>1</td>\n",
       "      <td>7.6</td>\n",
       "      <td>5.4</td>\n",
       "      <td>여성</td>\n",
       "    </tr>\n",
       "    <tr>\n",
       "      <th>6800</th>\n",
       "      <td>ID_2575</td>\n",
       "      <td>171.23</td>\n",
       "      <td>67.05</td>\n",
       "      <td>20010604</td>\n",
       "      <td>2019_02_01</td>\n",
       "      <td>1</td>\n",
       "      <td>0</td>\n",
       "      <td>0</td>\n",
       "      <td>8.0</td>\n",
       "      <td>9.0</td>\n",
       "      <td>남성</td>\n",
       "    </tr>\n",
       "  </tbody>\n",
       "</table>\n",
       "<p>6801 rows × 11 columns</p>\n",
       "</div>"
      ],
      "text/plain": [
       "           ID       키  weight      생년월일       건강검진일  공학여부  채소섭취정도  아침식사여부  \\\n",
       "0     ID_4135  169.01   65.47  20041003  2020_11_15     1       2       1   \n",
       "1     ID_3289  181.62   69.36  19970725  2014_11_20     0       3       0   \n",
       "2     ID_1847  160.89   65.12  20020921  2020_01_28     1       1       1   \n",
       "3     ID_4785  162.21   62.28  20020106  2018_09_27     1       4       0   \n",
       "4     ID_5693  159.13   54.11  19980708  2015_03_03     0       4       1   \n",
       "...       ...     ...     ...       ...         ...   ...     ...     ...   \n",
       "6796  ID_6443  156.04   55.36  20030429  2020_04_23     1       4       1   \n",
       "6797  ID_3606  182.46   67.55  20050528  2022_08_03     1       4       0   \n",
       "6798  ID_5704  150.18   48.29  20030420  2020_02_29     0       1       1   \n",
       "6799  ID_6637  159.45   60.53  20000718  2016_12_11     0       1       1   \n",
       "6800  ID_2575  171.23   67.05  20010604  2019_02_01     1       0       0   \n",
       "\n",
       "      일주일운동시간  수면시간  성별  \n",
       "0         4.4   8.3  남성  \n",
       "1         4.4   6.9  남성  \n",
       "2         1.7   9.6  여성  \n",
       "3         5.1   6.8  남성  \n",
       "4         0.3   8.5  여성  \n",
       "...       ...   ...  ..  \n",
       "6796      7.8   9.3  여성  \n",
       "6797      2.9   8.9  남성  \n",
       "6798      6.0   7.8  여성  \n",
       "6799      7.6   5.4  여성  \n",
       "6800      8.0   9.0  남성  \n",
       "\n",
       "[6801 rows x 11 columns]"
      ]
     },
     "execution_count": 142,
     "metadata": {},
     "output_type": "execute_result"
    }
   ],
   "source": [
    "bmi= pd.read_csv('https://raw.githubusercontent.com/Datamanim/datarepo/main/adp/31/adp_31_2_v2.csv')\n",
    "bmi"
   ]
  },
  {
   "cell_type": "code",
   "execution_count": 143,
   "id": "f55c4e83",
   "metadata": {
    "tags": []
   },
   "outputs": [
    {
     "data": {
      "text/html": [
       "<div>\n",
       "<style scoped>\n",
       "    .dataframe tbody tr th:only-of-type {\n",
       "        vertical-align: middle;\n",
       "    }\n",
       "\n",
       "    .dataframe tbody tr th {\n",
       "        vertical-align: top;\n",
       "    }\n",
       "\n",
       "    .dataframe thead th {\n",
       "        text-align: right;\n",
       "    }\n",
       "</style>\n",
       "<table border=\"1\" class=\"dataframe\">\n",
       "  <thead>\n",
       "    <tr style=\"text-align: right;\">\n",
       "      <th></th>\n",
       "      <th>ID</th>\n",
       "      <th>키</th>\n",
       "      <th>weight</th>\n",
       "      <th>생년월일</th>\n",
       "      <th>건강검진일</th>\n",
       "      <th>공학여부</th>\n",
       "      <th>채소섭취정도</th>\n",
       "      <th>아침식사여부</th>\n",
       "      <th>일주일운동시간</th>\n",
       "      <th>수면시간</th>\n",
       "      <th>성별</th>\n",
       "    </tr>\n",
       "  </thead>\n",
       "  <tbody>\n",
       "    <tr>\n",
       "      <th>0</th>\n",
       "      <td>ID_4135</td>\n",
       "      <td>169.01</td>\n",
       "      <td>65.47</td>\n",
       "      <td>2004-10-03</td>\n",
       "      <td>2020-11-15</td>\n",
       "      <td>1</td>\n",
       "      <td>2</td>\n",
       "      <td>1</td>\n",
       "      <td>4.4</td>\n",
       "      <td>8.3</td>\n",
       "      <td>남성</td>\n",
       "    </tr>\n",
       "    <tr>\n",
       "      <th>1</th>\n",
       "      <td>ID_3289</td>\n",
       "      <td>181.62</td>\n",
       "      <td>69.36</td>\n",
       "      <td>1997-07-25</td>\n",
       "      <td>2014-11-20</td>\n",
       "      <td>0</td>\n",
       "      <td>3</td>\n",
       "      <td>0</td>\n",
       "      <td>4.4</td>\n",
       "      <td>6.9</td>\n",
       "      <td>남성</td>\n",
       "    </tr>\n",
       "    <tr>\n",
       "      <th>2</th>\n",
       "      <td>ID_1847</td>\n",
       "      <td>160.89</td>\n",
       "      <td>65.12</td>\n",
       "      <td>2002-09-21</td>\n",
       "      <td>2020-01-28</td>\n",
       "      <td>1</td>\n",
       "      <td>1</td>\n",
       "      <td>1</td>\n",
       "      <td>1.7</td>\n",
       "      <td>9.6</td>\n",
       "      <td>여성</td>\n",
       "    </tr>\n",
       "    <tr>\n",
       "      <th>3</th>\n",
       "      <td>ID_4785</td>\n",
       "      <td>162.21</td>\n",
       "      <td>62.28</td>\n",
       "      <td>2002-01-06</td>\n",
       "      <td>2018-09-27</td>\n",
       "      <td>1</td>\n",
       "      <td>4</td>\n",
       "      <td>0</td>\n",
       "      <td>5.1</td>\n",
       "      <td>6.8</td>\n",
       "      <td>남성</td>\n",
       "    </tr>\n",
       "    <tr>\n",
       "      <th>4</th>\n",
       "      <td>ID_5693</td>\n",
       "      <td>159.13</td>\n",
       "      <td>54.11</td>\n",
       "      <td>1998-07-08</td>\n",
       "      <td>2015-03-03</td>\n",
       "      <td>0</td>\n",
       "      <td>4</td>\n",
       "      <td>1</td>\n",
       "      <td>0.3</td>\n",
       "      <td>8.5</td>\n",
       "      <td>여성</td>\n",
       "    </tr>\n",
       "  </tbody>\n",
       "</table>\n",
       "</div>"
      ],
      "text/plain": [
       "        ID       키  weight       생년월일      건강검진일  공학여부  채소섭취정도  아침식사여부  \\\n",
       "0  ID_4135  169.01   65.47 2004-10-03 2020-11-15     1       2       1   \n",
       "1  ID_3289  181.62   69.36 1997-07-25 2014-11-20     0       3       0   \n",
       "2  ID_1847  160.89   65.12 2002-09-21 2020-01-28     1       1       1   \n",
       "3  ID_4785  162.21   62.28 2002-01-06 2018-09-27     1       4       0   \n",
       "4  ID_5693  159.13   54.11 1998-07-08 2015-03-03     0       4       1   \n",
       "\n",
       "   일주일운동시간  수면시간  성별  \n",
       "0      4.4   8.3  남성  \n",
       "1      4.4   6.9  남성  \n",
       "2      1.7   9.6  여성  \n",
       "3      5.1   6.8  남성  \n",
       "4      0.3   8.5  여성  "
      ]
     },
     "execution_count": 143,
     "metadata": {},
     "output_type": "execute_result"
    }
   ],
   "source": [
    "#날짜데이터 전처리\n",
    "\n",
    "bmi['생년월일']=pd.to_datetime(bmi['생년월일'], format='%Y%m%d')\n",
    "bmi['건강검진일']=pd.to_datetime(bmi['건강검진일'], format='%Y_%m_%d')\n",
    "\n",
    "bmi.head()"
   ]
  },
  {
   "cell_type": "code",
   "execution_count": 153,
   "id": "ad5186d6",
   "metadata": {
    "tags": []
   },
   "outputs": [
    {
     "data": {
      "text/plain": [
       "17    3686\n",
       "16    3115\n",
       "Name: 만나이, dtype: int64"
      ]
     },
     "execution_count": 153,
     "metadata": {},
     "output_type": "execute_result"
    }
   ],
   "source": [
    "#만나이 변수 생성\n",
    "bmi['만나이']=((bmi['건강검진일']-bmi['생년월일'])/365).dt.days\n",
    "bmi['만나이'].value_counts()"
   ]
  },
  {
   "cell_type": "code",
   "execution_count": 155,
   "id": "c0e18e84",
   "metadata": {
    "tags": []
   },
   "outputs": [],
   "source": [
    "#BMI 변수 생성\n",
    "bmi['BMI']=bmi['weight']/((bmi['키']/100)**2)"
   ]
  },
  {
   "cell_type": "code",
   "execution_count": 167,
   "id": "4ab3554f",
   "metadata": {
    "tags": []
   },
   "outputs": [],
   "source": [
    "def calculate_normal_weight(row):\n",
    "    if row['만나이'] == 17:\n",
    "        if row['성별'] == '남성' and 21.03 <= row['BMI'] < 23.21:\n",
    "            return '정상'\n",
    "        elif row['성별'] == '여성' and 20.03 <= row['BMI'] < 22.39:\n",
    "            return '정상'\n",
    "    elif row['만나이'] == 16:\n",
    "        if row['성별'] == '남성' and 21.18 <= row['BMI'] < 23.45:\n",
    "            return '정상'\n",
    "        elif row['성별'] == '여성' and 19.61 <= row['BMI'] < 21.74:\n",
    "            return '정상'\n",
    "    \n",
    "    return '비정상'\n",
    "\n",
    "# '정상체중' 열 추가\n",
    "bmi['정상체중'] = bmi.apply(calculate_normal_weight, axis=1)"
   ]
  },
  {
   "cell_type": "markdown",
   "id": "66fd5bd5",
   "metadata": {},
   "source": [
    "## 4-2 4-1에서 구한 적정 체중 여부와 나머지 컬럼(공학여부, 아침식사여부, 일주일운동시간, 채소섭취정도, 수면시간, 성별) 이 독립적인지 통계적으로 확인하라"
   ]
  },
  {
   "cell_type": "markdown",
   "id": "155d86b5",
   "metadata": {},
   "source": [
    "명목형 변수인 공학여부, 아침식사여부, 성별은 카이제곱 독립성 검정을 사용한다."
   ]
  },
  {
   "cell_type": "code",
   "execution_count": 177,
   "id": "8510482b",
   "metadata": {
    "tags": []
   },
   "outputs": [],
   "source": [
    "def create_crosstab(col):\n",
    "    df=pd.crosstab(bmi[col], bmi['정상체중'])\n",
    "    return df"
   ]
  },
  {
   "cell_type": "code",
   "execution_count": 194,
   "id": "4cf957ab",
   "metadata": {
    "tags": []
   },
   "outputs": [],
   "source": [
    "from scipy.stats import chi2_contingency\n",
    "\n",
    "def chi(df):\n",
    "    chi2, p, _, _ = chi2_contingency(df)\n",
    "    print('P-value는 ', np.round(p, 2))\n",
    "    if p<0.05 :\n",
    "        result='이 변수는 적정 체중 여부와 독립적이지 않습니다'\n",
    "\n",
    "    else:\n",
    "        result='이 변수는 적정 체중 여부와 독립적입니다'\n",
    "        \n",
    "    return result"
   ]
  },
  {
   "cell_type": "code",
   "execution_count": 295,
   "id": "aea7063a",
   "metadata": {
    "tags": []
   },
   "outputs": [
    {
     "name": "stdout",
     "output_type": "stream",
     "text": [
      "공학여부\n",
      "P-value는  0.03\n",
      "이 변수는 적정 체중 여부와 독립적이지 않습니다\n",
      "\n",
      "\n",
      "아침식사여부\n",
      "P-value는  0.7\n",
      "이 변수는 적정 체중 여부와 독립적입니다\n",
      "\n",
      "\n",
      "성별\n",
      "P-value는  0.96\n",
      "이 변수는 적정 체중 여부와 독립적입니다\n",
      "\n",
      "\n"
     ]
    }
   ],
   "source": [
    "columns=['공학여부', '아침식사여부', '성별']\n",
    "\n",
    "for col in columns:\n",
    "    df=create_crosstab(col)\n",
    "    print(col)\n",
    "    print(chi(df))\n",
    "    print('\\n')"
   ]
  },
  {
   "cell_type": "markdown",
   "id": "1080a2e1",
   "metadata": {},
   "source": [
    "연속형 변수인 '일주일운동시간', '채소섭취정도', '수면시간'은 정상체중/비정상체중군 간 평균의 차이를 검정한다.\n",
    "<br>검정수행시 각 그룹의 규모가 충분히 크므로 정규분포를 사용한다."
   ]
  },
  {
   "cell_type": "code",
   "execution_count": 297,
   "id": "eddeab0c",
   "metadata": {
    "tags": []
   },
   "outputs": [],
   "source": [
    "bmi_normal=bmi.loc[bmi['정상체중']=='정상']\n",
    "bmi_abnormal=bmi.loc[bmi['정상체중']!='정상']"
   ]
  },
  {
   "cell_type": "code",
   "execution_count": 318,
   "id": "3e2fe07e",
   "metadata": {
    "tags": []
   },
   "outputs": [],
   "source": [
    "from scipy.stats import norm\n",
    "\n",
    "def difference(col, bmi_normal, bmi_abnormal):\n",
    "    z_alpha=norm.ppf(1-0.05/2)\n",
    "    \n",
    "    normal_mean=np.mean(bmi_normal[col])\n",
    "    abnormal_mean=np.mean(bmi_abnormal[col])\n",
    "    \n",
    "    normal_n=bmi_normal.shape[0]\n",
    "    abnormal_n=bmi_abnormal.shape[0]\n",
    "    \n",
    "    normal_std=bmi_normal[col].std(ddof=0)\n",
    "    abnormal_std=bmi_abnormal[col].std(ddof=0)\n",
    "    \n",
    "    z_value = (normal_mean - abnormal_mean) / np.sqrt((normal_std**2) / normal_n + (abnormal_std**2) / abnormal_n)\n",
    "    \n",
    "    if z_value>z_alpha:\n",
    "        result='이 변수는 적정 체중 여부와 독립적이지 않습니다'\n",
    "    else:\n",
    "        result='이 변수는 적정 체중 여부와 독립적입니다'\n",
    "        \n",
    "    return result"
   ]
  },
  {
   "cell_type": "code",
   "execution_count": 321,
   "id": "4dc2e9cc",
   "metadata": {
    "tags": []
   },
   "outputs": [
    {
     "name": "stdout",
     "output_type": "stream",
     "text": [
      "일주일운동시간\n",
      "이 변수는 적정 체중 여부와 독립적입니다\n",
      "\n",
      "\n",
      "채소섭취정도\n",
      "이 변수는 적정 체중 여부와 독립적입니다\n",
      "\n",
      "\n",
      "수면시간\n",
      "이 변수는 적정 체중 여부와 독립적이지 않습니다\n",
      "\n",
      "\n"
     ]
    }
   ],
   "source": [
    "columns_numeric=['일주일운동시간','채소섭취정도','수면시간']\n",
    "\n",
    "for col in columns_numeric:\n",
    "    print(col)\n",
    "    print(difference(col, bmi_normal, bmi_abnormal))\n",
    "    print('\\n')"
   ]
  },
  {
   "cell_type": "markdown",
   "id": "f7ed32c7",
   "metadata": {},
   "source": [
    "따라서 공학여부, 수면시간을 모델링에 사용한다."
   ]
  },
  {
   "cell_type": "markdown",
   "id": "51772a7f",
   "metadata": {},
   "source": [
    "## 4-3 4-2에서 유의한 변수들만 가지고 적정 체중 여부를 예측하는 모델을 구현하고 성능 평가 및 해석을 하라 (로지스틱회귀 ,xgb)\n",
    "> 로지스틱회귀 모델은 오즈비를 구하라\n",
    "> xgb의 경우 각 피쳐중요도를 확인하고 예측에 영향을 가장 미치는 변수를 확인하라"
   ]
  },
  {
   "cell_type": "code",
   "execution_count": 324,
   "id": "cec06b27",
   "metadata": {
    "tags": []
   },
   "outputs": [],
   "source": [
    "#유의한 변수였던 공학여부와 채소섭취정도를 포함\n",
    "bmi_final=bmi[['공학여부', '수면시간', '정상체중']]\n",
    "X=bmi_final[['공학여부', '수면시간']]\n",
    "y=bmi_final['정상체중'].map({'정상' : 0 , '비정상' : 1})"
   ]
  },
  {
   "cell_type": "code",
   "execution_count": 325,
   "id": "cc7512eb",
   "metadata": {
    "scrolled": false,
    "tags": []
   },
   "outputs": [
    {
     "name": "stdout",
     "output_type": "stream",
     "text": [
      "Optimization terminated successfully.\n",
      "         Current function value: 0.677079\n",
      "         Iterations 4\n"
     ]
    },
    {
     "data": {
      "text/html": [
       "<table class=\"simpletable\">\n",
       "<caption>Logit Regression Results</caption>\n",
       "<tr>\n",
       "  <th>Dep. Variable:</th>         <td>정상체중</td>       <th>  No. Observations:  </th>  <td>  6801</td>  \n",
       "</tr>\n",
       "<tr>\n",
       "  <th>Model:</th>                 <td>Logit</td>      <th>  Df Residuals:      </th>  <td>  6799</td>  \n",
       "</tr>\n",
       "<tr>\n",
       "  <th>Method:</th>                 <td>MLE</td>       <th>  Df Model:          </th>  <td>     1</td>  \n",
       "</tr>\n",
       "<tr>\n",
       "  <th>Date:</th>            <td>Thu, 29 Feb 2024</td> <th>  Pseudo R-squ.:     </th> <td>0.001197</td> \n",
       "</tr>\n",
       "<tr>\n",
       "  <th>Time:</th>                <td>14:49:35</td>     <th>  Log-Likelihood:    </th> <td> -4604.8</td> \n",
       "</tr>\n",
       "<tr>\n",
       "  <th>converged:</th>             <td>True</td>       <th>  LL-Null:           </th> <td> -4610.3</td> \n",
       "</tr>\n",
       "<tr>\n",
       "  <th>Covariance Type:</th>     <td>nonrobust</td>    <th>  LLR p-value:       </th> <td>0.0008943</td>\n",
       "</tr>\n",
       "</table>\n",
       "<table class=\"simpletable\">\n",
       "<tr>\n",
       "    <td></td>      <th>coef</th>     <th>std err</th>      <th>z</th>      <th>P>|z|</th>  <th>[0.025</th>    <th>0.975]</th>  \n",
       "</tr>\n",
       "<tr>\n",
       "  <th>공학여부</th> <td>   -0.1064</td> <td>    0.048</td> <td>   -2.203</td> <td> 0.028</td> <td>   -0.201</td> <td>   -0.012</td>\n",
       "</tr>\n",
       "<tr>\n",
       "  <th>수면시간</th> <td>   -0.0402</td> <td>    0.005</td> <td>   -8.932</td> <td> 0.000</td> <td>   -0.049</td> <td>   -0.031</td>\n",
       "</tr>\n",
       "</table>"
      ],
      "text/latex": [
       "\\begin{center}\n",
       "\\begin{tabular}{lclc}\n",
       "\\toprule\n",
       "\\textbf{Dep. Variable:}   &       정상체중       & \\textbf{  No. Observations:  } &     6801    \\\\\n",
       "\\textbf{Model:}           &      Logit       & \\textbf{  Df Residuals:      } &     6799    \\\\\n",
       "\\textbf{Method:}          &       MLE        & \\textbf{  Df Model:          } &        1    \\\\\n",
       "\\textbf{Date:}            & Thu, 29 Feb 2024 & \\textbf{  Pseudo R-squ.:     } &  0.001197   \\\\\n",
       "\\textbf{Time:}            &     14:49:35     & \\textbf{  Log-Likelihood:    } &   -4604.8   \\\\\n",
       "\\textbf{converged:}       &       True       & \\textbf{  LL-Null:           } &   -4610.3   \\\\\n",
       "\\textbf{Covariance Type:} &    nonrobust     & \\textbf{  LLR p-value:       } & 0.0008943   \\\\\n",
       "\\bottomrule\n",
       "\\end{tabular}\n",
       "\\begin{tabular}{lcccccc}\n",
       "              & \\textbf{coef} & \\textbf{std err} & \\textbf{z} & \\textbf{P$> |$z$|$} & \\textbf{[0.025} & \\textbf{0.975]}  \\\\\n",
       "\\midrule\n",
       "\\textbf{공학여부} &      -0.1064  &        0.048     &    -2.203  &         0.028        &       -0.201    &       -0.012     \\\\\n",
       "\\textbf{수면시간} &      -0.0402  &        0.005     &    -8.932  &         0.000        &       -0.049    &       -0.031     \\\\\n",
       "\\bottomrule\n",
       "\\end{tabular}\n",
       "%\\caption{Logit Regression Results}\n",
       "\\end{center}"
      ],
      "text/plain": [
       "<class 'statsmodels.iolib.summary.Summary'>\n",
       "\"\"\"\n",
       "                           Logit Regression Results                           \n",
       "==============================================================================\n",
       "Dep. Variable:                   정상체중   No. Observations:                 6801\n",
       "Model:                          Logit   Df Residuals:                     6799\n",
       "Method:                           MLE   Df Model:                            1\n",
       "Date:                Thu, 29 Feb 2024   Pseudo R-squ.:                0.001197\n",
       "Time:                        14:49:35   Log-Likelihood:                -4604.8\n",
       "converged:                       True   LL-Null:                       -4610.3\n",
       "Covariance Type:            nonrobust   LLR p-value:                 0.0008943\n",
       "==============================================================================\n",
       "                 coef    std err          z      P>|z|      [0.025      0.975]\n",
       "------------------------------------------------------------------------------\n",
       "공학여부          -0.1064      0.048     -2.203      0.028      -0.201      -0.012\n",
       "수면시간          -0.0402      0.005     -8.932      0.000      -0.049      -0.031\n",
       "==============================================================================\n",
       "\"\"\""
      ]
     },
     "execution_count": 325,
     "metadata": {},
     "output_type": "execute_result"
    }
   ],
   "source": [
    "#로지스틱 회귀분석\n",
    "\n",
    "import statsmodels.api as sm\n",
    "\n",
    "model=sm.Logit(y, X)\n",
    "result=model.fit()\n",
    "result.summary()"
   ]
  },
  {
   "cell_type": "code",
   "execution_count": 326,
   "id": "7f0581b9",
   "metadata": {
    "tags": []
   },
   "outputs": [
    {
     "name": "stdout",
     "output_type": "stream",
     "text": [
      "공학여부의 오즈비는  0.8990791136740519\n",
      "수면시간의 오즈비는  0.9606017254856177\n"
     ]
    }
   ],
   "source": [
    "print('공학여부의 오즈비는 ',np.exp(result.params[0]))\n",
    "print('수면시간의 오즈비는 ', np.exp(result.params[1]))"
   ]
  },
  {
   "cell_type": "code",
   "execution_count": 327,
   "id": "9fbbbbc5",
   "metadata": {
    "tags": []
   },
   "outputs": [
    {
     "data": {
      "text/html": [
       "<style>#sk-container-id-9 {color: black;background-color: white;}#sk-container-id-9 pre{padding: 0;}#sk-container-id-9 div.sk-toggleable {background-color: white;}#sk-container-id-9 label.sk-toggleable__label {cursor: pointer;display: block;width: 100%;margin-bottom: 0;padding: 0.3em;box-sizing: border-box;text-align: center;}#sk-container-id-9 label.sk-toggleable__label-arrow:before {content: \"▸\";float: left;margin-right: 0.25em;color: #696969;}#sk-container-id-9 label.sk-toggleable__label-arrow:hover:before {color: black;}#sk-container-id-9 div.sk-estimator:hover label.sk-toggleable__label-arrow:before {color: black;}#sk-container-id-9 div.sk-toggleable__content {max-height: 0;max-width: 0;overflow: hidden;text-align: left;background-color: #f0f8ff;}#sk-container-id-9 div.sk-toggleable__content pre {margin: 0.2em;color: black;border-radius: 0.25em;background-color: #f0f8ff;}#sk-container-id-9 input.sk-toggleable__control:checked~div.sk-toggleable__content {max-height: 200px;max-width: 100%;overflow: auto;}#sk-container-id-9 input.sk-toggleable__control:checked~label.sk-toggleable__label-arrow:before {content: \"▾\";}#sk-container-id-9 div.sk-estimator input.sk-toggleable__control:checked~label.sk-toggleable__label {background-color: #d4ebff;}#sk-container-id-9 div.sk-label input.sk-toggleable__control:checked~label.sk-toggleable__label {background-color: #d4ebff;}#sk-container-id-9 input.sk-hidden--visually {border: 0;clip: rect(1px 1px 1px 1px);clip: rect(1px, 1px, 1px, 1px);height: 1px;margin: -1px;overflow: hidden;padding: 0;position: absolute;width: 1px;}#sk-container-id-9 div.sk-estimator {font-family: monospace;background-color: #f0f8ff;border: 1px dotted black;border-radius: 0.25em;box-sizing: border-box;margin-bottom: 0.5em;}#sk-container-id-9 div.sk-estimator:hover {background-color: #d4ebff;}#sk-container-id-9 div.sk-parallel-item::after {content: \"\";width: 100%;border-bottom: 1px solid gray;flex-grow: 1;}#sk-container-id-9 div.sk-label:hover label.sk-toggleable__label {background-color: #d4ebff;}#sk-container-id-9 div.sk-serial::before {content: \"\";position: absolute;border-left: 1px solid gray;box-sizing: border-box;top: 0;bottom: 0;left: 50%;z-index: 0;}#sk-container-id-9 div.sk-serial {display: flex;flex-direction: column;align-items: center;background-color: white;padding-right: 0.2em;padding-left: 0.2em;position: relative;}#sk-container-id-9 div.sk-item {position: relative;z-index: 1;}#sk-container-id-9 div.sk-parallel {display: flex;align-items: stretch;justify-content: center;background-color: white;position: relative;}#sk-container-id-9 div.sk-item::before, #sk-container-id-9 div.sk-parallel-item::before {content: \"\";position: absolute;border-left: 1px solid gray;box-sizing: border-box;top: 0;bottom: 0;left: 50%;z-index: -1;}#sk-container-id-9 div.sk-parallel-item {display: flex;flex-direction: column;z-index: 1;position: relative;background-color: white;}#sk-container-id-9 div.sk-parallel-item:first-child::after {align-self: flex-end;width: 50%;}#sk-container-id-9 div.sk-parallel-item:last-child::after {align-self: flex-start;width: 50%;}#sk-container-id-9 div.sk-parallel-item:only-child::after {width: 0;}#sk-container-id-9 div.sk-dashed-wrapped {border: 1px dashed gray;margin: 0 0.4em 0.5em 0.4em;box-sizing: border-box;padding-bottom: 0.4em;background-color: white;}#sk-container-id-9 div.sk-label label {font-family: monospace;font-weight: bold;display: inline-block;line-height: 1.2em;}#sk-container-id-9 div.sk-label-container {text-align: center;}#sk-container-id-9 div.sk-container {/* jupyter's `normalize.less` sets `[hidden] { display: none; }` but bootstrap.min.css set `[hidden] { display: none !important; }` so we also need the `!important` here to be able to override the default hidden behavior on the sphinx rendered scikit-learn.org. See: https://github.com/scikit-learn/scikit-learn/issues/21755 */display: inline-block !important;position: relative;}#sk-container-id-9 div.sk-text-repr-fallback {display: none;}</style><div id=\"sk-container-id-9\" class=\"sk-top-container\"><div class=\"sk-text-repr-fallback\"><pre>XGBClassifier(base_score=None, booster=None, callbacks=None,\n",
       "              colsample_bylevel=None, colsample_bynode=None,\n",
       "              colsample_bytree=None, device=None, early_stopping_rounds=None,\n",
       "              enable_categorical=False, eval_metric=None, feature_types=None,\n",
       "              gamma=None, grow_policy=None, importance_type=None,\n",
       "              interaction_constraints=None, learning_rate=None, max_bin=None,\n",
       "              max_cat_threshold=None, max_cat_to_onehot=None,\n",
       "              max_delta_step=None, max_depth=None, max_leaves=None,\n",
       "              min_child_weight=None, missing=nan, monotone_constraints=None,\n",
       "              multi_strategy=None, n_estimators=None, n_jobs=None,\n",
       "              num_parallel_tree=None, random_state=None, ...)</pre><b>In a Jupyter environment, please rerun this cell to show the HTML representation or trust the notebook. <br />On GitHub, the HTML representation is unable to render, please try loading this page with nbviewer.org.</b></div><div class=\"sk-container\" hidden><div class=\"sk-item\"><div class=\"sk-estimator sk-toggleable\"><input class=\"sk-toggleable__control sk-hidden--visually\" id=\"sk-estimator-id-19\" type=\"checkbox\" checked><label for=\"sk-estimator-id-19\" class=\"sk-toggleable__label sk-toggleable__label-arrow\">XGBClassifier</label><div class=\"sk-toggleable__content\"><pre>XGBClassifier(base_score=None, booster=None, callbacks=None,\n",
       "              colsample_bylevel=None, colsample_bynode=None,\n",
       "              colsample_bytree=None, device=None, early_stopping_rounds=None,\n",
       "              enable_categorical=False, eval_metric=None, feature_types=None,\n",
       "              gamma=None, grow_policy=None, importance_type=None,\n",
       "              interaction_constraints=None, learning_rate=None, max_bin=None,\n",
       "              max_cat_threshold=None, max_cat_to_onehot=None,\n",
       "              max_delta_step=None, max_depth=None, max_leaves=None,\n",
       "              min_child_weight=None, missing=nan, monotone_constraints=None,\n",
       "              multi_strategy=None, n_estimators=None, n_jobs=None,\n",
       "              num_parallel_tree=None, random_state=None, ...)</pre></div></div></div></div></div>"
      ],
      "text/plain": [
       "XGBClassifier(base_score=None, booster=None, callbacks=None,\n",
       "              colsample_bylevel=None, colsample_bynode=None,\n",
       "              colsample_bytree=None, device=None, early_stopping_rounds=None,\n",
       "              enable_categorical=False, eval_metric=None, feature_types=None,\n",
       "              gamma=None, grow_policy=None, importance_type=None,\n",
       "              interaction_constraints=None, learning_rate=None, max_bin=None,\n",
       "              max_cat_threshold=None, max_cat_to_onehot=None,\n",
       "              max_delta_step=None, max_depth=None, max_leaves=None,\n",
       "              min_child_weight=None, missing=nan, monotone_constraints=None,\n",
       "              multi_strategy=None, n_estimators=None, n_jobs=None,\n",
       "              num_parallel_tree=None, random_state=None, ...)"
      ]
     },
     "execution_count": 327,
     "metadata": {},
     "output_type": "execute_result"
    }
   ],
   "source": [
    "#XGB 모델 생성\n",
    "\n",
    "from xgboost import XGBClassifier\n",
    "xgb=XGBClassifier()\n",
    "xgb.fit(X,y)"
   ]
  },
  {
   "cell_type": "code",
   "execution_count": 328,
   "id": "09781f30",
   "metadata": {
    "tags": []
   },
   "outputs": [
    {
     "data": {
      "text/html": [
       "<div>\n",
       "<style scoped>\n",
       "    .dataframe tbody tr th:only-of-type {\n",
       "        vertical-align: middle;\n",
       "    }\n",
       "\n",
       "    .dataframe tbody tr th {\n",
       "        vertical-align: top;\n",
       "    }\n",
       "\n",
       "    .dataframe thead th {\n",
       "        text-align: right;\n",
       "    }\n",
       "</style>\n",
       "<table border=\"1\" class=\"dataframe\">\n",
       "  <thead>\n",
       "    <tr style=\"text-align: right;\">\n",
       "      <th></th>\n",
       "      <th>XGBoost에서 feature 중요도</th>\n",
       "    </tr>\n",
       "  </thead>\n",
       "  <tbody>\n",
       "    <tr>\n",
       "      <th>공학여부</th>\n",
       "      <td>0.361862</td>\n",
       "    </tr>\n",
       "    <tr>\n",
       "      <th>수면시간</th>\n",
       "      <td>0.638138</td>\n",
       "    </tr>\n",
       "  </tbody>\n",
       "</table>\n",
       "</div>"
      ],
      "text/plain": [
       "      XGBoost에서 feature 중요도\n",
       "공학여부               0.361862\n",
       "수면시간               0.638138"
      ]
     },
     "execution_count": 328,
     "metadata": {},
     "output_type": "execute_result"
    }
   ],
   "source": [
    "importances=xgb.feature_importances_\n",
    "importance=pd.DataFrame(importances, columns=['XGBoost에서 feature 중요도']) \n",
    "importance.index=['공학여부', '수면시간']\n",
    "\n",
    "importance"
   ]
  },
  {
   "cell_type": "markdown",
   "id": "cf2cd605",
   "metadata": {},
   "source": [
    "## 4-4 4-3 두 모델의 roc-auc 그래프를 하나의 그래프에 겹쳐 그려라"
   ]
  },
  {
   "cell_type": "code",
   "execution_count": 329,
   "id": "2dbb8f73",
   "metadata": {
    "tags": []
   },
   "outputs": [],
   "source": [
    "from sklearn.metrics import roc_curve\n",
    "\n",
    "lr_fpr, lr_tpr, lr_thresholds = roc_curve(y, result.predict(X))\n",
    "xgb_fpr, xgb_tpr, xgb_thresholds = roc_curve(y, xgb.predict_proba(X)[:,1])"
   ]
  },
  {
   "cell_type": "code",
   "execution_count": 330,
   "id": "2e919417",
   "metadata": {
    "tags": []
   },
   "outputs": [
    {
     "data": {
      "image/png": "[encoded data removed]",
      "text/plain": [
       "<Figure size 800x800 with 1 Axes>"
      ]
     },
     "metadata": {},
     "output_type": "display_data"
    }
   ],
   "source": [
    "plt.figure(figsize=(8, 8))\n",
    "plt.plot(lr_fpr, lr_tpr, label='Logistic Regression')\n",
    "plt.plot(xgb_fpr, xgb_tpr, label='XGBoost')\n",
    "plt.plot([0, 1], [0, 1], '--', color='gray')\n",
    "plt.xlabel('False Positive Rate')\n",
    "plt.ylabel('True Positive Rate')\n",
    "plt.title('ROC Curve')\n",
    "plt.legend()\n",
    "plt.show()"
   ]
  },
  {
   "cell_type": "markdown",
   "id": "d58f43ad",
   "metadata": {},
   "source": [
    "# 통계 (40점)"
   ]
  },
  {
   "cell_type": "markdown",
   "id": "e73ff1b4",
   "metadata": {},
   "source": [
    "## 5. 평균이 $\\theta$이고 분산이 100인 정규분포의 사전분포가 100, 256일때 120의 값을 가지는 데이터가 있을 경우 사후평균은? (5점)\n",
    "무게가 N($\\theta$, 100)인 정규분포에서, 사전분포는 N(100, 256)이다. 제품의 무게가 120kg일 때, 사후분포의 평균을 구하라"
   ]
  },
  {
   "cell_type": "markdown",
   "id": "f15a2cae",
   "metadata": {},
   "source": [
    "@@이 문제가 31회 기출이 맞나요??"
   ]
  },
  {
   "cell_type": "code",
   "execution_count": 371,
   "id": "7104c2d8",
   "metadata": {
    "tags": []
   },
   "outputs": [
    {
     "name": "stdout",
     "output_type": "stream",
     "text": [
      "사후분포의 평균: 114.38202247191012\n"
     ]
    }
   ],
   "source": [
    "prior_mean = 100\n",
    "prior_var = 256\n",
    "\n",
    "x = 120\n",
    "target_var = 100\n",
    "\n",
    "# 사후분포의 평균 및 분산 계산\n",
    "posterior_mean = (prior_var * x + target_var * prior_mean) / (prior_var + target_var)\n",
    "variance_posterior = (prior_var * target_var) / (prior_var + target_var)\n",
    "\n",
    "print(f\"사후분포의 평균: {posterior_mean}\")"
   ]
  },
  {
   "cell_type": "markdown",
   "id": "7c8d6137",
   "metadata": {},
   "source": [
    "## 데이터 설명\n",
    "- 데이터 출처 : https://www.kaggle.com/datasets/yasserh/advertising-sales-dataset 후처리\n",
    "- 데이터 링크 : https://raw.githubusercontent.com/Datamanim/datarepo/main/adp/31/adp_31_5_advertising.csv\n",
    "- 데이터 설명 : TV, Radio, Newspaper에 각각 광고비(달러)를 다르게 했을때 매출액 (Sales , 밀리언달러)를 나타내는 데이터\n",
    "- 종속변수 : Sales"
   ]
  },
  {
   "cell_type": "code",
   "execution_count": 2,
   "id": "a0399e0b",
   "metadata": {
    "scrolled": false,
    "tags": []
   },
   "outputs": [
    {
     "data": {
      "text/html": [
       "<div>\n",
       "<style scoped>\n",
       "    .dataframe tbody tr th:only-of-type {\n",
       "        vertical-align: middle;\n",
       "    }\n",
       "\n",
       "    .dataframe tbody tr th {\n",
       "        vertical-align: top;\n",
       "    }\n",
       "\n",
       "    .dataframe thead th {\n",
       "        text-align: right;\n",
       "    }\n",
       "</style>\n",
       "<table border=\"1\" class=\"dataframe\">\n",
       "  <thead>\n",
       "    <tr style=\"text-align: right;\">\n",
       "      <th></th>\n",
       "      <th>TV</th>\n",
       "      <th>Radio</th>\n",
       "      <th>Newspaper</th>\n",
       "      <th>Sales</th>\n",
       "    </tr>\n",
       "  </thead>\n",
       "  <tbody>\n",
       "    <tr>\n",
       "      <th>0</th>\n",
       "      <td>230.1</td>\n",
       "      <td>37.8</td>\n",
       "      <td>69.2</td>\n",
       "      <td>22.1</td>\n",
       "    </tr>\n",
       "    <tr>\n",
       "      <th>1</th>\n",
       "      <td>44.5</td>\n",
       "      <td>39.3</td>\n",
       "      <td>45.1</td>\n",
       "      <td>10.4</td>\n",
       "    </tr>\n",
       "    <tr>\n",
       "      <th>2</th>\n",
       "      <td>17.2</td>\n",
       "      <td>45.9</td>\n",
       "      <td>69.3</td>\n",
       "      <td>12.0</td>\n",
       "    </tr>\n",
       "    <tr>\n",
       "      <th>3</th>\n",
       "      <td>151.5</td>\n",
       "      <td>41.3</td>\n",
       "      <td>58.5</td>\n",
       "      <td>16.5</td>\n",
       "    </tr>\n",
       "    <tr>\n",
       "      <th>4</th>\n",
       "      <td>180.8</td>\n",
       "      <td>10.8</td>\n",
       "      <td>58.4</td>\n",
       "      <td>17.9</td>\n",
       "    </tr>\n",
       "  </tbody>\n",
       "</table>\n",
       "</div>"
      ],
      "text/plain": [
       "      TV  Radio  Newspaper  Sales\n",
       "0  230.1   37.8       69.2   22.1\n",
       "1   44.5   39.3       45.1   10.4\n",
       "2   17.2   45.9       69.3   12.0\n",
       "3  151.5   41.3       58.5   16.5\n",
       "4  180.8   10.8       58.4   17.9"
      ]
     },
     "execution_count": 2,
     "metadata": {},
     "output_type": "execute_result"
    }
   ],
   "source": [
    "import pandas as pd\n",
    "sales = pd.read_csv('https://raw.githubusercontent.com/Datamanim/datarepo/main/adp/31/adp_31_5_advertising.csv')\n",
    "sales.head()"
   ]
  },
  {
   "cell_type": "markdown",
   "id": "018ea1a5",
   "metadata": {},
   "source": [
    "## 6-1 회귀 모델링 후 유의하지 않는변수 파악 (15점)"
   ]
  },
  {
   "cell_type": "code",
   "execution_count": 3,
   "id": "510fde26",
   "metadata": {
    "tags": []
   },
   "outputs": [
    {
     "data": {
      "text/html": [
       "<table class=\"simpletable\">\n",
       "<caption>OLS Regression Results</caption>\n",
       "<tr>\n",
       "  <th>Dep. Variable:</th>          <td>Sales</td>      <th>  R-squared:         </th> <td>   0.903</td>\n",
       "</tr>\n",
       "<tr>\n",
       "  <th>Model:</th>                   <td>OLS</td>       <th>  Adj. R-squared:    </th> <td>   0.901</td>\n",
       "</tr>\n",
       "<tr>\n",
       "  <th>Method:</th>             <td>Least Squares</td>  <th>  F-statistic:       </th> <td>   605.4</td>\n",
       "</tr>\n",
       "<tr>\n",
       "  <th>Date:</th>             <td>Sat, 02 Mar 2024</td> <th>  Prob (F-statistic):</th> <td>8.13e-99</td>\n",
       "</tr>\n",
       "<tr>\n",
       "  <th>Time:</th>                 <td>16:42:35</td>     <th>  Log-Likelihood:    </th> <td> -383.34</td>\n",
       "</tr>\n",
       "<tr>\n",
       "  <th>No. Observations:</th>      <td>   200</td>      <th>  AIC:               </th> <td>   774.7</td>\n",
       "</tr>\n",
       "<tr>\n",
       "  <th>Df Residuals:</th>          <td>   196</td>      <th>  BIC:               </th> <td>   787.9</td>\n",
       "</tr>\n",
       "<tr>\n",
       "  <th>Df Model:</th>              <td>     3</td>      <th>                     </th>     <td> </td>   \n",
       "</tr>\n",
       "<tr>\n",
       "  <th>Covariance Type:</th>      <td>nonrobust</td>    <th>                     </th>     <td> </td>   \n",
       "</tr>\n",
       "</table>\n",
       "<table class=\"simpletable\">\n",
       "<tr>\n",
       "      <td></td>         <th>coef</th>     <th>std err</th>      <th>t</th>      <th>P>|t|</th>  <th>[0.025</th>    <th>0.975]</th>  \n",
       "</tr>\n",
       "<tr>\n",
       "  <th>Intercept</th> <td>    4.6251</td> <td>    0.308</td> <td>   15.041</td> <td> 0.000</td> <td>    4.019</td> <td>    5.232</td>\n",
       "</tr>\n",
       "<tr>\n",
       "  <th>TV</th>        <td>    0.0544</td> <td>    0.001</td> <td>   39.592</td> <td> 0.000</td> <td>    0.052</td> <td>    0.057</td>\n",
       "</tr>\n",
       "<tr>\n",
       "  <th>Radio</th>     <td>    0.1070</td> <td>    0.008</td> <td>   12.604</td> <td> 0.000</td> <td>    0.090</td> <td>    0.124</td>\n",
       "</tr>\n",
       "<tr>\n",
       "  <th>Newspaper</th> <td>    0.0003</td> <td>    0.006</td> <td>    0.058</td> <td> 0.954</td> <td>   -0.011</td> <td>    0.012</td>\n",
       "</tr>\n",
       "</table>\n",
       "<table class=\"simpletable\">\n",
       "<tr>\n",
       "  <th>Omnibus:</th>       <td>16.081</td> <th>  Durbin-Watson:     </th> <td>   2.251</td>\n",
       "</tr>\n",
       "<tr>\n",
       "  <th>Prob(Omnibus):</th> <td> 0.000</td> <th>  Jarque-Bera (JB):  </th> <td>  27.655</td>\n",
       "</tr>\n",
       "<tr>\n",
       "  <th>Skew:</th>          <td>-0.431</td> <th>  Prob(JB):          </th> <td>9.88e-07</td>\n",
       "</tr>\n",
       "<tr>\n",
       "  <th>Kurtosis:</th>      <td> 4.605</td> <th>  Cond. No.          </th> <td>    454.</td>\n",
       "</tr>\n",
       "</table><br/><br/>Notes:<br/>[1] Standard Errors assume that the covariance matrix of the errors is correctly specified."
      ],
      "text/plain": [
       "<class 'statsmodels.iolib.summary.Summary'>\n",
       "\"\"\"\n",
       "                            OLS Regression Results                            \n",
       "==============================================================================\n",
       "Dep. Variable:                  Sales   R-squared:                       0.903\n",
       "Model:                            OLS   Adj. R-squared:                  0.901\n",
       "Method:                 Least Squares   F-statistic:                     605.4\n",
       "Date:                Sat, 02 Mar 2024   Prob (F-statistic):           8.13e-99\n",
       "Time:                        16:42:35   Log-Likelihood:                -383.34\n",
       "No. Observations:                 200   AIC:                             774.7\n",
       "Df Residuals:                     196   BIC:                             787.9\n",
       "Df Model:                           3                                         \n",
       "Covariance Type:            nonrobust                                         \n",
       "==============================================================================\n",
       "                 coef    std err          t      P>|t|      [0.025      0.975]\n",
       "------------------------------------------------------------------------------\n",
       "Intercept      4.6251      0.308     15.041      0.000       4.019       5.232\n",
       "TV             0.0544      0.001     39.592      0.000       0.052       0.057\n",
       "Radio          0.1070      0.008     12.604      0.000       0.090       0.124\n",
       "Newspaper      0.0003      0.006      0.058      0.954      -0.011       0.012\n",
       "==============================================================================\n",
       "Omnibus:                       16.081   Durbin-Watson:                   2.251\n",
       "Prob(Omnibus):                  0.000   Jarque-Bera (JB):               27.655\n",
       "Skew:                          -0.431   Prob(JB):                     9.88e-07\n",
       "Kurtosis:                       4.605   Cond. No.                         454.\n",
       "==============================================================================\n",
       "\n",
       "Notes:\n",
       "[1] Standard Errors assume that the covariance matrix of the errors is correctly specified.\n",
       "\"\"\""
      ]
     },
     "execution_count": 3,
     "metadata": {},
     "output_type": "execute_result"
    }
   ],
   "source": [
    "#회귀 모델링\n",
    "\n",
    "from statsmodels.formula.api import ols\n",
    "\n",
    "linear=ols('Sales~TV+Radio+Newspaper', data=sales).fit()\n",
    "linear.summary() "
   ]
  },
  {
   "cell_type": "markdown",
   "id": "c59054ba",
   "metadata": {},
   "source": [
    "Newspaper의 P-value는 0.05보다 훨씬 크기 때문에 유의하지 않다."
   ]
  },
  {
   "cell_type": "markdown",
   "id": "ee62f90f",
   "metadata": {},
   "source": [
    "## 6-2 변수 선택시 먼저 제거 될 변수 및 근거 제시"
   ]
  },
  {
   "cell_type": "markdown",
   "id": "a4800da8",
   "metadata": {},
   "source": [
    "@@'데싸라면' 책을 들고 갔었는데 여기에서 후진제거법 있는 코드를 그대로 시험 답안 작성하는데 활용했었습니다!"
   ]
  },
  {
   "cell_type": "code",
   "execution_count": 4,
   "id": "9d33eb47",
   "metadata": {
    "tags": []
   },
   "outputs": [],
   "source": [
    "X=['TV', 'Radio', 'Newspaper']\n",
    "y='Sales'"
   ]
  },
  {
   "cell_type": "code",
   "execution_count": 5,
   "id": "0747080a",
   "metadata": {
    "tags": []
   },
   "outputs": [],
   "source": [
    "import statsmodels.formula.api as smf\n",
    "\n",
    "model_no_news=smf.ols(formula='Sales~TV+Radio', data=sales)\n",
    "regr_no_news=model_no_news.fit()\n",
    "AIC_no_news=regr_no_news.aic\n",
    "\n",
    "model_no_TV=smf.ols(formula='Sales~Newspaper+Radio', data=sales)\n",
    "regr_no_TV=model_no_TV.fit()\n",
    "AIC_no_TV=regr_no_TV.aic\n",
    "\n",
    "model_no_radio=smf.ols(formula='Sales~TV+Newspaper', data=sales)\n",
    "regr_no_radio=model_no_radio.fit()\n",
    "AIC_no_radio=regr_no_radio.aic"
   ]
  },
  {
   "cell_type": "code",
   "execution_count": 6,
   "id": "a8274a71",
   "metadata": {
    "tags": []
   },
   "outputs": [
    {
     "data": {
      "text/html": [
       "<div>\n",
       "<style scoped>\n",
       "    .dataframe tbody tr th:only-of-type {\n",
       "        vertical-align: middle;\n",
       "    }\n",
       "\n",
       "    .dataframe tbody tr th {\n",
       "        vertical-align: top;\n",
       "    }\n",
       "\n",
       "    .dataframe thead th {\n",
       "        text-align: right;\n",
       "    }\n",
       "</style>\n",
       "<table border=\"1\" class=\"dataframe\">\n",
       "  <thead>\n",
       "    <tr style=\"text-align: right;\">\n",
       "      <th></th>\n",
       "      <th>AIC</th>\n",
       "    </tr>\n",
       "  </thead>\n",
       "  <tbody>\n",
       "    <tr>\n",
       "      <th>No_News</th>\n",
       "      <td>772.673605</td>\n",
       "    </tr>\n",
       "    <tr>\n",
       "      <th>No_TV</th>\n",
       "      <td>1212.057123</td>\n",
       "    </tr>\n",
       "    <tr>\n",
       "      <th>No_Radio</th>\n",
       "      <td>891.390333</td>\n",
       "    </tr>\n",
       "  </tbody>\n",
       "</table>\n",
       "</div>"
      ],
      "text/plain": [
       "                  AIC\n",
       "No_News    772.673605\n",
       "No_TV     1212.057123\n",
       "No_Radio   891.390333"
      ]
     },
     "execution_count": 6,
     "metadata": {},
     "output_type": "execute_result"
    }
   ],
   "source": [
    "result=pd.DataFrame([AIC_no_news, AIC_no_TV, AIC_no_radio], columns=['AIC'])\n",
    "result.index=['No_News', 'No_TV', 'No_Radio']\n",
    "\n",
    "result                    "
   ]
  },
  {
   "cell_type": "markdown",
   "id": "240f00d3",
   "metadata": {},
   "source": [
    "News가 제거되었을 때 AIC의 점수가 가장 낮으므로 News를 제거한다."
   ]
  },
  {
   "cell_type": "markdown",
   "id": "f5fc373a",
   "metadata": {
    "tags": []
   },
   "source": [
    "## 6-3 VIF를 통한 다중공선성 진단"
   ]
  },
  {
   "cell_type": "code",
   "execution_count": 7,
   "id": "a1171dc6",
   "metadata": {
    "tags": []
   },
   "outputs": [
    {
     "data": {
      "text/html": [
       "<div>\n",
       "<style scoped>\n",
       "    .dataframe tbody tr th:only-of-type {\n",
       "        vertical-align: middle;\n",
       "    }\n",
       "\n",
       "    .dataframe tbody tr th {\n",
       "        vertical-align: top;\n",
       "    }\n",
       "\n",
       "    .dataframe thead th {\n",
       "        text-align: right;\n",
       "    }\n",
       "</style>\n",
       "<table border=\"1\" class=\"dataframe\">\n",
       "  <thead>\n",
       "    <tr style=\"text-align: right;\">\n",
       "      <th></th>\n",
       "      <th>VIF</th>\n",
       "    </tr>\n",
       "  </thead>\n",
       "  <tbody>\n",
       "    <tr>\n",
       "      <th>TV</th>\n",
       "      <td>1.004611</td>\n",
       "    </tr>\n",
       "    <tr>\n",
       "      <th>Radio</th>\n",
       "      <td>1.144952</td>\n",
       "    </tr>\n",
       "    <tr>\n",
       "      <th>Newspaper</th>\n",
       "      <td>1.145187</td>\n",
       "    </tr>\n",
       "  </tbody>\n",
       "</table>\n",
       "</div>"
      ],
      "text/plain": [
       "                VIF\n",
       "TV         1.004611\n",
       "Radio      1.144952\n",
       "Newspaper  1.145187"
      ]
     },
     "execution_count": 7,
     "metadata": {},
     "output_type": "execute_result"
    }
   ],
   "source": [
    "from patsy import dmatrices\n",
    "from statsmodels.stats.outliers_influence import variance_inflation_factor\n",
    "y,X=dmatrices('Sales~TV+Radio+Newspaper', data=sales, return_type='dataframe')\n",
    "vif_list=[]\n",
    "\n",
    "for i in range(1,len(X.columns)):\n",
    "    vif_list.append(variance_inflation_factor(X.values, i))\n",
    "\n",
    "vif_result=pd.DataFrame(vif_list, columns=['VIF'])\n",
    "vif_result.index=X.columns[1:]\n",
    "\n",
    "vif_result"
   ]
  },
  {
   "cell_type": "markdown",
   "id": "0a495c1d",
   "metadata": {},
   "source": [
    "VIF는 10 이상일 때 다중공선성이 있다고 진단한다. \n",
    "<br>그러나 위 결과에서 모든 독립변수의 VIF가 10이하이므로 다중공선성은 발견되지 않았다고 할 수 있다."
   ]
  },
  {
   "cell_type": "markdown",
   "id": "9efdedb3",
   "metadata": {},
   "source": [
    "## 7 (15점)  \n",
    "- 데이터 링크 : https://raw.githubusercontent.com/Datamanim/datarepo/main/adp/31/adp_31_7.csv\n",
    "- 데이터 설명 : A,B,C,D,E 영업사원의 각 계약 성사 유무 (1:계약 , 0:미계약) 를 나타낸 데이터이다. 영업사원의 평균 계약 성사 건수는 같은지 통계 검정하라"
   ]
  },
  {
   "cell_type": "markdown",
   "id": "11ac3ec5",
   "metadata": {},
   "source": [
    "@@이 부분은 코크란 검정을 파이썬으로 구현할 줄 몰라서 아예 틀렸었습니다 ㅜㅜ 나중에 더 공부하면서 찾은 내용 기반으로 작성했어요\n",
    "<br>그리고 비모수검정과 모수검정을 하나하나 대응시켜서 시험 준비하는 것도 도움이 많이 될 거 같아요\n",
    "<br>독립 표본 T 검정 - 맨위트니 이런식으로 분산 분석까지!"
   ]
  },
  {
   "cell_type": "code",
   "execution_count": 8,
   "id": "8df6fd22",
   "metadata": {
    "tags": []
   },
   "outputs": [],
   "source": [
    "contract=pd.read_csv('https://raw.githubusercontent.com/Datamanim/datarepo/main/adp/31/adp_31_7.csv')\n",
    "contract=contract.drop(columns='Unnamed: 0')"
   ]
  },
  {
   "cell_type": "code",
   "execution_count": 11,
   "id": "2aeb4444",
   "metadata": {
    "tags": []
   },
   "outputs": [
    {
     "name": "stdout",
     "output_type": "stream",
     "text": [
      "P-value는  0.341\n",
      "귀무가설을 채택한다. 따라서 영업사원의 평균 계약 성사 건수는 같다.\n"
     ]
    }
   ],
   "source": [
    "H0='영업사원의 평균 계약 성사 건수는 같다'\n",
    "H1='영업사원의 평균 계약 성사 건수는 같지 않다'\n",
    "\n",
    "from statsmodels.stats.contingency_tables import cochrans_q\n",
    "pvalue=cochrans_q(contract).pvalue\n",
    "alpha=0.05\n",
    "\n",
    "print('P-value는 ', np.round(pvalue,3))\n",
    "if pvalue<alpha:\n",
    "    print('귀무가설을 기각한다. 따라서 영업사원의 평균 계약 성사 건수는 같지 않다')\n",
    "else:\n",
    "    print('귀무가설을 채택한다. 따라서 영업사원의 평균 계약 성사 건수는 같다.')"
   ]
  },
  {
   "cell_type": "markdown",
   "id": "7c054370",
   "metadata": {},
   "source": [
    "## 8 유기견이 하루에 2.2마리 발생한다 (10점)"
   ]
  },
  {
   "cell_type": "markdown",
   "id": "010f34d7",
   "metadata": {},
   "source": [
    "## 8-1 한 마리도 안 버려질 확률"
   ]
  },
  {
   "cell_type": "code",
   "execution_count": 13,
   "id": "90375070",
   "metadata": {
    "tags": []
   },
   "outputs": [
    {
     "name": "stdout",
     "output_type": "stream",
     "text": [
      "한 마리도 버려지지 않을 확률은  0.11\n"
     ]
    }
   ],
   "source": [
    "from scipy.stats import poisson\n",
    "\n",
    "# 발생하는 유기견의 평균 수\n",
    "lambda_dog = 2.2\n",
    "\n",
    "# 1마리도 발생하지 않을 확률 계산\n",
    "\n",
    "probability_zero_dogs = poisson.pmf(0, lambda_dog)\n",
    "\n",
    "print('한 마리도 버려지지 않을 확률은 ', np.round(probability_zero_dogs,2))"
   ]
  },
  {
   "cell_type": "markdown",
   "id": "cfbadb24",
   "metadata": {},
   "source": [
    "## 8-2 적어도 2마리 버려질 확률"
   ]
  },
  {
   "cell_type": "code",
   "execution_count": 14,
   "id": "d68c1c07",
   "metadata": {
    "tags": []
   },
   "outputs": [
    {
     "name": "stdout",
     "output_type": "stream",
     "text": [
      "적어도 두 마리가 버려질 확률은  0.65\n"
     ]
    }
   ],
   "source": [
    "#1마리까지 버려질 확률의 누적확률을 구한 후 전체 확률에서 빼기\n",
    "\n",
    "probability_at_least_2_dogs = 1 - poisson.cdf(1, lambda_dog)\n",
    "print('적어도 두 마리가 버려질 확률은 ', np.round(probability_at_least_2_dogs,2))"
   ]
  }
 ],
 "metadata": {
  "kernelspec": {
   "display_name": "Python 3 (ipykernel)",
   "language": "python",
   "name": "python3"
  },
  "language_info": {
   "codemirror_mode": {
    "name": "ipython",
    "version": 3
   },
   "file_extension": ".py",
   "mimetype": "text/x-python",
   "name": "python",
   "nbconvert_exporter": "python",
   "pygments_lexer": "ipython3",
   "version": "3.8.18"
  }
 },
 "nbformat": 4,
 "nbformat_minor": 5
}
