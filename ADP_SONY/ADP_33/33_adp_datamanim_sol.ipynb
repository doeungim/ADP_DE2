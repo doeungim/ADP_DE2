{
 "cells": [
  {
   "cell_type": "markdown",
   "id": "770ca83e-15a8-4739-ab58-cf14959f2b9f",
   "metadata": {},
   "source": [
    "- 33회 시험에서는 전처리가 복잡했던 것이 특징, 동형모의고사이며 실제 시험 문제와는 다릅니다.      \n",
    "    저작권은 datamanim에 있으면 외부유출 및 공개 블로그 깃 등에 업로드를 금지합니다.\n",
    "- 실제 시험에서는 문제 표기 없습니다.\n",
    "- 데이터를 코드랑 같은 경로로 위치시켜야 합니다.\n",
    "- 풀이영상을 보기 전에 4시간 동안 시간을 따로 내어 풀어본 후에 보시길!"
   ]
  },
  {
   "cell_type": "markdown",
   "id": "a425c592",
   "metadata": {},
   "source": [
    "# 33회 ADP 복원 "
   ]
  },
  {
   "cell_type": "markdown",
   "id": "67e24edf",
   "metadata": {},
   "source": [
    "# 기계학습 (60점)"
   ]
  },
  {
   "cell_type": "markdown",
   "id": "db7dc7ae-679c-46f6-bab0-1e66014a9948",
   "metadata": {},
   "source": [
    "## 데이터 설명\n",
    "- 데이터 출처 : https://archive.ics.uci.edu/ml/datasets/HCV+data 후처리\n",
    "- 데이터 링크 : ./data/p1.csv\n",
    "- 데이터 설명 : 혈액수치 데이터, 간염 정도에 따른\n",
    "\n",
    "Category (종속변수) \n",
    "- 0: 정상\n",
    "- 1,2,3 (간염 정도, 심각성 : 3>2>1, 3은 간경화)\n"
   ]
  },
  {
   "cell_type": "code",
   "execution_count": 11,
   "id": "cc40104e",
   "metadata": {},
   "outputs": [
    {
     "data": {
      "text/html": [
       "<div>\n",
       "<style scoped>\n",
       "    .dataframe tbody tr th:only-of-type {\n",
       "        vertical-align: middle;\n",
       "    }\n",
       "\n",
       "    .dataframe tbody tr th {\n",
       "        vertical-align: top;\n",
       "    }\n",
       "\n",
       "    .dataframe thead th {\n",
       "        text-align: right;\n",
       "    }\n",
       "</style>\n",
       "<table border=\"1\" class=\"dataframe\">\n",
       "  <thead>\n",
       "    <tr style=\"text-align: right;\">\n",
       "      <th></th>\n",
       "      <th>Category</th>\n",
       "      <th>Age</th>\n",
       "      <th>Sex</th>\n",
       "      <th>ALB</th>\n",
       "      <th>ALP</th>\n",
       "      <th>ALT</th>\n",
       "      <th>AST</th>\n",
       "      <th>BIL</th>\n",
       "      <th>CHE</th>\n",
       "      <th>CHOL</th>\n",
       "      <th>CREA</th>\n",
       "      <th>GGT</th>\n",
       "      <th>PROT</th>\n",
       "    </tr>\n",
       "  </thead>\n",
       "  <tbody>\n",
       "    <tr>\n",
       "      <th>0</th>\n",
       "      <td>0=B</td>\n",
       "      <td>32</td>\n",
       "      <td>m</td>\n",
       "      <td>38.5</td>\n",
       "      <td>52.5</td>\n",
       "      <td>7.7</td>\n",
       "      <td>22.1</td>\n",
       "      <td>7.5</td>\n",
       "      <td>6.93</td>\n",
       "      <td>3.23</td>\n",
       "      <td>106.0</td>\n",
       "      <td>12.1</td>\n",
       "      <td>69.0</td>\n",
       "    </tr>\n",
       "    <tr>\n",
       "      <th>1</th>\n",
       "      <td>0=B</td>\n",
       "      <td>32</td>\n",
       "      <td>m</td>\n",
       "      <td>38.5</td>\n",
       "      <td>70.3</td>\n",
       "      <td>18.0</td>\n",
       "      <td>24.7</td>\n",
       "      <td>3.9</td>\n",
       "      <td>11.17</td>\n",
       "      <td>4.80</td>\n",
       "      <td>74.0</td>\n",
       "      <td>15.6</td>\n",
       "      <td>76.5</td>\n",
       "    </tr>\n",
       "    <tr>\n",
       "      <th>2</th>\n",
       "      <td>0=B</td>\n",
       "      <td>32</td>\n",
       "      <td>m</td>\n",
       "      <td>46.9</td>\n",
       "      <td>74.7</td>\n",
       "      <td>36.2</td>\n",
       "      <td>52.6</td>\n",
       "      <td>6.1</td>\n",
       "      <td>8.84</td>\n",
       "      <td>5.20</td>\n",
       "      <td>86.0</td>\n",
       "      <td>33.2</td>\n",
       "      <td>79.3</td>\n",
       "    </tr>\n",
       "    <tr>\n",
       "      <th>3</th>\n",
       "      <td>0=B</td>\n",
       "      <td>32</td>\n",
       "      <td>m</td>\n",
       "      <td>43.2</td>\n",
       "      <td>52.0</td>\n",
       "      <td>30.6</td>\n",
       "      <td>22.6</td>\n",
       "      <td>18.9</td>\n",
       "      <td>7.33</td>\n",
       "      <td>4.74</td>\n",
       "      <td>80.0</td>\n",
       "      <td>33.8</td>\n",
       "      <td>75.7</td>\n",
       "    </tr>\n",
       "    <tr>\n",
       "      <th>4</th>\n",
       "      <td>0=B</td>\n",
       "      <td>32</td>\n",
       "      <td>m</td>\n",
       "      <td>39.2</td>\n",
       "      <td>74.1</td>\n",
       "      <td>32.6</td>\n",
       "      <td>24.8</td>\n",
       "      <td>9.6</td>\n",
       "      <td>9.15</td>\n",
       "      <td>4.32</td>\n",
       "      <td>76.0</td>\n",
       "      <td>29.9</td>\n",
       "      <td>68.7</td>\n",
       "    </tr>\n",
       "  </tbody>\n",
       "</table>\n",
       "</div>"
      ],
      "text/plain": [
       "  Category  Age Sex   ALB   ALP   ALT   AST   BIL    CHE  CHOL   CREA   GGT  \\\n",
       "0      0=B   32   m  38.5  52.5   7.7  22.1   7.5   6.93  3.23  106.0  12.1   \n",
       "1      0=B   32   m  38.5  70.3  18.0  24.7   3.9  11.17  4.80   74.0  15.6   \n",
       "2      0=B   32   m  46.9  74.7  36.2  52.6   6.1   8.84  5.20   86.0  33.2   \n",
       "3      0=B   32   m  43.2  52.0  30.6  22.6  18.9   7.33  4.74   80.0  33.8   \n",
       "4      0=B   32   m  39.2  74.1  32.6  24.8   9.6   9.15  4.32   76.0  29.9   \n",
       "\n",
       "   PROT  \n",
       "0  69.0  \n",
       "1  76.5  \n",
       "2  79.3  \n",
       "3  75.7  \n",
       "4  68.7  "
      ]
     },
     "execution_count": 11,
     "metadata": {},
     "output_type": "execute_result"
    }
   ],
   "source": [
    "import pandas as pd \n",
    "df = pd.read_csv(\"./data/p1.csv\")\n",
    "df.head()"
   ]
  },
  {
   "cell_type": "markdown",
   "id": "06efa92a-3f79-4fed-bfb1-193a7dfeccbf",
   "metadata": {},
   "source": [
    "## 1-1  결측치 처리 방안 2개 제시하고, 처리 전후 비교 및 더 나은 방안 선택하여 전처리 완료"
   ]
  },
  {
   "cell_type": "code",
   "execution_count": 12,
   "id": "99215d01-ba32-4811-b29a-4a33a7668df9",
   "metadata": {},
   "outputs": [
    {
     "data": {
      "text/html": [
       "<div>\n",
       "<style scoped>\n",
       "    .dataframe tbody tr th:only-of-type {\n",
       "        vertical-align: middle;\n",
       "    }\n",
       "\n",
       "    .dataframe tbody tr th {\n",
       "        vertical-align: top;\n",
       "    }\n",
       "\n",
       "    .dataframe thead th {\n",
       "        text-align: right;\n",
       "    }\n",
       "</style>\n",
       "<table border=\"1\" class=\"dataframe\">\n",
       "  <thead>\n",
       "    <tr style=\"text-align: right;\">\n",
       "      <th></th>\n",
       "      <th>결측치수</th>\n",
       "      <th>타입</th>\n",
       "      <th>전처리 전 표준편차</th>\n",
       "      <th>전처리 전 평균</th>\n",
       "      <th>전처리 후 표준편차</th>\n",
       "      <th>전처리 후 평균</th>\n",
       "    </tr>\n",
       "  </thead>\n",
       "  <tbody>\n",
       "    <tr>\n",
       "      <th>ALB</th>\n",
       "      <td>1</td>\n",
       "      <td>float64</td>\n",
       "      <td>5.41</td>\n",
       "      <td>41.82</td>\n",
       "      <td>5.42</td>\n",
       "      <td>41.80</td>\n",
       "    </tr>\n",
       "    <tr>\n",
       "      <th>ALP</th>\n",
       "      <td>18</td>\n",
       "      <td>float64</td>\n",
       "      <td>25.27</td>\n",
       "      <td>67.82</td>\n",
       "      <td>25.35</td>\n",
       "      <td>67.50</td>\n",
       "    </tr>\n",
       "    <tr>\n",
       "      <th>ALT</th>\n",
       "      <td>1</td>\n",
       "      <td>float64</td>\n",
       "      <td>21.23</td>\n",
       "      <td>27.60</td>\n",
       "      <td>21.21</td>\n",
       "      <td>27.60</td>\n",
       "    </tr>\n",
       "    <tr>\n",
       "      <th>CHOL</th>\n",
       "      <td>10</td>\n",
       "      <td>float64</td>\n",
       "      <td>1.12</td>\n",
       "      <td>5.38</td>\n",
       "      <td>1.11</td>\n",
       "      <td>5.37</td>\n",
       "    </tr>\n",
       "    <tr>\n",
       "      <th>PROT</th>\n",
       "      <td>1</td>\n",
       "      <td>float64</td>\n",
       "      <td>4.93</td>\n",
       "      <td>72.25</td>\n",
       "      <td>4.93</td>\n",
       "      <td>72.25</td>\n",
       "    </tr>\n",
       "  </tbody>\n",
       "</table>\n",
       "</div>"
      ],
      "text/plain": [
       "      결측치수       타입  전처리 전 표준편차  전처리 전 평균  전처리 후 표준편차  전처리 후 평균\n",
       "ALB      1  float64        5.41     41.82        5.42     41.80\n",
       "ALP     18  float64       25.27     67.82       25.35     67.50\n",
       "ALT      1  float64       21.23     27.60       21.21     27.60\n",
       "CHOL    10  float64        1.12      5.38        1.11      5.37\n",
       "PROT     1  float64        4.93     72.25        4.93     72.25"
      ]
     },
     "metadata": {},
     "output_type": "display_data"
    },
    {
     "name": "stdout",
     "output_type": "stream",
     "text": [
      "\n",
      "결측치 처리방안\n",
      "1. 해당 행 제거\n",
      "2. 카테고리별 그룹핑 하여 범주형변수의 경우 최빈값, 수치형변수의 경우 평균값으로 대치\n",
      "\n",
      "결측치는 ALP 컬럼\n",
      "1번 방법으로 행 제거시 4.28%의 데이터 손실\n",
      "2번 방법으로 결측치 대치하면 평균과 표준 편차 큰차이 없음\n",
      "\n"
     ]
    }
   ],
   "source": [
    "remove_ratio = round((df.shape[0] -  df.dropna().shape[0]) /df.shape[0] * 100,2)\n",
    "isnull = pd.concat([df.isnull().sum()[df.isnull().sum() != 0],df.dtypes],axis=1).dropna()\n",
    "isnull[0] = isnull[0].astype('int')\n",
    "null_col = isnull.index\n",
    "\n",
    "\n",
    "df_preprocessing = df.copy()\n",
    "for idx in null_col:\n",
    "    df_preprocessing[idx] = df_preprocessing[idx].fillna(df_preprocessing.groupby('Category')[idx].transform('mean'))\n",
    "\n",
    "\n",
    "result = pd.concat([isnull,df[null_col].describe().T[['std','mean']].round(2),df_preprocessing[null_col].describe().T[['std','mean']].round(2)],axis=1)\n",
    "result.columns =['결측치수','타입','전처리 전 표준편차','전처리 전 평균','전처리 후 표준편차','전처리 후 평균']\n",
    "display(result)\n",
    "print(f'''\n",
    "결측치 처리방안\n",
    "1. 해당 행 제거\n",
    "2. 카테고리별 그룹핑 하여 범주형변수의 경우 최빈값, 수치형변수의 경우 평균값으로 대치\n",
    "\n",
    "결측치는 ALP 컬럼\n",
    "1번 방법으로 행 제거시 {remove_ratio}%의 데이터 손실\n",
    "2번 방법으로 결측치 대치하면 평균과 표준 편차 큰차이 없음\n",
    "''')"
   ]
  },
  {
   "cell_type": "markdown",
   "id": "c4040cd9",
   "metadata": {},
   "source": [
    "## 1-2 이상치를 확인하고 처리 여부 판단 후 작업"
   ]
  },
  {
   "cell_type": "code",
   "execution_count": 13,
   "id": "913fc6d7-0d6c-49d0-aa5c-c48fc7e6f81c",
   "metadata": {},
   "outputs": [],
   "source": [
    "import seaborn as sns\n",
    "import matplotlib.pyplot as plt"
   ]
  },
  {
   "cell_type": "code",
   "execution_count": 14,
   "id": "c8f1267b-15e0-427f-a4ec-983e378de8a2",
   "metadata": {},
   "outputs": [
    {
     "data": {
      "image/png": "[encoded data removed]",
      "text/plain": [
       "<Figure size 1000x500 with 1 Axes>"
      ]
     },
     "metadata": {},
     "output_type": "display_data"
    },
    {
     "name": "stdout",
     "output_type": "stream",
     "text": [
      "\n",
      "컬럼 별 이상치가 존재하는 것으로 보인다. 하지만 이상치가 간염 정도를 구분짓는 중요 요인으로 작용할 수 있기에 따로 데이터 변환을 진행하진 않는다.\n",
      "\n"
     ]
    }
   ],
   "source": [
    "df_preprocessing.drop(columns =['Category','Sex']).plot(kind='box',figsize=(10,5))\n",
    "plt.show()\n",
    "print('''\n",
    "컬럼 별 이상치가 존재하는 것으로 보인다. 하지만 이상치가 간염 정도를 구분짓는 중요 요인으로 작용할 수 있기에 따로 데이터 변환을 진행하진 않는다.\n",
    "''')"
   ]
  },
  {
   "cell_type": "markdown",
   "id": "f583b26b",
   "metadata": {},
   "source": [
    "## 1-3 위 두 작업 적용 후 EDA 진행) 및 종속변수를 기준으로 각 독립변수의 차이가 있는지 확인하라 (시각화포함)"
   ]
  },
  {
   "cell_type": "code",
   "execution_count": 15,
   "id": "8d7e2306",
   "metadata": {},
   "outputs": [
    {
     "data": {
      "image/png": "[encoded data removed]",
      "text/plain": [
       "<Figure size 1500x700 with 11 Axes>"
      ]
     },
     "metadata": {},
     "output_type": "display_data"
    }
   ],
   "source": [
    "fig,axes = plt.subplots(3,4,figsize=(15,7))\n",
    "\n",
    "target_col = ['Age', 'ALB', 'ALP', 'ALT', 'AST', 'BIL', 'CHE','CHOL', 'CREA', 'GGT', 'PROT']\n",
    "for i,ax in enumerate(axes.flat[:-1]):\n",
    "    target_df = df_preprocessing[['Category',target_col[i]]]\n",
    "    sns.boxplot(x= 'Category',y = target_col[i] ,data = target_df, ax=ax)\n",
    "    ax.set_xlabel('')\n",
    "    ax.set_ylabel('')\n",
    "    ax.set_title(target_col[i])\n",
    "    \n",
    "axes.flat[-1].remove()\n",
    "plt.tight_layout()\n",
    "plt.show()"
   ]
  },
  {
   "cell_type": "code",
   "execution_count": null,
   "id": "3084cdc1-5d55-4688-83d9-786fbacadcc6",
   "metadata": {},
   "outputs": [],
   "source": []
  },
  {
   "cell_type": "markdown",
   "id": "c9ef20a8",
   "metadata": {},
   "source": [
    "## 1-4 주어진 데이터로부터 주성분분석을 수행해 새로운 설명변수를 도출할 수 있는지를 검토 ∙ 판단한 뒤, 그 결과를 제시하시오"
   ]
  },
  {
   "cell_type": "code",
   "execution_count": null,
   "id": "d5089655",
   "metadata": {},
   "outputs": [],
   "source": []
  },
  {
   "cell_type": "markdown",
   "id": "cd2b9108",
   "metadata": {},
   "source": [
    "## 2-1 데이터 불균형이 왜 문제인지 설명하고 불균형 해결방법에 대해 두가지를 설명하라"
   ]
  },
  {
   "cell_type": "code",
   "execution_count": null,
   "id": "55525fa8",
   "metadata": {},
   "outputs": [],
   "source": []
  },
  {
   "cell_type": "markdown",
   "id": "bca02e1a",
   "metadata": {},
   "source": [
    "## 2-2 불균형 데이터 분류모델에 적합한 평가지표 3개 제시하고 그 이유 설명하라"
   ]
  },
  {
   "cell_type": "code",
   "execution_count": null,
   "id": "34d1c651",
   "metadata": {},
   "outputs": [],
   "source": []
  },
  {
   "cell_type": "markdown",
   "id": "423f2886",
   "metadata": {},
   "source": [
    "## 2-3 종속 변수를 정상(Category 0)과 비정상(Category 1,2,3)로 변경한 후 위의 2가지 불균형 처리 방법을 사용하고, 3가지 평가지표로 결과를 각각 평가하라.\n",
    "(학습 규칙)\n",
    "- 종속 변수를 이진화 후 불균형 처리 방법 진행\n",
    "- 전처리 후 데이터 행의 index number를 초기화 하라(0부터 시작)\n",
    "- index number 값이 5로 나눈 나머지가 0이라면 test, 그 외의 경우 train set으로 하여 진행\n",
    "- 3가지 분류 모델을 사용하라"
   ]
  },
  {
   "cell_type": "code",
   "execution_count": null,
   "id": "0cf49767",
   "metadata": {},
   "outputs": [],
   "source": []
  },
  {
   "cell_type": "markdown",
   "id": "23cf4e57-5dbf-4fc4-9ac6-79d451931f42",
   "metadata": {},
   "source": [
    "## 3-1 1에서 전처리 완료한 데이터를 바탕으로 종속변수에서 0을 제외한 1,2,3의 데이터만 필터하여 분류모델 학습 및 평가를 진행하라. \n",
    "(학습 규칙)\n",
    "- 전처리 후 데이터 행의 index number를 초기화 하라(0부터 시작)\n",
    "- index number 값이 5로 나눈 나머지가 0이라면 test, 그 외의 경우 train set으로 하여 진행\n",
    "- 3개의 분류 모델을 사용하라"
   ]
  },
  {
   "cell_type": "code",
   "execution_count": null,
   "id": "41eb8b12-0697-4325-ad16-69efd0cce282",
   "metadata": {},
   "outputs": [],
   "source": []
  },
  {
   "cell_type": "markdown",
   "id": "87b2c085-b4fd-4537-b559-41240bf24d43",
   "metadata": {},
   "source": [
    "## 3-2 학습한 모델 결과와 평가지표를 바탕으로 간염여부에 영향을 미치는 요소들에 대해 논의하라"
   ]
  },
  {
   "cell_type": "code",
   "execution_count": null,
   "id": "d364736d-933c-409e-a7e2-6923862df8f1",
   "metadata": {},
   "outputs": [],
   "source": []
  },
  {
   "cell_type": "markdown",
   "id": "91c88e67",
   "metadata": {},
   "source": [
    "## 데이터 설명\n",
    "- 데이터 출처 : https://www.data.go.kr/data/15048032/fileData.do / 후처리, 통계청 날씨정보\n",
    "- 데이터 링크 : \n",
    "    - ./data/p2_sb_2021.csv\n",
    "    - ./data/p2_sb_2022.csv\n",
    "    - ./data/p2_sb_2023.csv\n",
    "    - ./data/p2_w_2021.csv\n",
    "    - ./data/p2_w_2022.csv\n",
    "    - ./data/p2_w_2023.csv\n",
    "- 데이터 설명 : \n",
    "    - 21년~23년의 J시의 2개 지하철호선 지하철의 시간대별 승하차 인원 정보 데이터 (p2_sb_년도.csv)\n",
    "        - X5~ X22 : 5시부터 22시 승차 또는 하차 인원, (X5 : 05시의 계절 날짜와 대응)\n",
    "        - 역번호 : 각 정류장의 고유 번호\n",
    "        - 승하차구분 : 승차 또는 하차\n",
    "    - 21년~23년의 J시의 특정지역구의 시간대별 게절성 정보 데이터 (p2_w_년도.csv)\n",
    "        - 시간별 J시의 날씨정보 "
   ]
  },
  {
   "cell_type": "code",
   "execution_count": 17,
   "id": "210ef212",
   "metadata": {},
   "outputs": [
    {
     "data": {
      "text/html": [
       "<div>\n",
       "<style scoped>\n",
       "    .dataframe tbody tr th:only-of-type {\n",
       "        vertical-align: middle;\n",
       "    }\n",
       "\n",
       "    .dataframe tbody tr th {\n",
       "        vertical-align: top;\n",
       "    }\n",
       "\n",
       "    .dataframe thead th {\n",
       "        text-align: right;\n",
       "    }\n",
       "</style>\n",
       "<table border=\"1\" class=\"dataframe\">\n",
       "  <thead>\n",
       "    <tr style=\"text-align: right;\">\n",
       "      <th></th>\n",
       "      <th>날짜</th>\n",
       "      <th>호선</th>\n",
       "      <th>역번호</th>\n",
       "      <th>승하차구분</th>\n",
       "      <th>X5</th>\n",
       "      <th>X6</th>\n",
       "      <th>X7</th>\n",
       "      <th>X8</th>\n",
       "      <th>X9</th>\n",
       "      <th>X10</th>\n",
       "      <th>...</th>\n",
       "      <th>X13</th>\n",
       "      <th>X14</th>\n",
       "      <th>X15</th>\n",
       "      <th>X16</th>\n",
       "      <th>X17</th>\n",
       "      <th>X18</th>\n",
       "      <th>X19</th>\n",
       "      <th>X20</th>\n",
       "      <th>X21</th>\n",
       "      <th>X22</th>\n",
       "    </tr>\n",
       "  </thead>\n",
       "  <tbody>\n",
       "    <tr>\n",
       "      <th>0</th>\n",
       "      <td>2021-01-01</td>\n",
       "      <td>A</td>\n",
       "      <td>201</td>\n",
       "      <td>승차</td>\n",
       "      <td>22.0</td>\n",
       "      <td>25</td>\n",
       "      <td>61</td>\n",
       "      <td>64</td>\n",
       "      <td>58</td>\n",
       "      <td>53</td>\n",
       "      <td>...</td>\n",
       "      <td>109</td>\n",
       "      <td>149</td>\n",
       "      <td>196</td>\n",
       "      <td>168</td>\n",
       "      <td>178</td>\n",
       "      <td>177</td>\n",
       "      <td>117</td>\n",
       "      <td>138</td>\n",
       "      <td>90</td>\n",
       "      <td>58</td>\n",
       "    </tr>\n",
       "    <tr>\n",
       "      <th>1</th>\n",
       "      <td>2021-01-01</td>\n",
       "      <td>A</td>\n",
       "      <td>201</td>\n",
       "      <td>하차</td>\n",
       "      <td>12.0</td>\n",
       "      <td>49</td>\n",
       "      <td>87</td>\n",
       "      <td>142</td>\n",
       "      <td>101</td>\n",
       "      <td>110</td>\n",
       "      <td>...</td>\n",
       "      <td>105</td>\n",
       "      <td>125</td>\n",
       "      <td>114</td>\n",
       "      <td>86</td>\n",
       "      <td>119</td>\n",
       "      <td>63</td>\n",
       "      <td>26</td>\n",
       "      <td>25</td>\n",
       "      <td>62</td>\n",
       "      <td>18</td>\n",
       "    </tr>\n",
       "    <tr>\n",
       "      <th>2</th>\n",
       "      <td>2021-01-01</td>\n",
       "      <td>A</td>\n",
       "      <td>202</td>\n",
       "      <td>승차</td>\n",
       "      <td>43.0</td>\n",
       "      <td>53</td>\n",
       "      <td>70</td>\n",
       "      <td>119</td>\n",
       "      <td>94</td>\n",
       "      <td>103</td>\n",
       "      <td>...</td>\n",
       "      <td>331</td>\n",
       "      <td>323</td>\n",
       "      <td>437</td>\n",
       "      <td>447</td>\n",
       "      <td>881</td>\n",
       "      <td>531</td>\n",
       "      <td>335</td>\n",
       "      <td>441</td>\n",
       "      <td>403</td>\n",
       "      <td>137</td>\n",
       "    </tr>\n",
       "    <tr>\n",
       "      <th>3</th>\n",
       "      <td>2021-01-01</td>\n",
       "      <td>A</td>\n",
       "      <td>202</td>\n",
       "      <td>하차</td>\n",
       "      <td>21.0</td>\n",
       "      <td>154</td>\n",
       "      <td>238</td>\n",
       "      <td>727</td>\n",
       "      <td>425</td>\n",
       "      <td>356</td>\n",
       "      <td>...</td>\n",
       "      <td>330</td>\n",
       "      <td>342</td>\n",
       "      <td>321</td>\n",
       "      <td>333</td>\n",
       "      <td>331</td>\n",
       "      <td>163</td>\n",
       "      <td>119</td>\n",
       "      <td>110</td>\n",
       "      <td>137</td>\n",
       "      <td>47</td>\n",
       "    </tr>\n",
       "    <tr>\n",
       "      <th>4</th>\n",
       "      <td>2021-01-01</td>\n",
       "      <td>A</td>\n",
       "      <td>203</td>\n",
       "      <td>승차</td>\n",
       "      <td>21.0</td>\n",
       "      <td>27</td>\n",
       "      <td>48</td>\n",
       "      <td>81</td>\n",
       "      <td>62</td>\n",
       "      <td>60</td>\n",
       "      <td>...</td>\n",
       "      <td>156</td>\n",
       "      <td>197</td>\n",
       "      <td>197</td>\n",
       "      <td>203</td>\n",
       "      <td>213</td>\n",
       "      <td>190</td>\n",
       "      <td>145</td>\n",
       "      <td>208</td>\n",
       "      <td>135</td>\n",
       "      <td>76</td>\n",
       "    </tr>\n",
       "  </tbody>\n",
       "</table>\n",
       "<p>5 rows × 22 columns</p>\n",
       "</div>"
      ],
      "text/plain": [
       "           날짜 호선  역번호 승하차구분    X5   X6   X7   X8   X9  X10  ...  X13  X14  \\\n",
       "0  2021-01-01  A  201    승차  22.0   25   61   64   58   53  ...  109  149   \n",
       "1  2021-01-01  A  201    하차  12.0   49   87  142  101  110  ...  105  125   \n",
       "2  2021-01-01  A  202    승차  43.0   53   70  119   94  103  ...  331  323   \n",
       "3  2021-01-01  A  202    하차  21.0  154  238  727  425  356  ...  330  342   \n",
       "4  2021-01-01  A  203    승차  21.0   27   48   81   62   60  ...  156  197   \n",
       "\n",
       "   X15  X16  X17  X18  X19  X20  X21  X22  \n",
       "0  196  168  178  177  117  138   90   58  \n",
       "1  114   86  119   63   26   25   62   18  \n",
       "2  437  447  881  531  335  441  403  137  \n",
       "3  321  333  331  163  119  110  137   47  \n",
       "4  197  203  213  190  145  208  135   76  \n",
       "\n",
       "[5 rows x 22 columns]"
      ]
     },
     "metadata": {},
     "output_type": "display_data"
    },
    {
     "data": {
      "text/html": [
       "<div>\n",
       "<style scoped>\n",
       "    .dataframe tbody tr th:only-of-type {\n",
       "        vertical-align: middle;\n",
       "    }\n",
       "\n",
       "    .dataframe tbody tr th {\n",
       "        vertical-align: top;\n",
       "    }\n",
       "\n",
       "    .dataframe thead th {\n",
       "        text-align: right;\n",
       "    }\n",
       "</style>\n",
       "<table border=\"1\" class=\"dataframe\">\n",
       "  <thead>\n",
       "    <tr style=\"text-align: right;\">\n",
       "      <th></th>\n",
       "      <th>일시</th>\n",
       "      <th>기온</th>\n",
       "      <th>강수량</th>\n",
       "      <th>풍속</th>\n",
       "      <th>습도</th>\n",
       "      <th>증기압</th>\n",
       "      <th>현지기압</th>\n",
       "      <th>전운량</th>\n",
       "      <th>중하층운량</th>\n",
       "      <th>지면온도</th>\n",
       "    </tr>\n",
       "  </thead>\n",
       "  <tbody>\n",
       "    <tr>\n",
       "      <th>0</th>\n",
       "      <td>2021-01-01 00:00</td>\n",
       "      <td>-8.3</td>\n",
       "      <td>NaN</td>\n",
       "      <td>1.8</td>\n",
       "      <td>66</td>\n",
       "      <td>2.2</td>\n",
       "      <td>1016.4</td>\n",
       "      <td>0.0</td>\n",
       "      <td>0</td>\n",
       "      <td>-6.8</td>\n",
       "    </tr>\n",
       "    <tr>\n",
       "      <th>1</th>\n",
       "      <td>2021-01-01 01:00</td>\n",
       "      <td>-8.7</td>\n",
       "      <td>NaN</td>\n",
       "      <td>2.4</td>\n",
       "      <td>68</td>\n",
       "      <td>2.2</td>\n",
       "      <td>1016.4</td>\n",
       "      <td>0.0</td>\n",
       "      <td>0</td>\n",
       "      <td>-6.9</td>\n",
       "    </tr>\n",
       "    <tr>\n",
       "      <th>2</th>\n",
       "      <td>2021-01-01 02:00</td>\n",
       "      <td>-9.1</td>\n",
       "      <td>NaN</td>\n",
       "      <td>1.6</td>\n",
       "      <td>69</td>\n",
       "      <td>2.1</td>\n",
       "      <td>1016.2</td>\n",
       "      <td>0.0</td>\n",
       "      <td>0</td>\n",
       "      <td>-7.1</td>\n",
       "    </tr>\n",
       "    <tr>\n",
       "      <th>3</th>\n",
       "      <td>2021-01-01 03:00</td>\n",
       "      <td>-9.3</td>\n",
       "      <td>NaN</td>\n",
       "      <td>1.1</td>\n",
       "      <td>70</td>\n",
       "      <td>2.1</td>\n",
       "      <td>1016.8</td>\n",
       "      <td>0.0</td>\n",
       "      <td>0</td>\n",
       "      <td>-7.3</td>\n",
       "    </tr>\n",
       "    <tr>\n",
       "      <th>4</th>\n",
       "      <td>2021-01-01 04:00</td>\n",
       "      <td>-9.3</td>\n",
       "      <td>NaN</td>\n",
       "      <td>0.3</td>\n",
       "      <td>71</td>\n",
       "      <td>2.2</td>\n",
       "      <td>1016.2</td>\n",
       "      <td>0.0</td>\n",
       "      <td>0</td>\n",
       "      <td>-7.5</td>\n",
       "    </tr>\n",
       "  </tbody>\n",
       "</table>\n",
       "</div>"
      ],
      "text/plain": [
       "                 일시   기온  강수량   풍속  습도  증기압    현지기압  전운량  중하층운량  지면온도\n",
       "0  2021-01-01 00:00 -8.3  NaN  1.8  66  2.2  1016.4  0.0      0  -6.8\n",
       "1  2021-01-01 01:00 -8.7  NaN  2.4  68  2.2  1016.4  0.0      0  -6.9\n",
       "2  2021-01-01 02:00 -9.1  NaN  1.6  69  2.1  1016.2  0.0      0  -7.1\n",
       "3  2021-01-01 03:00 -9.3  NaN  1.1  70  2.1  1016.8  0.0      0  -7.3\n",
       "4  2021-01-01 04:00 -9.3  NaN  0.3  71  2.2  1016.2  0.0      0  -7.5"
      ]
     },
     "metadata": {},
     "output_type": "display_data"
    }
   ],
   "source": [
    "p = pd.read_csv('./data/p2_sb_2021.csv')\n",
    "weather = pd.read_csv('./data/p2_w_2021.csv')\n",
    "display(p.head())\n",
    "display(weather.head())"
   ]
  },
  {
   "cell_type": "markdown",
   "id": "7613453d",
   "metadata": {},
   "source": [
    "## 4-1 아래 조건들을 참고하여 전처리를 시행하고 훈련데이터에 대한 기초통계량을 구하시오\n",
    "1. 승하차 데이터에서 X5~X22 모든컬럼이 0의 값을 가지는 경우 해당 날짜,호선,역번호 승하차 행은 제외한다. \n",
    "2. 승하차 데이터를 날짜,호선,역번호,시간대별(05~22시) 승객수의 총합을 구하여라(승차 + 하차), 결측치는 0명으로 간주한다. 컬럼명은 users로 변경한다.\n",
    "3. 날짜 데이터의 강수 데이터는 결측치를 0, 그 외 컬럼의 결측치는 직전값으로 대치한다.\n",
    "4. 날짜데이터와 일자,시간별 승하차인원 데이터를 동일날짜,시간에 대해 합친다.\n",
    "5. 일자정보를 바탕으로 주말 여부를 나타내는 weekday컬럼을 추가한다. (주말=1,평일=0)\n",
    "6. 21년,22년 데이터는 훈련데이터, 23년 데이터는 테스트 데이터로 사용한다."
   ]
  },
  {
   "cell_type": "code",
   "execution_count": 19,
   "id": "822e6db8-be3c-48b3-8f28-38d442e2e3b2",
   "metadata": {},
   "outputs": [
    {
     "data": {
      "text/plain": [
       "['p2_sb_2023.csv',\n",
       " 'p2_sb_2022.csv',\n",
       " 'p2_sb_2021.csv',\n",
       " 'p2_w_2022.csv',\n",
       " 'p2_w_2023.csv',\n",
       " 'p2_w_2021.csv']"
      ]
     },
     "execution_count": 19,
     "metadata": {},
     "output_type": "execute_result"
    }
   ],
   "source": [
    "import os\n",
    "[x for x in os.listdir('./data/') if 'p2' in x]"
   ]
  },
  {
   "cell_type": "code",
   "execution_count": 90,
   "id": "a2b860bf-1b45-45fa-97cd-6e90f9b21be7",
   "metadata": {},
   "outputs": [
    {
     "data": {
      "text/html": [
       "<div>\n",
       "<style scoped>\n",
       "    .dataframe tbody tr th:only-of-type {\n",
       "        vertical-align: middle;\n",
       "    }\n",
       "\n",
       "    .dataframe tbody tr th {\n",
       "        vertical-align: top;\n",
       "    }\n",
       "\n",
       "    .dataframe thead th {\n",
       "        text-align: right;\n",
       "    }\n",
       "</style>\n",
       "<table border=\"1\" class=\"dataframe\">\n",
       "  <thead>\n",
       "    <tr style=\"text-align: right;\">\n",
       "      <th></th>\n",
       "      <th>호선</th>\n",
       "      <th>역번호</th>\n",
       "      <th>users</th>\n",
       "      <th>일시</th>\n",
       "      <th>기온</th>\n",
       "      <th>강수량</th>\n",
       "      <th>풍속</th>\n",
       "      <th>습도</th>\n",
       "      <th>증기압</th>\n",
       "      <th>현지기압</th>\n",
       "      <th>전운량</th>\n",
       "      <th>중하층운량</th>\n",
       "      <th>지면온도</th>\n",
       "      <th>weekday</th>\n",
       "    </tr>\n",
       "  </thead>\n",
       "  <tbody>\n",
       "    <tr>\n",
       "      <th>0</th>\n",
       "      <td>A</td>\n",
       "      <td>201</td>\n",
       "      <td>34.0</td>\n",
       "      <td>2021-01-01 05:00:00</td>\n",
       "      <td>-9.7</td>\n",
       "      <td>0.0</td>\n",
       "      <td>1.9</td>\n",
       "      <td>72</td>\n",
       "      <td>2.1</td>\n",
       "      <td>1015.6</td>\n",
       "      <td>0.0</td>\n",
       "      <td>0</td>\n",
       "      <td>-7.6</td>\n",
       "      <td>0</td>\n",
       "    </tr>\n",
       "    <tr>\n",
       "      <th>1</th>\n",
       "      <td>A</td>\n",
       "      <td>202</td>\n",
       "      <td>64.0</td>\n",
       "      <td>2021-01-01 05:00:00</td>\n",
       "      <td>-9.7</td>\n",
       "      <td>0.0</td>\n",
       "      <td>1.9</td>\n",
       "      <td>72</td>\n",
       "      <td>2.1</td>\n",
       "      <td>1015.6</td>\n",
       "      <td>0.0</td>\n",
       "      <td>0</td>\n",
       "      <td>-7.6</td>\n",
       "      <td>0</td>\n",
       "    </tr>\n",
       "    <tr>\n",
       "      <th>2</th>\n",
       "      <td>A</td>\n",
       "      <td>203</td>\n",
       "      <td>39.0</td>\n",
       "      <td>2021-01-01 05:00:00</td>\n",
       "      <td>-9.7</td>\n",
       "      <td>0.0</td>\n",
       "      <td>1.9</td>\n",
       "      <td>72</td>\n",
       "      <td>2.1</td>\n",
       "      <td>1015.6</td>\n",
       "      <td>0.0</td>\n",
       "      <td>0</td>\n",
       "      <td>-7.6</td>\n",
       "      <td>0</td>\n",
       "    </tr>\n",
       "    <tr>\n",
       "      <th>3</th>\n",
       "      <td>A</td>\n",
       "      <td>204</td>\n",
       "      <td>23.0</td>\n",
       "      <td>2021-01-01 05:00:00</td>\n",
       "      <td>-9.7</td>\n",
       "      <td>0.0</td>\n",
       "      <td>1.9</td>\n",
       "      <td>72</td>\n",
       "      <td>2.1</td>\n",
       "      <td>1015.6</td>\n",
       "      <td>0.0</td>\n",
       "      <td>0</td>\n",
       "      <td>-7.6</td>\n",
       "      <td>0</td>\n",
       "    </tr>\n",
       "    <tr>\n",
       "      <th>4</th>\n",
       "      <td>A</td>\n",
       "      <td>205</td>\n",
       "      <td>67.0</td>\n",
       "      <td>2021-01-01 05:00:00</td>\n",
       "      <td>-9.7</td>\n",
       "      <td>0.0</td>\n",
       "      <td>1.9</td>\n",
       "      <td>72</td>\n",
       "      <td>2.1</td>\n",
       "      <td>1015.6</td>\n",
       "      <td>0.0</td>\n",
       "      <td>0</td>\n",
       "      <td>-7.6</td>\n",
       "      <td>0</td>\n",
       "    </tr>\n",
       "  </tbody>\n",
       "</table>\n",
       "</div>"
      ],
      "text/plain": [
       "  호선  역번호  users                  일시   기온  강수량   풍속  습도  증기압    현지기압  전운량  \\\n",
       "0  A  201   34.0 2021-01-01 05:00:00 -9.7  0.0  1.9  72  2.1  1015.6  0.0   \n",
       "1  A  202   64.0 2021-01-01 05:00:00 -9.7  0.0  1.9  72  2.1  1015.6  0.0   \n",
       "2  A  203   39.0 2021-01-01 05:00:00 -9.7  0.0  1.9  72  2.1  1015.6  0.0   \n",
       "3  A  204   23.0 2021-01-01 05:00:00 -9.7  0.0  1.9  72  2.1  1015.6  0.0   \n",
       "4  A  205   67.0 2021-01-01 05:00:00 -9.7  0.0  1.9  72  2.1  1015.6  0.0   \n",
       "\n",
       "   중하층운량  지면온도  weekday  \n",
       "0      0  -7.6        0  \n",
       "1      0  -7.6        0  \n",
       "2      0  -7.6        0  \n",
       "3      0  -7.6        0  \n",
       "4      0  -7.6        0  "
      ]
     },
     "metadata": {},
     "output_type": "display_data"
    }
   ],
   "source": [
    "import pandas as pd\n",
    "\n",
    "sb = pd.concat([pd.read_csv('./data/' + x) for x in [x for x in os.listdir('./data/') if 'p2_sb' in x]]).reset_index(drop=True)\n",
    "w = pd.concat([pd.read_csv('./data/' + x) for x in [x for x in os.listdir('./data/') if 'p2_w' in x]]).reset_index(drop=True)\n",
    "\n",
    "# 모든행 합이 0인 경우 제외\n",
    "sb= sb[sb.iloc[:,4:].sum(axis=1) !=0].reset_index(drop=True)\n",
    "\n",
    "# 결측치 0으로 채우기, 결측치 존재 컬럼은 X5 뿐\n",
    "sb = sb.fillna(0)\n",
    "\n",
    "# 승하차 데이터를 날짜,호선,역번호,시간대별(05~22시) 승객수의 총합을 구하여라(승차 + 하차), 결측치는 0명으로 간주한다. 컬럼명은 users로 변경한다. \n",
    "sb_melt = sb.drop(columns =['승하차구분']).groupby(['날짜','호선','역번호']).sum().reset_index().melt(['날짜','호선','역번호'])\n",
    "sb_melt = sb_melt.rename(columns ={'variable':'시간','value':'users'})\n",
    "sb_melt['시간'] = sb_melt['시간'].str.replace('X','')\n",
    "sb_melt['일시'] = pd.to_datetime(sb_melt['날짜'] + ' ' + sb_melt['시간'],format='%Y-%m-%d %H')\n",
    "sb_melt = sb_melt.drop(columns =['날짜','시간'])\n",
    "\n",
    "w['강수량'] = w['강수량'].fillna(0)\n",
    "w = w.sort_values('일시').reset_index(drop=True).ffill() # 일시로 정렬 후 값 대치\n",
    "w['일시'] = pd.to_datetime(w['일시'])\n",
    "\n",
    "total = pd.merge(sb_melt,w)\n",
    "# help(total['일시'].dt) -> .dt 요소 확인\n",
    "# total['일시'].dt.day_of_week or total['일시'].dt.weekday : Monday=0, Sunday=6\n",
    "total['weekday'] =total['일시'].dt.weekday.map(lambda x : 1 if x in [5,6] else 0)\n",
    "\n",
    "display(total.head())\n",
    "\n",
    "train = total[total['일시'].dt.year.isin([2021,2022])].reset_index(drop=True)\n",
    "test = total[total['일시'].dt.year == 2023].reset_index(drop=True)\n",
    "\n"
   ]
  },
  {
   "cell_type": "markdown",
   "id": "38d297c2",
   "metadata": {},
   "source": [
    "## 4-2 전체 년도 데이터에 대해 users와 날씨 정보에 대해 상관관계를 분석하고 주말여부에 따른 users 변수의 차이가 존재하는지 통계적으로 확인하라."
   ]
  },
  {
   "cell_type": "code",
   "execution_count": 94,
   "id": "5c149881",
   "metadata": {},
   "outputs": [
    {
     "data": {
      "text/plain": [
       "weekday   -0.177318\n",
       "습도        -0.051947\n",
       "중하층운량     -0.013331\n",
       "현지기압      -0.011956\n",
       "전운량       -0.008708\n",
       "강수량       -0.003306\n",
       "증기압        0.000272\n",
       "지면온도       0.023862\n",
       "기온         0.032292\n",
       "풍속         0.051441\n",
       "Name: users, dtype: float64"
      ]
     },
     "execution_count": 94,
     "metadata": {},
     "output_type": "execute_result"
    }
   ],
   "source": [
    "total.drop(columns =['호선','역번호','일시']).corr()['users'][1:].sort_values()"
   ]
  },
  {
   "cell_type": "code",
   "execution_count": 95,
   "id": "67479247-d38d-4243-86f6-762d26520e67",
   "metadata": {},
   "outputs": [],
   "source": [
    "g1= total[total.weekday ==0]['users']\n",
    "g2= total[total.weekday ==1]['users']\n",
    "# TTEST"
   ]
  },
  {
   "cell_type": "markdown",
   "id": "2f59bdcd",
   "metadata": {},
   "source": [
    "## 4-3 users를 예측하는 2가지 회귀모델을 학습하고 모델에 대해 평가하라 (선형회귀 모델은 1개 필수 포함)"
   ]
  },
  {
   "cell_type": "code",
   "execution_count": null,
   "id": "ba1b18db-eaa2-4ccc-944d-fe472b13044a",
   "metadata": {},
   "outputs": [],
   "source": []
  },
  {
   "cell_type": "markdown",
   "id": "67a8350f",
   "metadata": {},
   "source": [
    "# 통계 (40점)"
   ]
  },
  {
   "cell_type": "markdown",
   "id": "2c3feb48",
   "metadata": {},
   "source": [
    "## 데이터 설명\n",
    "- 데이터 출처 : 자체 제작\n",
    "- 데이터 링크 : ./data/s1.csv\n",
    "- 데이터 설명 : A,B 두 공장의 특정 일자의 수율(%)데이터. 단, 불량률은 (100 - 수율)로 정의한다.\n",
    "    "
   ]
  },
  {
   "cell_type": "code",
   "execution_count": 7,
   "id": "73180505",
   "metadata": {},
   "outputs": [
    {
     "data": {
      "text/html": [
       "<div>\n",
       "<style scoped>\n",
       "    .dataframe tbody tr th:only-of-type {\n",
       "        vertical-align: middle;\n",
       "    }\n",
       "\n",
       "    .dataframe tbody tr th {\n",
       "        vertical-align: top;\n",
       "    }\n",
       "\n",
       "    .dataframe thead th {\n",
       "        text-align: right;\n",
       "    }\n",
       "</style>\n",
       "<table border=\"1\" class=\"dataframe\">\n",
       "  <thead>\n",
       "    <tr style=\"text-align: right;\">\n",
       "      <th></th>\n",
       "      <th>year</th>\n",
       "      <th>month</th>\n",
       "      <th>day</th>\n",
       "      <th>A</th>\n",
       "      <th>B</th>\n",
       "    </tr>\n",
       "  </thead>\n",
       "  <tbody>\n",
       "    <tr>\n",
       "      <th>0</th>\n",
       "      <td>2023</td>\n",
       "      <td>Sep</td>\n",
       "      <td>7</td>\n",
       "      <td>56.9</td>\n",
       "      <td>42.3</td>\n",
       "    </tr>\n",
       "    <tr>\n",
       "      <th>1</th>\n",
       "      <td>2023</td>\n",
       "      <td>Feb</td>\n",
       "      <td>20</td>\n",
       "      <td>100.0</td>\n",
       "      <td>89.0</td>\n",
       "    </tr>\n",
       "    <tr>\n",
       "      <th>2</th>\n",
       "      <td>2023</td>\n",
       "      <td>Jun</td>\n",
       "      <td>15</td>\n",
       "      <td>19.3</td>\n",
       "      <td>59.0</td>\n",
       "    </tr>\n",
       "    <tr>\n",
       "      <th>3</th>\n",
       "      <td>2023</td>\n",
       "      <td>Apr</td>\n",
       "      <td>11</td>\n",
       "      <td>98.0</td>\n",
       "      <td>84.8</td>\n",
       "    </tr>\n",
       "    <tr>\n",
       "      <th>4</th>\n",
       "      <td>2023</td>\n",
       "      <td>Jul</td>\n",
       "      <td>8</td>\n",
       "      <td>89.5</td>\n",
       "      <td>63.8</td>\n",
       "    </tr>\n",
       "  </tbody>\n",
       "</table>\n",
       "</div>"
      ],
      "text/plain": [
       "   year month  day      A     B\n",
       "0  2023   Sep    7   56.9  42.3\n",
       "1  2023   Feb   20  100.0  89.0\n",
       "2  2023   Jun   15   19.3  59.0\n",
       "3  2023   Apr   11   98.0  84.8\n",
       "4  2023   Jul    8   89.5  63.8"
      ]
     },
     "execution_count": 7,
     "metadata": {},
     "output_type": "execute_result"
    }
   ],
   "source": [
    "df = pd.read_csv('./data/s1.csv')\n",
    "df.head()"
   ]
  },
  {
   "cell_type": "markdown",
   "id": "5d14672f",
   "metadata": {},
   "source": [
    "## 5-1 공장별 결측치, 기초통계량 등을 확인하라"
   ]
  },
  {
   "cell_type": "code",
   "execution_count": null,
   "id": "b8672eb8",
   "metadata": {},
   "outputs": [],
   "source": []
  },
  {
   "cell_type": "markdown",
   "id": "773e4412",
   "metadata": {},
   "source": [
    "## 5-2 A,B 공장의 불량률 차이가 존재하는지 확인하려 한다. 귀무,대립 가설을 설정하고 설명하라"
   ]
  },
  {
   "cell_type": "code",
   "execution_count": null,
   "id": "0108e967",
   "metadata": {},
   "outputs": [],
   "source": []
  },
  {
   "cell_type": "markdown",
   "id": "6386c1cb",
   "metadata": {},
   "source": [
    "## 5-3 A,B의 차이가 있는지 통계검정 하고 설명하라"
   ]
  },
  {
   "cell_type": "code",
   "execution_count": null,
   "id": "3b3c2acc",
   "metadata": {},
   "outputs": [],
   "source": []
  },
  {
   "cell_type": "markdown",
   "id": "8b82600c",
   "metadata": {},
   "source": [
    "## 데이터 설명\n",
    "- 데이터 출처 : https://www.data.go.kr/data/15123586/fileData.do 후처리\n",
    "- 데이터 링크 : ./data/s2.csv\n",
    "- 데이터 설명 : 일자별 지하철 노션별 지연 데이터"
   ]
  },
  {
   "cell_type": "code",
   "execution_count": 8,
   "id": "f5cbaef2-c524-4dd7-9033-445d06b780e7",
   "metadata": {},
   "outputs": [
    {
     "data": {
      "text/html": [
       "<div>\n",
       "<style scoped>\n",
       "    .dataframe tbody tr th:only-of-type {\n",
       "        vertical-align: middle;\n",
       "    }\n",
       "\n",
       "    .dataframe tbody tr th {\n",
       "        vertical-align: top;\n",
       "    }\n",
       "\n",
       "    .dataframe thead th {\n",
       "        text-align: right;\n",
       "    }\n",
       "</style>\n",
       "<table border=\"1\" class=\"dataframe\">\n",
       "  <thead>\n",
       "    <tr style=\"text-align: right;\">\n",
       "      <th></th>\n",
       "      <th>지연ID</th>\n",
       "      <th>지연일자</th>\n",
       "      <th>노선</th>\n",
       "      <th>최대지연시간</th>\n",
       "    </tr>\n",
       "  </thead>\n",
       "  <tbody>\n",
       "    <tr>\n",
       "      <th>0</th>\n",
       "      <td>ID_0</td>\n",
       "      <td>2023-09-01</td>\n",
       "      <td>1호선</td>\n",
       "      <td>15분</td>\n",
       "    </tr>\n",
       "    <tr>\n",
       "      <th>1</th>\n",
       "      <td>ID_1</td>\n",
       "      <td>2023-09-01</td>\n",
       "      <td>1호선</td>\n",
       "      <td>15분</td>\n",
       "    </tr>\n",
       "    <tr>\n",
       "      <th>2</th>\n",
       "      <td>ID_2</td>\n",
       "      <td>2023-09-01</td>\n",
       "      <td>4호선</td>\n",
       "      <td>10분</td>\n",
       "    </tr>\n",
       "    <tr>\n",
       "      <th>3</th>\n",
       "      <td>ID_3</td>\n",
       "      <td>2023-09-01</td>\n",
       "      <td>4호선</td>\n",
       "      <td>10분</td>\n",
       "    </tr>\n",
       "    <tr>\n",
       "      <th>4</th>\n",
       "      <td>ID_4</td>\n",
       "      <td>2023-09-04</td>\n",
       "      <td>4호선</td>\n",
       "      <td>10분</td>\n",
       "    </tr>\n",
       "  </tbody>\n",
       "</table>\n",
       "</div>"
      ],
      "text/plain": [
       "   지연ID        지연일자   노선 최대지연시간\n",
       "0  ID_0  2023-09-01  1호선    15분\n",
       "1  ID_1  2023-09-01  1호선    15분\n",
       "2  ID_2  2023-09-01  4호선    10분\n",
       "3  ID_3  2023-09-01  4호선    10분\n",
       "4  ID_4  2023-09-04  4호선    10분"
      ]
     },
     "execution_count": 8,
     "metadata": {},
     "output_type": "execute_result"
    }
   ],
   "source": [
    "import pandas as pd\n",
    "df = pd.read_csv('./data/s2.csv')\n",
    "df.head()"
   ]
  },
  {
   "cell_type": "code",
   "execution_count": 9,
   "id": "fc3dcb04-7191-414b-b497-855ba8b4c8be",
   "metadata": {},
   "outputs": [
    {
     "data": {
      "text/plain": [
       "최대지연시간\n",
       "10분       414\n",
       "5분        179\n",
       "15분       153\n",
       "20분        58\n",
       "25분        16\n",
       "30분 이상     13\n",
       "Name: count, dtype: int64"
      ]
     },
     "execution_count": 9,
     "metadata": {},
     "output_type": "execute_result"
    }
   ],
   "source": [
    "df['최대지연시간'].value_counts()"
   ]
  },
  {
   "cell_type": "markdown",
   "id": "0170f2a7",
   "metadata": {},
   "source": [
    "## 6-1 노선에 상관없이 일별 최대 지연시간이 5~15분으로 발생하는 경우는 하나의 사건으로 보자. 해당 사건이 일자별 발생하는 빈도가 푸아송분포를 따르는지 확인하는 방법 2가지를 기술하고 결과를 보여라"
   ]
  },
  {
   "cell_type": "code",
   "execution_count": null,
   "id": "a40a4518",
   "metadata": {},
   "outputs": [],
   "source": []
  },
  {
   "cell_type": "markdown",
   "id": "6934009f",
   "metadata": {},
   "source": [
    "## 6-2 10분이하, 10분초과 -20분 이하, 20분초과  3가지로 지연시간을 지연정도로 분류하라. 호선별 지연정도를 교차표로 구하여라"
   ]
  },
  {
   "cell_type": "code",
   "execution_count": null,
   "id": "d8f9112b",
   "metadata": {},
   "outputs": [],
   "source": []
  },
  {
   "cell_type": "markdown",
   "id": "3060d739",
   "metadata": {},
   "source": [
    "## 6-3 지하철 호선별로 지연정도가 차이가 있는지 확인하려한다. 귀무가설과 대립가설을 설정한 후 통계 검정을 실시하라"
   ]
  },
  {
   "cell_type": "code",
   "execution_count": null,
   "id": "c508fd7d",
   "metadata": {},
   "outputs": [],
   "source": []
  },
  {
   "cell_type": "markdown",
   "id": "7411e4e5",
   "metadata": {},
   "source": [
    "## 데이터 설명\n",
    "- 데이터 출처 : 자체제작\n",
    "- 데이터 링크 : ./data/s3.csv\n",
    "- 데이터 설명 : 시계열 정보를 가지는 250행의 데이터"
   ]
  },
  {
   "cell_type": "code",
   "execution_count": 10,
   "id": "def151b2",
   "metadata": {
    "scrolled": true
   },
   "outputs": [
    {
     "data": {
      "text/html": [
       "<div>\n",
       "<style scoped>\n",
       "    .dataframe tbody tr th:only-of-type {\n",
       "        vertical-align: middle;\n",
       "    }\n",
       "\n",
       "    .dataframe tbody tr th {\n",
       "        vertical-align: top;\n",
       "    }\n",
       "\n",
       "    .dataframe thead th {\n",
       "        text-align: right;\n",
       "    }\n",
       "</style>\n",
       "<table border=\"1\" class=\"dataframe\">\n",
       "  <thead>\n",
       "    <tr style=\"text-align: right;\">\n",
       "      <th></th>\n",
       "      <th>0.4967141530112327</th>\n",
       "    </tr>\n",
       "  </thead>\n",
       "  <tbody>\n",
       "    <tr>\n",
       "      <th>0</th>\n",
       "      <td>0.308778</td>\n",
       "    </tr>\n",
       "    <tr>\n",
       "      <th>1</th>\n",
       "      <td>0.692133</td>\n",
       "    </tr>\n",
       "    <tr>\n",
       "      <th>2</th>\n",
       "      <td>2.070861</td>\n",
       "    </tr>\n",
       "    <tr>\n",
       "      <th>3</th>\n",
       "      <td>1.326845</td>\n",
       "    </tr>\n",
       "    <tr>\n",
       "      <th>4</th>\n",
       "      <td>0.077552</td>\n",
       "    </tr>\n",
       "  </tbody>\n",
       "</table>\n",
       "</div>"
      ],
      "text/plain": [
       "   0.4967141530112327\n",
       "0            0.308778\n",
       "1            0.692133\n",
       "2            2.070861\n",
       "3            1.326845\n",
       "4            0.077552"
      ]
     },
     "execution_count": 10,
     "metadata": {},
     "output_type": "execute_result"
    }
   ],
   "source": [
    "import pandas as pd\n",
    "df = pd.read_csv('./data/s3.csv')\n",
    "df.head()"
   ]
  },
  {
   "cell_type": "markdown",
   "id": "b9b68fc0",
   "metadata": {},
   "source": [
    "## 7-1 ar ma arma에 대해 설명하고, ACF, PACF는 패턴을 통해 설명하라."
   ]
  },
  {
   "cell_type": "markdown",
   "id": "249922be",
   "metadata": {},
   "source": [
    "## 7-2 Acf pacf를 그리고 해석하라, 해당 Plot data를 기반으로 ARMA(p,q)모형 제시하라"
   ]
  },
  {
   "cell_type": "code",
   "execution_count": null,
   "id": "245e26f9",
   "metadata": {},
   "outputs": [],
   "source": []
  },
  {
   "cell_type": "code",
   "execution_count": null,
   "id": "ce3dc8bd-572f-4d75-9f0d-41ff3bd6c9b7",
   "metadata": {},
   "outputs": [],
   "source": []
  }
 ],
 "metadata": {
  "kernelspec": {
   "display_name": "Python 3 (ipykernel)",
   "language": "python",
   "name": "python3"
  },
  "language_info": {
   "codemirror_mode": {
    "name": "ipython",
    "version": 3
   },
   "file_extension": ".py",
   "mimetype": "text/x-python",
   "name": "python",
   "nbconvert_exporter": "python",
   "pygments_lexer": "ipython3",
   "version": "3.9.6"
  }
 },
 "nbformat": 4,
 "nbformat_minor": 5
}
