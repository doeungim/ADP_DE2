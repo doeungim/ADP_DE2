{
  "nbformat": 4,
  "nbformat_minor": 0,
  "metadata": {
    "colab": {
      "provenance": [],
      "authorship_tag": "ABX9TyO9eXA1vH/uB4FJhyGOv3BV",
      "include_colab_link": true
    },
    "kernelspec": {
      "name": "python3",
      "display_name": "Python 3"
    },
    "language_info": {
      "name": "python"
    }
  },
  "cells": [
    {
      "cell_type": "markdown",
      "metadata": {
        "id": "view-in-github",
        "colab_type": "text"
      },
      "source": [
        "<a href=\"https://colab.research.google.com/github/doeungim/ADP_DE2/blob/main/2_%EC%B6%94%EC%A0%95%EA%B3%BC%EA%B0%80%EC%84%A4%EA%B2%80%EC%A0%95.ipynb\" target=\"_parent\"><img src=\"https://colab.research.google.com/assets/colab-badge.svg\" alt=\"Open In Colab\"/></a>"
      ]
    },
    {
      "cell_type": "markdown",
      "source": [
        "### 🔍 단일 표본 평균 검정\n",
        "1.  Z검정 vs T검정 비교\n",
        "\n",
        "\\begin{array}{|c|c|c|}\n",
        "\\hline\n",
        "\\textbf{구분} & \\textbf{Z 검정} & \\textbf{T 검정} \\\\\n",
        "\\hline\n",
        "\\text{사용 조건} & \\sigma (\\text{모표준편차}) \\text{를 알고 있을 때} & \\sigma \\text{를 모를 때 (표본표준편차 사용)} \\\\\n",
        "\\hline\n",
        "\\text{분포} & \\text{표준정규분포 (Z)} & \\text{t-분포 (df = n-1)} \\\\\n",
        "\\hline\n",
        "\\text{표본 크기} & n \\geq 30 \\text{이면 자주 사용} & n < 30 \\text{일 때 적합} \\\\\n",
        "\\hline\n",
        "\\text{공식} & Z = \\frac{\\bar{x} - \\mu_0}{\\sigma / \\sqrt{n}} & t = \\frac{\\bar{x} - \\mu_0}{s / \\sqrt{n}} \\\\\n",
        "\\hline\n",
        "\\end{array}\n"
      ],
      "metadata": {
        "id": "DAbvrbNMVYe8"
      }
    },
    {
      "cell_type": "markdown",
      "source": [
        "2. 신뢰구간(Confidence Interval)\n",
        "\n",
        "\n",
        "\\begin{array}{|c|c|}\n",
        "\\hline\n",
        "\\textbf{검정 종류} & \\textbf{신뢰구간 공식} \\\\\n",
        "\\hline\n",
        "Z\\text{ 검정} & \\bar{x} \\pm Z_{\\alpha/2} \\cdot \\frac{\\sigma}{\\sqrt{n}} \\\\\n",
        "\\hline\n",
        "T\\text{ 검정} & \\bar{x} \\pm t_{\\alpha/2, df} \\cdot \\frac{s}{\\sqrt{n}} \\\\\n",
        "\\hline\n",
        "\\end{array}\n",
        "\n"
      ],
      "metadata": {
        "id": "0iZJNqN8Vi7L"
      }
    },
    {
      "cell_type": "markdown",
      "source": [
        "표본 크기 계산 공식 (신뢰구간 기반)\n",
        "\n",
        "\n",
        "\\begin{array}{|c|c|}\n",
        "\\hline\n",
        "\\textbf{항목} & \\textbf{공식 및 설명} \\\\\n",
        "\\hline\n",
        "\\text{기본 공식} & n = \\left( \\frac{Z_{\\alpha/2} \\cdot \\sigma}{E} \\right)^2 \\\\\n",
        "\\hline\n",
        "\\text{의미} &\n",
        "\\begin{aligned}\n",
        "&n : \\text{필요한 표본 크기} \\\\\n",
        "&Z_{\\alpha/2} : \\text{신뢰수준에 해당하는 Z값 (예: 1.96 for 95\\%)} \\\\\n",
        "&\\sigma : \\text{모표준편차 (또는 예측값)} \\\\\n",
        "&E : \\text{허용 오차 (margin of error)} \\\\\n",
        "\\end{aligned}\n",
        "\\\\\n",
        "\\hline\n",
        "\\text{조건} & \\text{모표준편차 \\(\\sigma\\)는 알고 있다고 가정} \\\\\n",
        "\\hline\n",
        "\\end{array}"
      ],
      "metadata": {
        "id": "ZvP6eSqkV9dw"
      }
    },
    {
      "cell_type": "markdown",
      "source": [
        "#### 🔹 Question\n",
        "어느 도시의 평균 키가 165cm라고 알려져 있다. 표본 36명을 조사해 평균 키가 167cm, 표준편차가 6cm였다. 이 도시의 평균 키가 165cm보다 크다고 할 수 있는지 유의수준 0.05에서 단측 t-검정을 수행하고, 95% 신뢰구간"
      ],
      "metadata": {
        "id": "CtiT2HFDWQvR"
      }
    },
    {
      "cell_type": "code",
      "source": [
        "from scipy import stats\n",
        "import numpy as np\n",
        "\n",
        "mu = 165\n",
        "n = 36\n",
        "\n",
        "x = 167\n",
        "s = 6\n",
        "\n",
        "# P(X > 165)\n",
        "confa = 0.05\n",
        "\n",
        "# 신뢰구간\n",
        "se = s / np.sqrt(n)\n",
        "t = (x - mu) / se\n",
        "# 자유도\n",
        "df = n- 1\n",
        "# p_value\n",
        "p_value = 1 - stats.t.cdf(t, df)\n",
        "\n",
        "# 신뢰구간\n",
        "conf_t = stats.t.ppf(1 - confa / 2, df)\n",
        "ME = conf_t * se\n",
        "\n",
        "low = x - ME\n",
        "upper = x + ME\n",
        "\n",
        "print(t,p_value, low, upper)\n"
      ],
      "metadata": {
        "id": "EWY-kVHbVjy6",
        "colab": {
          "base_uri": "https://localhost:8080/"
        },
        "outputId": "f778ff80-a5c5-40b3-d303-1630a8f63c7e"
      },
      "execution_count": null,
      "outputs": [
        {
          "output_type": "stream",
          "name": "stdout",
          "text": [
            "2.0 0.026653825931598374 164.96989207174965 169.03010792825035\n"
          ]
        }
      ]
    },
    {
      "cell_type": "markdown",
      "source": [
        "#### 🔹 Question [표본의 크기]\n",
        "모평균 추정을 위해 95% 신뢰수준, 허용 오차 2, 표준편차 10 일떄 표본 사이즈"
      ],
      "metadata": {
        "id": "b47-OhKRbnHo"
      }
    },
    {
      "cell_type": "code",
      "source": [
        "from scipy.stats import norm\n",
        "ME = 2\n",
        "s = 10\n",
        "confa = 0.05\n",
        "\n",
        "confz = stats.norm.ppf(1 - confa / 2)\n",
        "\n",
        "print((confz * s / ME) ** 2)\n"
      ],
      "metadata": {
        "colab": {
          "base_uri": "https://localhost:8080/"
        },
        "id": "gLpQsqpqX4Hw",
        "outputId": "63e5b9d5-9b93-437d-9f47-755c46026248"
      },
      "execution_count": null,
      "outputs": [
        {
          "output_type": "stream",
          "name": "stdout",
          "text": [
            "96.03647051735311\n"
          ]
        }
      ]
    },
    {
      "cell_type": "markdown",
      "source": [
        "#### 🔹 기출 ADP\n",
        "    1) 모분산을 모르는 경우 주어진 데이터의 95% 신뢰구간을 구하라\n",
        "    2) simga = 0.04 인걸 알때 95% 신뢰구간"
      ],
      "metadata": {
        "id": "tpt2Q8vTLIsd"
      }
    },
    {
      "cell_type": "code",
      "source": [
        "# 1) 모분산을 모르면 t검정 & 표본 표준 편차 사용\n",
        "data = [3.1, 3.3, 3.5, 3.7, 3.9, 4.1, 4.3, 4.4, 4.7]\n",
        "x = np.mean(data)\n",
        "std = np.std(data, ddof = 1)  # 표본 표준 편차\n",
        "n = len(data)\n",
        "df = len(data) - 1\n",
        "\n",
        "\n",
        "conft = stats.t.ppf(1 - 0.05/ 2, df)\n",
        "\n",
        "# 표준오차\n",
        "se = std / np.sqrt(n)\n",
        "\n",
        "# 허용오차\n",
        "ME = t * se\n",
        "print(x - ME, x + ME)\n",
        "\n",
        "# 2) 모분산을 알때 Z검정\n",
        "sigma = 0.04\n",
        "confz = norm.ppf(1 - 0.05/2)\n",
        "SE2 = sigma / np.sqrt(n)\n",
        "ME2 = confz * SE2\n",
        "print(x - ME2, x + ME2)"
      ],
      "metadata": {
        "colab": {
          "base_uri": "https://localhost:8080/"
        },
        "id": "WQNeia5NLJXo",
        "outputId": "e844103d-a661-445b-ac9f-09b334e0c680"
      },
      "execution_count": null,
      "outputs": [
        {
          "output_type": "stream",
          "name": "stdout",
          "text": [
            "3.5322931880915287 4.245484589686249\n",
            "3.862756035761688 3.9150217420160898\n"
          ]
        }
      ]
    },
    {
      "cell_type": "markdown",
      "source": [
        "### 🔍 이표본 평균 차이의 추정과 가설 검정 : Z, t 분포\n",
        "$$\n",
        "\\begin{array}{|c|c|c|c|c|c|}\n",
        "\\hline\n",
        "\\textbf{조건} & \\textbf{분산 정보} & \\textbf{검정 방법} & \\textbf{검정 통계량} & \\textbf{신뢰구간 공식} & \\textbf{분포} \\\\\n",
        "\\hline\n",
        "n_1, n_2 \\geq 30 & \\sigma_1^2, \\sigma_2^2 \\text{ 알고 있음} & Z\\text{-검정} &\n",
        "\\displaystyle Z = \\frac{\\bar{X}_1 - \\bar{X}_2}{\\sqrt{\\frac{\\sigma_1^2}{n_1} + \\frac{\\sigma_2^2}{n_2}}} &\n",
        "\\displaystyle (\\bar{X}_1 - \\bar{X}_2) \\pm Z_{\\alpha/2} \\cdot \\sqrt{\\frac{\\sigma_1^2}{n_1} + \\frac{\\sigma_2^2}{n_2}} &\n",
        "Z\\text{-분포} \\\\\n",
        "\\hline\n",
        "n_1, n_2 \\geq 30 & \\sigma_1^2, \\sigma_2^2 \\text{ 모름} & Z\\text{-근사 또는 } t\\text{-검정} &\n",
        "\\displaystyle Z \\approx \\frac{\\bar{X}_1 - \\bar{X}_2}{\\sqrt{\\frac{s_1^2}{n_1} + \\frac{s_2^2}{n_2}}} &\n",
        "\\displaystyle (\\bar{X}_1 - \\bar{X}_2) \\pm Z_{\\alpha/2} \\cdot \\sqrt{\\frac{s_1^2}{n_1} + \\frac{s_2^2}{n_2}} &\n",
        "\\text{정규근사} \\\\\n",
        "\\hline\n",
        "n_1, n_2 < 30 & \\text{등분산 가정} & \\text{Pooled } t\\text{-검정} &\n",
        "\\displaystyle t = \\frac{\\bar{X}_1 - \\bar{X}_2}{s_p \\cdot \\sqrt{\\frac{1}{n_1} + \\frac{1}{n_2}}}, \\quad\n",
        "s_p^2 = \\frac{(n_1 - 1)s_1^2 + (n_2 - 1)s_2^2}{n_1 + n_2 - 2} &\n",
        "\\displaystyle (\\bar{X}_1 - \\bar{X}_2) \\pm t_{\\alpha/2, df} \\cdot s_p \\cdot \\sqrt{\\frac{1}{n_1} + \\frac{1}{n_2}} &\n",
        "t\\text{-분포},\\ df = n_1 + n_2 - 2 \\\\\n",
        "\\hline\n",
        "n_1, n_2 < 30 & \\text{이분산 가정} & \\text{Welch's } t\\text{-검정} &\n",
        "\\displaystyle t = \\frac{\\bar{X}_1 - \\bar{X}_2}{\\sqrt{\\frac{s_1^2}{n_1} + \\frac{s_2^2}{n_2}}} &\n",
        "\\displaystyle (\\bar{X}_1 - \\bar{X}_2) \\pm t_{\\alpha/2, df} \\cdot \\sqrt{\\frac{s_1^2}{n_1} + \\frac{s_2^2}{n_2}} &\n",
        "t\\text{-분포 (df: Satterthwaite 근사)} \\\\\n",
        "\\hline\n",
        "\\end{array}\n",
        "$$\n"
      ],
      "metadata": {
        "id": "wyfyW919OVsQ"
      }
    },
    {
      "cell_type": "markdown",
      "source": [
        "#### 🔹 기출 ADP\n",
        "A생산라인의 12개 제품 평균은 5.7mm이고 표준편차는 0.03, B생산라인의 12개 제품 평균은 5.6mm이고 표준편차는 0.04이다. 5%유의수준으로 두 제품의 평균이 차이가 있는지 여부를 검정하라 Z(0.05) = 1.96"
      ],
      "metadata": {
        "id": "D6lw_8RpPAiK"
      }
    },
    {
      "cell_type": "code",
      "source": [
        "# ADP 24\n",
        "n1 = 12\n",
        "x1 = 5.7\n",
        "s1 = 0.03\n",
        "\n",
        "n2 = 12\n",
        "x2 = 5.6\n",
        "s2 = 0.04\n",
        "\n",
        "confa = 0.05\n",
        "confz = norm.ppf(1 - confa / 2\n",
        "                 )\n",
        "# 표준오차\n",
        "se = np.sqrt((s1**2/n1) + (s2 **2 /n2))\n",
        "# 차이\n",
        "diff = x1 - x2\n",
        "\n",
        "# Z 통계량\n",
        "z_stat = diff / se\n",
        "\n",
        "# p_value\n",
        "p_value = 2 * (1 - norm.cdf(abs(z_stat)))\n",
        "\n"
      ],
      "metadata": {
        "id": "Kri2j_KCNjth"
      },
      "execution_count": null,
      "outputs": []
    },
    {
      "cell_type": "markdown",
      "source": [
        "### 🔍 일표본 모비율\n",
        "##### 2.1 모비율 검정\n",
        "$$\n",
        "H_0: p = p_0 \\quad \\text{(모비율은 } p_0 \\text{이다)} \\\\\n",
        "H_1: p \\ne p_0 \\quad \\text{(양측)} \\quad \\text{또는} \\quad p > p_0, \\quad p < p_0 \\quad \\text{(단측)}\n",
        "$$\n",
        "\n",
        "$$\n",
        "Z = \\frac{\\hat{p} - p_0}{\\sqrt{\\frac{p_0 (1 - p_0)}{n}}}\n",
        "$$\n",
        "\n",
        "\n",
        "##### 2.2 모비율 신뢰구간\n",
        "$$\n",
        "\\hat{p} \\pm Z_{\\alpha/2} \\cdot \\sqrt{\\frac{\\hat{p}(1 - \\hat{p})}{n}}\n",
        "$$\n",
        "\n",
        "##### 2.3 모비율 표본의 크기\n",
        "$$\n",
        "n = \\left( \\frac{Z_{\\alpha/2} \\cdot \\sqrt{p(1 - p)}}{E} \\right)^2\n",
        "$$\n"
      ],
      "metadata": {
        "id": "iptwOydKD0Dn"
      }
    },
    {
      "cell_type": "markdown",
      "source": [
        "#### 🔹 Question [모비율 검정]\n",
        "* 어느 병원에서 신약을 투여한 환자 중 80%가 회복된다는 주장을 하고 있다. 이 주장의 타당성을 검증하기 위해 무작위로 100명의 환자에게 신약을 투여한 결과, 74명이 회복되었다. 이 신약의 회복률이 80%보다 낮다는 증거가 있는지 유의수준 0.05에서 단측 검정"
      ],
      "metadata": {
        "id": "_eh0jn6ZgeyL"
      }
    },
    {
      "cell_type": "code",
      "source": [
        "p = 0.8\n",
        "\n",
        "n = 100\n",
        "p_hat = 74 / 100\n",
        "\n",
        "confa = 0.05\n",
        "\n",
        "# SE - 알려진 비율로 계산\n",
        "se = np.sqrt(p * (1- p) /n)\n",
        "\n",
        "z_stat = (p_hat - p) / se\n",
        "print(z_stat)"
      ],
      "metadata": {
        "colab": {
          "base_uri": "https://localhost:8080/"
        },
        "id": "OnTU7fwpgnDW",
        "outputId": "a4f4e117-f92e-43ee-8db8-9da9190ce401"
      },
      "execution_count": null,
      "outputs": [
        {
          "output_type": "stream",
          "name": "stdout",
          "text": [
            "-1.5000000000000013\n"
          ]
        }
      ]
    },
    {
      "cell_type": "markdown",
      "source": [
        "#### 🔹 Question  [모비율 신뢰구간]\n",
        "* 200명 중 152명이 백신 접종 후 항체 형성. 항체 형성률에 대한 95% 신뢰구간"
      ],
      "metadata": {
        "id": "xqn9tfZJh3FQ"
      }
    },
    {
      "cell_type": "code",
      "source": [
        "x = 152\n",
        "n = 200\n",
        "\n",
        "confa = 0.05\n",
        "confz = stats.norm.ppf(1 - confa / 2)\n",
        "\n",
        "p = x/n\n",
        "\n",
        "se = np.sqrt(p * (1-p)/ n)\n",
        "\n",
        "upper = p + confz * se\n",
        "lower = p - confz * se\n",
        "print(lower, upper)"
      ],
      "metadata": {
        "colab": {
          "base_uri": "https://localhost:8080/"
        },
        "id": "ZUx2V7M2hxSe",
        "outputId": "c9ec06ee-24dc-40d5-8d72-5901bfb87b07"
      },
      "execution_count": null,
      "outputs": [
        {
          "output_type": "stream",
          "name": "stdout",
          "text": [
            "0.7008103856705161 0.8191896143294839\n"
          ]
        }
      ]
    },
    {
      "cell_type": "markdown",
      "source": [
        "#### 🔹 Question  [모비율 표본 크기]\n",
        "* 효과가 약 70%일 것으로 예상되는 신약을 ±5% 오차 범위 내에서 95% 신뢰수준으로 추정하고자 한다. 필요한 최소 표본 크기"
      ],
      "metadata": {
        "id": "7NVLwRgMkGoW"
      }
    },
    {
      "cell_type": "code",
      "source": [
        "p = 0.7\n",
        "E = 0.05\n",
        "confa = 0.05\n",
        "\n",
        "confz = stats.norm.ppf(1 - confa/ 2)\n",
        "se = np.sqrt(p * (1- p))\n",
        "\n",
        "print((se * confz / E) ** 2)"
      ],
      "metadata": {
        "colab": {
          "base_uri": "https://localhost:8080/"
        },
        "id": "g0PFC0b5iT2J",
        "outputId": "f314dab8-1747-4ead-d8f4-2c7a37ecff5f"
      },
      "execution_count": null,
      "outputs": [
        {
          "output_type": "stream",
          "name": "stdout",
          "text": [
            "322.6825409383065\n"
          ]
        }
      ]
    },
    {
      "cell_type": "markdown",
      "source": [
        "### 🔍 이표본 모비율"
      ],
      "metadata": {
        "id": "h3XQkf_8Qbl5"
      }
    },
    {
      "cell_type": "markdown",
      "source": [
        "$$\n",
        "\\begin{array}{|p{4cm}|p{5.5cm}|p{6.5cm}|p{4cm}|}\n",
        "\\hline\n",
        "\\textbf{항목} & \\textbf{내용} & \\textbf{공식} & \\textbf{조건} \\\\\n",
        "\\hline\n",
        "\\text{모비율 차이 추정 (신뢰구간)} &\n",
        "두 집단 비율의 차이 (p_1 - p_2) 에 대한 신뢰구간 계산 &\n",
        "(\\hat{p}_1 - \\hat{p}_2) \\pm Z_{\\alpha/2} \\cdot \\sqrt{\\frac{\\hat{p}_1(1 - \\hat{p}_1)}{n_1} + \\frac{\\hat{p}_2(1 - \\hat{p}_2)}{n_2}}  &\n",
        "표본 크기 충분히 큰 경우 (정규 근사 가능 시) \\\\\n",
        "\\hline\n",
        "\\text{합동비율 (pooled proportion)} &\n",
        "귀무가설  H_0: p_1 = p_2  하에서 두 집단 비율을 하나로 합쳐 계산 &\n",
        " \\hat{p} = \\frac{x_1 + x_2}{n_1 + n_2}  &\n",
        "모비율 가설검정에서 사용됨 \\\\\n",
        "\\hline\n",
        "\\text{모비율 차이 검정 (Z-검정)} &\n",
        "H_0: p_1 = p_2 ,  H_1: p_1 \\ne p_2  또는 단측 검정 수행 &\n",
        "Z = \\frac{\\hat{p}_1 - \\hat{p}_2}{\\sqrt{\\hat{p}(1 - \\hat{p})\\left(\\frac{1}{n_1} + \\frac{1}{n_2}\\right)}}  &\n",
        " \\\\\n",
        "\\hline\n",
        "\\end{array}\n",
        "$$"
      ],
      "metadata": {
        "id": "PBl0SG7cPFKh"
      }
    },
    {
      "cell_type": "markdown",
      "source": [
        "A,B의 두 개의 비율을 비교 검정\n",
        "- 두 집단의 모비율이 같다고 가정하여 공통된 모비율을 사용하여 검정\n",
        "- 두 비율의 차이를 비교할때, 귀무가설이 같다고 주장함으로 분산을 하나로 합침\n",
        "\n",
        "$$\n",
        "\\hat{p} = \\frac{x_1 + x_2}{n_1 + n_2}\n",
        "$$"
      ],
      "metadata": {
        "id": "T3GwLMQNlXvN"
      }
    },
    {
      "cell_type": "markdown",
      "source": [
        "#### 🔹 Question\n",
        "A사이트 200명 중 130명이 구매했고, B사이트 150명 중 90명이 구매했다.\n",
        "두 사이트의 구매율에 차이가 있는지를 유의수준 0.05에서 검정"
      ],
      "metadata": {
        "id": "wyOCtw5EQlUE"
      }
    },
    {
      "cell_type": "code",
      "source": [
        "# 알려진 비율이 없음으로 합동 비율을 사용\n",
        "n1 = 200\n",
        "x1 = 130\n",
        "p1 = 130 / 200\n",
        "\n",
        "n2 = 150\n",
        "x2 = 90\n",
        "p2 = 90/150\n",
        "\n",
        "# 합동 분산\n",
        "pe = (n1 * p1 + n2 * p2) / (n1 + n2)\n",
        "# SE\n",
        "se = np.sqrt((pe * (1 - pe) )/n1 + (pe * (1 -pe)) / n2)\n",
        "# 통계량\n",
        "z_stat = (p1 - p2) / se\n",
        "print(z_stat)\n",
        "# p_value : 차이의 유무 (양측 검정)\n",
        "p_value = (1 - norm.cdf(np.abs(z_stat))) * 2\n",
        "print(p_value)"
      ],
      "metadata": {
        "id": "K-bJNJCDlm0J",
        "colab": {
          "base_uri": "https://localhost:8080/"
        },
        "outputId": "c89e942e-ead5-4cd8-8177-2dc5c4eb05fe"
      },
      "execution_count": null,
      "outputs": [
        {
          "output_type": "stream",
          "name": "stdout",
          "text": [
            "0.958035577539879\n",
            "0.33804481871539704\n"
          ]
        }
      ]
    },
    {
      "cell_type": "markdown",
      "source": [
        "#### 🔹 Question [두 표본의 모비율 검정]\n",
        "한 제약회사에서는 신약 A와 신약 B 중 어느 쪽이 더 효과적인지 비교하고자 한다.\n",
        "*\t신약 A를 투여한 150명 중 120명이 회복되었고,\n",
        "*\t신약 B를 투여한 130명 중 96명이 회복되었다.\n",
        "이 두 신약의 효과 차이가 있는지 유의수준 0.05에서 양측 검정"
      ],
      "metadata": {
        "id": "ry3pLUf3mYFF"
      }
    },
    {
      "cell_type": "code",
      "source": [
        "n1 = 150\n",
        "p1 = 120 / 150\n",
        "\n",
        "n2 = 130\n",
        "p2 = 96 / 130\n",
        "\n",
        "confa = 0.05\n",
        "confz = norm.ppf(1 - confa / 2)\n",
        "\n",
        "# 합동비율\n",
        "pe = (n1 * p1 + n2 * p2) / (n1 + n2)\n",
        "# SE\n",
        "se = np.sqrt((pe * (1 - pe) )/n1 + (pe * (1 -pe)) / n2)\n",
        "# 검정 통계량\n",
        "z = (p1 - p2) / se\n",
        "print(z)"
      ],
      "metadata": {
        "colab": {
          "base_uri": "https://localhost:8080/"
        },
        "id": "qLHmQ2DPmmeF",
        "outputId": "9b7ea97c-fbdc-4e98-def1-3237a0fe871e"
      },
      "execution_count": null,
      "outputs": [
        {
          "output_type": "stream",
          "name": "stdout",
          "text": [
            "1.2229989761755715\n"
          ]
        }
      ]
    },
    {
      "cell_type": "markdown",
      "source": [
        "#### 🔹 기출 ADP\n",
        "* C사 생산 제품 1000개 중 양품이 600개, D사 생산 제품 500개 중 양품이 200개 이다. 두 회사의 양품률에 차이가 있는지 검정"
      ],
      "metadata": {
        "id": "_13-GoiwSuZq"
      }
    },
    {
      "cell_type": "code",
      "source": [
        "# 접근) 알려진 비율이 없음 >> 합동 분산 이용\n",
        "n1 , x1 , p1 = 1000, 600 , 600/ 1000\n",
        "n2 , x2 , p2 = 500, 200, 200/500\n",
        "\n",
        "# pool\n",
        "pool = (x1 + x2) / (n1 + n2)\n",
        "# SE\n",
        "se = np.sqrt(pool * (1 - pool) * (1/n1 + 1/n2))\n",
        "\n",
        "# 통계량\n",
        "z_stat = (p1 - p2) / se\n",
        "print(z_stat)\n",
        "\n",
        "#p_vlue\n",
        "p_val = 2 *( 1 - norm.cdf(np.abs(z_stat)))\n",
        "print(p_val)"
      ],
      "metadata": {
        "id": "g1Cd5f07m8fZ",
        "colab": {
          "base_uri": "https://localhost:8080/"
        },
        "outputId": "a01d0c45-1696-49fa-ccc2-5a9e42d82a0a"
      },
      "execution_count": null,
      "outputs": [
        {
          "output_type": "stream",
          "name": "stdout",
          "text": [
            "7.319250547113997\n",
            "2.4935609133081016e-13\n"
          ]
        }
      ]
    },
    {
      "cell_type": "markdown",
      "source": [
        "#### 3. 모분산\n",
        "\n",
        "$$\n",
        "\\begin{array}{|c|c|c|}\n",
        "\\hline\n",
        "\\textbf{구분} & \\textbf{내용} & \\textbf{공식} \\\\\n",
        "\\hline\n",
        "\\text{1. 분산 검정} &\n",
        "\\begin{aligned}\n",
        "&H_0: \\sigma^2 = \\sigma_0^2 \\\\\n",
        "&\\text{모분산이 특정값과 같은지 검정}\n",
        "\\end{aligned}\n",
        "&\n",
        "\\chi^2 = \\frac{(n-1)s^2}{\\sigma_0^2}\n",
        "\\\\\n",
        "\\hline\n",
        "\\text{2. 신뢰구간} &\n",
        "\\begin{aligned}\n",
        "&\\text{모분산에 대한 (1 - \\alpha) 신뢰구간} \\\\\n",
        "&\\text{Chi-squared 분포의 양쪽 quantile 사용}\n",
        "\\end{aligned}\n",
        "&\n",
        "\\left( \\frac{(n - 1)s^2}{\\chi^2_{1 - \\alpha/2}}, \\frac{(n - 1)s^2}{\\chi^2_{\\alpha/2}} \\right)\n",
        "\\\\\n",
        "\\hline\n",
        "\\text{3. 표본 크기 계산} &\n",
        "\\begin{aligned}\n",
        "&\\text{분산 추정을 위한 최소 n 계산} \\\\\n",
        "&\\text{허용오차 E를 고려한 방식}\n",
        "\\end{aligned}\n",
        "&\n",
        "n = \\left( \\frac{Z_{\\alpha/2} \\cdot \\sigma}{E} \\right)^2\n",
        "\\\\\n",
        "\\hline\n",
        "\\end{array}\n",
        "$$"
      ],
      "metadata": {
        "id": "AoB78wVLo-pE"
      }
    },
    {
      "cell_type": "markdown",
      "source": [
        "#### 🔹 Question. 모분산 [검정 및 신뢰구간 문제]\n",
        "* 한 기계 부품의 무게는 공정 기준에 따라 표준편차가 2.0g이라고 알려져 있다.\n",
        "공정이 잘 이루어지고 있는지를 확인하기 위해 무작위로 15개의 부품을 추출하여 분석한 결과,   \n",
        "**표본분산이 6.25 (표준편차 2.5)**였다.\n",
        "\n",
        "이 때 다음을 수행하시오:\n",
        "1.\t공정의 모분산이 기준값과 같은지 유의수준 0.05에서 양측 검정하시오.\n",
        "2.\t공정 모분산에 대한 95% 신뢰구간"
      ],
      "metadata": {
        "id": "r1IFhXG5pNgx"
      }
    },
    {
      "cell_type": "code",
      "source": [
        "sample_var = 6.25\n",
        "\n",
        "# 표준편차가 2.0이라고 알려져 있다.> 즉 분산 : 4\n",
        "known_var= 4\n",
        "n = 15\n",
        "confa = 0.05\n",
        "df= n - 1\n",
        "\n",
        "# 검정 통계량\n",
        "chi2_stat = df * sample_var / known_var\n",
        "print(chi2_stat)"
      ],
      "metadata": {
        "colab": {
          "base_uri": "https://localhost:8080/"
        },
        "id": "QiZGmBfHpYSW",
        "outputId": "5e4524b4-60c0-4c38-8699-d59658ec4435"
      },
      "execution_count": null,
      "outputs": [
        {
          "output_type": "stream",
          "name": "stdout",
          "text": [
            "21.875\n"
          ]
        }
      ]
    },
    {
      "cell_type": "code",
      "source": [
        "# 신뢰구간\n",
        "from scipy.stats import chi2\n",
        "se = df * sample_var\n",
        "\n",
        "lower = stats.chi2.ppf(1 - confa / 2, df)\n",
        "upper = stats.chi2.ppf(confa / 2, df)\n",
        "\n",
        "cr1 = se / lower\n",
        "cr2 = se / upper\n",
        "\n",
        "print(cr1, cr2)"
      ],
      "metadata": {
        "colab": {
          "base_uri": "https://localhost:8080/"
        },
        "id": "2-qtkuLMqRlR",
        "outputId": "fc347f3d-de03-454a-b9db-c1b4f2902803"
      },
      "execution_count": null,
      "outputs": [
        {
          "output_type": "stream",
          "name": "stdout",
          "text": [
            "3.3500583503256784 15.545258091834775\n"
          ]
        }
      ]
    },
    {
      "cell_type": "markdown",
      "source": [
        "### 🔍 모분산\n",
        "$$\n",
        "\\begin{array}{|c|c|c|c|}\n",
        "\\hline\n",
        "\\textbf{항목} & \\textbf{모평균 을 아는 경우} & \\textbf{모평균 을 모르는 경우} & \\textbf{비고} \\\\\n",
        "\\hline\n",
        "\\text{모분산 추정치} &\n",
        "\\displaystyle \\hat{\\sigma}^2 = \\frac{1}{n} \\sum (x_i - \\mu)^2 &\n",
        "\\displaystyle s^2 = \\frac{1}{n - 1} \\sum (x_i - \\bar{x})^2 &\n",
        "\\text{표본분산의 자유도 차이} \\\\\n",
        "\\hline\n",
        "\\text{가설검정 통계량} &\n",
        "\\displaystyle \\chi^2 = \\frac{\\sum (x_i - \\mu)^2}{\\sigma_0^2} \\sim \\chi^2(n) &\n",
        "\\displaystyle \\chi^2 = \\frac{(n - 1)s^2}{\\sigma_0^2} \\sim \\chi^2(n - 1) &\n",
        "\\text{자유도: n vs n-1} \\\\\n",
        "\\hline\n",
        "\\text{신뢰구간} &\n",
        "\\displaystyle \\left( \\frac{\\sum (x_i - \\mu)^2}{\\chi^2_{1 - \\alpha/2}}, \\frac{\\sum (x_i - \\mu)^2}{\\chi^2_{\\alpha/2}} \\right) &\n",
        "\\displaystyle \\left( \\frac{(n - 1)s^2}{\\chi^2_{1 - \\alpha/2}}, \\frac{(n - 1)s^2}{\\chi^2_{\\alpha/2}} \\right) &\n",
        "\\text{모평균 모를 때 더 넓은 구간} \\\\\n",
        "\\hline\n",
        "\\end{array}\n",
        "$$\n"
      ],
      "metadata": {
        "id": "nrLr1fx_CsxO"
      }
    },
    {
      "cell_type": "markdown",
      "source": [
        "#### 🔹 [모평균을 아는 경우]\n",
        "한 제약 공정에서는 약물의 함량이 평균\n",
        "𝜇 = 500 𝑚𝑔 μ=500mg으로 유지된다고 알려져 있다.\n",
        "이 공정의 모분산이 100mg² 이하인지 검정하고자 한다.\n",
        "이를 위해 20개의 시료를 무작위로 추출하여, 각각의 함량이 다음과 같았다. </br>\n",
        "\n",
        "498, 502, 503, 495, 497, 504, 496, 501, 499, 498, </br>\n",
        "500, 497, 505, 496, 499, 503, 500, 497, 498, 502 </br>\n",
        "\n",
        "유의수준 0.05에서 모분산이 100보다 작거나 같은지에 대해 단측검정을 수행"
      ],
      "metadata": {
        "id": "TV-prrRPr3V0"
      }
    },
    {
      "cell_type": "code",
      "source": [
        "# 모평균을 아는 경우\n",
        "data = np.array([498, 502, 503, 495, 497, 504, 496, 501, 499, 498,500, 497, 505, 496, 499, 503, 500, 497, 498, 502])\n",
        "\n",
        "n = len(data)\n",
        "mu = 500\n",
        "known_var = 100\n",
        "\n",
        "confa = 0.05\n",
        "confz = chi2.ppf(1 - confa/2, df = n)\n",
        "\n",
        "\n",
        "sum = np.sum(data - mu) ** 2\n",
        "chi_stat = sum / known_var\n",
        "\n",
        "# X > 100 우측검정\n",
        "p_value = 1 - chi2.cdf(chi_stat, df = n)\n",
        "print(p_value)\n"
      ],
      "metadata": {
        "colab": {
          "base_uri": "https://localhost:8080/"
        },
        "id": "xTJTKayjEByN",
        "outputId": "5b07ad7a-6f33-4187-f055-457289ac8f75"
      },
      "execution_count": null,
      "outputs": [
        {
          "output_type": "stream",
          "name": "stdout",
          "text": [
            "0.999999999829033\n"
          ]
        }
      ]
    },
    {
      "cell_type": "markdown",
      "source": [
        "#### 🔹 [모평균을 모르는 경우]\n",
        "한 제품의 품질 일관성을 평가하기 위해 무작위로 10개 제품을 뽑아 다음과 같은 결과를 얻었다:\n",
        "\n",
        "4.95, 5.02, 4.97, 5.05, 4.99, 5.00, 4.98, 5.04, 4.96, 4.97\n",
        "\n",
        "모분산이 0.01이라는 주장에 대해 유의수준 0.05에서 검정을 수행"
      ],
      "metadata": {
        "id": "K0IRf6Q6FiLY"
      }
    },
    {
      "cell_type": "code",
      "source": [
        "\n",
        "data = np.array([4.95, 5.02, 4.97, 5.05, 4.99, 5.00, 4.98, 5.04, 4.96, 4.97])\n",
        "n = len(data)\n",
        "data_var = np.var(data, ddof = 1)\n",
        "df = n - 1\n",
        "\n",
        "known_var = 0.01\n",
        "\n",
        "confa = 0.05\n",
        "confz = chi2.ppf(1 - confa / 2 , df)\n",
        "\n",
        "# 자유도 * 데이터의 분산 / 알려진 분산\n",
        "stat = df * data_var / known_var\n",
        "\n",
        "pvalue = (1 - chi2.cdf(stat, df)) * 2\n",
        "print(pvalue)"
      ],
      "metadata": {
        "colab": {
          "base_uri": "https://localhost:8080/"
        },
        "id": "olo8m-V8Fpue",
        "outputId": "00b2d8e9-53ed-47cc-e3d3-0d50f82c620a"
      },
      "execution_count": null,
      "outputs": [
        {
          "output_type": "stream",
          "name": "stdout",
          "text": [
            "1.9986741237706198\n"
          ]
        }
      ]
    },
    {
      "cell_type": "markdown",
      "source": [
        "#### 🔹  [모분산 검정 & 신뢰구간 통합 문제]\n",
        "\n",
        "한 제약 공장에서는 약물의 순도가 공정 기준에 따라 표준편차가 0.5% 이하로 유지되어야 한다고 규정하고 있다.\n",
        "한 생산 라인의 품질을 검사하기 위해 무작위로 20개 시료를 추출했으며, 이들의 순도 표본분산은 **0.36 (%^2)*\n",
        "\n",
        "* (1) 유의수준 0.01에서 이 생산 라인의 모분산이 0.25보다 크다고 할 수 있는지 단측 검정을 수행하시오.\n",
        "* (2) 모분산에 대한 99% 신뢰구간을 구하시오."
      ],
      "metadata": {
        "id": "2N8aBHkNr-NV"
      }
    },
    {
      "cell_type": "code",
      "source": [
        "from scipy.stats import chi2\n",
        "\n",
        "sample_var = 0.36\n",
        "var = 0.25\n",
        "confa = 0.01\n",
        "n = 20\n",
        "\n",
        "confz = chi2.ppf(1 - confa /2, df)\n",
        "df = n - 1\n",
        "\n",
        "# 검정통계량\n",
        "stat = df * sample_var / var\n",
        "print(stat)\n",
        "\n",
        "# 우측검정 P(X > 0.25)\n",
        "p_value = 1 - chi2.cdf(stat, df)\n",
        "print(p_value)"
      ],
      "metadata": {
        "colab": {
          "base_uri": "https://localhost:8080/"
        },
        "id": "MCaojpgXsAAS",
        "outputId": "9661f515-7c03-4774-ec9c-f7b16d50b9f7"
      },
      "execution_count": null,
      "outputs": [
        {
          "output_type": "stream",
          "name": "stdout",
          "text": [
            "27.36\n",
            "0.09654312116845054\n"
          ]
        }
      ]
    },
    {
      "cell_type": "code",
      "source": [
        "# 신뢰구간\n",
        "lower = chi2.ppf(1 - confa , df)\n",
        "upper = chi2.ppf(confa/2, df)\n",
        "\n",
        "cr1 = df * sample_var / lower\n",
        "cr2 = df * sample_var / upper\n",
        "print(cr1,cr2)"
      ],
      "metadata": {
        "colab": {
          "base_uri": "https://localhost:8080/"
        },
        "id": "DwgLMUTMJiI8",
        "outputId": "f448a1ff-ef82-498a-e0fc-2a51a1c3669c"
      },
      "execution_count": null,
      "outputs": [
        {
          "output_type": "stream",
          "name": "stdout",
          "text": [
            "0.18899794795113176 0.9994197162401114\n"
          ]
        }
      ]
    },
    {
      "cell_type": "markdown",
      "source": [
        "### 🔍 두 집단의 모분산\n",
        "$$\n",
        "\\begin{array}{|p{3.8cm}|p{5.5cm}|p{6.2cm}|p{3.8cm}|}\n",
        "\\hline\n",
        "\\textbf{항목} & \\textbf{내용} & \\textbf{공식} & \\textbf{조건} \\\\\n",
        "\\hline\n",
        "\\text{모분산비 추정 (신뢰구간)} &\n",
        "두 집단 분산비 \\sigma_1^2 / \\sigma_2^2  에 대한 신뢰구간 추정 &\n",
        "\\left( \\frac{s_1^2}{s_2^2} \\cdot \\frac{1}{F_{1-\\alpha/2, \\nu_1, \\nu_2}},\\ \\frac{s_1^2}{s_2^2} \\cdot \\frac{1}{F_{\\alpha/2, \\nu_1, \\nu_2}} \\right)  &\n",
        "정규분포를 따르는 두 집단, 독립 표본 \\\\\n",
        "\\hline\n",
        "\\text{모분산비 가설검정 (F-검정)} &\n",
        "H_0: \\sigma_1^2 = \\sigma_2^2 , H_1: \\sigma_1^2 \\ne \\sigma_2^2  또는 단측검정 &\n",
        " F = \\frac{s_1^2}{s_2^2} \\quad\\text{(자유도 } \\nu_1 = n_1 - 1, \\nu_2 = n_2 - 1) &\n",
        "두 표본이 정규분포를 따르고 독립일 때 \\\\\n",
        "\\hline\n",
        "\\end{array}\n",
        "$$\n"
      ],
      "metadata": {
        "id": "Glbrh36CKZBF"
      }
    },
    {
      "cell_type": "markdown",
      "source": [
        "#### 🔹 [두 표본 모분산 검정 & 신뢰구간 통합 문제]\n",
        "두 기계 A, B가 생산한 제품의 품질 분산이 같은지를 알고 싶다.\n",
        "* A기계: 10개 샘플, 표본분산 = 2.5\n",
        "* B기계: 12개 샘플, 표본분산 = 1.5\n",
        "유의수준 0.05에서 두 집단의 분산이 같은지를 검정"
      ],
      "metadata": {
        "id": "_EiAQ_llXoFC"
      }
    },
    {
      "cell_type": "code",
      "source": [
        "from scipy.stats import f\n",
        "\n",
        "n1, var1 = 10, 2.5\n",
        "n2, var2 = 12, 1.5\n",
        "\n",
        "F = var1 / var2\n",
        "\n",
        "df1 = n1 - 1\n",
        "df2 = n2 - 1\n",
        "\n",
        "lower = f.ppf(0.05/2, df1,df2)\n",
        "upper = f.ppf(1 - 0.05/2, df1,df2)\n",
        "\n",
        "pvalue =  2 * min(f.cdf(F, df1, df2), 1 - f.cdf(F, df1, df2))\n",
        "print(pvalue)"
      ],
      "metadata": {
        "id": "EWVzjQ9SNZk6",
        "colab": {
          "base_uri": "https://localhost:8080/"
        },
        "outputId": "f3df46e1-625f-4427-a80e-d48a60b5fd45"
      },
      "execution_count": null,
      "outputs": [
        {
          "output_type": "stream",
          "name": "stdout",
          "text": [
            "0.419274481836885\n"
          ]
        }
      ]
    },
    {
      "cell_type": "code",
      "source": [],
      "metadata": {
        "id": "-Er5t_D6LKrB"
      },
      "execution_count": null,
      "outputs": []
    }
  ]
}