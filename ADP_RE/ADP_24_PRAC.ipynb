{
 "cells": [
  {
   "cell_type": "code",
   "execution_count": 57,
   "id": "6ba53362-d43f-447b-a2e5-1c9cd6bf304f",
   "metadata": {},
   "outputs": [],
   "source": [
    "import pandas as pd\n",
    "import numpy as np\n",
    "import matplotlib.pyplot as plt\n",
    "import seaborn as sns\n",
    "from scipy import stats\n",
    "from sklearn.preprocessing import StandardScaler\n",
    "from sklearn.ensemble import RandomForestRegressor \n",
    "from sklearn.linear_model import LinearRegression\n",
    "from sklearn.model_selection import train_test_split\n",
    "from sklearn.metrics import r2_score\n",
    "from sklearn.metrics import mean_squared_error\n",
    "import statsmodels.api as sm\n",
    "import warnings \n",
    "warnings.filterwarnings('ignore')"
   ]
  },
  {
   "cell_type": "markdown",
   "id": "bbc358e9-d4cf-4a31-9632-2cdce11e7747",
   "metadata": {},
   "source": [
    "### **ADP 24**"
   ]
  },
  {
   "cell_type": "code",
   "execution_count": 2,
   "id": "d88aa2f4-8d75-4390-a119-e121c3dd0ad2",
   "metadata": {
    "scrolled": true
   },
   "outputs": [
    {
     "data": {
      "text/html": [
       "<div>\n",
       "<style scoped>\n",
       "    .dataframe tbody tr th:only-of-type {\n",
       "        vertical-align: middle;\n",
       "    }\n",
       "\n",
       "    .dataframe tbody tr th {\n",
       "        vertical-align: top;\n",
       "    }\n",
       "\n",
       "    .dataframe thead th {\n",
       "        text-align: right;\n",
       "    }\n",
       "</style>\n",
       "<table border=\"1\" class=\"dataframe\">\n",
       "  <thead>\n",
       "    <tr style=\"text-align: right;\">\n",
       "      <th></th>\n",
       "      <th>sex</th>\n",
       "      <th>age</th>\n",
       "      <th>Pstatus</th>\n",
       "      <th>Fedu</th>\n",
       "      <th>Medu</th>\n",
       "      <th>guardian</th>\n",
       "      <th>studytime</th>\n",
       "      <th>traveltime</th>\n",
       "      <th>failures</th>\n",
       "      <th>famrel</th>\n",
       "      <th>freetime</th>\n",
       "      <th>absences</th>\n",
       "    </tr>\n",
       "  </thead>\n",
       "  <tbody>\n",
       "    <tr>\n",
       "      <th>0</th>\n",
       "      <td>F</td>\n",
       "      <td>18.0</td>\n",
       "      <td>A</td>\n",
       "      <td>4</td>\n",
       "      <td>4</td>\n",
       "      <td>mother</td>\n",
       "      <td>2</td>\n",
       "      <td>2.0</td>\n",
       "      <td>0</td>\n",
       "      <td>4</td>\n",
       "      <td>3.0</td>\n",
       "      <td>6</td>\n",
       "    </tr>\n",
       "    <tr>\n",
       "      <th>1</th>\n",
       "      <td>F</td>\n",
       "      <td>17.0</td>\n",
       "      <td>T</td>\n",
       "      <td>1</td>\n",
       "      <td>1</td>\n",
       "      <td>father</td>\n",
       "      <td>2</td>\n",
       "      <td>1.0</td>\n",
       "      <td>0</td>\n",
       "      <td>5</td>\n",
       "      <td>3.0</td>\n",
       "      <td>4</td>\n",
       "    </tr>\n",
       "    <tr>\n",
       "      <th>2</th>\n",
       "      <td>F</td>\n",
       "      <td>15.0</td>\n",
       "      <td>T</td>\n",
       "      <td>1</td>\n",
       "      <td>1</td>\n",
       "      <td>mother</td>\n",
       "      <td>2</td>\n",
       "      <td>1.0</td>\n",
       "      <td>3</td>\n",
       "      <td>4</td>\n",
       "      <td>3.0</td>\n",
       "      <td>10</td>\n",
       "    </tr>\n",
       "    <tr>\n",
       "      <th>3</th>\n",
       "      <td>F</td>\n",
       "      <td>15.0</td>\n",
       "      <td>T</td>\n",
       "      <td>2</td>\n",
       "      <td>4</td>\n",
       "      <td>mother</td>\n",
       "      <td>3</td>\n",
       "      <td>1.0</td>\n",
       "      <td>0</td>\n",
       "      <td>3</td>\n",
       "      <td>2.0</td>\n",
       "      <td>2</td>\n",
       "    </tr>\n",
       "    <tr>\n",
       "      <th>4</th>\n",
       "      <td>F</td>\n",
       "      <td>NaN</td>\n",
       "      <td>T</td>\n",
       "      <td>3</td>\n",
       "      <td>3</td>\n",
       "      <td>father</td>\n",
       "      <td>2</td>\n",
       "      <td>1.0</td>\n",
       "      <td>0</td>\n",
       "      <td>4</td>\n",
       "      <td>3.0</td>\n",
       "      <td>4</td>\n",
       "    </tr>\n",
       "  </tbody>\n",
       "</table>\n",
       "</div>"
      ],
      "text/plain": [
       "  sex   age Pstatus  Fedu  Medu guardian  studytime  traveltime  failures  \\\n",
       "0   F  18.0       A     4     4   mother          2         2.0         0   \n",
       "1   F  17.0       T     1     1   father          2         1.0         0   \n",
       "2   F  15.0       T     1     1   mother          2         1.0         3   \n",
       "3   F  15.0       T     2     4   mother          3         1.0         0   \n",
       "4   F   NaN       T     3     3   father          2         1.0         0   \n",
       "\n",
       "   famrel  freetime  absences  \n",
       "0       4       3.0         6  \n",
       "1       5       3.0         4  \n",
       "2       4       3.0        10  \n",
       "3       3       2.0         2  \n",
       "4       4       3.0         4  "
      ]
     },
     "execution_count": 2,
     "metadata": {},
     "output_type": "execute_result"
    }
   ],
   "source": [
    "df= pd.read_csv('https://raw.githubusercontent.com/Datamanim/datarepo/main/adp/24/problem1.csv')\n",
    "df.head()"
   ]
  },
  {
   "cell_type": "code",
   "execution_count": 35,
   "id": "1ec24905-015a-4863-99d6-ba39e1cad509",
   "metadata": {},
   "outputs": [
    {
     "data": {
      "text/plain": [
       "age\n",
       "16.0    102\n",
       "17.0     97\n",
       "18.0     82\n",
       "15.0     82\n",
       "19.0     24\n",
       "20.0      3\n",
       "22.0      1\n",
       "21.0      1\n",
       "Name: count, dtype: int64"
      ]
     },
     "execution_count": 35,
     "metadata": {},
     "output_type": "execute_result"
    }
   ],
   "source": [
    "df['age'].value_counts()"
   ]
  },
  {
   "cell_type": "markdown",
   "id": "09546fb0-453e-4e24-ba53-b66ec7f5f2a9",
   "metadata": {},
   "source": [
    "##### 1.1 EDA 및 시각화"
   ]
  },
  {
   "cell_type": "code",
   "execution_count": 41,
   "id": "355ce972-077c-4ec8-8307-16b603a73f40",
   "metadata": {},
   "outputs": [
    {
     "data": {
      "image/png": "[encoded data removed]",
      "text/plain": [
       "<Figure size 1500x1000 with 12 Axes>"
      ]
     },
     "metadata": {},
     "output_type": "display_data"
    },
    {
     "data": {
      "text/html": [
       "<div>\n",
       "<style scoped>\n",
       "    .dataframe tbody tr th:only-of-type {\n",
       "        vertical-align: middle;\n",
       "    }\n",
       "\n",
       "    .dataframe tbody tr th {\n",
       "        vertical-align: top;\n",
       "    }\n",
       "\n",
       "    .dataframe thead th {\n",
       "        text-align: right;\n",
       "    }\n",
       "</style>\n",
       "<table border=\"1\" class=\"dataframe\">\n",
       "  <thead>\n",
       "    <tr style=\"text-align: right;\">\n",
       "      <th></th>\n",
       "      <th>Columns</th>\n",
       "      <th>P_vale</th>\n",
       "      <th>Decision</th>\n",
       "    </tr>\n",
       "  </thead>\n",
       "  <tbody>\n",
       "    <tr>\n",
       "      <th>0</th>\n",
       "      <td>Fedu</td>\n",
       "      <td>0.828406</td>\n",
       "      <td>유의하지않다</td>\n",
       "    </tr>\n",
       "    <tr>\n",
       "      <th>1</th>\n",
       "      <td>Medu</td>\n",
       "      <td>0.020004</td>\n",
       "      <td>유의하다</td>\n",
       "    </tr>\n",
       "    <tr>\n",
       "      <th>2</th>\n",
       "      <td>Pstatus</td>\n",
       "      <td>0.007240</td>\n",
       "      <td>유의하다</td>\n",
       "    </tr>\n",
       "    <tr>\n",
       "      <th>3</th>\n",
       "      <td>age</td>\n",
       "      <td>NaN</td>\n",
       "      <td>유의하지않다</td>\n",
       "    </tr>\n",
       "    <tr>\n",
       "      <th>4</th>\n",
       "      <td>failures</td>\n",
       "      <td>0.004044</td>\n",
       "      <td>유의하다</td>\n",
       "    </tr>\n",
       "    <tr>\n",
       "      <th>5</th>\n",
       "      <td>famrel</td>\n",
       "      <td>0.840974</td>\n",
       "      <td>유의하지않다</td>\n",
       "    </tr>\n",
       "    <tr>\n",
       "      <th>6</th>\n",
       "      <td>freetime</td>\n",
       "      <td>0.038091</td>\n",
       "      <td>유의하다</td>\n",
       "    </tr>\n",
       "    <tr>\n",
       "      <th>7</th>\n",
       "      <td>guardian</td>\n",
       "      <td>0.003073</td>\n",
       "      <td>유의하다</td>\n",
       "    </tr>\n",
       "    <tr>\n",
       "      <th>8</th>\n",
       "      <td>sex</td>\n",
       "      <td>0.184141</td>\n",
       "      <td>유의하지않다</td>\n",
       "    </tr>\n",
       "    <tr>\n",
       "      <th>9</th>\n",
       "      <td>studytime</td>\n",
       "      <td>0.331916</td>\n",
       "      <td>유의하지않다</td>\n",
       "    </tr>\n",
       "    <tr>\n",
       "      <th>10</th>\n",
       "      <td>traveltime</td>\n",
       "      <td>0.929541</td>\n",
       "      <td>유의하지않다</td>\n",
       "    </tr>\n",
       "  </tbody>\n",
       "</table>\n",
       "</div>"
      ],
      "text/plain": [
       "       Columns    P_vale Decision\n",
       "0         Fedu  0.828406   유의하지않다\n",
       "1         Medu  0.020004     유의하다\n",
       "2      Pstatus  0.007240     유의하다\n",
       "3          age       NaN   유의하지않다\n",
       "4     failures  0.004044     유의하다\n",
       "5       famrel  0.840974   유의하지않다\n",
       "6     freetime  0.038091     유의하다\n",
       "7     guardian  0.003073     유의하다\n",
       "8          sex  0.184141   유의하지않다\n",
       "9    studytime  0.331916   유의하지않다\n",
       "10  traveltime  0.929541   유의하지않다"
      ]
     },
     "metadata": {},
     "output_type": "display_data"
    }
   ],
   "source": [
    "from scipy.stats import pearsonr\n",
    "fig, axes = plt.subplots(3,4, figsize = (15, 10))\n",
    "\n",
    "res = []\n",
    "for axes, col in zip(axes.flatten(), df.columns.difference(['absences'])) :\n",
    "    if df[col].nunique() == 2 :\n",
    "        group = df.groupby(col)['absences'].apply(list)\n",
    "        stat , p_val = stats.ttest_ind(group[0], group[1]) \n",
    "\n",
    "        target = df[[col, 'absences']]\n",
    "        sns.boxplot(data = target, x = col, y = 'absences', hue = col, ax = axes) \n",
    "        \n",
    "\n",
    "    elif 2 < df[col].nunique() < 6 :\n",
    "        g = [group['absences'] for name, group in df.groupby(col)]\n",
    "        stat, p_val = stats.f_oneway(*g) \n",
    "\n",
    "        target = df[[col, 'absences']]\n",
    "        sns.boxplot(data = target, x = col, y = 'absences', hue = col, ax = axes)\n",
    "\n",
    "    else : \n",
    "        stat, p_val = pearsonr(df[col], df['absences'])\n",
    "        sns.scatterplot(data=df, x=col, y='absences', ax=axes) \n",
    "\n",
    "    res.append({\n",
    "        'Columns' : col, \n",
    "        'P_vale' : p_val, \n",
    "        'Decision' : '유의하다' if p_val < 0.05 else '유의하지않다' \n",
    "    })\n",
    "\n",
    "plt.legend().remove()\n",
    "plt.tight_layout()\n",
    "plt.show()\n",
    "\n",
    "display(pd.DataFrame(res))"
   ]
  },
  {
   "cell_type": "markdown",
   "id": "078c56b5-acb3-46cb-9bf4-52de01cf248d",
   "metadata": {},
   "source": [
    " ##### 1.2 결측치 처리 및 변화 시각화, 추가 전처리가 필요하다면 이유와 기대효과를 설명"
   ]
  },
  {
   "cell_type": "code",
   "execution_count": 43,
   "id": "d2384a06-a553-4dcc-80bb-ed9e97085b61",
   "metadata": {},
   "outputs": [
    {
     "data": {
      "text/html": [
       "<div>\n",
       "<style scoped>\n",
       "    .dataframe tbody tr th:only-of-type {\n",
       "        vertical-align: middle;\n",
       "    }\n",
       "\n",
       "    .dataframe tbody tr th {\n",
       "        vertical-align: top;\n",
       "    }\n",
       "\n",
       "    .dataframe thead th {\n",
       "        text-align: right;\n",
       "    }\n",
       "</style>\n",
       "<table border=\"1\" class=\"dataframe\">\n",
       "  <thead>\n",
       "    <tr style=\"text-align: right;\">\n",
       "      <th></th>\n",
       "      <th>sex</th>\n",
       "      <th>age</th>\n",
       "      <th>Pstatus</th>\n",
       "      <th>Fedu</th>\n",
       "      <th>Medu</th>\n",
       "      <th>guardian</th>\n",
       "      <th>studytime</th>\n",
       "      <th>traveltime</th>\n",
       "      <th>failures</th>\n",
       "      <th>famrel</th>\n",
       "      <th>freetime</th>\n",
       "      <th>absences</th>\n",
       "    </tr>\n",
       "  </thead>\n",
       "  <tbody>\n",
       "    <tr>\n",
       "      <th>0</th>\n",
       "      <td>0</td>\n",
       "      <td>3</td>\n",
       "      <td>0</td>\n",
       "      <td>0</td>\n",
       "      <td>0</td>\n",
       "      <td>0</td>\n",
       "      <td>0</td>\n",
       "      <td>3</td>\n",
       "      <td>0</td>\n",
       "      <td>0</td>\n",
       "      <td>5</td>\n",
       "      <td>0</td>\n",
       "    </tr>\n",
       "  </tbody>\n",
       "</table>\n",
       "</div>"
      ],
      "text/plain": [
       "   sex  age  Pstatus  Fedu  Medu  guardian  studytime  traveltime  failures  \\\n",
       "0    0    3        0     0     0         0          0           3         0   \n",
       "\n",
       "   famrel  freetime  absences  \n",
       "0       0         5         0  "
      ]
     },
     "execution_count": 43,
     "metadata": {},
     "output_type": "execute_result"
    }
   ],
   "source": [
    "df.isna().sum().to_frame().T"
   ]
  },
  {
   "cell_type": "code",
   "execution_count": 44,
   "id": "8bc5dff1-77ca-4f52-a339-c8992128e80f",
   "metadata": {},
   "outputs": [],
   "source": [
    "df1 = df.copy()\n",
    "df1['age'] = df1['age'].fillna(df1['age'].mean())\n",
    "df1['traveltime'] = df1['traveltime'].fillna(df1['traveltime'].mode()[0])\n",
    "df1['freetime'] = df1['freetime'].fillna(df1['freetime'].mode()[0])"
   ]
  },
  {
   "cell_type": "markdown",
   "id": "6b146b90-a2f6-4910-b3fc-6f2b4596e632",
   "metadata": {},
   "source": [
    "##### 1.3 결석일수 예측모델을 2개 제시하고 선택한 근거 설명\n",
    "##### 1.4 선정한 모델 2가지 생성 및 모델의 평가 기준을 선정하고 선정 이유 설명"
   ]
  },
  {
   "cell_type": "code",
   "execution_count": 62,
   "id": "9f8ae323-9385-46f0-b135-eb9c95a2c630",
   "metadata": {},
   "outputs": [
    {
     "data": {
      "text/html": [
       "<div>\n",
       "<style scoped>\n",
       "    .dataframe tbody tr th:only-of-type {\n",
       "        vertical-align: middle;\n",
       "    }\n",
       "\n",
       "    .dataframe tbody tr th {\n",
       "        vertical-align: top;\n",
       "    }\n",
       "\n",
       "    .dataframe thead th {\n",
       "        text-align: right;\n",
       "    }\n",
       "</style>\n",
       "<table border=\"1\" class=\"dataframe\">\n",
       "  <thead>\n",
       "    <tr style=\"text-align: right;\">\n",
       "      <th></th>\n",
       "      <th>sex_F</th>\n",
       "      <th>sex_M</th>\n",
       "      <th>age</th>\n",
       "      <th>Pstatus_A</th>\n",
       "      <th>Pstatus_T</th>\n",
       "      <th>Fedu</th>\n",
       "      <th>Medu</th>\n",
       "      <th>guardian_father</th>\n",
       "      <th>guardian_mother</th>\n",
       "      <th>guardian_other</th>\n",
       "      <th>studytime</th>\n",
       "      <th>traveltime</th>\n",
       "      <th>failures</th>\n",
       "      <th>famrel</th>\n",
       "      <th>freetime</th>\n",
       "      <th>absences</th>\n",
       "    </tr>\n",
       "  </thead>\n",
       "  <tbody>\n",
       "    <tr>\n",
       "      <th>0</th>\n",
       "      <td>1</td>\n",
       "      <td>0</td>\n",
       "      <td>18.0</td>\n",
       "      <td>1</td>\n",
       "      <td>0</td>\n",
       "      <td>4</td>\n",
       "      <td>4</td>\n",
       "      <td>0</td>\n",
       "      <td>1</td>\n",
       "      <td>0</td>\n",
       "      <td>2</td>\n",
       "      <td>2.0</td>\n",
       "      <td>0</td>\n",
       "      <td>4</td>\n",
       "      <td>3.0</td>\n",
       "      <td>6</td>\n",
       "    </tr>\n",
       "    <tr>\n",
       "      <th>1</th>\n",
       "      <td>1</td>\n",
       "      <td>0</td>\n",
       "      <td>17.0</td>\n",
       "      <td>0</td>\n",
       "      <td>1</td>\n",
       "      <td>1</td>\n",
       "      <td>1</td>\n",
       "      <td>1</td>\n",
       "      <td>0</td>\n",
       "      <td>0</td>\n",
       "      <td>2</td>\n",
       "      <td>1.0</td>\n",
       "      <td>0</td>\n",
       "      <td>5</td>\n",
       "      <td>3.0</td>\n",
       "      <td>4</td>\n",
       "    </tr>\n",
       "    <tr>\n",
       "      <th>2</th>\n",
       "      <td>1</td>\n",
       "      <td>0</td>\n",
       "      <td>15.0</td>\n",
       "      <td>0</td>\n",
       "      <td>1</td>\n",
       "      <td>1</td>\n",
       "      <td>1</td>\n",
       "      <td>0</td>\n",
       "      <td>1</td>\n",
       "      <td>0</td>\n",
       "      <td>2</td>\n",
       "      <td>1.0</td>\n",
       "      <td>3</td>\n",
       "      <td>4</td>\n",
       "      <td>3.0</td>\n",
       "      <td>10</td>\n",
       "    </tr>\n",
       "    <tr>\n",
       "      <th>3</th>\n",
       "      <td>1</td>\n",
       "      <td>0</td>\n",
       "      <td>15.0</td>\n",
       "      <td>0</td>\n",
       "      <td>1</td>\n",
       "      <td>2</td>\n",
       "      <td>4</td>\n",
       "      <td>0</td>\n",
       "      <td>1</td>\n",
       "      <td>0</td>\n",
       "      <td>3</td>\n",
       "      <td>1.0</td>\n",
       "      <td>0</td>\n",
       "      <td>3</td>\n",
       "      <td>2.0</td>\n",
       "      <td>2</td>\n",
       "    </tr>\n",
       "  </tbody>\n",
       "</table>\n",
       "</div>"
      ],
      "text/plain": [
       "   sex_F  sex_M   age  Pstatus_A  Pstatus_T  Fedu  Medu  guardian_father  \\\n",
       "0      1      0  18.0          1          0     4     4                0   \n",
       "1      1      0  17.0          0          1     1     1                1   \n",
       "2      1      0  15.0          0          1     1     1                0   \n",
       "3      1      0  15.0          0          1     2     4                0   \n",
       "\n",
       "   guardian_mother  guardian_other  studytime  traveltime  failures  famrel  \\\n",
       "0                1               0          2         2.0         0       4   \n",
       "1                0               0          2         1.0         0       5   \n",
       "2                1               0          2         1.0         3       4   \n",
       "3                1               0          3         1.0         0       3   \n",
       "\n",
       "   freetime  absences  \n",
       "0       3.0         6  \n",
       "1       3.0         4  \n",
       "2       3.0        10  \n",
       "3       2.0         2  "
      ]
     },
     "execution_count": 62,
     "metadata": {},
     "output_type": "execute_result"
    }
   ],
   "source": [
    "# 전처리 \n",
    "cleand_df = pd.DataFrame()\n",
    "\n",
    "for col in df1.columns : \n",
    "    if col == 'absences' :\n",
    "        cleand_df[col] = df1[col]\n",
    "    elif df1[col].dtypes == 'object' : \n",
    "        dummies = pd.get_dummies(df1[col], prefix = col, dtype = int)\n",
    "        for d_col in dummies.columns : \n",
    "            cleand_df[d_col] = dummies[d_col]\n",
    "    else : \n",
    "        cleand_df[col] = df1[col]\n",
    "\n",
    "cleand_df.head(4)"
   ]
  },
  {
   "cell_type": "code",
   "execution_count": 63,
   "id": "3936c3f9-26bb-46f7-b976-323d169e9160",
   "metadata": {},
   "outputs": [],
   "source": [
    "X = cleand_df.drop(columns = 'absences', axis = 1)\n",
    "y = cleand_df['absences']"
   ]
  },
  {
   "cell_type": "code",
   "execution_count": 65,
   "id": "9f699ec7-3ba1-4dee-84ad-40e10e7e4ae1",
   "metadata": {},
   "outputs": [
    {
     "name": "stdout",
     "output_type": "stream",
     "text": [
      "  Model Name      RMSE        R2\n",
      "0         RF  6.967479 -0.325064\n",
      "1         LR  6.181273 -0.042897\n"
     ]
    }
   ],
   "source": [
    "\n",
    "def eval_model(name, model) : \n",
    "    x_train, x_test, y_train, y_test = train_test_split(X, y, test_size = 0.3, random_state = 42)\n",
    "    model.fit(x_train, y_train)\n",
    "    pred = model.predict(x_test)\n",
    "\n",
    "    rmse = np.sqrt(mean_squared_error(y_test, pred))\n",
    "    r2 = r2_score(y_test, pred)\n",
    "\n",
    "    return name, rmse, r2 \n",
    "\n",
    "res = []\n",
    "model_lst = []\n",
    "for name, model in [['RF', RandomForestRegressor()] ,['LR',LinearRegression()]] : \n",
    "    name, rmse , r2 = eval_model(name, model)\n",
    "    res.append([name, rmse, r2])\n",
    "    model_lst.append([name, model])\n",
    "\n",
    "result = pd.DataFrame(res, columns = ['Model Name','RMSE','R2'])\n",
    "print(result)"
   ]
  },
  {
   "cell_type": "code",
   "execution_count": 77,
   "id": "09853446-3a18-401f-bbd3-dbd91488fc7d",
   "metadata": {},
   "outputs": [
    {
     "data": {
      "image/png": "[encoded data removed]",
      "text/plain": [
       "<Figure size 700x500 with 2 Axes>"
      ]
     },
     "metadata": {},
     "output_type": "display_data"
    }
   ],
   "source": [
    "# Feature Importance\n",
    "fig, axes = plt.subplots(1,2, figsize = (7, 5))\n",
    "for idx, (name, model) in enumerate(model_lst) : \n",
    "    if name == 'RF' : \n",
    "        imp = model.feature_importances_\n",
    "        feature = model.feature_names_in_\n",
    "        imp_df = pd.Series(imp, index = feature)\n",
    "    else : \n",
    "        imp = model.coef_\n",
    "        feature = X.columns \n",
    "        imp_df = pd.Series(imp, index = feature)\n",
    "\n",
    "    imp_df.plot(kind = 'barh', ax = axes[idx])\n",
    "    axes[idx].set_title(name)\n",
    "plt.tight_layout()\n",
    "plt.show()"
   ]
  },
  {
   "cell_type": "markdown",
   "id": "27a081fe-2bb0-44b2-8777-db819d176f61",
   "metadata": {},
   "source": [
    "##### 2.1 광고비 변수를 가변수 처리후 다중회귀를 수행하여 회귀계수가 유의한지 검정"
   ]
  },
  {
   "cell_type": "code",
   "execution_count": 78,
   "id": "f574b645-8aa1-4d8a-9cb9-ca5404702b0e",
   "metadata": {},
   "outputs": [
    {
     "data": {
      "text/html": [
       "<div>\n",
       "<style scoped>\n",
       "    .dataframe tbody tr th:only-of-type {\n",
       "        vertical-align: middle;\n",
       "    }\n",
       "\n",
       "    .dataframe tbody tr th {\n",
       "        vertical-align: top;\n",
       "    }\n",
       "\n",
       "    .dataframe thead th {\n",
       "        text-align: right;\n",
       "    }\n",
       "</style>\n",
       "<table border=\"1\" class=\"dataframe\">\n",
       "  <thead>\n",
       "    <tr style=\"text-align: right;\">\n",
       "      <th></th>\n",
       "      <th>광고횟수</th>\n",
       "      <th>광고비</th>\n",
       "      <th>매출액</th>\n",
       "    </tr>\n",
       "  </thead>\n",
       "  <tbody>\n",
       "    <tr>\n",
       "      <th>0</th>\n",
       "      <td>2</td>\n",
       "      <td>낮음</td>\n",
       "      <td>15</td>\n",
       "    </tr>\n",
       "    <tr>\n",
       "      <th>1</th>\n",
       "      <td>3</td>\n",
       "      <td>낮음</td>\n",
       "      <td>16</td>\n",
       "    </tr>\n",
       "    <tr>\n",
       "      <th>2</th>\n",
       "      <td>4</td>\n",
       "      <td>낮음</td>\n",
       "      <td>17</td>\n",
       "    </tr>\n",
       "    <tr>\n",
       "      <th>3</th>\n",
       "      <td>4</td>\n",
       "      <td>높음</td>\n",
       "      <td>18</td>\n",
       "    </tr>\n",
       "  </tbody>\n",
       "</table>\n",
       "</div>"
      ],
      "text/plain": [
       "   광고횟수 광고비  매출액\n",
       "0     2  낮음   15\n",
       "1     3  낮음   16\n",
       "2     4  낮음   17\n",
       "3     4  높음   18"
      ]
     },
     "execution_count": 78,
     "metadata": {},
     "output_type": "execute_result"
    }
   ],
   "source": [
    "df= pd.read_csv('https://raw.githubusercontent.com/Datamanim/datarepo/main/adp/24/problem2.csv',encoding='cp949')\n",
    "df.head(4)"
   ]
  },
  {
   "cell_type": "code",
   "execution_count": 80,
   "id": "8b4ba9ff-50a0-41ae-bc13-8971b4f60582",
   "metadata": {},
   "outputs": [],
   "source": [
    "df['광고비'] = df['광고비'].map({'높음' : 1, '낮음' : 0})"
   ]
  },
  {
   "cell_type": "code",
   "execution_count": 81,
   "id": "62416156-0782-4638-8194-e9c7b1fb6cc6",
   "metadata": {},
   "outputs": [],
   "source": [
    "x = df.drop(columns = ['광고비'] , axis = 1)\n",
    "y = df['광고비']"
   ]
  },
  {
   "cell_type": "code",
   "execution_count": 82,
   "id": "41b0b0f6-b710-42c4-a53e-439f2c569908",
   "metadata": {},
   "outputs": [
    {
     "name": "stdout",
     "output_type": "stream",
     "text": [
      "                            OLS Regression Results                            \n",
      "==============================================================================\n",
      "Dep. Variable:                    광고비   R-squared:                       0.203\n",
      "Model:                            OLS   Adj. R-squared:                  0.004\n",
      "Method:                 Least Squares   F-statistic:                     1.020\n",
      "Date:                Mon, 01 Sep 2025   Prob (F-statistic):              0.403\n",
      "Time:                        18:04:29   Log-Likelihood:                -6.6890\n",
      "No. Observations:                  11   AIC:                             19.38\n",
      "Df Residuals:                       8   BIC:                             20.57\n",
      "Df Model:                           2                                         \n",
      "Covariance Type:            nonrobust                                         \n",
      "==============================================================================\n",
      "                 coef    std err          t      P>|t|      [0.025      0.975]\n",
      "------------------------------------------------------------------------------\n",
      "const         -2.2645      2.583     -0.877      0.406      -8.222       3.693\n",
      "광고횟수          -0.2514      0.307     -0.819      0.437      -0.960       0.457\n",
      "매출액            0.2033      0.208      0.975      0.358      -0.277       0.684\n",
      "==============================================================================\n",
      "Omnibus:                        1.034   Durbin-Watson:                   2.233\n",
      "Prob(Omnibus):                  0.596   Jarque-Bera (JB):                0.845\n",
      "Skew:                          -0.504   Prob(JB):                        0.655\n",
      "Kurtosis:                       2.091   Cond. No.                         402.\n",
      "==============================================================================\n",
      "\n",
      "Notes:\n",
      "[1] Standard Errors assume that the covariance matrix of the errors is correctly specified.\n"
     ]
    }
   ],
   "source": [
    "add_x = sm.add_constant(x)\n",
    "model = sm.OLS(y, add_x).fit()\n",
    "\n",
    "print(model.summary())"
   ]
  },
  {
   "cell_type": "markdown",
   "id": "8ce0aa51-ad11-4d5b-b498-a1f6afd723a2",
   "metadata": {},
   "source": [
    "3.1  3번 A생산라인의 12개 제품 평균은 5.7mm이고 표준편차는 0.03, B생산라인의 12개 제품 평균은 5.6mm이고 표준편차는 0.04이다. 5%유의수준으로 두 제품의 평균이 차이가 있는지 여부를 검정하라 Z(0.05) = 1.96"
   ]
  },
  {
   "cell_type": "code",
   "execution_count": 83,
   "id": "d1eeabc2-b164-47de-adb0-8270579088a4",
   "metadata": {},
   "outputs": [
    {
     "data": {
      "text/plain": [
       "'\\n귀무 : 두 생산라인의 제품 평균 차이는 없다\\n대립 : 두 생산라인의 제품 평균 차이가 있다.\\n'"
      ]
     },
     "execution_count": 83,
     "metadata": {},
     "output_type": "execute_result"
    }
   ],
   "source": [
    "'''\n",
    "귀무 : 두 생산라인의 제품 평균 차이는 없다\n",
    "대립 : 두 생산라인의 제품 평균 차이가 있다.\n",
    "'''"
   ]
  },
  {
   "cell_type": "code",
   "execution_count": 91,
   "id": "79325dcf-e191-4025-88cd-a0fdf0337f04",
   "metadata": {},
   "outputs": [
    {
     "data": {
      "text/plain": [
       "np.float64(5.892973662380285e-07)"
      ]
     },
     "execution_count": 91,
     "metadata": {},
     "output_type": "execute_result"
    }
   ],
   "source": [
    "a_n = 12 \n",
    "a_x = 5.7 \n",
    "a_sd = 0.03\n",
    "\n",
    "b_n = 12 \n",
    "b_x = 5.6\n",
    "b_sd = 0.04\n",
    "\n",
    "confa = 0.05\n",
    "\n",
    "# 1) Diff\n",
    "diff = a_x - b_x\n",
    "# 2) df\n",
    "df = a_n + b_n - 2 \n",
    "# 3) conf_z \n",
    "conf_z = stats.t.ppf(1 - confa /2, df)\n",
    "\n",
    "# 4) SE \n",
    "se = np.sqrt((a_sd ** 2 / a_n )+( b_sd ** 2/ b_n)) \n",
    "\n",
    "# 5) t 통계량\n",
    "t = diff / se \n",
    "\n",
    "# 6) p_value\n",
    "p_value =( 1 - stats.t.cdf(abs(t) , df)) * 2\n",
    "p_value"
   ]
  },
  {
   "cell_type": "markdown",
   "id": "dc45ec22-2387-4b71-8344-35917bb5627f",
   "metadata": {},
   "source": [
    "##### 4. 바이러스 감염 분류표를 보고 베이지안 분류 방법을 사용해 양성으로 예측된 사람이 실제로 양성일 확률"
   ]
  },
  {
   "cell_type": "code",
   "execution_count": 99,
   "id": "6db2b1fb-59f5-4d29-9410-b001b1726b33",
   "metadata": {},
   "outputs": [
    {
     "data": {
      "text/plain": [
       "0.4045926735921268"
      ]
     },
     "execution_count": 99,
     "metadata": {},
     "output_type": "execute_result"
    }
   ],
   "source": [
    "\n",
    "##           양성  |   음성    - 실제\n",
    "# 양성    370 (TP) |  10 (FP)\n",
    "# 음성    15  (FN) | 690 (TN)\n",
    "\n",
    "tp = 370\n",
    "fn = 15\n",
    "fp = 10\n",
    "tn = 690\n",
    "\n",
    "rate = 0.01 \n",
    "\n",
    "\n",
    "# 민감도 : 실제 양성 중, 양성 예측 (실제 양성 중, 양성인 비율) \n",
    "sens = tp / (tp + fn) \n",
    "\n",
    "# False positive True - 가짜 양성 (실제 음성인데 양성으로 예측한 경우)\n",
    "fpr = fp / (tn + fp)\n",
    "\n",
    "rate = 0.01 \n",
    "\n",
    "sens * rate / ((sens * rate) + (fpr * (1-rate)))"
   ]
  },
  {
   "cell_type": "markdown",
   "id": "c4949225-0df3-40d9-881c-a16d73686a56",
   "metadata": {},
   "source": [
    "5. 모분산을 모르는 경우 주어진 데이터의 95% 신뢰구간 "
   ]
  },
  {
   "cell_type": "code",
   "execution_count": 105,
   "id": "5be9a6a5-1f50-4857-82e3-311ef1e499c1",
   "metadata": {},
   "outputs": [
    {
     "name": "stdout",
     "output_type": "stream",
     "text": [
      "3.4777333085715187 4.300044469206259\n"
     ]
    }
   ],
   "source": [
    "data = [3.1, 3.3, 3.5, 3.7, 3.9, 4.1, 4.3, 4.4, 4.7]\n",
    "\n",
    "n = len(data)\n",
    "df = n- 1\n",
    "sd = np.std(data, ddof = 1)\n",
    "mean = np.mean(data)\n",
    "\n",
    "#SE\n",
    "se = sd / np.sqrt(n)\n",
    "\n",
    "#conft\n",
    "conft = stats.t.ppf(1 - 0.05 / 2, df)\n",
    "conft\n",
    "\n",
    "# ME \n",
    "ME = se * conft\n",
    "\n",
    "print(mean- ME, mean + ME)"
   ]
  },
  {
   "cell_type": "code",
   "execution_count": null,
   "id": "ce820772-9a30-4a96-8f0e-cd9ffcb1056b",
   "metadata": {},
   "outputs": [],
   "source": []
  },
  {
   "cell_type": "code",
   "execution_count": null,
   "id": "1aa5f2e7-1a7a-4ae9-9b7d-94d1398bba20",
   "metadata": {},
   "outputs": [],
   "source": []
  },
  {
   "cell_type": "code",
   "execution_count": null,
   "id": "d7ea16c3-f6ef-402c-933a-5c2fe46cd0a4",
   "metadata": {},
   "outputs": [],
   "source": []
  }
 ],
 "metadata": {
  "kernelspec": {
   "display_name": "Python 3 (ipykernel)",
   "language": "python",
   "name": "python3"
  },
  "language_info": {
   "codemirror_mode": {
    "name": "ipython",
    "version": 3
   },
   "file_extension": ".py",
   "mimetype": "text/x-python",
   "name": "python",
   "nbconvert_exporter": "python",
   "pygments_lexer": "ipython3",
   "version": "3.13.7"
  }
 },
 "nbformat": 4,
 "nbformat_minor": 5
}
