{
 "cells": [
  {
   "cell_type": "code",
   "execution_count": 1,
   "id": "f9845feb-04e9-49b3-a77c-0e0dfe195be6",
   "metadata": {},
   "outputs": [],
   "source": [
    "from scipy.stats import chi2_contingency\n",
    "import pandas as pd\n",
    "import matplotlib.pyplot as plt\n",
    "import seaborn as sns\n",
    "\n",
    "from matplotlib import font_manager\n",
    "from sklearn.preprocessing import StandardScaler\n",
    "\n",
    "import warnings \n",
    "\n",
    "warnings.filterwarnings('ignore')"
   ]
  },
  {
   "cell_type": "code",
   "execution_count": 2,
   "id": "6c06bfdc-770b-4854-8025-337db26f2afd",
   "metadata": {},
   "outputs": [
    {
     "data": {
      "text/html": [
       "<div>\n",
       "<style scoped>\n",
       "    .dataframe tbody tr th:only-of-type {\n",
       "        vertical-align: middle;\n",
       "    }\n",
       "\n",
       "    .dataframe tbody tr th {\n",
       "        vertical-align: top;\n",
       "    }\n",
       "\n",
       "    .dataframe thead th {\n",
       "        text-align: right;\n",
       "    }\n",
       "</style>\n",
       "<table border=\"1\" class=\"dataframe\">\n",
       "  <thead>\n",
       "    <tr style=\"text-align: right;\">\n",
       "      <th></th>\n",
       "      <th>InvoiceNo</th>\n",
       "      <th>StockCode</th>\n",
       "      <th>Description</th>\n",
       "      <th>Quantity</th>\n",
       "      <th>InvoiceDate</th>\n",
       "      <th>UnitPrice</th>\n",
       "      <th>CustomerID</th>\n",
       "      <th>Country</th>\n",
       "    </tr>\n",
       "  </thead>\n",
       "  <tbody>\n",
       "    <tr>\n",
       "      <th>0</th>\n",
       "      <td>563808</td>\n",
       "      <td>22432</td>\n",
       "      <td>WATERING CAN PINK BUNNY</td>\n",
       "      <td>6.0</td>\n",
       "      <td>8/19/2011 11:46</td>\n",
       "      <td>1.95</td>\n",
       "      <td>12626.0</td>\n",
       "      <td>Germany</td>\n",
       "    </tr>\n",
       "    <tr>\n",
       "      <th>1</th>\n",
       "      <td>561645</td>\n",
       "      <td>23166</td>\n",
       "      <td>MEDIUM CERAMIC TOP STORAGE JAR</td>\n",
       "      <td>12.0</td>\n",
       "      <td>7/28/2011 15:16</td>\n",
       "      <td>1.25</td>\n",
       "      <td>14911.0</td>\n",
       "      <td>EIRE</td>\n",
       "    </tr>\n",
       "    <tr>\n",
       "      <th>2</th>\n",
       "      <td>568651</td>\n",
       "      <td>20985</td>\n",
       "      <td>HEART CALCULATOR</td>\n",
       "      <td>12.0</td>\n",
       "      <td>9/28/2011 12:04</td>\n",
       "      <td>1.25</td>\n",
       "      <td>12362.0</td>\n",
       "      <td>Belgium</td>\n",
       "    </tr>\n",
       "  </tbody>\n",
       "</table>\n",
       "</div>"
      ],
      "text/plain": [
       "  InvoiceNo StockCode                     Description  Quantity  \\\n",
       "0    563808     22432         WATERING CAN PINK BUNNY       6.0   \n",
       "1    561645     23166  MEDIUM CERAMIC TOP STORAGE JAR      12.0   \n",
       "2    568651     20985                HEART CALCULATOR      12.0   \n",
       "\n",
       "       InvoiceDate  UnitPrice  CustomerID  Country  \n",
       "0  8/19/2011 11:46       1.95     12626.0  Germany  \n",
       "1  7/28/2011 15:16       1.25     14911.0     EIRE  \n",
       "2  9/28/2011 12:04       1.25     12362.0  Belgium  "
      ]
     },
     "execution_count": 2,
     "metadata": {},
     "output_type": "execute_result"
    }
   ],
   "source": [
    "df= pd.read_csv('https://raw.githubusercontent.com/Datamanim/datarepo/main/adp/26/problem1.csv')\n",
    "df.head(3)"
   ]
  },
  {
   "cell_type": "code",
   "execution_count": 3,
   "id": "dc97df60-ecbe-4b3a-9923-fbbd9ffc5bc6",
   "metadata": {},
   "outputs": [],
   "source": [
    "df['InvoiceDate'] = pd.to_datetime(df['InvoiceDate'])"
   ]
  },
  {
   "cell_type": "code",
   "execution_count": 37,
   "id": "c3638aef-fc57-41bc-8ce9-c84538eecc4e",
   "metadata": {},
   "outputs": [],
   "source": [
    "# 인보이스에 C가있는 \n",
    "c_mask = df['InvoiceNo'].str[0] == 'C'\n",
    "\n",
    "# Unitprice\n",
    "c_unit_map = (\n",
    "    df.loc[c_mask, ['StockCode','UnitPrice']]\n",
    "      .groupby('StockCode')['UnitPrice']\n",
    "      .mean()\n",
    "      .to_dict()\n",
    ")\n",
    "\n",
    "# UnitPrice로 결측 채우기\n",
    "df.loc[c_mask & df['UnitPrice'].isna() ,'UnitPrice'] = df.loc[c_mask & df['UnitPrice'].isna(),'StockCode'].map(c_unit_map)\n",
    "df.loc[c_mask & df['UnitPrice'].isna() ,'UnitPrice'] = \\\n",
    "    df.loc[c_mask & df['UnitPrice'].isna() ,'UnitPrice'].fillna(df['UnitPrice'].mean())\n",
    "\n",
    "# Quantity \n",
    "c_q_map = (\n",
    "    df.loc[c_mask, ['StockCode','Quantity']]\n",
    "      .groupby('StockCode')['Quantity']\n",
    "      .mean()\n",
    "      .to_dict()\n",
    ")\n",
    "\n",
    "df.loc[c_mask & df['Quantity'].isna() ,'Quantity'] = df.loc[c_mask & df['Quantity'].isna(), 'StockCode'].map(c_q_map)"
   ]
  },
  {
   "cell_type": "code",
   "execution_count": 56,
   "id": "6638d944-7600-45c9-bf64-1bcf7b9c8c69",
   "metadata": {},
   "outputs": [],
   "source": [
    "# 인보이스에 C가 없는 \n",
    "mask = df['InvoiceNo'].str[0] =='C'\n",
    "\n",
    "# Unitprice dictionary\n",
    "unit_map = (\n",
    "    df.loc[~mask, ['StockCode','UnitPrice']].\n",
    "        groupby('StockCode')['UnitPrice'].mean().to_dict()\n",
    ")\n",
    "\n",
    "df.loc[~mask & df['UnitPrice'].isna(), 'UnitPrice'] = df.loc[~mask & df['UnitPrice'].isna() ,'StockCode'].map(unit_map)\n",
    "# 나머지는 평균으로 대체 \n",
    "df.loc[~mask & df['UnitPrice'].isna(), 'UnitPrice'] \\\n",
    "    = df.loc[~mask & df['UnitPrice'].isna(), 'UnitPrice'].fillna(df['UnitPrice'].mean())\n",
    "q_map = (\n",
    "    df.loc[~mask, ['StockCode','Quantity']].\n",
    "    groupby('StockCode')['Quantity'].mean().to_dict()\n",
    ")\n",
    "\n",
    "df.loc[~mask & df['Quantity'].isna(),'Quantity'] = df.loc[~mask & df['Quantity'].isna(),'StockCode'].map(q_map)"
   ]
  },
  {
   "cell_type": "markdown",
   "id": "4088ddb8-c536-4854-9c40-bf0711f6189e",
   "metadata": {},
   "source": [
    "##### **문제2) 이상치 제거방법 및 제거 전후의 통계적인 방법을 포함하여 설명**"
   ]
  },
  {
   "cell_type": "code",
   "execution_count": 63,
   "id": "9089ac7c-3364-4a81-adb5-de330052fea2",
   "metadata": {},
   "outputs": [
    {
     "data": {
      "text/plain": [
       "<Axes: >"
      ]
     },
     "execution_count": 63,
     "metadata": {},
     "output_type": "execute_result"
    },
    {
     "data": {
      "image/png": "[encoded data removed]",
      "text/plain": [
       "<Figure size 640x480 with 1 Axes>"
      ]
     },
     "metadata": {},
     "output_type": "display_data"
    },
    {
     "data": {
      "image/png": "[encoded data removed]",
      "text/plain": [
       "<Figure size 640x480 with 1 Axes>"
      ]
     },
     "metadata": {},
     "output_type": "display_data"
    }
   ],
   "source": [
    "out_df = df.copy()\n",
    "\n",
    "# Quantity와 UnitPrice의 이상치 확인 - 0이하의 숫자들이 있음 > 제거 \n",
    "out_df[['Quantity','UnitPrice']].plot(kind = 'box') \n",
    "\n",
    "out_df[out_df['Quantity'] > 0][['Quantity','UnitPrice']].plot(kind = 'box')"
   ]
  },
  {
   "cell_type": "markdown",
   "id": "47367957-3fb0-4dd1-be76-a61495405a4b",
   "metadata": {},
   "source": [
    "##### **문제3) 각 StockCode을 기준으로 파생변수들을 만들고 제품들의 특성에 따른 군집 생성을 위한 전처리를 수행하라.**"
   ]
  },
  {
   "cell_type": "code",
   "execution_count": 83,
   "id": "8c072dc7-b776-47fb-8f93-00e5acb192aa",
   "metadata": {},
   "outputs": [
    {
     "name": "stdout",
     "output_type": "stream",
     "text": [
      "  StockCode  n_countires  n_custoemrs  mean_unit   mean_qty  mean_price\n",
      "0     10002            5           12   0.850000  35.083333   29.820833\n",
      "1     10120            1            1   0.210000  10.000000    2.100000\n",
      "2     10125            3           13   0.750769  46.923077   37.900000\n",
      "3     10133            3            4   0.527500  17.500000    8.425000\n",
      "4     10135            3            3   0.910000  90.000000   83.233333\n"
     ]
    }
   ],
   "source": [
    "# 1) InvoiceNo가 C가 아닌것들만 추출 \n",
    "buy = df[df['InvoiceNo'].str[0] != 'C']\n",
    "buy['price'] = buy['UnitPrice'] * buy['Quantity']\n",
    "\n",
    "# 2) Country - StockCode별로 고유 나라의 개수 \n",
    "t =  buy.groupby('StockCode', as_index = False).agg( \n",
    "                                                     n_countires = ('Country','nunique') , \n",
    "                                                     n_custoemrs = ('CustomerID','count') , \n",
    "                                                     mean_unit = ('UnitPrice','mean') , \n",
    "                                                     mean_qty = ('Quantity','mean') , \n",
    "                                                     mean_price = ('price','mean')  )\n",
    "print(t.head())"
   ]
  },
  {
   "cell_type": "code",
   "execution_count": 90,
   "id": "2d4518e2-d595-46ac-bd06-081cdb143e9c",
   "metadata": {},
   "outputs": [
    {
     "data": {
      "text/html": [
       "<div>\n",
       "<style scoped>\n",
       "    .dataframe tbody tr th:only-of-type {\n",
       "        vertical-align: middle;\n",
       "    }\n",
       "\n",
       "    .dataframe tbody tr th {\n",
       "        vertical-align: top;\n",
       "    }\n",
       "\n",
       "    .dataframe thead th {\n",
       "        text-align: right;\n",
       "    }\n",
       "</style>\n",
       "<table border=\"1\" class=\"dataframe\">\n",
       "  <thead>\n",
       "    <tr style=\"text-align: right;\">\n",
       "      <th></th>\n",
       "      <th>StockCode</th>\n",
       "      <th>n_countires</th>\n",
       "      <th>n_custoemrs</th>\n",
       "      <th>mean_unit</th>\n",
       "      <th>mean_qty</th>\n",
       "      <th>mean_price</th>\n",
       "    </tr>\n",
       "  </thead>\n",
       "  <tbody>\n",
       "    <tr>\n",
       "      <th>0</th>\n",
       "      <td>10002</td>\n",
       "      <td>0.676164</td>\n",
       "      <td>-0.040673</td>\n",
       "      <td>-0.155350</td>\n",
       "      <td>0.479357</td>\n",
       "      <td>0.079975</td>\n",
       "    </tr>\n",
       "    <tr>\n",
       "      <th>1</th>\n",
       "      <td>10120</td>\n",
       "      <td>-1.180274</td>\n",
       "      <td>-0.447639</td>\n",
       "      <td>-0.193944</td>\n",
       "      <td>-0.229192</td>\n",
       "      <td>-0.746868</td>\n",
       "    </tr>\n",
       "    <tr>\n",
       "      <th>2</th>\n",
       "      <td>10125</td>\n",
       "      <td>-0.252055</td>\n",
       "      <td>-0.003676</td>\n",
       "      <td>-0.161334</td>\n",
       "      <td>0.813804</td>\n",
       "      <td>0.320956</td>\n",
       "    </tr>\n",
       "    <tr>\n",
       "      <th>3</th>\n",
       "      <td>10133</td>\n",
       "      <td>-0.252055</td>\n",
       "      <td>-0.336648</td>\n",
       "      <td>-0.174798</td>\n",
       "      <td>-0.017334</td>\n",
       "      <td>-0.558209</td>\n",
       "    </tr>\n",
       "    <tr>\n",
       "      <th>4</th>\n",
       "      <td>10135</td>\n",
       "      <td>-0.252055</td>\n",
       "      <td>-0.373645</td>\n",
       "      <td>-0.151732</td>\n",
       "      <td>2.030633</td>\n",
       "      <td>1.673136</td>\n",
       "    </tr>\n",
       "    <tr>\n",
       "      <th>5</th>\n",
       "      <td>11001</td>\n",
       "      <td>0.676164</td>\n",
       "      <td>-0.188660</td>\n",
       "      <td>-0.104696</td>\n",
       "      <td>-0.059706</td>\n",
       "      <td>-0.002970</td>\n",
       "    </tr>\n",
       "    <tr>\n",
       "      <th>6</th>\n",
       "      <td>15034</td>\n",
       "      <td>-0.716165</td>\n",
       "      <td>-0.410642</td>\n",
       "      <td>-0.198165</td>\n",
       "      <td>0.166277</td>\n",
       "      <td>-0.709286</td>\n",
       "    </tr>\n",
       "    <tr>\n",
       "      <th>7</th>\n",
       "      <td>15036</td>\n",
       "      <td>0.212055</td>\n",
       "      <td>0.107315</td>\n",
       "      <td>-0.158139</td>\n",
       "      <td>1.755217</td>\n",
       "      <td>0.965155</td>\n",
       "    </tr>\n",
       "    <tr>\n",
       "      <th>8</th>\n",
       "      <td>15039</td>\n",
       "      <td>-0.252055</td>\n",
       "      <td>-0.373645</td>\n",
       "      <td>-0.155350</td>\n",
       "      <td>-0.313936</td>\n",
       "      <td>-0.632032</td>\n",
       "    </tr>\n",
       "    <tr>\n",
       "      <th>9</th>\n",
       "      <td>15044A</td>\n",
       "      <td>-1.180274</td>\n",
       "      <td>-0.299651</td>\n",
       "      <td>-0.028714</td>\n",
       "      <td>-0.342184</td>\n",
       "      <td>-0.281559</td>\n",
       "    </tr>\n",
       "  </tbody>\n",
       "</table>\n",
       "</div>"
      ],
      "text/plain": [
       "  StockCode  n_countires  n_custoemrs  mean_unit  mean_qty  mean_price\n",
       "0     10002     0.676164    -0.040673  -0.155350  0.479357    0.079975\n",
       "1     10120    -1.180274    -0.447639  -0.193944 -0.229192   -0.746868\n",
       "2     10125    -0.252055    -0.003676  -0.161334  0.813804    0.320956\n",
       "3     10133    -0.252055    -0.336648  -0.174798 -0.017334   -0.558209\n",
       "4     10135    -0.252055    -0.373645  -0.151732  2.030633    1.673136\n",
       "5     11001     0.676164    -0.188660  -0.104696 -0.059706   -0.002970\n",
       "6     15034    -0.716165    -0.410642  -0.198165  0.166277   -0.709286\n",
       "7     15036     0.212055     0.107315  -0.158139  1.755217    0.965155\n",
       "8     15039    -0.252055    -0.373645  -0.155350 -0.313936   -0.632032\n",
       "9    15044A    -1.180274    -0.299651  -0.028714 -0.342184   -0.281559"
      ]
     },
     "execution_count": 90,
     "metadata": {},
     "output_type": "execute_result"
    }
   ],
   "source": [
    "\n",
    "# Scaling처리 \n",
    "scaled_df = pd.DataFrame()\n",
    "for col in t.columns : \n",
    "    if col != 'StockCode' :\n",
    "        ss = StandardScaler()\n",
    "        scaled_df[col] = ss.fit_transform(t[[col]]).flatten()\n",
    "    else : \n",
    "        scaled_df[col] = t[col]\n",
    "\n",
    "scaled_df.head(10)"
   ]
  },
  {
   "cell_type": "markdown",
   "id": "8b2ae98d-ea06-47b7-ab8b-deba5aa4c1a3",
   "metadata": {},
   "source": [
    "##### **문제3.1) Kmeans , DBSCAN 방법 중 하나를 선택하여 군집분석을 시행하고 각 군집별 특성을 분석.**"
   ]
  },
  {
   "cell_type": "code",
   "execution_count": 95,
   "id": "ee8199eb-94f1-4e85-8915-a4253e26e8d3",
   "metadata": {},
   "outputs": [],
   "source": [
    "from sklearn.cluster import KMeans\n",
    "from sklearn.decomposition import PCA\n",
    "\n",
    "k_df = scaled_df.set_index('StockCode')"
   ]
  },
  {
   "cell_type": "code",
   "execution_count": 114,
   "id": "45978cf4-7593-46e5-8200-6879f5c8db4c",
   "metadata": {},
   "outputs": [
    {
     "data": {
      "text/plain": [
       "<Axes: xlabel='PC_0', ylabel='PC_1'>"
      ]
     },
     "execution_count": 114,
     "metadata": {},
     "output_type": "execute_result"
    },
    {
     "data": {
      "image/png": "[encoded data removed]",
      "text/plain": [
       "<Figure size 1000x300 with 2 Axes>"
      ]
     },
     "metadata": {},
     "output_type": "display_data"
    }
   ],
   "source": [
    "# scaled_df\n",
    "\n",
    "iner = []\n",
    "for k in range(1, 15) :\n",
    "    km = KMeans(n_clusters= k, random_state = 42)\n",
    "    km.fit(k_df)\n",
    "    iner.append(km.inertia_)\n",
    "\n",
    "fig, axes = plt.subplots(1,2, figsize = (10, 3))\n",
    "sns.lineplot(x = range(1, 15) , y = iner, ax = axes[0])\n",
    "# 경사가 완만해진 시점 = 4 \n",
    "\n",
    "km4 = KMeans(n_clusters = 4, random_state = 42)\n",
    "labels = km4.fit_predict(k_df) + 1\n",
    "k_df['label'] = labels\n",
    "\n",
    "\n",
    "# PCA 평면에 Label 뿌리기\n",
    "pca = PCA()\n",
    "pca_df = pd.DataFrame(pca.fit_transform(k_df) , columns = ['PC_' + str(x) for x in range(k_df.shape[1])] )\n",
    "pca_df['label'] = labels\n",
    "\n",
    "sns.scatterplot(data = pca_df , x= pca_df['PC_0'] , y= pca_df['PC_1'] , hue = pca_df['label'] , ax = axes[1])"
   ]
  },
  {
   "cell_type": "code",
   "execution_count": 131,
   "id": "371d3d6e-8b2d-4ad3-8570-155e71133651",
   "metadata": {},
   "outputs": [
    {
     "data": {
      "image/png": "[encoded data removed]",
      "text/plain": [
       "<Figure size 2000x500 with 5 Axes>"
      ]
     },
     "metadata": {},
     "output_type": "display_data"
    }
   ],
   "source": [
    "fig, axes = plt.subplots(1,5, figsize = (20,5))\n",
    "\n",
    "for axes, col in zip(axes.flatten() , k_df.columns.difference(['label'])) : \n",
    "    target= k_df[['label',col]].groupby('label')[col].mean().reset_index(name = 'cnt')\n",
    "    sns.barplot(data = target, x = target.label , y = target.cnt ,hue = target.label , ax = axes)\n",
    "\n",
    "plt.tight_layout()\n",
    "plt.show()"
   ]
  },
  {
   "cell_type": "markdown",
   "id": "50bbe214-c7d8-4f98-a8b9-942a969b64b7",
   "metadata": {},
   "source": [
    "##### **통계1)**\n",
    "제품 불량률을 조사하려고 한다. 이 회사의 제품 불량률이 실제로는 90%.  추정된 불량률의 추정오차한계가 5% 이내가 되도록 하려면, 어느 정도의 표본 크기가 필요한지 계산"
   ]
  },
  {
   "cell_type": "code",
   "execution_count": 135,
   "id": "b43dedf0-a738-45d2-9589-19f15f973da6",
   "metadata": {},
   "outputs": [
    {
     "data": {
      "text/plain": [
       "np.float64(138.29251754498844)"
      ]
     },
     "execution_count": 135,
     "metadata": {},
     "output_type": "execute_result"
    }
   ],
   "source": [
    "from scipy.stats import norm\n",
    "p = 0.9 \n",
    "\n",
    "ME = 0.05\n",
    "\n",
    "z_confa = norm.ppf(1 - 0.05/2)\n",
    "\n",
    "size = (z_confa**2 * p * (1-p)) / ME **2 \n",
    "size"
   ]
  },
  {
   "cell_type": "markdown",
   "id": "76ba695f-18e3-441b-8876-1dafcfce0099",
   "metadata": {},
   "source": [
    "##### **통계2)**\n",
    "은의 가격 및 이동평균값 3이 설정된 시계열 그래프"
   ]
  },
  {
   "cell_type": "code",
   "execution_count": 143,
   "id": "dd3c82d9-03b3-4c42-8174-27143950bbfb",
   "metadata": {},
   "outputs": [
    {
     "data": {
      "text/html": [
       "<div>\n",
       "<style scoped>\n",
       "    .dataframe tbody tr th:only-of-type {\n",
       "        vertical-align: middle;\n",
       "    }\n",
       "\n",
       "    .dataframe tbody tr th {\n",
       "        vertical-align: top;\n",
       "    }\n",
       "\n",
       "    .dataframe thead th {\n",
       "        text-align: right;\n",
       "    }\n",
       "</style>\n",
       "<table border=\"1\" class=\"dataframe\">\n",
       "  <thead>\n",
       "    <tr style=\"text-align: right;\">\n",
       "      <th></th>\n",
       "      <th>data</th>\n",
       "      <th>month</th>\n",
       "    </tr>\n",
       "  </thead>\n",
       "  <tbody>\n",
       "    <tr>\n",
       "      <th>0</th>\n",
       "      <td>12.14</td>\n",
       "      <td>1월</td>\n",
       "    </tr>\n",
       "    <tr>\n",
       "      <th>1</th>\n",
       "      <td>42.60</td>\n",
       "      <td>2월</td>\n",
       "    </tr>\n",
       "    <tr>\n",
       "      <th>2</th>\n",
       "      <td>34.40</td>\n",
       "      <td>3월</td>\n",
       "    </tr>\n",
       "    <tr>\n",
       "      <th>3</th>\n",
       "      <td>35.29</td>\n",
       "      <td>4월</td>\n",
       "    </tr>\n",
       "    <tr>\n",
       "      <th>4</th>\n",
       "      <td>30.96</td>\n",
       "      <td>5월</td>\n",
       "    </tr>\n",
       "  </tbody>\n",
       "</table>\n",
       "</div>"
      ],
      "text/plain": [
       "    data month\n",
       "0  12.14    1월\n",
       "1  42.60    2월\n",
       "2  34.40    3월\n",
       "3  35.29    4월\n",
       "4  30.96    5월"
      ]
     },
     "execution_count": 143,
     "metadata": {},
     "output_type": "execute_result"
    }
   ],
   "source": [
    "lst = [12.14,42.6,34.4,35.29,30.96,57.12,37.84,42.49,31.38]\n",
    "df = pd.DataFrame(lst,columns =['data'])\n",
    "\n",
    "df['month'] = [str(k) + '월' for k in range(1, 10)]\n",
    "df.head()"
   ]
  },
  {
   "cell_type": "code",
   "execution_count": 148,
   "id": "87a1934c-30a8-47a4-a1f3-e90e89ea091c",
   "metadata": {},
   "outputs": [
    {
     "data": {
      "image/png": "[encoded data removed]",
      "text/plain": [
       "<Figure size 1500x300 with 1 Axes>"
      ]
     },
     "metadata": {},
     "output_type": "display_data"
    }
   ],
   "source": [
    "df['rolling_3']= df['data'].rolling(3).mean()\n",
    "\n",
    "fig, axes = plt.subplots(1, figsize = (15,3))\n",
    "plt.plot(df['data'], label = '원본')\n",
    "plt.plot(df['rolling_3'] , label = '이동평균값(Rolling mean 3)')\n",
    "plt.legend()\n",
    "plt.show()"
   ]
  },
  {
   "cell_type": "code",
   "execution_count": 171,
   "id": "34663729-22e6-4f22-b276-80af90cfb440",
   "metadata": {},
   "outputs": [
    {
     "data": {
      "text/plain": [
       "array([158.48434926])"
      ]
     },
     "execution_count": 171,
     "metadata": {},
     "output_type": "execute_result"
    }
   ],
   "source": [
    "#1월 대비 9월의 은의 가격은 몇 % 올랐는가? 소수점 두번째 자리에서 반올림\n",
    "jan = df.loc[df['month'] == '1월','data'].values\n",
    "sep = df.loc[df['month'] == '9월','data'].values\n",
    "\n",
    "(sep - jan )/ jan * 100"
   ]
  },
  {
   "cell_type": "markdown",
   "id": "cc9f3f44-a589-4905-a41d-e7451b6fa6ce",
   "metadata": {},
   "source": [
    "##### **통계3)**"
   ]
  },
  {
   "cell_type": "code",
   "execution_count": 206,
   "id": "9cc0c2da-14b3-420c-9a6c-ed898097b236",
   "metadata": {},
   "outputs": [
    {
     "data": {
      "text/html": [
       "<div>\n",
       "<style scoped>\n",
       "    .dataframe tbody tr th:only-of-type {\n",
       "        vertical-align: middle;\n",
       "    }\n",
       "\n",
       "    .dataframe tbody tr th {\n",
       "        vertical-align: top;\n",
       "    }\n",
       "\n",
       "    .dataframe thead th {\n",
       "        text-align: right;\n",
       "    }\n",
       "</style>\n",
       "<table border=\"1\" class=\"dataframe\">\n",
       "  <thead>\n",
       "    <tr style=\"text-align: right;\">\n",
       "      <th></th>\n",
       "      <th>gender</th>\n",
       "      <th>pressure</th>\n",
       "    </tr>\n",
       "  </thead>\n",
       "  <tbody>\n",
       "    <tr>\n",
       "      <th>0</th>\n",
       "      <td>male</td>\n",
       "      <td>106.8</td>\n",
       "    </tr>\n",
       "    <tr>\n",
       "      <th>1</th>\n",
       "      <td>male</td>\n",
       "      <td>100.8</td>\n",
       "    </tr>\n",
       "    <tr>\n",
       "      <th>2</th>\n",
       "      <td>male</td>\n",
       "      <td>84.5</td>\n",
       "    </tr>\n",
       "    <tr>\n",
       "      <th>3</th>\n",
       "      <td>male</td>\n",
       "      <td>104.2</td>\n",
       "    </tr>\n",
       "    <tr>\n",
       "      <th>4</th>\n",
       "      <td>male</td>\n",
       "      <td>107.0</td>\n",
       "    </tr>\n",
       "  </tbody>\n",
       "</table>\n",
       "</div>"
      ],
      "text/plain": [
       "  gender  pressure\n",
       "0   male     106.8\n",
       "1   male     100.8\n",
       "2   male      84.5\n",
       "3   male     104.2\n",
       "4   male     107.0"
      ]
     },
     "execution_count": 206,
     "metadata": {},
     "output_type": "execute_result"
    }
   ],
   "source": [
    "df= pd.read_csv('https://raw.githubusercontent.com/Datamanim/datarepo/main/adp/26/pressure.csv')\n",
    "df.head()"
   ]
  },
  {
   "cell_type": "code",
   "execution_count": 207,
   "id": "5d0fc414-8e7e-428a-96a7-fe20ea2a8173",
   "metadata": {},
   "outputs": [
    {
     "name": "stdout",
     "output_type": "stream",
     "text": [
      "0.14875840681321661\n"
     ]
    }
   ],
   "source": [
    "from scipy.stats import shapiro , mannwhitneyu\n",
    "\n",
    "# 1) 정규성 검토 \n",
    "res = []\n",
    "for key, group in df.groupby('gender') : \n",
    "    g = group['pressure']\n",
    "    stat, p_val = shapiro(g)\n",
    "    res.append({\n",
    "        'Columns' : key, \n",
    "        'P_value' : p_val, \n",
    "        'Decision' : '정규분포가 아니다' if p_val < 0.05 else '정규분포'\n",
    "    })\n",
    "    \n",
    "\n",
    "pd.DataFrame(res) \n",
    "\n",
    "group = [group['pressure'] for name, group in df.groupby('gender')]\n",
    "stat, p_val = mannwhitneyu(group[0], group[1])\n",
    "print(p_val)\n",
    "\n",
    "#h0: 성별에 따른 pressure의 차이는 없다\n",
    "#h1: 성별에 따른 pressure의 차이가 있다. \n"
   ]
  },
  {
   "cell_type": "markdown",
   "id": "a3752151-3380-4313-b5df-30b8cfbd4161",
   "metadata": {},
   "source": [
    "##### **통계4)** \n",
    "6.2의 검정 통계량 값을 바탕으로 신뢰수준 95%하에서 신뢰구간을 설정"
   ]
  },
  {
   "cell_type": "code",
   "execution_count": 208,
   "id": "1511ac16-fbfa-436e-8347-fdf6cb0895fd",
   "metadata": {},
   "outputs": [],
   "source": [
    "from scipy.stats import t \n",
    "import numpy as np\n",
    "confa = 0.95 \n",
    "\n",
    "m = df.loc[df['gender'] =='male']['pressure']\n",
    "mn = len(m)\n",
    "m_var = np.var(m, ddof = 1)\n",
    "\n",
    "\n",
    "f = df.loc[df['gender'] =='female']['pressure']\n",
    "fn = len(f)\n",
    "f_var = np.var(f, ddof = 1)\n"
   ]
  },
  {
   "cell_type": "code",
   "execution_count": 210,
   "id": "c5fa48eb-5e3a-42ae-8319-9986981a9a75",
   "metadata": {},
   "outputs": [
    {
     "name": "stdout",
     "output_type": "stream",
     "text": [
      "-2.2236553334945324 14.838933111272338\n"
     ]
    }
   ],
   "source": [
    "# 자유도 \n",
    "df = mn + fn - 2\n",
    "# t_confa \n",
    "t_confa = t.ppf(1 - 0.05 /2 ,df) \n",
    "\n",
    "# se : 중요\n",
    "se = np.sqrt(m_var / mn + f_var / fn)\n",
    "\n",
    "# mean_diff\n",
    "diff = m.mean() - f.mean() \n",
    "\n",
    "# ME\n",
    "ME = t_confa * se \n",
    "\n",
    "print(diff - ME, diff + ME)"
   ]
  }
 ],
 "metadata": {
  "kernelspec": {
   "display_name": "Python 3 (ipykernel)",
   "language": "python",
   "name": "python3"
  },
  "language_info": {
   "codemirror_mode": {
    "name": "ipython",
    "version": 3
   },
   "file_extension": ".py",
   "mimetype": "text/x-python",
   "name": "python",
   "nbconvert_exporter": "python",
   "pygments_lexer": "ipython3",
   "version": "3.13.2"
  }
 },
 "nbformat": 4,
 "nbformat_minor": 5
}
