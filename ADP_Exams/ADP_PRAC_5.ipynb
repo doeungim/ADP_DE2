{
 "cells": [
  {
   "cell_type": "code",
   "execution_count": 1,
   "id": "5957e852-96cc-417a-afb5-d14588133a87",
   "metadata": {},
   "outputs": [],
   "source": [
    "import warnings\n",
    "warnings.filterwarnings('ignore')\n",
    "import os\n",
    "\n",
    "import numpy as np\n",
    "import pandas as pd \n",
    "\n",
    "import matplotlib.pyplot as plt\n",
    "import koreanize_matplotlib\n",
    "from sklearn.preprocessing import StandardScaler\n",
    "import seaborn as sns\n",
    "\n",
    "from sklearn.linear_model import LinearRegression , LogisticRegression\n",
    "from sklearn.model_selection import train_test_split, GridSearchCV\n",
    "from sklearn.ensemble import RandomForestClassifier, GradientBoostingClassifier, RandomForestRegressor\n",
    "import xgboost as xgb\n",
    "from sklearn.svm import SVC\n",
    "\n",
    "from sklearn.metrics import auc, roc_curve, roc_auc_score , accuracy_score, mean_squared_error, f1_score \n"
   ]
  },
  {
   "cell_type": "code",
   "execution_count": 2,
   "id": "4fd27999-5861-481a-a993-5b8afd7997b9",
   "metadata": {},
   "outputs": [
    {
     "data": {
      "text/html": [
       "<div>\n",
       "<style scoped>\n",
       "    .dataframe tbody tr th:only-of-type {\n",
       "        vertical-align: middle;\n",
       "    }\n",
       "\n",
       "    .dataframe tbody tr th {\n",
       "        vertical-align: top;\n",
       "    }\n",
       "\n",
       "    .dataframe thead th {\n",
       "        text-align: right;\n",
       "    }\n",
       "</style>\n",
       "<table border=\"1\" class=\"dataframe\">\n",
       "  <thead>\n",
       "    <tr style=\"text-align: right;\">\n",
       "      <th></th>\n",
       "      <th>user_id</th>\n",
       "      <th>timestamp</th>\n",
       "      <th>event</th>\n",
       "      <th>params</th>\n",
       "      <th>age</th>\n",
       "      <th>gender</th>\n",
       "    </tr>\n",
       "  </thead>\n",
       "  <tbody>\n",
       "    <tr>\n",
       "      <th>0</th>\n",
       "      <td>668300627f964509a7f5b5f63b570d55</td>\n",
       "      <td>2024-02-18</td>\n",
       "      <td>first_visit</td>\n",
       "      <td>{'source': 'sns'}</td>\n",
       "      <td>31</td>\n",
       "      <td>M</td>\n",
       "    </tr>\n",
       "    <tr>\n",
       "      <th>1</th>\n",
       "      <td>668300627f964509a7f5b5f63b570d55</td>\n",
       "      <td>2024-03-04</td>\n",
       "      <td>visit</td>\n",
       "      <td>NaN</td>\n",
       "      <td>31</td>\n",
       "      <td>M</td>\n",
       "    </tr>\n",
       "    <tr>\n",
       "      <th>2</th>\n",
       "      <td>668300627f964509a7f5b5f63b570d55</td>\n",
       "      <td>2024-03-16</td>\n",
       "      <td>visit</td>\n",
       "      <td>NaN</td>\n",
       "      <td>31</td>\n",
       "      <td>M</td>\n",
       "    </tr>\n",
       "    <tr>\n",
       "      <th>3</th>\n",
       "      <td>668300627f964509a7f5b5f63b570d55</td>\n",
       "      <td>2024-03-30</td>\n",
       "      <td>visit</td>\n",
       "      <td>NaN</td>\n",
       "      <td>31</td>\n",
       "      <td>M</td>\n",
       "    </tr>\n",
       "    <tr>\n",
       "      <th>4</th>\n",
       "      <td>668300627f964509a7f5b5f63b570d55</td>\n",
       "      <td>2024-04-26</td>\n",
       "      <td>visit_and_purchase</td>\n",
       "      <td>{'product': 'Clothing'}</td>\n",
       "      <td>31</td>\n",
       "      <td>M</td>\n",
       "    </tr>\n",
       "  </tbody>\n",
       "</table>\n",
       "</div>"
      ],
      "text/plain": [
       "                            user_id   timestamp               event  \\\n",
       "0  668300627f964509a7f5b5f63b570d55  2024-02-18         first_visit   \n",
       "1  668300627f964509a7f5b5f63b570d55  2024-03-04               visit   \n",
       "2  668300627f964509a7f5b5f63b570d55  2024-03-16               visit   \n",
       "3  668300627f964509a7f5b5f63b570d55  2024-03-30               visit   \n",
       "4  668300627f964509a7f5b5f63b570d55  2024-04-26  visit_and_purchase   \n",
       "\n",
       "                    params  age gender  \n",
       "0        {'source': 'sns'}   31      M  \n",
       "1                      NaN   31      M  \n",
       "2                      NaN   31      M  \n",
       "3                      NaN   31      M  \n",
       "4  {'product': 'Clothing'}   31      M  "
      ]
     },
     "execution_count": 2,
     "metadata": {},
     "output_type": "execute_result"
    }
   ],
   "source": [
    "df =pd.read_csv('https://raw.githubusercontent.com/Datamanim/datarepo/main/adp/mock/001_m1.csv')\n",
    "df.head()"
   ]
  },
  {
   "cell_type": "markdown",
   "id": "a707f19d-e34d-4649-b993-6152c0942171",
   "metadata": {},
   "source": [
    "✅ 전처리 & EDA"
   ]
  },
  {
   "cell_type": "code",
   "execution_count": 3,
   "id": "9ad9579a-2824-4acb-ae5f-f21aa9491c24",
   "metadata": {},
   "outputs": [],
   "source": [
    "# Params dictionary 처리 \n",
    "df['param_dic'] = df['params'].fillna('{}').map(eval)\n",
    "\n",
    "# Source / Product 생성 \n",
    "df['source'] = df['param_dic'].str['source']\n",
    "df['product'] = df['param_dic'].str['product']\n",
    "\n",
    "# 시간\n",
    "df['timestamp'] = pd.to_datetime(df['timestamp'])"
   ]
  },
  {
   "cell_type": "code",
   "execution_count": 4,
   "id": "4265dcc6-9402-4119-a8b7-1456d460ee20",
   "metadata": {},
   "outputs": [
    {
     "data": {
      "text/plain": [
       "<Axes: xlabel='timestamp', ylabel='count'>"
      ]
     },
     "execution_count": 4,
     "metadata": {},
     "output_type": "execute_result"
    },
    {
     "data": {
      "image/png": "[encoded data removed]",
      "text/plain": [
       "<Figure size 1000x300 with 1 Axes>"
      ]
     },
     "metadata": {},
     "output_type": "display_data"
    }
   ],
   "source": [
    "plot_df = df.groupby(df['timestamp'].dt.month)['source'].value_counts().reset_index()\n",
    "\n",
    "plt.figure(figsize = (10, 3))\n",
    "sns.lineplot(x = 'timestamp', y ='count', hue = 'source', data = plot_df)"
   ]
  },
  {
   "cell_type": "code",
   "execution_count": 5,
   "id": "00b3846b-f43e-4f95-bc45-1d3fe72b954a",
   "metadata": {},
   "outputs": [
    {
     "data": {
      "text/plain": [
       "0.028798277486206433"
      ]
     },
     "execution_count": 5,
     "metadata": {},
     "output_type": "execute_result"
    }
   ],
   "source": [
    "# 첫 방문\n",
    "first = df[df.event =='first_visit'][['user_id','timestamp']].rename(columns ={'timestamp':'first_visit_time'}).reset_index(drop=True)\n",
    "\n",
    "# 첫 방문과 데이터 결합 : 첫방문 이후의 날짜의 차이 구하기 \n",
    "m_df = pd.merge(df , first)\n",
    "m_df['day_diff'] = (m_df['timestamp'] - m_df['first_visit_time']).dt.days\n",
    "\n",
    "# 유저 7일차/ 31일차 재 방문율\n",
    "len(m_df[m_df['day_diff'] == 7] )/ len(m_df.user_id.unique())\n",
    "len(m_df[m_df['day_diff'] == 31] )/ len(m_df.user_id.unique())"
   ]
  },
  {
   "cell_type": "markdown",
   "id": "dfd450ae-46d5-43d4-a19c-65b8a4fe65b9",
   "metadata": {},
   "source": [
    "✅ 가입 후 한달동안의 유저 행동을 통해 다음달 첫주 동안의 물건 구매 여부를 확인하는 모델링을 진행"
   ]
  },
  {
   "cell_type": "code",
   "execution_count": 6,
   "id": "90f1e864-dd3b-4795-998d-06b82ed38fcb",
   "metadata": {},
   "outputs": [],
   "source": [
    "# 가입 후 한달 \n",
    "df2 = m_df.copy()\n",
    "df2 = df2.loc[df2.day_diff < 31].reset_index(drop = True)\n",
    "\n",
    "# 방문 & 구매 = 1 로 치환 \n",
    "df2['purchase'] = df2.apply(lambda x : 1 if x['event'] == 'visit_and_purchase' else 0 , axis = 1)\n",
    "df2 = df2.drop(columns = ['params', 'param_dic'], axis = 1)"
   ]
  },
  {
   "cell_type": "code",
   "execution_count": 7,
   "id": "cdaa2488-d8b2-447e-be36-f1c94f7da95f",
   "metadata": {},
   "outputs": [],
   "source": [
    "# source, product 라벨 인코딩 \n",
    "df2['new_param'] = df2['source'].astype(str) + '_' + df2['product'].astype(str)"
   ]
  },
  {
   "cell_type": "code",
   "execution_count": 8,
   "id": "5c549457-dc77-4943-b998-c8968a318be9",
   "metadata": {},
   "outputs": [],
   "source": [
    "num_df = df2[['age','gender','day_diff','purchase']]\n",
    "dummies_df = pd.get_dummies(df2['new_param'], dtype = 'int')\n",
    "\n",
    "model_df = pd.concat([num_df, dummies_df], axis = 1) "
   ]
  },
  {
   "cell_type": "markdown",
   "id": "7933322e-5397-4b45-a8a4-4dec9e00da9d",
   "metadata": {},
   "source": [
    "가입일 포함 첫 31일 동안의 유저 행동을 통해 32일째 부터 7일동안의 물건 구매 여부를 확인하는 모델링 </br>\n",
    " 풀이방법] </br>\n",
    "1. 첫 가입 일자를 구하기 </br>\n",
    "2. day_diff 로 날짜 차이 구하기</br>\n",
    "3. 가입 30일 안에 드는 그룹 구하기 = g </br>\n",
    "         3.1 처음 방문한 user_id별 소스, 나이, 성별 (basic_info)</br>\n",
    "         3.2 가입 30일 안에 든 user_id에서 visit_and_purchase의 총 구매 건수 (total_purchase)</br>\n",
    "         3.3 가입 30일 안에 든 user_id에서 visit_and_purchase의 제품별 구매건수를 user_id기준 행/열 치환 (products)</br>\n",
    "         3.4 가입 30일 안에 든 user_id에서 visit 의 방문 횟수 (visit)</br> \n",
    "4. 3번 항목 병합 (user_id 기준)"
   ]
  },
  {
   "cell_type": "code",
   "execution_count": 9,
   "id": "5d285ee1-a5fb-4f8e-a454-360910bad034",
   "metadata": {},
   "outputs": [],
   "source": [
    "# 첫 가입 일짜 구하기 \n",
    "df['first_joined_day'] = df.groupby(['user_id'])['timestamp'].transform(lambda x : x.min())\n",
    "\n",
    "# 날짜 차이\n",
    "df['day_diff'] = (df['timestamp'] - df['first_joined_day']).dt.days"
   ]
  },
  {
   "cell_type": "code",
   "execution_count": 10,
   "id": "17177c09-d848-4a88-9ba6-57d0e7ed3b13",
   "metadata": {},
   "outputs": [
    {
     "data": {
      "text/html": [
       "<div>\n",
       "<style scoped>\n",
       "    .dataframe tbody tr th:only-of-type {\n",
       "        vertical-align: middle;\n",
       "    }\n",
       "\n",
       "    .dataframe tbody tr th {\n",
       "        vertical-align: top;\n",
       "    }\n",
       "\n",
       "    .dataframe thead th {\n",
       "        text-align: right;\n",
       "    }\n",
       "</style>\n",
       "<table border=\"1\" class=\"dataframe\">\n",
       "  <thead>\n",
       "    <tr style=\"text-align: right;\">\n",
       "      <th></th>\n",
       "      <th>user_id</th>\n",
       "      <th>source</th>\n",
       "      <th>age</th>\n",
       "      <th>gender</th>\n",
       "    </tr>\n",
       "  </thead>\n",
       "  <tbody>\n",
       "    <tr>\n",
       "      <th>0</th>\n",
       "      <td>668300627f964509a7f5b5f63b570d55</td>\n",
       "      <td>sns</td>\n",
       "      <td>31</td>\n",
       "      <td>M</td>\n",
       "    </tr>\n",
       "    <tr>\n",
       "      <th>1</th>\n",
       "      <td>5247c14484884949b5aa036cc68219f5</td>\n",
       "      <td>sns</td>\n",
       "      <td>47</td>\n",
       "      <td>M</td>\n",
       "    </tr>\n",
       "    <tr>\n",
       "      <th>2</th>\n",
       "      <td>3e2b6f742974459eba9d3aaa22f6da9c</td>\n",
       "      <td>sns</td>\n",
       "      <td>32</td>\n",
       "      <td>F</td>\n",
       "    </tr>\n",
       "  </tbody>\n",
       "</table>\n",
       "</div>"
      ],
      "text/plain": [
       "                            user_id source  age gender\n",
       "0  668300627f964509a7f5b5f63b570d55    sns   31      M\n",
       "1  5247c14484884949b5aa036cc68219f5    sns   47      M\n",
       "2  3e2b6f742974459eba9d3aaa22f6da9c    sns   32      F"
      ]
     },
     "execution_count": 10,
     "metadata": {},
     "output_type": "execute_result"
    }
   ],
   "source": [
    "# 1. 가입 30일 안에 유저들 그룹 \n",
    "g = df.loc[df['day_diff'] <= 30].reset_index(drop = True)\n",
    "\n",
    "# 처음 방문한 사용자의 아이디, 소스, 나이, 성별 - 7431 \n",
    "basic_info = g[g.event == 'first_visit'][['user_id','source','age','gender']].reset_index(drop = True)\n",
    "basic_info.head(3)"
   ]
  },
  {
   "cell_type": "code",
   "execution_count": 11,
   "id": "110f41d0-45c8-4a98-884e-74f89b08f97c",
   "metadata": {},
   "outputs": [
    {
     "data": {
      "text/html": [
       "<div>\n",
       "<style scoped>\n",
       "    .dataframe tbody tr th:only-of-type {\n",
       "        vertical-align: middle;\n",
       "    }\n",
       "\n",
       "    .dataframe tbody tr th {\n",
       "        vertical-align: top;\n",
       "    }\n",
       "\n",
       "    .dataframe thead th {\n",
       "        text-align: right;\n",
       "    }\n",
       "</style>\n",
       "<table border=\"1\" class=\"dataframe\">\n",
       "  <thead>\n",
       "    <tr style=\"text-align: right;\">\n",
       "      <th></th>\n",
       "      <th>user_id</th>\n",
       "      <th>total_purchase</th>\n",
       "    </tr>\n",
       "  </thead>\n",
       "  <tbody>\n",
       "    <tr>\n",
       "      <th>0</th>\n",
       "      <td>b863bcb3866c4b0fb0a80f15d60bfb58</td>\n",
       "      <td>4</td>\n",
       "    </tr>\n",
       "    <tr>\n",
       "      <th>1</th>\n",
       "      <td>d946b67c899e4863afde979e581e6cb1</td>\n",
       "      <td>4</td>\n",
       "    </tr>\n",
       "    <tr>\n",
       "      <th>2</th>\n",
       "      <td>c141521cca514cc189ff6f0d06d9db62</td>\n",
       "      <td>4</td>\n",
       "    </tr>\n",
       "  </tbody>\n",
       "</table>\n",
       "</div>"
      ],
      "text/plain": [
       "                            user_id  total_purchase\n",
       "0  b863bcb3866c4b0fb0a80f15d60bfb58               4\n",
       "1  d946b67c899e4863afde979e581e6cb1               4\n",
       "2  c141521cca514cc189ff6f0d06d9db62               4"
      ]
     },
     "execution_count": 11,
     "metadata": {},
     "output_type": "execute_result"
    }
   ],
   "source": [
    "# 총 구매 횟수 - 3490\n",
    "total_purchase = g[g.event == 'visit_and_purchase']['user_id'].value_counts().reset_index().rename(columns = {'count' :'total_purchase'}) \n",
    "total_purchase.head(3)"
   ]
  },
  {
   "cell_type": "code",
   "execution_count": 12,
   "id": "cf17085a-a8a1-41f2-800b-1cc64750b437",
   "metadata": {
    "scrolled": true
   },
   "outputs": [
    {
     "data": {
      "text/html": [
       "<div>\n",
       "<style scoped>\n",
       "    .dataframe tbody tr th:only-of-type {\n",
       "        vertical-align: middle;\n",
       "    }\n",
       "\n",
       "    .dataframe tbody tr th {\n",
       "        vertical-align: top;\n",
       "    }\n",
       "\n",
       "    .dataframe thead th {\n",
       "        text-align: right;\n",
       "    }\n",
       "</style>\n",
       "<table border=\"1\" class=\"dataframe\">\n",
       "  <thead>\n",
       "    <tr style=\"text-align: right;\">\n",
       "      <th>product</th>\n",
       "      <th>user_id</th>\n",
       "      <th>Beauty Products</th>\n",
       "      <th>Books</th>\n",
       "      <th>Clothing</th>\n",
       "      <th>Electronics</th>\n",
       "      <th>Groceries</th>\n",
       "      <th>Home &amp; Kitchen</th>\n",
       "      <th>Movies &amp; TV</th>\n",
       "      <th>Music</th>\n",
       "      <th>Sports</th>\n",
       "      <th>Toys</th>\n",
       "    </tr>\n",
       "  </thead>\n",
       "  <tbody>\n",
       "    <tr>\n",
       "      <th>0</th>\n",
       "      <td>001d54a6141b41e0b44b01e5512b37e4</td>\n",
       "      <td>0</td>\n",
       "      <td>0</td>\n",
       "      <td>0</td>\n",
       "      <td>0</td>\n",
       "      <td>0</td>\n",
       "      <td>0</td>\n",
       "      <td>1</td>\n",
       "      <td>0</td>\n",
       "      <td>0</td>\n",
       "      <td>0</td>\n",
       "    </tr>\n",
       "    <tr>\n",
       "      <th>1</th>\n",
       "      <td>002564a18b32492e9993f9bb09a570f7</td>\n",
       "      <td>0</td>\n",
       "      <td>0</td>\n",
       "      <td>0</td>\n",
       "      <td>0</td>\n",
       "      <td>1</td>\n",
       "      <td>1</td>\n",
       "      <td>0</td>\n",
       "      <td>0</td>\n",
       "      <td>0</td>\n",
       "      <td>0</td>\n",
       "    </tr>\n",
       "    <tr>\n",
       "      <th>2</th>\n",
       "      <td>0025f3db50064e068aa9a515411b4cc0</td>\n",
       "      <td>0</td>\n",
       "      <td>0</td>\n",
       "      <td>0</td>\n",
       "      <td>1</td>\n",
       "      <td>0</td>\n",
       "      <td>1</td>\n",
       "      <td>0</td>\n",
       "      <td>0</td>\n",
       "      <td>0</td>\n",
       "      <td>0</td>\n",
       "    </tr>\n",
       "  </tbody>\n",
       "</table>\n",
       "</div>"
      ],
      "text/plain": [
       "product                           user_id  Beauty Products  Books  Clothing  \\\n",
       "0        001d54a6141b41e0b44b01e5512b37e4                0      0         0   \n",
       "1        002564a18b32492e9993f9bb09a570f7                0      0         0   \n",
       "2        0025f3db50064e068aa9a515411b4cc0                0      0         0   \n",
       "\n",
       "product  Electronics  Groceries  Home & Kitchen  Movies & TV  Music  Sports  \\\n",
       "0                  0          0               0            1      0       0   \n",
       "1                  0          1               1            0      0       0   \n",
       "2                  1          0               1            0      0       0   \n",
       "\n",
       "product  Toys  \n",
       "0           0  \n",
       "1           0  \n",
       "2           0  "
      ]
     },
     "execution_count": 12,
     "metadata": {},
     "output_type": "execute_result"
    }
   ],
   "source": [
    "# 각 물품별 구매 횟수 - 3490\n",
    "products = g[g.event  == 'visit_and_purchase'].groupby(['user_id','product']).size().unstack().fillna(0).astype(int).reset_index() \n",
    "products.head(3)"
   ]
  },
  {
   "cell_type": "code",
   "execution_count": 13,
   "id": "c1545389-5295-41a5-b81c-c0c4d8c78f30",
   "metadata": {},
   "outputs": [
    {
     "data": {
      "text/html": [
       "<div>\n",
       "<style scoped>\n",
       "    .dataframe tbody tr th:only-of-type {\n",
       "        vertical-align: middle;\n",
       "    }\n",
       "\n",
       "    .dataframe tbody tr th {\n",
       "        vertical-align: top;\n",
       "    }\n",
       "\n",
       "    .dataframe thead th {\n",
       "        text-align: right;\n",
       "    }\n",
       "</style>\n",
       "<table border=\"1\" class=\"dataframe\">\n",
       "  <thead>\n",
       "    <tr style=\"text-align: right;\">\n",
       "      <th></th>\n",
       "      <th>user_id</th>\n",
       "      <th>visit_cnt</th>\n",
       "    </tr>\n",
       "  </thead>\n",
       "  <tbody>\n",
       "    <tr>\n",
       "      <th>0</th>\n",
       "      <td>922f7952e9514a848aec7a7425865da5</td>\n",
       "      <td>5</td>\n",
       "    </tr>\n",
       "    <tr>\n",
       "      <th>1</th>\n",
       "      <td>a99e8f7238024679b4f742590d914e5c</td>\n",
       "      <td>5</td>\n",
       "    </tr>\n",
       "    <tr>\n",
       "      <th>2</th>\n",
       "      <td>2d08b20277c2473da4cca08190b2c250</td>\n",
       "      <td>5</td>\n",
       "    </tr>\n",
       "  </tbody>\n",
       "</table>\n",
       "</div>"
      ],
      "text/plain": [
       "                            user_id  visit_cnt\n",
       "0  922f7952e9514a848aec7a7425865da5          5\n",
       "1  a99e8f7238024679b4f742590d914e5c          5\n",
       "2  2d08b20277c2473da4cca08190b2c250          5"
      ]
     },
     "execution_count": 13,
     "metadata": {},
     "output_type": "execute_result"
    }
   ],
   "source": [
    "# 방문 횟수 4631\n",
    "visit = g[g.event == 'visit']['user_id'].value_counts().reset_index().rename(columns = {'count' :'visit_cnt'})\n",
    "visit.head(3)"
   ]
  },
  {
   "cell_type": "code",
   "execution_count": 14,
   "id": "0bdd8464-883d-42a0-ab36-5e3451ac28e8",
   "metadata": {},
   "outputs": [],
   "source": [
    "m1 = pd.merge(basic_info, total_purchase, how = 'outer', on = 'user_id')\n",
    "m2 = pd.merge(m1, products, how = 'outer', on = 'user_id')\n",
    "m3 = pd.merge(m2, visit, how = 'outer', on = 'user_id')\n",
    "\n",
    "m3= m3.fillna(0)"
   ]
  },
  {
   "cell_type": "code",
   "execution_count": 15,
   "id": "0b309844-e9c0-4d1f-bdbc-4c2f57d5d849",
   "metadata": {},
   "outputs": [],
   "source": [
    "# 1. 가입 31에서 37 사이에 있는 유저들 그룹 - 구매한 아이디들 \n",
    "g3137 = df.loc[(df.day_diff >=31) & (df.day_diff <=37)].reset_index(drop = True)\n",
    "\n",
    "y = g3137.groupby(['user_id', 'event']).size().unstack()['visit_and_purchase'].fillna(0).reset_index()\n"
   ]
  },
  {
   "cell_type": "code",
   "execution_count": 16,
   "id": "70449f05-c2c6-4197-9054-4ae4b74989f0",
   "metadata": {},
   "outputs": [
    {
     "data": {
      "text/html": [
       "<div>\n",
       "<style scoped>\n",
       "    .dataframe tbody tr th:only-of-type {\n",
       "        vertical-align: middle;\n",
       "    }\n",
       "\n",
       "    .dataframe tbody tr th {\n",
       "        vertical-align: top;\n",
       "    }\n",
       "\n",
       "    .dataframe thead th {\n",
       "        text-align: right;\n",
       "    }\n",
       "</style>\n",
       "<table border=\"1\" class=\"dataframe\">\n",
       "  <thead>\n",
       "    <tr style=\"text-align: right;\">\n",
       "      <th></th>\n",
       "      <th>user_id</th>\n",
       "      <th>source</th>\n",
       "      <th>age</th>\n",
       "      <th>gender</th>\n",
       "      <th>total_purchase</th>\n",
       "      <th>Beauty Products</th>\n",
       "      <th>Books</th>\n",
       "      <th>Clothing</th>\n",
       "      <th>Electronics</th>\n",
       "      <th>Groceries</th>\n",
       "      <th>Home &amp; Kitchen</th>\n",
       "      <th>Movies &amp; TV</th>\n",
       "      <th>Music</th>\n",
       "      <th>Sports</th>\n",
       "      <th>Toys</th>\n",
       "      <th>visit_cnt</th>\n",
       "      <th>visit_and_purchase</th>\n",
       "    </tr>\n",
       "  </thead>\n",
       "  <tbody>\n",
       "    <tr>\n",
       "      <th>0</th>\n",
       "      <td>001ce1bb72964d909bc319705b8ffdbf</td>\n",
       "      <td>promotion</td>\n",
       "      <td>48</td>\n",
       "      <td>F</td>\n",
       "      <td>0.0</td>\n",
       "      <td>0.0</td>\n",
       "      <td>0.0</td>\n",
       "      <td>0.0</td>\n",
       "      <td>0.0</td>\n",
       "      <td>0.0</td>\n",
       "      <td>0.0</td>\n",
       "      <td>0.0</td>\n",
       "      <td>0.0</td>\n",
       "      <td>0.0</td>\n",
       "      <td>0.0</td>\n",
       "      <td>1.0</td>\n",
       "      <td>0.0</td>\n",
       "    </tr>\n",
       "    <tr>\n",
       "      <th>1</th>\n",
       "      <td>001cec87aa1f4527b488781176ea3f25</td>\n",
       "      <td>sns</td>\n",
       "      <td>25</td>\n",
       "      <td>F</td>\n",
       "      <td>0.0</td>\n",
       "      <td>0.0</td>\n",
       "      <td>0.0</td>\n",
       "      <td>0.0</td>\n",
       "      <td>0.0</td>\n",
       "      <td>0.0</td>\n",
       "      <td>0.0</td>\n",
       "      <td>0.0</td>\n",
       "      <td>0.0</td>\n",
       "      <td>0.0</td>\n",
       "      <td>0.0</td>\n",
       "      <td>1.0</td>\n",
       "      <td>0.0</td>\n",
       "    </tr>\n",
       "    <tr>\n",
       "      <th>2</th>\n",
       "      <td>001d54a6141b41e0b44b01e5512b37e4</td>\n",
       "      <td>sns</td>\n",
       "      <td>44</td>\n",
       "      <td>F</td>\n",
       "      <td>1.0</td>\n",
       "      <td>0.0</td>\n",
       "      <td>0.0</td>\n",
       "      <td>0.0</td>\n",
       "      <td>0.0</td>\n",
       "      <td>0.0</td>\n",
       "      <td>0.0</td>\n",
       "      <td>1.0</td>\n",
       "      <td>0.0</td>\n",
       "      <td>0.0</td>\n",
       "      <td>0.0</td>\n",
       "      <td>1.0</td>\n",
       "      <td>0.0</td>\n",
       "    </tr>\n",
       "    <tr>\n",
       "      <th>3</th>\n",
       "      <td>0024a606685141279f350d2fdfeb9f9a</td>\n",
       "      <td>sns</td>\n",
       "      <td>28</td>\n",
       "      <td>F</td>\n",
       "      <td>0.0</td>\n",
       "      <td>0.0</td>\n",
       "      <td>0.0</td>\n",
       "      <td>0.0</td>\n",
       "      <td>0.0</td>\n",
       "      <td>0.0</td>\n",
       "      <td>0.0</td>\n",
       "      <td>0.0</td>\n",
       "      <td>0.0</td>\n",
       "      <td>0.0</td>\n",
       "      <td>0.0</td>\n",
       "      <td>1.0</td>\n",
       "      <td>0.0</td>\n",
       "    </tr>\n",
       "    <tr>\n",
       "      <th>4</th>\n",
       "      <td>002564a18b32492e9993f9bb09a570f7</td>\n",
       "      <td>sns</td>\n",
       "      <td>45</td>\n",
       "      <td>F</td>\n",
       "      <td>2.0</td>\n",
       "      <td>0.0</td>\n",
       "      <td>0.0</td>\n",
       "      <td>0.0</td>\n",
       "      <td>0.0</td>\n",
       "      <td>1.0</td>\n",
       "      <td>1.0</td>\n",
       "      <td>0.0</td>\n",
       "      <td>0.0</td>\n",
       "      <td>0.0</td>\n",
       "      <td>0.0</td>\n",
       "      <td>1.0</td>\n",
       "      <td>0.0</td>\n",
       "    </tr>\n",
       "  </tbody>\n",
       "</table>\n",
       "</div>"
      ],
      "text/plain": [
       "                            user_id     source  age gender  total_purchase  \\\n",
       "0  001ce1bb72964d909bc319705b8ffdbf  promotion   48      F             0.0   \n",
       "1  001cec87aa1f4527b488781176ea3f25        sns   25      F             0.0   \n",
       "2  001d54a6141b41e0b44b01e5512b37e4        sns   44      F             1.0   \n",
       "3  0024a606685141279f350d2fdfeb9f9a        sns   28      F             0.0   \n",
       "4  002564a18b32492e9993f9bb09a570f7        sns   45      F             2.0   \n",
       "\n",
       "   Beauty Products  Books  Clothing  Electronics  Groceries  Home & Kitchen  \\\n",
       "0              0.0    0.0       0.0          0.0        0.0             0.0   \n",
       "1              0.0    0.0       0.0          0.0        0.0             0.0   \n",
       "2              0.0    0.0       0.0          0.0        0.0             0.0   \n",
       "3              0.0    0.0       0.0          0.0        0.0             0.0   \n",
       "4              0.0    0.0       0.0          0.0        1.0             1.0   \n",
       "\n",
       "   Movies & TV  Music  Sports  Toys  visit_cnt  visit_and_purchase  \n",
       "0          0.0    0.0     0.0   0.0        1.0                 0.0  \n",
       "1          0.0    0.0     0.0   0.0        1.0                 0.0  \n",
       "2          1.0    0.0     0.0   0.0        1.0                 0.0  \n",
       "3          0.0    0.0     0.0   0.0        1.0                 0.0  \n",
       "4          0.0    0.0     0.0   0.0        1.0                 0.0  "
      ]
     },
     "execution_count": 16,
     "metadata": {},
     "output_type": "execute_result"
    }
   ],
   "source": [
    "model = pd.merge(m3, y, how = 'outer', on = 'user_id').fillna(0)\n",
    "model.head()"
   ]
  },
  {
   "cell_type": "markdown",
   "id": "4db97239-eef5-439b-9813-723b1982634b",
   "metadata": {},
   "source": [
    "✅ 비트코인 가격 데이터"
   ]
  },
  {
   "cell_type": "code",
   "execution_count": 17,
   "id": "a4ae290c-0417-4c19-b780-2935118b32f8",
   "metadata": {},
   "outputs": [
    {
     "data": {
      "text/html": [
       "<div>\n",
       "<style scoped>\n",
       "    .dataframe tbody tr th:only-of-type {\n",
       "        vertical-align: middle;\n",
       "    }\n",
       "\n",
       "    .dataframe tbody tr th {\n",
       "        vertical-align: top;\n",
       "    }\n",
       "\n",
       "    .dataframe thead th {\n",
       "        text-align: right;\n",
       "    }\n",
       "</style>\n",
       "<table border=\"1\" class=\"dataframe\">\n",
       "  <thead>\n",
       "    <tr style=\"text-align: right;\">\n",
       "      <th></th>\n",
       "      <th>TIMESTAMP</th>\n",
       "      <th>bitcoin($)</th>\n",
       "    </tr>\n",
       "  </thead>\n",
       "  <tbody>\n",
       "    <tr>\n",
       "      <th>0</th>\n",
       "      <td>1.577837e+09</td>\n",
       "      <td>7195.24</td>\n",
       "    </tr>\n",
       "    <tr>\n",
       "      <th>1</th>\n",
       "      <td>1.577837e+09</td>\n",
       "      <td>7187.67</td>\n",
       "    </tr>\n",
       "    <tr>\n",
       "      <th>2</th>\n",
       "      <td>1.577837e+09</td>\n",
       "      <td>7184.41</td>\n",
       "    </tr>\n",
       "    <tr>\n",
       "      <th>3</th>\n",
       "      <td>1.577837e+09</td>\n",
       "      <td>7183.83</td>\n",
       "    </tr>\n",
       "    <tr>\n",
       "      <th>4</th>\n",
       "      <td>1.577837e+09</td>\n",
       "      <td>7185.54</td>\n",
       "    </tr>\n",
       "  </tbody>\n",
       "</table>\n",
       "</div>"
      ],
      "text/plain": [
       "      TIMESTAMP  bitcoin($)\n",
       "0  1.577837e+09     7195.24\n",
       "1  1.577837e+09     7187.67\n",
       "2  1.577837e+09     7184.41\n",
       "3  1.577837e+09     7183.83\n",
       "4  1.577837e+09     7185.54"
      ]
     },
     "execution_count": 17,
     "metadata": {},
     "output_type": "execute_result"
    }
   ],
   "source": [
    "import pandas as pd\n",
    "df = pd.read_csv('https://raw.githubusercontent.com/Datamanim/datarepo/main/adp/mock/001_m2.csv')\n",
    "df.head()"
   ]
  },
  {
   "cell_type": "markdown",
   "id": "2b5c4041-3160-449e-a7af-18f20ec4d868",
   "metadata": {},
   "source": [
    "✅ 결측치 대치 방안 - 시계열 데이터(보간법)"
   ]
  },
  {
   "cell_type": "code",
   "execution_count": 18,
   "id": "33e9daff-774f-4b90-b67e-4ac79912c053",
   "metadata": {},
   "outputs": [],
   "source": [
    "df.columns = ['time','value']\n",
    "df['time'] = pd.to_datetime(df['time'], unit = 's')\n",
    "df.head()\n",
    "\n",
    "df1 = df.interpolate(method = 'linear')"
   ]
  },
  {
   "cell_type": "markdown",
   "id": "4b0b1de5-8755-4026-a799-7e1fff581bea",
   "metadata": {},
   "source": [
    "✅ 데이터의 정상성을 통계적,시각적 방법을 통해 확인 </br>\n",
    "1. Adufuller \n",
    " - 귀무가설 : 비정상 데이터다 (v)\n",
    " - 대립가설 : 정상 데이터다.\n",
    "\n",
    "2. plot_acf, plot_pacf "
   ]
  },
  {
   "cell_type": "code",
   "execution_count": 19,
   "id": "e9b9a030-6793-4fea-b7e5-1909e2b99c92",
   "metadata": {},
   "outputs": [
    {
     "name": "stdout",
     "output_type": "stream",
     "text": [
      "0.6911875407269488\n"
     ]
    },
    {
     "data": {
      "image/png": "[encoded data removed]",
      "text/plain": [
       "<Figure size 2000x300 with 3 Axes>"
      ]
     },
     "metadata": {},
     "output_type": "display_data"
    },
    {
     "name": "stdout",
     "output_type": "stream",
     "text": [
      "\n",
      "1. ACF 그래프 \n",
      "    - 정상 : ACF값이 빠르게 0에 수렴, lag가 증가함에 따라 급격히 감소 \n",
      "    - 비정상 : ACF가 천천히 감소하거나, 지속적으로 높은 상관계수 유지 \n",
      "     지속적인 자기 상관이 있음 (전형적인 비정상 패턴)\n",
      "2. PACF 그래프 \n",
      "    - 정상 : PACF 값이 특정 시차 이후 0에 수렴 \n",
      "    - 비정상 : PACF 값이 지속적으로 유의미한 값을 가짐\n",
      "    Lag 1에서만 큰 값을 가지고 있으며, AR(1)을 시사하지만, ACF 그래프에 기반하여 정상성 띄지 않음 \n",
      "\n"
     ]
    }
   ],
   "source": [
    "from statsmodels.tsa.stattools import adfuller \n",
    "from statsmodels.graphics.tsaplots import plot_acf, plot_pacf\n",
    "from statsmodels.tsa.stattools import acf, pacf\n",
    "from statsmodels.tsa.seasonal import seasonal_decompose\n",
    "\n",
    "result = adfuller(df1['value'])\n",
    "print(result[1])\n",
    "\n",
    "fig, ax = plt.subplots(1,3, figsize = (20, 3))\n",
    "plot_acf(df1['value'], ax = ax[0])\n",
    "plot_pacf(df1['value'], ax = ax[1])\n",
    "plt.plot(df1['time'], df1['value'] )\n",
    "\n",
    "plt.tight_layout()\n",
    "plt.show()\n",
    "\n",
    "print('''\n",
    "1. ACF 그래프 \n",
    "    - 정상 : ACF값이 빠르게 0에 수렴, lag가 증가함에 따라 급격히 감소 \n",
    "    - 비정상 : ACF가 천천히 감소하거나, 지속적으로 높은 상관계수 유지 \n",
    "     지속적인 자기 상관이 있음 (전형적인 비정상 패턴)\n",
    "2. PACF 그래프 \n",
    "    - 정상 : PACF 값이 특정 시차 이후 0에 수렴 \n",
    "    - 비정상 : PACF 값이 지속적으로 유의미한 값을 가짐\n",
    "    Lag 1에서만 큰 값을 가지고 있으며, AR(1)을 시사하지만, ACF 그래프에 기반하여 정상성 띄지 않음 \n",
    "''')"
   ]
  },
  {
   "cell_type": "code",
   "execution_count": 20,
   "id": "1069c924-d148-4137-a0bc-c2acdc538c47",
   "metadata": {},
   "outputs": [
    {
     "data": {
      "text/plain": [
       "<Figure size 2000x300 with 0 Axes>"
      ]
     },
     "metadata": {},
     "output_type": "display_data"
    },
    {
     "data": {
      "image/png": "[encoded data removed]",
      "text/plain": [
       "<Figure size 640x480 with 4 Axes>"
      ]
     },
     "metadata": {},
     "output_type": "display_data"
    },
    {
     "name": "stdout",
     "output_type": "stream",
     "text": [
      "\n",
      "데이터가 추세, 계절성을 가지고 있기 때문에 차분/변환을 통해 정상성을 확보 한 후 모델에 적용하는것이 필요\n",
      "\n"
     ]
    }
   ],
   "source": [
    "result = seasonal_decompose(df1.set_index('time'), model='additive', period=1440)\n",
    "\n",
    "plt.figure(figsize = (20,3))\n",
    "result.plot()\n",
    "plt.show()\n",
    "print('''\n",
    "데이터가 추세, 계절성을 가지고 있기 때문에 차분/변환을 통해 정상성을 확보 한 후 모델에 적용하는것이 필요\n",
    "''')"
   ]
  },
  {
   "cell_type": "markdown",
   "id": "22d84f05-3e52-45bc-a88e-f7b96173b676",
   "metadata": {},
   "source": [
    "### 🔍 통계\n",
    "##### ✅ 1. 비모수검정\n",
    "\n",
    "| 피험자   | 차량 A | 차량 B | 차량 C |\n",
    "|----------|--------|--------|--------|\n",
    "| 피험자1 |   4    |   1    |   6    |\n",
    "| 피험자2 |   3    |   4    |   6    |\n",
    "| 피험자3 |   2    |   4    |   6    |\n",
    "| 피험자4 |   4    |   3    |   2    |\n",
    "| 피험자5 |   4    |   1    |   6    |\n",
    "| 피험자6 |   6    |   4    |   2    |\n",
    "| 피험자7 |   5    |   3    |   5    |\n",
    "| 피험자8 |   6    |   3    |   2    |\n",
    "| 피험자9 |   2    |   4    |   6    |\n"
   ]
  },
  {
   "cell_type": "code",
   "execution_count": 27,
   "id": "baaa1c38-cb0d-478e-8cee-6ee96f30d3a6",
   "metadata": {},
   "outputs": [
    {
     "name": "stdout",
     "output_type": "stream",
     "text": [
      "0.4124194827001596\n"
     ]
    }
   ],
   "source": [
    "# 차량의 쌍별로 비교 - 프리드만 \n",
    "from scipy.stats import friedmanchisquare , chi2_contingency\n",
    "\n",
    "A = [4,3,2,4,4,6,5,6,2]\n",
    "B = [1,4,4,3,1,4,3,3,4]\n",
    "C = [6,6,6,2,6,2,5,2,6]\n",
    "\n",
    "s, p_val = friedmanchisquare(A,B,C)\n",
    "print(p_val)"
   ]
  },
  {
   "cell_type": "markdown",
   "id": "26d2fe95-bbaa-4dd0-b993-3bb3cff7931f",
   "metadata": {},
   "source": [
    "##### ✅ 2. 장르별 팝콘 구매여부"
   ]
  },
  {
   "cell_type": "code",
   "execution_count": 25,
   "id": "e7a3ee3c-2bc0-4026-8ba8-597cb3dc1d0a",
   "metadata": {},
   "outputs": [
    {
     "data": {
      "text/html": [
       "<div>\n",
       "<style scoped>\n",
       "    .dataframe tbody tr th:only-of-type {\n",
       "        vertical-align: middle;\n",
       "    }\n",
       "\n",
       "    .dataframe tbody tr th {\n",
       "        vertical-align: top;\n",
       "    }\n",
       "\n",
       "    .dataframe thead th {\n",
       "        text-align: right;\n",
       "    }\n",
       "</style>\n",
       "<table border=\"1\" class=\"dataframe\">\n",
       "  <thead>\n",
       "    <tr style=\"text-align: right;\">\n",
       "      <th></th>\n",
       "      <th>유저ID</th>\n",
       "      <th>장르</th>\n",
       "      <th>구매여부</th>\n",
       "    </tr>\n",
       "  </thead>\n",
       "  <tbody>\n",
       "    <tr>\n",
       "      <th>0</th>\n",
       "      <td>0</td>\n",
       "      <td>액션</td>\n",
       "      <td>구매</td>\n",
       "    </tr>\n",
       "    <tr>\n",
       "      <th>1</th>\n",
       "      <td>1</td>\n",
       "      <td>액션</td>\n",
       "      <td>구매</td>\n",
       "    </tr>\n",
       "    <tr>\n",
       "      <th>2</th>\n",
       "      <td>2</td>\n",
       "      <td>액션</td>\n",
       "      <td>구매</td>\n",
       "    </tr>\n",
       "    <tr>\n",
       "      <th>3</th>\n",
       "      <td>3</td>\n",
       "      <td>액션</td>\n",
       "      <td>구매</td>\n",
       "    </tr>\n",
       "    <tr>\n",
       "      <th>4</th>\n",
       "      <td>4</td>\n",
       "      <td>액션</td>\n",
       "      <td>구매</td>\n",
       "    </tr>\n",
       "  </tbody>\n",
       "</table>\n",
       "</div>"
      ],
      "text/plain": [
       "   유저ID  장르 구매여부\n",
       "0     0  액션   구매\n",
       "1     1  액션   구매\n",
       "2     2  액션   구매\n",
       "3     3  액션   구매\n",
       "4     4  액션   구매"
      ]
     },
     "execution_count": 25,
     "metadata": {},
     "output_type": "execute_result"
    }
   ],
   "source": [
    "df =pd.read_csv('https://raw.githubusercontent.com/Datamanim/datarepo/main/adp/mock/001_s2.csv')\n",
    "df.head()"
   ]
  },
  {
   "cell_type": "code",
   "execution_count": 28,
   "id": "e8ab6b80-477c-47aa-8b55-d9d863aaaffb",
   "metadata": {},
   "outputs": [
    {
     "name": "stdout",
     "output_type": "stream",
     "text": [
      "4.987377462630171e-14\n"
     ]
    }
   ],
   "source": [
    "tab = pd.crosstab(df['장르'] , df['구매여부'])\n",
    "\n",
    "stat, p_val, _, _ = chi2_contingency(tab)\n",
    "print(p_val)"
   ]
  },
  {
   "cell_type": "markdown",
   "id": "ee4ddcd7-5a92-43c1-8318-f5f67f63e83a",
   "metadata": {},
   "source": [
    "#### 📦 크라메르 연관계수 \n",
    "두 범주형 변수간의 연관성을 측정하는 지표 (카이 제곱 통계량 기반)\n",
    "- 0에 가까울 수록 연관성 없음\n",
    "- 1에 가까울 수록 강한 연관성\n",
    "- 0.6d 이상 강한 연관 / 0.2 ~ 0.6 적당히 연관"
   ]
  },
  {
   "cell_type": "code",
   "execution_count": 34,
   "id": "182c3c1c-313c-4253-bee9-6f1fb9e4747e",
   "metadata": {},
   "outputs": [
    {
     "data": {
      "text/plain": [
       "np.float64(0.32916973606033734)"
      ]
     },
     "execution_count": 34,
     "metadata": {},
     "output_type": "execute_result"
    }
   ],
   "source": [
    "# cross_tab의 구매여부의 합 \n",
    "total = tab.sum().sum()\n",
    "\n",
    "# row 혹은 column 수 중 작은 값\n",
    "k = min(tab.shape) \n",
    "\n",
    "np.sqrt(stat / total * (k -1))"
   ]
  },
  {
   "cell_type": "markdown",
   "id": "421d243b-d474-4847-ab3c-4ed03a7ca4ce",
   "metadata": {},
   "source": [
    "##### ✅ 3. 어느 도시에서 성인 전체의 25%가 흡연자라고 한다. 만약 현재도 이와 비슷한 비율이 유지된다면 1300명의 성인표본에서 흡연자가 317명보다 작을 확률 "
   ]
  },
  {
   "cell_type": "code",
   "execution_count": 43,
   "id": "3f205cbc-a45b-4432-900c-22bdd4522aef",
   "metadata": {},
   "outputs": [
    {
     "name": "stdout",
     "output_type": "stream",
     "text": [
      "0.29307083446132876\n"
     ]
    },
    {
     "data": {
      "text/plain": [
       "np.float64(0.2943747986304395)"
      ]
     },
     "execution_count": 43,
     "metadata": {},
     "output_type": "execute_result"
    }
   ],
   "source": [
    "from scipy.stats import norm, binom\n",
    "#이항분포는 𝑛이 크고 p가 중간값(0.5 근처)일 때 정규분포로 근사 > N이 1300명임으로 정규분포로 풀이 \n",
    "\n",
    "p = 0.25 \n",
    "n = 1300 \n",
    "x = 316.5  # 연속성 보정 적용\n",
    "\n",
    "mean = n * p \n",
    "se = np.sqrt(n * p * (1-p))\n",
    "# Z점수\n",
    "z = (x - mean) / se \n",
    "\n",
    "print(norm.cdf(z))\n",
    "\n",
    "\n",
    "# <이항 풀이 참고> \n",
    "p = 0.25 \n",
    "n = 1300 \n",
    "x = 317\n",
    "\n",
    "rv = binom(n, p)\n",
    "# 317보다 작을 확률 : 316이하 \n",
    "rv.cdf(x - 1)"
   ]
  },
  {
   "cell_type": "markdown",
   "id": "b6c4313e-554a-4546-80e0-462a8b292638",
   "metadata": {},
   "source": [
    "##### ✅ 4. 사용자가 게임 내에서 특정 퀘스트를 클리어하는 성공 확률이 0.3\n",
    "1) 사용자가 총 3회의 성공을 하기까지 시도한 횟수가 5회 미만일 확률\n",
    "2) 사용자가 4번의 퀘스트 클리어 성공을 경험하기까지 평균적으로 몇 번의 시도"
   ]
  },
  {
   "cell_type": "code",
   "execution_count": 45,
   "id": "01e2b1f8-bc74-4fa7-ad71-2e9f54cc9a18",
   "metadata": {},
   "outputs": [
    {
     "name": "stdout",
     "output_type": "stream",
     "text": [
      "0.0837\n"
     ]
    }
   ],
   "source": [
    "# 음이항 분포 : r번째 성공을 달성하기 까지의 시도 횟수 \n",
    "from scipy.stats import nbinom\n",
    "p = 0.3 \n",
    "r = 3      #목표 성공 수\n",
    "\n",
    "# 1) r번째 성공이 K번째 시행에서 이루어질 확률 \n",
    "# nbinom.pmf(k-r, r, p)\n",
    "# 4-r : 3회 성공 = 4번 이하의 시도 \n",
    "prob = nbinom.cdf(4-r, r, p)\n",
    "print(prob)"
   ]
  },
  {
   "cell_type": "code",
   "execution_count": 47,
   "id": "42f4e381-86ad-4c21-80be-7a90d867db54",
   "metadata": {},
   "outputs": [
    {
     "data": {
      "text/plain": [
       "np.float64(13.333333333333334)"
      ]
     },
     "execution_count": 47,
     "metadata": {},
     "output_type": "execute_result"
    }
   ],
   "source": [
    "# 2) 음이항 분포의 평균 구하기 : E(x) = r / p \n",
    "rv = nbinom(4, 0.3)\n",
    "rv.mean() + 4 "
   ]
  },
  {
   "cell_type": "markdown",
   "id": "bfdb30fa-ac6e-47e4-b57b-eb0ee2806d32",
   "metadata": {},
   "source": [
    "##### ✅ 5. 일반화 선형 모형 \n",
    "1) 종속 변수가 정규분포가 아닌 경우\n",
    "2) 종속 변수가 이진/카운트/비율/양수형 등 일때\n",
    "   * 질병 유무 - 로지스틱 / 하루의 교통사고 수- 포아송 / 생존 시간- 감마"
   ]
  },
  {
   "cell_type": "code",
   "execution_count": 49,
   "id": "38b1df87-eb9a-4d2f-91f8-a664fe7afe47",
   "metadata": {},
   "outputs": [
    {
     "data": {
      "text/html": [
       "<div>\n",
       "<style scoped>\n",
       "    .dataframe tbody tr th:only-of-type {\n",
       "        vertical-align: middle;\n",
       "    }\n",
       "\n",
       "    .dataframe tbody tr th {\n",
       "        vertical-align: top;\n",
       "    }\n",
       "\n",
       "    .dataframe thead th {\n",
       "        text-align: right;\n",
       "    }\n",
       "</style>\n",
       "<table border=\"1\" class=\"dataframe\">\n",
       "  <thead>\n",
       "    <tr style=\"text-align: right;\">\n",
       "      <th></th>\n",
       "      <th>Year</th>\n",
       "      <th>Population</th>\n",
       "      <th>Attacks</th>\n",
       "    </tr>\n",
       "  </thead>\n",
       "  <tbody>\n",
       "    <tr>\n",
       "      <th>0</th>\n",
       "      <td>1946</td>\n",
       "      <td>2473000</td>\n",
       "      <td>0</td>\n",
       "    </tr>\n",
       "    <tr>\n",
       "      <th>1</th>\n",
       "      <td>1947</td>\n",
       "      <td>2539000</td>\n",
       "      <td>1</td>\n",
       "    </tr>\n",
       "    <tr>\n",
       "      <th>2</th>\n",
       "      <td>1948</td>\n",
       "      <td>2578000</td>\n",
       "      <td>0</td>\n",
       "    </tr>\n",
       "    <tr>\n",
       "      <th>3</th>\n",
       "      <td>1949</td>\n",
       "      <td>2668000</td>\n",
       "      <td>0</td>\n",
       "    </tr>\n",
       "    <tr>\n",
       "      <th>4</th>\n",
       "      <td>1950</td>\n",
       "      <td>2771305</td>\n",
       "      <td>1</td>\n",
       "    </tr>\n",
       "  </tbody>\n",
       "</table>\n",
       "</div>"
      ],
      "text/plain": [
       "   Year  Population  Attacks\n",
       "0  1946     2473000        0\n",
       "1  1947     2539000        1\n",
       "2  1948     2578000        0\n",
       "3  1949     2668000        0\n",
       "4  1950     2771305        1"
      ]
     },
     "execution_count": 49,
     "metadata": {},
     "output_type": "execute_result"
    }
   ],
   "source": [
    "import statsmodels.api as sm\n",
    "df = pd.read_csv('https://raw.githubusercontent.com/Datamanim/datarepo/main/adp/mock/001_s5.csv')\n",
    "df.head()"
   ]
  },
  {
   "cell_type": "code",
   "execution_count": 50,
   "id": "ef908f99-b22f-4ee8-98e2-44646edb4df5",
   "metadata": {},
   "outputs": [],
   "source": [
    "df['Population']= np.log(df['Population'] / 1000)"
   ]
  },
  {
   "cell_type": "code",
   "execution_count": 55,
   "id": "da2e37af-8398-4452-b6e9-1f720c38a6bb",
   "metadata": {},
   "outputs": [],
   "source": [
    "# 3. 포아송 회귀 모델 정의 \n",
    "#  offset : 포아송 회귀에서는 종속 변수가 카운트임으로, 시간, 사람수, 면적등을 반옇아여 보정항을 생성 > 인구수 보정\n",
    "model = sm.GLM(df['Attacks'] , \n",
    "                   sm.add_constant(df['Year']) ,\n",
    "                   family = sm.families.Poisson(), \n",
    "                   offset = df['Population'])\n",
    "result = model.fit()"
   ]
  },
  {
   "cell_type": "code",
   "execution_count": 56,
   "id": "b3437f19-9962-4a3a-bb0a-bb2aa1c41ee6",
   "metadata": {},
   "outputs": [
    {
     "name": "stdout",
     "output_type": "stream",
     "text": [
      "                 Generalized Linear Model Regression Results                  \n",
      "==============================================================================\n",
      "Dep. Variable:                Attacks   No. Observations:                   54\n",
      "Model:                            GLM   Df Residuals:                       52\n",
      "Model Family:                 Poisson   Df Model:                            1\n",
      "Link Function:                    Log   Scale:                          1.0000\n",
      "Method:                          IRLS   Log-Likelihood:                -142.38\n",
      "Date:                Thu, 17 Apr 2025   Deviance:                       119.11\n",
      "Time:                        20:46:32   Pearson chi2:                     118.\n",
      "No. Iterations:                     5   Pseudo R-squ. (CS):             0.6573\n",
      "Covariance Type:            nonrobust                                         \n",
      "==============================================================================\n",
      "                 coef    std err          z      P>|z|      [0.025      0.975]\n",
      "------------------------------------------------------------------------------\n",
      "const        -68.8845      8.658     -7.956      0.000     -85.854     -51.915\n",
      "Year           0.0312      0.004      7.148      0.000       0.023       0.040\n",
      "==============================================================================\n"
     ]
    }
   ],
   "source": [
    "# 4. 예측값 생성 \n",
    "df['pred'] = result.predict(sm.add_constant(df['Year']), offset = df['Population'])\n",
    "\n",
    "# 5. 출력 \n",
    "print(result.summary())"
   ]
  },
  {
   "cell_type": "code",
   "execution_count": 57,
   "id": "c8acc74f-134d-4cf4-b269-179867142f29",
   "metadata": {},
   "outputs": [
    {
     "data": {
      "text/plain": [
       "array([23.51581604])"
      ]
     },
     "execution_count": 57,
     "metadata": {},
     "output_type": "execute_result"
    }
   ],
   "source": [
    "#  2000년도에 인구가 16224544라고 할 때 상어 공격횟수를 예측한 값을 출력\n",
    "result.predict([1,2000], offset = np.log(16224544/1000))"
   ]
  },
  {
   "cell_type": "code",
   "execution_count": null,
   "id": "f0262705-de95-486e-a173-9ef21e2921b5",
   "metadata": {},
   "outputs": [],
   "source": []
  },
  {
   "cell_type": "code",
   "execution_count": null,
   "id": "79b5059e-e9a3-4249-bff8-73338df1366c",
   "metadata": {},
   "outputs": [],
   "source": []
  },
  {
   "cell_type": "code",
   "execution_count": null,
   "id": "086233d8-e64c-49b6-ab11-2ccede088192",
   "metadata": {},
   "outputs": [],
   "source": []
  },
  {
   "cell_type": "code",
   "execution_count": null,
   "id": "93334171-c856-414a-9cc1-9e7cce6f8327",
   "metadata": {},
   "outputs": [],
   "source": []
  },
  {
   "cell_type": "code",
   "execution_count": null,
   "id": "cac1625a-e792-43a8-a30d-4af4339d41fc",
   "metadata": {},
   "outputs": [],
   "source": []
  }
 ],
 "metadata": {
  "kernelspec": {
   "display_name": "Python 3 (ipykernel)",
   "language": "python",
   "name": "python3"
  },
  "language_info": {
   "codemirror_mode": {
    "name": "ipython",
    "version": 3
   },
   "file_extension": ".py",
   "mimetype": "text/x-python",
   "name": "python",
   "nbconvert_exporter": "python",
   "pygments_lexer": "ipython3",
   "version": "3.13.2"
  }
 },
 "nbformat": 4,
 "nbformat_minor": 5
}
