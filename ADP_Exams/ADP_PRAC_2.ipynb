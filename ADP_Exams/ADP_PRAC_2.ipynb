{
 "cells": [
  {
   "cell_type": "code",
   "execution_count": 3,
   "id": "677a9438",
   "metadata": {},
   "outputs": [
    {
     "data": {
      "text/html": [
       "<style>:root {--jp-notebook-max-width: 3000px;}</style>"
      ],
      "text/plain": [
       "<IPython.core.display.HTML object>"
      ]
     },
     "metadata": {},
     "output_type": "display_data"
    },
    {
     "data": {
      "text/html": [
       "<style>.container { width:100% !important; }</style>"
      ],
      "text/plain": [
       "<IPython.core.display.HTML object>"
      ]
     },
     "metadata": {},
     "output_type": "display_data"
    }
   ],
   "source": [
    "from IPython.display import display, HTML\n",
    "display(HTML(\"<style>:root {--jp-notebook-max-width: 3000px;}</style>\"))\n",
    "display(HTML(\"<style>.container { width:100% !important; }</style>\"))\n",
    "\n",
    "%config Completer.user_jedi = False"
   ]
  },
  {
   "cell_type": "code",
   "execution_count": 153,
   "id": "1fe2cc2a-e17e-4bcb-8b6a-b2d1e5a95db5",
   "metadata": {},
   "outputs": [],
   "source": [
    "import pandas as pd\n",
    "import numpy as np\n",
    "import matplotlib.pyplot as plt\n",
    "import seaborn as sns \n",
    "\n",
    "import warnings\n",
    "warnings.filterwarnings('ignore')\n",
    "\n",
    "from sklearn.metrics import accuracy_score, mean_squared_error\n",
    "from sklearn.ensemble import RandomForestClassifier\n",
    "import xgboost as xgb\n",
    "from sklearn.linear_model import LinearRegression, ElasticNet\n",
    "from sklearn.model_selection import train_test_split "
   ]
  },
  {
   "cell_type": "markdown",
   "id": "f780e49f",
   "metadata": {},
   "source": [
    "# 기계학습 (60점)"
   ]
  },
  {
   "cell_type": "markdown",
   "id": "2ff140e7",
   "metadata": {},
   "source": [
    "#### ✅ 2023년도 NBA 농구 슛 시도 관련 데이터 "
   ]
  },
  {
   "cell_type": "code",
   "execution_count": 9,
   "id": "ab613bf2",
   "metadata": {},
   "outputs": [
    {
     "data": {
      "text/html": [
       "<div>\n",
       "<style scoped>\n",
       "    .dataframe tbody tr th:only-of-type {\n",
       "        vertical-align: middle;\n",
       "    }\n",
       "\n",
       "    .dataframe tbody tr th {\n",
       "        vertical-align: top;\n",
       "    }\n",
       "\n",
       "    .dataframe thead th {\n",
       "        text-align: right;\n",
       "    }\n",
       "</style>\n",
       "<table border=\"1\" class=\"dataframe\">\n",
       "  <thead>\n",
       "    <tr style=\"text-align: right;\">\n",
       "      <th></th>\n",
       "      <th>TEAM_NAME</th>\n",
       "      <th>PLAYER_ID</th>\n",
       "      <th>POSITION_GROUP</th>\n",
       "      <th>GAME_ID</th>\n",
       "      <th>SHOT_MADE</th>\n",
       "      <th>ACTION_TYPE</th>\n",
       "      <th>SHOT_TYPE</th>\n",
       "      <th>ZONE_ABB</th>\n",
       "      <th>LOC_X</th>\n",
       "      <th>LOC_Y</th>\n",
       "      <th>QUARTER</th>\n",
       "      <th>MINS_LEFT</th>\n",
       "      <th>SECS_LEFT</th>\n",
       "    </tr>\n",
       "  </thead>\n",
       "  <tbody>\n",
       "    <tr>\n",
       "      <th>0</th>\n",
       "      <td>team_5</td>\n",
       "      <td>player_1</td>\n",
       "      <td>G</td>\n",
       "      <td>22300003</td>\n",
       "      <td>False</td>\n",
       "      <td>Driving Floating Jump Shot</td>\n",
       "      <td>2PT Field Goal</td>\n",
       "      <td>C</td>\n",
       "      <td>-0.4</td>\n",
       "      <td>17.45</td>\n",
       "      <td>1</td>\n",
       "      <td>11</td>\n",
       "      <td>1</td>\n",
       "    </tr>\n",
       "    <tr>\n",
       "      <th>1</th>\n",
       "      <td>team_5</td>\n",
       "      <td>player_2</td>\n",
       "      <td>F</td>\n",
       "      <td>22300003</td>\n",
       "      <td>True</td>\n",
       "      <td>Jump Shot</td>\n",
       "      <td>3PT Field Goal</td>\n",
       "      <td>C</td>\n",
       "      <td>1.5</td>\n",
       "      <td>30.55</td>\n",
       "      <td>1</td>\n",
       "      <td>10</td>\n",
       "      <td>26</td>\n",
       "    </tr>\n",
       "    <tr>\n",
       "      <th>2</th>\n",
       "      <td>team_5</td>\n",
       "      <td>player_3</td>\n",
       "      <td>G</td>\n",
       "      <td>22300003</td>\n",
       "      <td>True</td>\n",
       "      <td>Driving Layup Shot</td>\n",
       "      <td>2PT Field Goal</td>\n",
       "      <td>C</td>\n",
       "      <td>-3.3</td>\n",
       "      <td>6.55</td>\n",
       "      <td>1</td>\n",
       "      <td>9</td>\n",
       "      <td>46</td>\n",
       "    </tr>\n",
       "    <tr>\n",
       "      <th>3</th>\n",
       "      <td>team_5</td>\n",
       "      <td>player_1</td>\n",
       "      <td>G</td>\n",
       "      <td>22300003</td>\n",
       "      <td>True</td>\n",
       "      <td>Running Finger Roll Layup Shot</td>\n",
       "      <td>2PT Field Goal</td>\n",
       "      <td>C</td>\n",
       "      <td>-1.0</td>\n",
       "      <td>5.85</td>\n",
       "      <td>1</td>\n",
       "      <td>8</td>\n",
       "      <td>30</td>\n",
       "    </tr>\n",
       "    <tr>\n",
       "      <th>4</th>\n",
       "      <td>team_5</td>\n",
       "      <td>player_3</td>\n",
       "      <td>G</td>\n",
       "      <td>22300003</td>\n",
       "      <td>True</td>\n",
       "      <td>Cutting Layup Shot</td>\n",
       "      <td>2PT Field Goal</td>\n",
       "      <td>C</td>\n",
       "      <td>-0.0</td>\n",
       "      <td>6.25</td>\n",
       "      <td>1</td>\n",
       "      <td>8</td>\n",
       "      <td>8</td>\n",
       "    </tr>\n",
       "  </tbody>\n",
       "</table>\n",
       "</div>"
      ],
      "text/plain": [
       "  TEAM_NAME PLAYER_ID POSITION_GROUP   GAME_ID  SHOT_MADE  \\\n",
       "0    team_5  player_1              G  22300003      False   \n",
       "1    team_5  player_2              F  22300003       True   \n",
       "2    team_5  player_3              G  22300003       True   \n",
       "3    team_5  player_1              G  22300003       True   \n",
       "4    team_5  player_3              G  22300003       True   \n",
       "\n",
       "                      ACTION_TYPE       SHOT_TYPE ZONE_ABB  LOC_X  LOC_Y  \\\n",
       "0      Driving Floating Jump Shot  2PT Field Goal        C   -0.4  17.45   \n",
       "1                       Jump Shot  3PT Field Goal        C    1.5  30.55   \n",
       "2              Driving Layup Shot  2PT Field Goal        C   -3.3   6.55   \n",
       "3  Running Finger Roll Layup Shot  2PT Field Goal        C   -1.0   5.85   \n",
       "4              Cutting Layup Shot  2PT Field Goal        C   -0.0   6.25   \n",
       "\n",
       "   QUARTER  MINS_LEFT  SECS_LEFT  \n",
       "0        1         11          1  \n",
       "1        1         10         26  \n",
       "2        1          9         46  \n",
       "3        1          8         30  \n",
       "4        1          8          8  "
      ]
     },
     "execution_count": 9,
     "metadata": {},
     "output_type": "execute_result"
    }
   ],
   "source": [
    "df = pd.read_csv('https://raw.githubusercontent.com/doeungim/ADP_DE/refs/heads/main/ADP_SET2/data/nba.csv')\n",
    "\n",
    "df.head()"
   ]
  },
  {
   "cell_type": "markdown",
   "id": "6178b852",
   "metadata": {},
   "source": [
    "### ✅ 전처리\n",
    "- 1. shot_distance (슛거리)     : LOC_X, LOX_Y 좌표의 제곱합에 루트를 씌운다\n",
    "- 2. net_play_time (경기경과시간) : 슛을 시도한 시점의 순 경기 시간을 초(sec)단위로 구한다. 쉬는시간은 고려하지 않는다. 4쿼터 종료시점(MINS_LEFT =0, SECS_LEFT=0)에 슛을 시도했다면 2880 값을 가져야 한다. \n",
    "- 3. net_score : 해당 게임에 해당팀이 슛을 쏜 결과를 반영한 누적 득점"
   ]
  },
  {
   "cell_type": "code",
   "execution_count": 12,
   "id": "35274dc8-9c3e-4b13-bf36-17d96716bbc1",
   "metadata": {},
   "outputs": [],
   "source": [
    "# 1) \n",
    "df['shot_distance'] = np.sqrt(df['LOC_X'] **2  + df['LOC_Y'] ** 2)\n",
    "\n",
    "# 2) \n",
    "df['net_play_time'] = df['QUARTER'] * 12 * 60 - df['MINS_LEFT'] * 60 - df['SECS_LEFT']"
   ]
  },
  {
   "cell_type": "code",
   "execution_count": 32,
   "id": "c5f886fe-f515-48be-a145-90a0fae7c4a6",
   "metadata": {},
   "outputs": [],
   "source": [
    "# 3) net_score \n",
    "df['SHOT_MADE_NUM'] = df['SHOT_MADE'].astype(str).apply(lambda x : 1 if x == 'True'else 0).astype(int)\n",
    "\n",
    "df['SHOT_TYPE_NUM'] = df['SHOT_TYPE'].str.split('PT').str[0].astype(int)\n",
    "\n",
    "df['score'] = df['SHOT_MADE_NUM'] * df['SHOT_TYPE_NUM']\n",
    "\n",
    "# 게임, 팁별 누적 score점수\n",
    "df['net_score'] = df.groupby(['GAME_ID','TEAM_NAME'])['score'].cumsum()\n"
   ]
  },
  {
   "cell_type": "markdown",
   "id": "aa80523f",
   "metadata": {},
   "source": [
    "##### ✅ 데이터 EDA를 실시하라 (시각화 포함)"
   ]
  },
  {
   "cell_type": "code",
   "execution_count": 38,
   "id": "1eff4afb",
   "metadata": {},
   "outputs": [
    {
     "data": {
      "image/png": "[encoded data removed]",
      "text/plain": [
       "<Figure size 2000x700 with 3 Axes>"
      ]
     },
     "metadata": {},
     "output_type": "display_data"
    }
   ],
   "source": [
    "# 팀별 net_score, shot_type , shot_made \n",
    "cols = ['net_score','SHOT_TYPE','SHOT_MADE']\n",
    "\n",
    "fig, axes = plt.subplots(3,1, figsize = (20, 7))\n",
    "\n",
    "for i , axes in enumerate(axes.flat[: len(cols)]) : \n",
    "    col_i = df[cols].columns[i] \n",
    "    if col_i == 'net_score' :\n",
    "        target = df.groupby(['TEAM_NAME'])[col_i].mean().reset_index()\n",
    "        sns.barplot(x = 'TEAM_NAME', y = col_i, data = target , ax = axes) \n",
    "    else : \n",
    "        target = df.groupby(['TEAM_NAME'])[col_i].value_counts().reset_index()\n",
    "        sns.barplot(x = 'TEAM_NAME', y ='count', hue = col_i, data = target, ax = axes)\n",
    "\n",
    "plt.tight_layout()\n",
    "plt.show()"
   ]
  },
  {
   "cell_type": "markdown",
   "id": "1f98e09e",
   "metadata": {},
   "source": [
    "#### ✅ 기계학습3     \n",
    "3쿼터까지의 데이터를 바탕으로 승부를 예측하는 분류 모델을 만들려고 한다.\n",
    "데이터를 아래 기준으로 전처리 진행한다.\n",
    "\n",
    "1. 1각 행은 하나의 팀, 하나의 게임 아이디에 대한 정보를 나타낸다.\n",
    "2. 각 쿼터(1~3쿼터)를 6분간격으로 두 구간으로 나누어 새로운 파생변수를 만든다.      \n",
    "    - 1_1_try (1쿼터의 0~6분)의 2점 실패 횟수)(1_1_try_2) , 3점 실패 횟수 (1_1_try_3)\n",
    "    - 1_2_try (1쿼터의 6~12분)의 2점 실패 횟수 (1_1_try_2) ,3점 실패 횟수 (1_1_try_3)\n",
    "    - ~ 3쿼터까지 총 6구간에 대해 12개의 컬럼\n",
    "3.  해당 게임의 팀별 1쿼터까지 득점, 3쿼터까지의 총 득점(2,3점) (총 2개컬럼, 1_q_score , 3_q_score)\n",
    "4.  4쿼터 후 최종 승패여부(result) (승 : 1 , 패 :0 ) - 자유투는 없다고 가정, 2,3점 만으로 게임의 승부를 결정, 승부가 결정나지 않은 게임은 없다"
   ]
  },
  {
   "cell_type": "code",
   "execution_count": 61,
   "id": "302f0a19-dd14-4a40-baa9-bdd379f8488c",
   "metadata": {},
   "outputs": [
    {
     "data": {
      "text/html": [
       "<div>\n",
       "<style scoped>\n",
       "    .dataframe tbody tr th:only-of-type {\n",
       "        vertical-align: middle;\n",
       "    }\n",
       "\n",
       "    .dataframe tbody tr th {\n",
       "        vertical-align: top;\n",
       "    }\n",
       "\n",
       "    .dataframe thead th {\n",
       "        text-align: right;\n",
       "    }\n",
       "</style>\n",
       "<table border=\"1\" class=\"dataframe\">\n",
       "  <thead>\n",
       "    <tr style=\"text-align: right;\">\n",
       "      <th>category</th>\n",
       "      <th>GAME_ID</th>\n",
       "      <th>TEAM_NAME</th>\n",
       "      <th>1_1_try_2</th>\n",
       "      <th>1_1_try_3</th>\n",
       "      <th>1_2_try_2</th>\n",
       "      <th>1_2_try_3</th>\n",
       "      <th>2_1_try_2</th>\n",
       "      <th>2_1_try_3</th>\n",
       "      <th>2_2_try_2</th>\n",
       "      <th>2_2_try_3</th>\n",
       "      <th>3_1_try_2</th>\n",
       "      <th>3_1_try_3</th>\n",
       "      <th>3_2_try_2</th>\n",
       "      <th>3_2_try_3</th>\n",
       "    </tr>\n",
       "  </thead>\n",
       "  <tbody>\n",
       "    <tr>\n",
       "      <th>0</th>\n",
       "      <td>22300001</td>\n",
       "      <td>team_1</td>\n",
       "      <td>5.0</td>\n",
       "      <td>2.0</td>\n",
       "      <td>3.0</td>\n",
       "      <td>1.0</td>\n",
       "      <td>3.0</td>\n",
       "      <td>1.0</td>\n",
       "      <td>2.0</td>\n",
       "      <td>3.0</td>\n",
       "      <td>4.0</td>\n",
       "      <td>3.0</td>\n",
       "      <td>4.0</td>\n",
       "      <td>3.0</td>\n",
       "    </tr>\n",
       "    <tr>\n",
       "      <th>1</th>\n",
       "      <td>22300001</td>\n",
       "      <td>team_2</td>\n",
       "      <td>5.0</td>\n",
       "      <td>2.0</td>\n",
       "      <td>2.0</td>\n",
       "      <td>3.0</td>\n",
       "      <td>3.0</td>\n",
       "      <td>2.0</td>\n",
       "      <td>1.0</td>\n",
       "      <td>5.0</td>\n",
       "      <td>3.0</td>\n",
       "      <td>1.0</td>\n",
       "      <td>1.0</td>\n",
       "      <td>1.0</td>\n",
       "    </tr>\n",
       "    <tr>\n",
       "      <th>2</th>\n",
       "      <td>22300002</td>\n",
       "      <td>team_3</td>\n",
       "      <td>7.0</td>\n",
       "      <td>3.0</td>\n",
       "      <td>7.0</td>\n",
       "      <td>3.0</td>\n",
       "      <td>0.0</td>\n",
       "      <td>5.0</td>\n",
       "      <td>7.0</td>\n",
       "      <td>3.0</td>\n",
       "      <td>0.0</td>\n",
       "      <td>6.0</td>\n",
       "      <td>0.0</td>\n",
       "      <td>5.0</td>\n",
       "    </tr>\n",
       "    <tr>\n",
       "      <th>3</th>\n",
       "      <td>22300002</td>\n",
       "      <td>team_4</td>\n",
       "      <td>1.0</td>\n",
       "      <td>1.0</td>\n",
       "      <td>6.0</td>\n",
       "      <td>4.0</td>\n",
       "      <td>4.0</td>\n",
       "      <td>3.0</td>\n",
       "      <td>4.0</td>\n",
       "      <td>0.0</td>\n",
       "      <td>3.0</td>\n",
       "      <td>3.0</td>\n",
       "      <td>4.0</td>\n",
       "      <td>3.0</td>\n",
       "    </tr>\n",
       "    <tr>\n",
       "      <th>4</th>\n",
       "      <td>22300003</td>\n",
       "      <td>team_5</td>\n",
       "      <td>1.0</td>\n",
       "      <td>0.0</td>\n",
       "      <td>1.0</td>\n",
       "      <td>2.0</td>\n",
       "      <td>6.0</td>\n",
       "      <td>1.0</td>\n",
       "      <td>2.0</td>\n",
       "      <td>4.0</td>\n",
       "      <td>3.0</td>\n",
       "      <td>3.0</td>\n",
       "      <td>1.0</td>\n",
       "      <td>1.0</td>\n",
       "    </tr>\n",
       "  </tbody>\n",
       "</table>\n",
       "</div>"
      ],
      "text/plain": [
       "category   GAME_ID TEAM_NAME  1_1_try_2  1_1_try_3  1_2_try_2  1_2_try_3  \\\n",
       "0         22300001    team_1        5.0        2.0        3.0        1.0   \n",
       "1         22300001    team_2        5.0        2.0        2.0        3.0   \n",
       "2         22300002    team_3        7.0        3.0        7.0        3.0   \n",
       "3         22300002    team_4        1.0        1.0        6.0        4.0   \n",
       "4         22300003    team_5        1.0        0.0        1.0        2.0   \n",
       "\n",
       "category  2_1_try_2  2_1_try_3  2_2_try_2  2_2_try_3  3_1_try_2  3_1_try_3  \\\n",
       "0               3.0        1.0        2.0        3.0        4.0        3.0   \n",
       "1               3.0        2.0        1.0        5.0        3.0        1.0   \n",
       "2               0.0        5.0        7.0        3.0        0.0        6.0   \n",
       "3               4.0        3.0        4.0        0.0        3.0        3.0   \n",
       "4               6.0        1.0        2.0        4.0        3.0        3.0   \n",
       "\n",
       "category  3_2_try_2  3_2_try_3  \n",
       "0               4.0        3.0  \n",
       "1               1.0        1.0  \n",
       "2               0.0        5.0  \n",
       "3               4.0        3.0  \n",
       "4               1.0        1.0  "
      ]
     },
     "execution_count": 61,
     "metadata": {},
     "output_type": "execute_result"
    }
   ],
   "source": [
    "# 2) failer_df \n",
    "\n",
    "# 0-6 / 6- 12분 나누기 \n",
    "# STEP 1) 1,2,3,4의 쿼터를 각각 12 * 60 = 720 기준으로 - MINS_LEFT - SECS_LEFT 를 나누어서 각 쿼터당 초를 다시 환산\n",
    "df['minute6'] = 720 - df['MINS_LEFT'] * 60 - df['SECS_LEFT']\n",
    "\n",
    "# STEP 2) 1~3 쿼터 & 실패한 내용만 추출 \n",
    "fail = df[(df['QUARTER'].isin([1,2,3])) & (df['SHOT_MADE'] == False)].reset_index(drop = True) \n",
    "\n",
    "# STEP 3) 361 이하는 1 , 아니면 2 \n",
    "fail['q_12'] = fail['minute6'].apply(lambda x : '1' if x < 361 else '2')\n",
    "\n",
    "# STEP 4) category 만들어주기 \n",
    "fail['category'] = fail['QUARTER'].astype(str) + '_' + fail['q_12'].astype(str) + '_try_' + fail['SHOT_TYPE_NUM'].astype(str)\n",
    "\n",
    "# STEP 5) Pivoting \n",
    "pivot_df = fail[['GAME_ID','TEAM_NAME','category']].pivot_table(index = ['GAME_ID','TEAM_NAME'], columns = 'category', aggfunc ='size')\n",
    "\n",
    "# STEP 6) fillna \n",
    "pivot_df = pivot_df.fillna(0)\n",
    "pivot_df = pivot_df.reset_index()\n",
    "pivot_df.head(5)"
   ]
  },
  {
   "cell_type": "code",
   "execution_count": 84,
   "id": "a6b258a0-3096-47bf-a761-a5227e8a11d3",
   "metadata": {},
   "outputs": [
    {
     "data": {
      "text/html": [
       "<div>\n",
       "<style scoped>\n",
       "    .dataframe tbody tr th:only-of-type {\n",
       "        vertical-align: middle;\n",
       "    }\n",
       "\n",
       "    .dataframe tbody tr th {\n",
       "        vertical-align: top;\n",
       "    }\n",
       "\n",
       "    .dataframe thead th {\n",
       "        text-align: right;\n",
       "    }\n",
       "</style>\n",
       "<table border=\"1\" class=\"dataframe\">\n",
       "  <thead>\n",
       "    <tr style=\"text-align: right;\">\n",
       "      <th></th>\n",
       "      <th>GAME_ID</th>\n",
       "      <th>TEAM_NAME</th>\n",
       "      <th>1_q_score</th>\n",
       "      <th>3_q_score</th>\n",
       "    </tr>\n",
       "  </thead>\n",
       "  <tbody>\n",
       "    <tr>\n",
       "      <th>0</th>\n",
       "      <td>22300001</td>\n",
       "      <td>team_1</td>\n",
       "      <td>33.0</td>\n",
       "      <td>79.0</td>\n",
       "    </tr>\n",
       "    <tr>\n",
       "      <th>1</th>\n",
       "      <td>22300001</td>\n",
       "      <td>team_2</td>\n",
       "      <td>24.0</td>\n",
       "      <td>76.0</td>\n",
       "    </tr>\n",
       "    <tr>\n",
       "      <th>2</th>\n",
       "      <td>22300002</td>\n",
       "      <td>team_3</td>\n",
       "      <td>24.0</td>\n",
       "      <td>62.0</td>\n",
       "    </tr>\n",
       "    <tr>\n",
       "      <th>3</th>\n",
       "      <td>22300002</td>\n",
       "      <td>team_4</td>\n",
       "      <td>20.0</td>\n",
       "      <td>74.0</td>\n",
       "    </tr>\n",
       "    <tr>\n",
       "      <th>4</th>\n",
       "      <td>22300003</td>\n",
       "      <td>team_5</td>\n",
       "      <td>33.0</td>\n",
       "      <td>78.0</td>\n",
       "    </tr>\n",
       "  </tbody>\n",
       "</table>\n",
       "</div>"
      ],
      "text/plain": [
       "    GAME_ID TEAM_NAME  1_q_score  3_q_score\n",
       "0  22300001    team_1       33.0       79.0\n",
       "1  22300001    team_2       24.0       76.0\n",
       "2  22300002    team_3       24.0       62.0\n",
       "3  22300002    team_4       20.0       74.0\n",
       "4  22300003    team_5       33.0       78.0"
      ]
     },
     "execution_count": 84,
     "metadata": {},
     "output_type": "execute_result"
    }
   ],
   "source": [
    "# 해당 게임의 팀별 1쿼터까지 득점, 3쿼터까지의 총 득점(2,3점) (총 2개컬럼, 1_q_score , 3_q_score)\n",
    "\n",
    "# STEP 1) 1, 3쿼터만 추출 \n",
    "q13 = df[df['QUARTER'].isin([1,3])].reset_index(drop = True)\n",
    "\n",
    "# STEP 2) 1,3 쿼터별 최대값 산출  \n",
    "max_13 = q13.groupby(['GAME_ID','TEAM_NAME','QUARTER'])['net_score'].max().reset_index() \n",
    "max_13.head()\n",
    "\n",
    "\n",
    "# STEP 3) Pivoting \n",
    "pivot_13 = max_13.pivot_table(index = ['GAME_ID','TEAM_NAME'] , columns = 'QUARTER', values ='net_score').reset_index()\n",
    "pivot_13.index.name = None\n",
    "pivot_13.columns = ['GAME_ID','TEAM_NAME','1_q_score','3_q_score']\n",
    "pivot_13.head()"
   ]
  },
  {
   "cell_type": "code",
   "execution_count": 95,
   "id": "71b9b601-db37-496d-87a7-7bc5d548ee9a",
   "metadata": {
    "scrolled": true
   },
   "outputs": [
    {
     "data": {
      "text/html": [
       "<div>\n",
       "<style scoped>\n",
       "    .dataframe tbody tr th:only-of-type {\n",
       "        vertical-align: middle;\n",
       "    }\n",
       "\n",
       "    .dataframe tbody tr th {\n",
       "        vertical-align: top;\n",
       "    }\n",
       "\n",
       "    .dataframe thead th {\n",
       "        text-align: right;\n",
       "    }\n",
       "</style>\n",
       "<table border=\"1\" class=\"dataframe\">\n",
       "  <thead>\n",
       "    <tr style=\"text-align: right;\">\n",
       "      <th></th>\n",
       "      <th>GAME_ID</th>\n",
       "      <th>TEAM_NAME</th>\n",
       "      <th>result</th>\n",
       "    </tr>\n",
       "  </thead>\n",
       "  <tbody>\n",
       "    <tr>\n",
       "      <th>0</th>\n",
       "      <td>22300001</td>\n",
       "      <td>team_1</td>\n",
       "      <td>0</td>\n",
       "    </tr>\n",
       "    <tr>\n",
       "      <th>1</th>\n",
       "      <td>22300001</td>\n",
       "      <td>team_2</td>\n",
       "      <td>1</td>\n",
       "    </tr>\n",
       "    <tr>\n",
       "      <th>2</th>\n",
       "      <td>22300002</td>\n",
       "      <td>team_3</td>\n",
       "      <td>0</td>\n",
       "    </tr>\n",
       "    <tr>\n",
       "      <th>3</th>\n",
       "      <td>22300002</td>\n",
       "      <td>team_4</td>\n",
       "      <td>1</td>\n",
       "    </tr>\n",
       "    <tr>\n",
       "      <th>4</th>\n",
       "      <td>22300003</td>\n",
       "      <td>team_5</td>\n",
       "      <td>0</td>\n",
       "    </tr>\n",
       "  </tbody>\n",
       "</table>\n",
       "</div>"
      ],
      "text/plain": [
       "    GAME_ID TEAM_NAME  result\n",
       "0  22300001    team_1       0\n",
       "1  22300001    team_2       1\n",
       "2  22300002    team_3       0\n",
       "3  22300002    team_4       1\n",
       "4  22300003    team_5       0"
      ]
     },
     "execution_count": 95,
     "metadata": {},
     "output_type": "execute_result"
    }
   ],
   "source": [
    "# Result \n",
    "# STEP 1) 최대 net_Score를 group by 집계 생성 \n",
    "result_df = df.groupby(['GAME_ID','TEAM_NAME'])['net_score'].max().reset_index()\n",
    "result_df['result'] = result_df.groupby(['GAME_ID'])['net_score'].cumcount()\n",
    "result_df = result_df[['GAME_ID','TEAM_NAME','result']]\n",
    "result_df.head()"
   ]
  },
  {
   "cell_type": "code",
   "execution_count": 98,
   "id": "0670a3b6-af33-4832-843a-f01b0822adde",
   "metadata": {},
   "outputs": [
    {
     "data": {
      "text/html": [
       "<div>\n",
       "<style scoped>\n",
       "    .dataframe tbody tr th:only-of-type {\n",
       "        vertical-align: middle;\n",
       "    }\n",
       "\n",
       "    .dataframe tbody tr th {\n",
       "        vertical-align: top;\n",
       "    }\n",
       "\n",
       "    .dataframe thead th {\n",
       "        text-align: right;\n",
       "    }\n",
       "</style>\n",
       "<table border=\"1\" class=\"dataframe\">\n",
       "  <thead>\n",
       "    <tr style=\"text-align: right;\">\n",
       "      <th></th>\n",
       "      <th>GAME_ID</th>\n",
       "      <th>TEAM_NAME</th>\n",
       "      <th>result</th>\n",
       "      <th>1_1_try_2</th>\n",
       "      <th>1_1_try_3</th>\n",
       "      <th>1_2_try_2</th>\n",
       "      <th>1_2_try_3</th>\n",
       "      <th>2_1_try_2</th>\n",
       "      <th>2_1_try_3</th>\n",
       "      <th>2_2_try_2</th>\n",
       "      <th>2_2_try_3</th>\n",
       "      <th>3_1_try_2</th>\n",
       "      <th>3_1_try_3</th>\n",
       "      <th>3_2_try_2</th>\n",
       "      <th>3_2_try_3</th>\n",
       "      <th>1_q_score</th>\n",
       "      <th>3_q_score</th>\n",
       "    </tr>\n",
       "  </thead>\n",
       "  <tbody>\n",
       "    <tr>\n",
       "      <th>0</th>\n",
       "      <td>22300001</td>\n",
       "      <td>team_1</td>\n",
       "      <td>0</td>\n",
       "      <td>5.0</td>\n",
       "      <td>2.0</td>\n",
       "      <td>3.0</td>\n",
       "      <td>1.0</td>\n",
       "      <td>3.0</td>\n",
       "      <td>1.0</td>\n",
       "      <td>2.0</td>\n",
       "      <td>3.0</td>\n",
       "      <td>4.0</td>\n",
       "      <td>3.0</td>\n",
       "      <td>4.0</td>\n",
       "      <td>3.0</td>\n",
       "      <td>33.0</td>\n",
       "      <td>79.0</td>\n",
       "    </tr>\n",
       "    <tr>\n",
       "      <th>1</th>\n",
       "      <td>22300001</td>\n",
       "      <td>team_2</td>\n",
       "      <td>1</td>\n",
       "      <td>5.0</td>\n",
       "      <td>2.0</td>\n",
       "      <td>2.0</td>\n",
       "      <td>3.0</td>\n",
       "      <td>3.0</td>\n",
       "      <td>2.0</td>\n",
       "      <td>1.0</td>\n",
       "      <td>5.0</td>\n",
       "      <td>3.0</td>\n",
       "      <td>1.0</td>\n",
       "      <td>1.0</td>\n",
       "      <td>1.0</td>\n",
       "      <td>24.0</td>\n",
       "      <td>76.0</td>\n",
       "    </tr>\n",
       "    <tr>\n",
       "      <th>2</th>\n",
       "      <td>22300002</td>\n",
       "      <td>team_3</td>\n",
       "      <td>0</td>\n",
       "      <td>7.0</td>\n",
       "      <td>3.0</td>\n",
       "      <td>7.0</td>\n",
       "      <td>3.0</td>\n",
       "      <td>0.0</td>\n",
       "      <td>5.0</td>\n",
       "      <td>7.0</td>\n",
       "      <td>3.0</td>\n",
       "      <td>0.0</td>\n",
       "      <td>6.0</td>\n",
       "      <td>0.0</td>\n",
       "      <td>5.0</td>\n",
       "      <td>24.0</td>\n",
       "      <td>62.0</td>\n",
       "    </tr>\n",
       "    <tr>\n",
       "      <th>3</th>\n",
       "      <td>22300002</td>\n",
       "      <td>team_4</td>\n",
       "      <td>1</td>\n",
       "      <td>1.0</td>\n",
       "      <td>1.0</td>\n",
       "      <td>6.0</td>\n",
       "      <td>4.0</td>\n",
       "      <td>4.0</td>\n",
       "      <td>3.0</td>\n",
       "      <td>4.0</td>\n",
       "      <td>0.0</td>\n",
       "      <td>3.0</td>\n",
       "      <td>3.0</td>\n",
       "      <td>4.0</td>\n",
       "      <td>3.0</td>\n",
       "      <td>20.0</td>\n",
       "      <td>74.0</td>\n",
       "    </tr>\n",
       "    <tr>\n",
       "      <th>4</th>\n",
       "      <td>22300003</td>\n",
       "      <td>team_5</td>\n",
       "      <td>0</td>\n",
       "      <td>1.0</td>\n",
       "      <td>0.0</td>\n",
       "      <td>1.0</td>\n",
       "      <td>2.0</td>\n",
       "      <td>6.0</td>\n",
       "      <td>1.0</td>\n",
       "      <td>2.0</td>\n",
       "      <td>4.0</td>\n",
       "      <td>3.0</td>\n",
       "      <td>3.0</td>\n",
       "      <td>1.0</td>\n",
       "      <td>1.0</td>\n",
       "      <td>33.0</td>\n",
       "      <td>78.0</td>\n",
       "    </tr>\n",
       "  </tbody>\n",
       "</table>\n",
       "</div>"
      ],
      "text/plain": [
       "    GAME_ID TEAM_NAME  result  1_1_try_2  1_1_try_3  1_2_try_2  1_2_try_3  \\\n",
       "0  22300001    team_1       0        5.0        2.0        3.0        1.0   \n",
       "1  22300001    team_2       1        5.0        2.0        2.0        3.0   \n",
       "2  22300002    team_3       0        7.0        3.0        7.0        3.0   \n",
       "3  22300002    team_4       1        1.0        1.0        6.0        4.0   \n",
       "4  22300003    team_5       0        1.0        0.0        1.0        2.0   \n",
       "\n",
       "   2_1_try_2  2_1_try_3  2_2_try_2  2_2_try_3  3_1_try_2  3_1_try_3  \\\n",
       "0        3.0        1.0        2.0        3.0        4.0        3.0   \n",
       "1        3.0        2.0        1.0        5.0        3.0        1.0   \n",
       "2        0.0        5.0        7.0        3.0        0.0        6.0   \n",
       "3        4.0        3.0        4.0        0.0        3.0        3.0   \n",
       "4        6.0        1.0        2.0        4.0        3.0        3.0   \n",
       "\n",
       "   3_2_try_2  3_2_try_3  1_q_score  3_q_score  \n",
       "0        4.0        3.0       33.0       79.0  \n",
       "1        1.0        1.0       24.0       76.0  \n",
       "2        0.0        5.0       24.0       62.0  \n",
       "3        4.0        3.0       20.0       74.0  \n",
       "4        1.0        1.0       33.0       78.0  "
      ]
     },
     "execution_count": 98,
     "metadata": {},
     "output_type": "execute_result"
    }
   ],
   "source": [
    "# result_df, pivot_13 , pivot_df\n",
    "m1 = pd.merge(result_df, pivot_df)\n",
    "m2 = pd.merge(m1, pivot_13)\n",
    "\n",
    "m2.head()"
   ]
  },
  {
   "cell_type": "markdown",
   "id": "bd3c0c11",
   "metadata": {},
   "source": [
    "##### ✅ Machine Learning  \n",
    " 1. game_id가 홀수로 끝나는 경우는 승리팀만, 짝수를 끝나는 경우는 패배팀만 필터한다.     \n",
    " 2. 랜덤포레스트와 xgb를 사용하여 모델링을 진행하라. 데이터의 층화 추출을 통해 70%의 데이터로 학습하고 30% 데이터로 검증"
   ]
  },
  {
   "cell_type": "code",
   "execution_count": 110,
   "id": "b016fa43-3400-4650-8ace-fab3bbff6b9a",
   "metadata": {},
   "outputs": [],
   "source": [
    "# 1) 전처리 \n",
    "win = m2[m2['GAME_ID'] % 2 == 1].query('result == 1')\n",
    "lose =  m2[m2['GAME_ID'] % 2 == 0].query('result == 0')\n",
    "\n",
    "model_df = pd.concat([win, lose], axis = 0)\n",
    "\n",
    "# 2) X, y\n",
    "X = model_df.drop(columns = ['GAME_ID','TEAM_NAME','result'])\n",
    "X.columns = X.columns.astype(str)\n",
    "y = model_df['result']"
   ]
  },
  {
   "cell_type": "code",
   "execution_count": 114,
   "id": "b603f4ae-dd02-4af2-841d-4ae940f2e13d",
   "metadata": {},
   "outputs": [
    {
     "data": {
      "text/html": [
       "<div>\n",
       "<style scoped>\n",
       "    .dataframe tbody tr th:only-of-type {\n",
       "        vertical-align: middle;\n",
       "    }\n",
       "\n",
       "    .dataframe tbody tr th {\n",
       "        vertical-align: top;\n",
       "    }\n",
       "\n",
       "    .dataframe thead th {\n",
       "        text-align: right;\n",
       "    }\n",
       "</style>\n",
       "<table border=\"1\" class=\"dataframe\">\n",
       "  <thead>\n",
       "    <tr style=\"text-align: right;\">\n",
       "      <th></th>\n",
       "      <th>Model_Name</th>\n",
       "      <th>Accuracy_Score</th>\n",
       "    </tr>\n",
       "  </thead>\n",
       "  <tbody>\n",
       "    <tr>\n",
       "      <th>0</th>\n",
       "      <td>xgb</td>\n",
       "      <td>0.505682</td>\n",
       "    </tr>\n",
       "    <tr>\n",
       "      <th>1</th>\n",
       "      <td>rf</td>\n",
       "      <td>0.488636</td>\n",
       "    </tr>\n",
       "  </tbody>\n",
       "</table>\n",
       "</div>"
      ],
      "text/plain": [
       "  Model_Name  Accuracy_Score\n",
       "0        xgb        0.505682\n",
       "1         rf        0.488636"
      ]
     },
     "execution_count": 114,
     "metadata": {},
     "output_type": "execute_result"
    }
   ],
   "source": [
    "def eval_model(name, model) : \n",
    "    x_train, x_test, y_train, y_test= train_test_split(X ,y, test_size = 0.3 , stratify = y, random_state = 42)\n",
    "    model.fit(x_train, y_train)\n",
    "    pred = model.predict(x_test)\n",
    "    acc = accuracy_score(y_test, pred)\n",
    "\n",
    "    return acc \n",
    "\n",
    "lst = []\n",
    "model_lst = []\n",
    "for name, model in [['xgb', xgb.XGBClassifier()], ['rf' , RandomForestClassifier()]] : \n",
    "    acc = eval_model(name, model)\n",
    "    lst.append([name, acc])\n",
    "    model_lst.append([name, model])\n",
    "\n",
    "pd.DataFrame(lst, columns = ['Model_Name','Accuracy_Score'])"
   ]
  },
  {
   "cell_type": "code",
   "execution_count": 119,
   "id": "76756dfe-7dd6-4f05-8c4c-4c8229244e1f",
   "metadata": {},
   "outputs": [
    {
     "data": {
      "image/png": "[encoded data removed]",
      "text/plain": [
       "<Figure size 1000x300 with 2 Axes>"
      ]
     },
     "metadata": {},
     "output_type": "display_data"
    }
   ],
   "source": [
    "# Feature Importance \n",
    "fig, axes = plt.subplots(1, 2, figsize = (10, 3))\n",
    "\n",
    "for axes, (name, model) in zip(axes, model_lst) : \n",
    "    importance = model.feature_importances_\n",
    "    features = model.feature_names_in_\n",
    "\n",
    "    imp = pd.Series(importance, index = features).sort_values()\n",
    "    imp.plot.barh(ax = axes)\n",
    "\n",
    "plt.tight_layout()\n",
    "plt.show()"
   ]
  },
  {
   "cell_type": "markdown",
   "id": "4a4eff2d",
   "metadata": {},
   "source": [
    "#### ✅  캘리포니아 집값 데이터 "
   ]
  },
  {
   "cell_type": "code",
   "execution_count": 121,
   "id": "bc1f2112",
   "metadata": {},
   "outputs": [],
   "source": [
    "from sklearn.datasets import fetch_california_housing\n",
    "cali = fetch_california_housing()\n",
    "X,y=pd.DataFrame(cali.data,columns =cali['feature_names']), pd.DataFrame(cali.target,columns =['MedHouseVal'])\n",
    "#display(X.head())\n",
    "#display(y.head())"
   ]
  },
  {
   "cell_type": "markdown",
   "id": "178c1717",
   "metadata": {},
   "source": [
    "#### ✅ 1.1 데이터 EDA 및 시각화"
   ]
  },
  {
   "cell_type": "code",
   "execution_count": 127,
   "id": "07b851f7",
   "metadata": {},
   "outputs": [
    {
     "data": {
      "image/png": "[encoded data removed]",
      "text/plain": [
       "<Figure size 1500x500 with 6 Axes>"
      ]
     },
     "metadata": {},
     "output_type": "display_data"
    }
   ],
   "source": [
    "cols = ['MedInc', 'HouseAge', 'AveRooms', 'AveBedrms', 'Population', 'AveOccup'] \n",
    "\n",
    "fig, axes = plt.subplots(3,2, figsize = (15, 5)) \n",
    "\n",
    "for i, axes in enumerate(axes.flat[:len(cols)]) : \n",
    "    col_i = X[cols].columns[i]\n",
    "    sns.histplot(X[col_i], kde = True, ax = axes)\n",
    "\n",
    "plt.tight_layout()\n",
    "plt.show()"
   ]
  },
  {
   "cell_type": "markdown",
   "id": "29d72ee2",
   "metadata": {},
   "source": [
    "#### ✅ 1.2 변수들의 다중공선성"
   ]
  },
  {
   "cell_type": "code",
   "execution_count": 134,
   "id": "bc1cb0ca",
   "metadata": {
    "scrolled": true
   },
   "outputs": [
    {
     "data": {
      "text/html": [
       "<div>\n",
       "<style scoped>\n",
       "    .dataframe tbody tr th:only-of-type {\n",
       "        vertical-align: middle;\n",
       "    }\n",
       "\n",
       "    .dataframe tbody tr th {\n",
       "        vertical-align: top;\n",
       "    }\n",
       "\n",
       "    .dataframe thead th {\n",
       "        text-align: right;\n",
       "    }\n",
       "</style>\n",
       "<table border=\"1\" class=\"dataframe\">\n",
       "  <thead>\n",
       "    <tr style=\"text-align: right;\">\n",
       "      <th></th>\n",
       "      <th>MedInc</th>\n",
       "      <th>HouseAge</th>\n",
       "      <th>AveRooms</th>\n",
       "      <th>AveBedrms</th>\n",
       "      <th>Population</th>\n",
       "      <th>AveOccup</th>\n",
       "    </tr>\n",
       "  </thead>\n",
       "  <tbody>\n",
       "    <tr>\n",
       "      <th>MedInc</th>\n",
       "      <td>1.000000</td>\n",
       "      <td>-0.119034</td>\n",
       "      <td>0.326895</td>\n",
       "      <td>-0.062040</td>\n",
       "      <td>0.004834</td>\n",
       "      <td>0.018766</td>\n",
       "    </tr>\n",
       "    <tr>\n",
       "      <th>HouseAge</th>\n",
       "      <td>-0.119034</td>\n",
       "      <td>1.000000</td>\n",
       "      <td>-0.153277</td>\n",
       "      <td>-0.077747</td>\n",
       "      <td>-0.296244</td>\n",
       "      <td>0.013191</td>\n",
       "    </tr>\n",
       "    <tr>\n",
       "      <th>AveRooms</th>\n",
       "      <td>0.326895</td>\n",
       "      <td>-0.153277</td>\n",
       "      <td>1.000000</td>\n",
       "      <td>0.847621</td>\n",
       "      <td>-0.072213</td>\n",
       "      <td>-0.004852</td>\n",
       "    </tr>\n",
       "    <tr>\n",
       "      <th>AveBedrms</th>\n",
       "      <td>-0.062040</td>\n",
       "      <td>-0.077747</td>\n",
       "      <td>0.847621</td>\n",
       "      <td>1.000000</td>\n",
       "      <td>-0.066197</td>\n",
       "      <td>-0.006181</td>\n",
       "    </tr>\n",
       "    <tr>\n",
       "      <th>Population</th>\n",
       "      <td>0.004834</td>\n",
       "      <td>-0.296244</td>\n",
       "      <td>-0.072213</td>\n",
       "      <td>-0.066197</td>\n",
       "      <td>1.000000</td>\n",
       "      <td>0.069863</td>\n",
       "    </tr>\n",
       "    <tr>\n",
       "      <th>AveOccup</th>\n",
       "      <td>0.018766</td>\n",
       "      <td>0.013191</td>\n",
       "      <td>-0.004852</td>\n",
       "      <td>-0.006181</td>\n",
       "      <td>0.069863</td>\n",
       "      <td>1.000000</td>\n",
       "    </tr>\n",
       "  </tbody>\n",
       "</table>\n",
       "</div>"
      ],
      "text/plain": [
       "              MedInc  HouseAge  AveRooms  AveBedrms  Population  AveOccup\n",
       "MedInc      1.000000 -0.119034  0.326895  -0.062040    0.004834  0.018766\n",
       "HouseAge   -0.119034  1.000000 -0.153277  -0.077747   -0.296244  0.013191\n",
       "AveRooms    0.326895 -0.153277  1.000000   0.847621   -0.072213 -0.004852\n",
       "AveBedrms  -0.062040 -0.077747  0.847621   1.000000   -0.066197 -0.006181\n",
       "Population  0.004834 -0.296244 -0.072213  -0.066197    1.000000  0.069863\n",
       "AveOccup    0.018766  0.013191 -0.004852  -0.006181    0.069863  1.000000"
      ]
     },
     "metadata": {},
     "output_type": "display_data"
    },
    {
     "data": {
      "text/plain": [
       "<Axes: >"
      ]
     },
     "execution_count": 134,
     "metadata": {},
     "output_type": "execute_result"
    },
    {
     "data": {
      "image/png": "[encoded data removed]",
      "text/plain": [
       "<Figure size 1000x400 with 2 Axes>"
      ]
     },
     "metadata": {},
     "output_type": "display_data"
    }
   ],
   "source": [
    "from statsmodels.stats.outliers_influence import variance_inflation_factor \n",
    "\n",
    "# 1) 상관계수 \n",
    "num = X.columns[:-2]\n",
    "display(X[num].corr(method = 'pearson'))\n",
    "\n",
    "plt.figure(figsize = (10,4))\n",
    "sns.heatmap(X[num].corr(method = 'pearson') , annot = True)"
   ]
  },
  {
   "cell_type": "code",
   "execution_count": 140,
   "id": "71fc8004-a928-43ad-ac2d-4bc6df023514",
   "metadata": {},
   "outputs": [
    {
     "data": {
      "text/html": [
       "<div>\n",
       "<style scoped>\n",
       "    .dataframe tbody tr th:only-of-type {\n",
       "        vertical-align: middle;\n",
       "    }\n",
       "\n",
       "    .dataframe tbody tr th {\n",
       "        vertical-align: top;\n",
       "    }\n",
       "\n",
       "    .dataframe thead th {\n",
       "        text-align: right;\n",
       "    }\n",
       "</style>\n",
       "<table border=\"1\" class=\"dataframe\">\n",
       "  <thead>\n",
       "    <tr style=\"text-align: right;\">\n",
       "      <th></th>\n",
       "      <th>0</th>\n",
       "      <th>1</th>\n",
       "      <th>2</th>\n",
       "      <th>3</th>\n",
       "      <th>4</th>\n",
       "      <th>5</th>\n",
       "    </tr>\n",
       "  </thead>\n",
       "  <tbody>\n",
       "    <tr>\n",
       "      <th>Cols</th>\n",
       "      <td>MedInc</td>\n",
       "      <td>HouseAge</td>\n",
       "      <td>AveRooms</td>\n",
       "      <td>AveBedrms</td>\n",
       "      <td>Population</td>\n",
       "      <td>AveOccup</td>\n",
       "    </tr>\n",
       "    <tr>\n",
       "      <th>VIF</th>\n",
       "      <td>7.766787</td>\n",
       "      <td>4.309941</td>\n",
       "      <td>41.111592</td>\n",
       "      <td>34.118257</td>\n",
       "      <td>2.322315</td>\n",
       "      <td>1.094793</td>\n",
       "    </tr>\n",
       "  </tbody>\n",
       "</table>\n",
       "</div>"
      ],
      "text/plain": [
       "             0         1          2          3           4         5\n",
       "Cols    MedInc  HouseAge   AveRooms  AveBedrms  Population  AveOccup\n",
       "VIF   7.766787  4.309941  41.111592  34.118257    2.322315  1.094793"
      ]
     },
     "metadata": {},
     "output_type": "display_data"
    }
   ],
   "source": [
    "vif_check = X[num]\n",
    "\n",
    "vif = pd.DataFrame()\n",
    "vif['Cols'] = vif_check.columns\n",
    "\n",
    "vif['VIF'] = [variance_inflation_factor(vif_check.values , i) for i in range(vif_check.shape[1])]\n",
    "\n",
    "display(vif.T)"
   ]
  },
  {
   "cell_type": "markdown",
   "id": "eb80946b",
   "metadata": {},
   "source": [
    "#### ✅ 1.3 회귀모델을 제작할 때 다중공선성을 줄이기 위한 방법 3가지를 서술하라"
   ]
  },
  {
   "cell_type": "code",
   "execution_count": 142,
   "id": "d256c058",
   "metadata": {
    "scrolled": true
   },
   "outputs": [
    {
     "name": "stdout",
     "output_type": "stream",
     "text": [
      "\n",
      " 1. 변수 선택(Feature Selection) \n",
      "    상관계수가 높은 변수 중 하나를 제거하거나, 도메인 지식을 활용해 중요한 변수만 선택함.\n",
      "    \n",
      " 2. 차원 축소 (Dimensionality Reduction)\n",
      "    주성분 분석(PCA), 선형 판별 분석(LDA) 등을 활용 - 저차원 변수로 변환하여 상관성을 제거하면서, 정보 손실 최소화 \n",
      "    \n",
      " 3. 정규화 회귀 기법 사용\n",
      "    릿지 회귀 (Ridge Regression): L2 정규화를 통해 계수 크기를 제한함으로써 다중공선성 완화\n",
      "    라쏘 회귀 (Lasso Regression): L1 정규화로 중요하지 않은 계수를 0으로 만들어 변수 선택 효과까지 제공.\n",
      "\n"
     ]
    }
   ],
   "source": [
    "print('''\n",
    " 1. 변수 선택(Feature Selection) \n",
    "    상관계수가 높은 변수 중 하나를 제거하거나, 도메인 지식을 활용해 중요한 변수만 선택함.\n",
    "    \n",
    " 2. 차원 축소 (Dimensionality Reduction)\n",
    "    주성분 분석(PCA), 선형 판별 분석(LDA) 등을 활용 - 저차원 변수로 변환하여 상관성을 제거하면서, 정보 손실 최소화 \n",
    "    \n",
    " 3. 정규화 회귀 기법 사용\n",
    "    릿지 회귀 (Ridge Regression): L2 정규화를 통해 계수 크기를 제한함으로써 다중공선성 완화\n",
    "    라쏘 회귀 (Lasso Regression): L1 정규화로 중요하지 않은 계수를 0으로 만들어 변수 선택 효과까지 제공.\n",
    "''')"
   ]
  },
  {
   "cell_type": "markdown",
   "id": "cf3ac4b2",
   "metadata": {},
   "source": [
    "#### ✅ 1.4 Modeliing \n",
    "1. 훈련용 데이터와 평가용 데이터를 7:3으로 분리\n",
    "2. 다중선형회귀모델과 엘라스틱넷모델을 통해 회귀 모델링을 진행하고 rmse값을 기준으로 평가\n",
    "3. 엘라스틱넷 모델의 경우, 정규화 강도 파라미터를 2가지, l1,l2 페널티를 3가지 방식으로 조정한 모델 총 6개를 만들고 결과에 대해 분석하라"
   ]
  },
  {
   "cell_type": "code",
   "execution_count": 165,
   "id": "679d37be",
   "metadata": {},
   "outputs": [
    {
     "data": {
      "text/html": [
       "<div>\n",
       "<style scoped>\n",
       "    .dataframe tbody tr th:only-of-type {\n",
       "        vertical-align: middle;\n",
       "    }\n",
       "\n",
       "    .dataframe tbody tr th {\n",
       "        vertical-align: top;\n",
       "    }\n",
       "\n",
       "    .dataframe thead th {\n",
       "        text-align: right;\n",
       "    }\n",
       "</style>\n",
       "<table border=\"1\" class=\"dataframe\">\n",
       "  <thead>\n",
       "    <tr style=\"text-align: right;\">\n",
       "      <th></th>\n",
       "      <th>0</th>\n",
       "      <th>1</th>\n",
       "    </tr>\n",
       "  </thead>\n",
       "  <tbody>\n",
       "    <tr>\n",
       "      <th>0</th>\n",
       "      <td>LR</td>\n",
       "      <td>0.616443</td>\n",
       "    </tr>\n",
       "    <tr>\n",
       "      <th>1</th>\n",
       "      <td>Elastic</td>\n",
       "      <td>0.636319</td>\n",
       "    </tr>\n",
       "    <tr>\n",
       "      <th>2</th>\n",
       "      <td>Elastic</td>\n",
       "      <td>0.641017</td>\n",
       "    </tr>\n",
       "    <tr>\n",
       "      <th>3</th>\n",
       "      <td>Elastic</td>\n",
       "      <td>0.643629</td>\n",
       "    </tr>\n",
       "    <tr>\n",
       "      <th>4</th>\n",
       "      <td>Elastic</td>\n",
       "      <td>0.697903</td>\n",
       "    </tr>\n",
       "    <tr>\n",
       "      <th>5</th>\n",
       "      <td>Elastic</td>\n",
       "      <td>0.756293</td>\n",
       "    </tr>\n",
       "    <tr>\n",
       "      <th>6</th>\n",
       "      <td>Elastic</td>\n",
       "      <td>0.847557</td>\n",
       "    </tr>\n",
       "  </tbody>\n",
       "</table>\n",
       "</div>"
      ],
      "text/plain": [
       "         0         1\n",
       "0       LR  0.616443\n",
       "1  Elastic  0.636319\n",
       "2  Elastic  0.641017\n",
       "3  Elastic  0.643629\n",
       "4  Elastic  0.697903\n",
       "5  Elastic  0.756293\n",
       "6  Elastic  0.847557"
      ]
     },
     "execution_count": 165,
     "metadata": {},
     "output_type": "execute_result"
    }
   ],
   "source": [
    "X1 = X.iloc[:,:6]\n",
    "y \n",
    "\n",
    "def eval_model(name, model, X, y) : \n",
    "    \n",
    "    x_train, x_test, y_train, y_test = train_test_split(X, y, test_size=0.3 , random_state=42)\n",
    "    \n",
    "    lst = []\n",
    "    if name == 'LR' : \n",
    "        model.fit(x_train, y_train)\n",
    "        pred = model.predict(x_test)\n",
    "        MSE = mean_squared_error(y_test, pred)\n",
    "        lst.append([name, MSE])\n",
    "\n",
    "    elif name == 'Elastic' : \n",
    "        alphas = [0.1, 1.0]\n",
    "        L1_ratio = [0.2, 0.5, 0.8]\n",
    "\n",
    "        for a in alphas : \n",
    "            for L1 in L1_ratio : \n",
    "                elastic_model = ElasticNet(alpha = a , l1_ratio = L1, random_state = 42) \n",
    "                elastic_model.fit(x_train, y_train)\n",
    "                pred = elastic_model.predict(x_test)\n",
    "                MSE  = mean_squared_error(y_test, pred)\n",
    "                lst.append([name, MSE]) \n",
    "\n",
    "    return lst \n",
    "\n",
    "all_result = []\n",
    "for name, model in [['LR', LinearRegression()] , ['Elastic',None]] : \n",
    "    result = eval_model(name, model, X1, y)\n",
    "    all_result.extend(result)\n",
    "    \n",
    "pd.DataFrame(all_result)"
   ]
  },
  {
   "cell_type": "markdown",
   "id": "6c9d9832",
   "metadata": {},
   "source": [
    "# 통계 (40점)"
   ]
  },
  {
   "cell_type": "markdown",
   "id": "48bb83f6",
   "metadata": {},
   "source": [
    "### ✅ 1번 \n",
    "제조회사에서는 제품의 품질을 보장하기 위해 생산 라인에서 무작위로 10개의 제품을 샘플링하여 품질 검사를 실시한다. 이때, 제품이 불량일 확률은 23%다.\n",
    "\n",
    "(1) 적어도 3개의 제품이 불량일 확률은?\n",
    "(2) 2개 이하의 제품이 불량일 확률은?"
   ]
  },
  {
   "cell_type": "code",
   "execution_count": 167,
   "id": "9fc18382",
   "metadata": {},
   "outputs": [
    {
     "name": "stdout",
     "output_type": "stream",
     "text": [
      "0.4137172738381183\n",
      "0.5862827261618817\n"
     ]
    }
   ],
   "source": [
    "from scipy.stats import binom \n",
    "n = 10 \n",
    "p = 0.23\n",
    "\n",
    "rv = binom(n,p)\n",
    "\n",
    "# 1) 적어도 3개 = 3개 이상 1 - P(X = 2)\n",
    "print(1 - rv.cdf(2))\n",
    "\n",
    "# 2) 2개 이하 제품의 불량 \n",
    "print(rv.cdf(2))"
   ]
  },
  {
   "cell_type": "markdown",
   "id": "9fdee47c",
   "metadata": {},
   "source": [
    "#### ✅ 2번 \n",
    "어느 고객 서비스 센터에는 센터에는 평균적으로 1분에 3건의 전화가 걸려온다. 전화 빈도는 아래와 같은 조건을 가진다.\n",
    "전화가 걸려오는 사건이 독립적이다.\n",
    "특정 시간 동안에 전화가 걸려올 확률이 일정하다.\n",
    "단위 시간 내에 동시에 두 개 이상의 전화가 걸려올 확률은 매우 낮다.\n",
    "\n",
    "(1) 10분 동안 전화가 23통 이하로 걸려올 확률은?\n",
    "(2) 10분 동안 전화가 정확히 30통 걸려올 확률은?"
   ]
  },
  {
   "cell_type": "code",
   "execution_count": 169,
   "id": "f983821e",
   "metadata": {},
   "outputs": [
    {
     "name": "stdout",
     "output_type": "stream",
     "text": [
      "0.11464591271427384\n",
      "0.07263452647159181\n"
     ]
    }
   ],
   "source": [
    "from scipy.stats import poisson, norm \n",
    "\n",
    "# 1분에 3건 -> 10분이면 : 30건 \n",
    "x = 30 \n",
    "\n",
    "# 23통 이하 \n",
    "print(poisson.cdf(23, x))\n",
    "\n",
    "# 30통 \n",
    "print(poisson.pmf(30, x))"
   ]
  },
  {
   "cell_type": "markdown",
   "id": "5f727b8e",
   "metadata": {},
   "source": [
    "### ✅ 3번\n",
    "한 회사에서 직원들의 근무 만족도가 개선되었는지를 평가하기 위해, 직원들에게 개선 전과 개선 후의 만족도를 각각 설문조사했다. 만족도 점수는 1에서 10까지의 범위로 측정된다. 다음은 10명의 직원이 제공한 만족도 점수다\n",
    "\n",
    "개선 전: [5, 6, 7, 5, 6, 8, 7, 5, 6, 9]      \n",
    "개선 후: [6, 7, 8, 6, 7, 9, 8, 6, 7, 10]"
   ]
  },
  {
   "cell_type": "code",
   "execution_count": 174,
   "id": "d57ac450",
   "metadata": {},
   "outputs": [
    {
     "name": "stdout",
     "output_type": "stream",
     "text": [
      "0.001953125\n"
     ]
    }
   ],
   "source": [
    "before =  [5, 6, 7, 5, 6, 8, 7, 5, 6, 9]\n",
    "after =  [6, 7, 8, 6, 7, 9, 8, 6, 7, 10]\n",
    "\n",
    "from scipy.stats import wilcoxon \n",
    "\n",
    "stat, p_val = wilcoxon(before, after)\n",
    "print(p_val)"
   ]
  },
  {
   "cell_type": "markdown",
   "id": "8fe2547e",
   "metadata": {},
   "source": [
    "### ✅ 3-1\n",
    "개선 전후의 만족도가 유의미하게 변화했는지 검정하려한다. 귀무가설과 대립가설을 설정하라"
   ]
  },
  {
   "cell_type": "code",
   "execution_count": 176,
   "id": "401d4ad7",
   "metadata": {},
   "outputs": [
    {
     "name": "stdout",
     "output_type": "stream",
     "text": [
      "\n",
      "귀무가설 : 개선 전, 후의 만족도가 같다.\n",
      "대립가설 : 개선 전, 후의 만족도가 다르다\n",
      "\n",
      "✅ 유의수준 0.05에서 귀무가설을 기각 → 만족도에 유의미한 차이가 있음.\n"
     ]
    }
   ],
   "source": [
    "print(f'''\n",
    "귀무가설 : 개선 전, 후의 만족도가 같다.\n",
    "대립가설 : 개선 전, 후의 만족도가 다르다\n",
    "''')\n",
    "\n",
    "if p_val < 0.05:\n",
    "    print(\"✅ 유의수준 0.05에서 귀무가설을 기각 → 만족도에 유의미한 차이가 있음.\")\n",
    "else:\n",
    "    print(\"⚠️ 유의수준 0.05에서 귀무가설을 기각할 수 없음 → 만족도의 차이는 유의하지 않음.\")"
   ]
  },
  {
   "cell_type": "markdown",
   "id": "ba656e5e",
   "metadata": {},
   "source": [
    "### ✅ 4     \n",
    "데이터셋 :./data/s5.csv\n",
    "\n",
    "어느 부품공장의 1000개 부품 샘플의 무게(g)를 기록한 데이터셋이다."
   ]
  },
  {
   "cell_type": "code",
   "execution_count": 177,
   "id": "e138dd51",
   "metadata": {},
   "outputs": [
    {
     "data": {
      "text/html": [
       "<div>\n",
       "<style scoped>\n",
       "    .dataframe tbody tr th:only-of-type {\n",
       "        vertical-align: middle;\n",
       "    }\n",
       "\n",
       "    .dataframe tbody tr th {\n",
       "        vertical-align: top;\n",
       "    }\n",
       "\n",
       "    .dataframe thead th {\n",
       "        text-align: right;\n",
       "    }\n",
       "</style>\n",
       "<table border=\"1\" class=\"dataframe\">\n",
       "  <thead>\n",
       "    <tr style=\"text-align: right;\">\n",
       "      <th></th>\n",
       "      <th>w</th>\n",
       "    </tr>\n",
       "  </thead>\n",
       "  <tbody>\n",
       "    <tr>\n",
       "      <th>0</th>\n",
       "      <td>78.8</td>\n",
       "    </tr>\n",
       "    <tr>\n",
       "      <th>1</th>\n",
       "      <td>72.0</td>\n",
       "    </tr>\n",
       "    <tr>\n",
       "      <th>2</th>\n",
       "      <td>74.9</td>\n",
       "    </tr>\n",
       "    <tr>\n",
       "      <th>3</th>\n",
       "      <td>81.2</td>\n",
       "    </tr>\n",
       "    <tr>\n",
       "      <th>4</th>\n",
       "      <td>79.3</td>\n",
       "    </tr>\n",
       "  </tbody>\n",
       "</table>\n",
       "</div>"
      ],
      "text/plain": [
       "      w\n",
       "0  78.8\n",
       "1  72.0\n",
       "2  74.9\n",
       "3  81.2\n",
       "4  79.3"
      ]
     },
     "execution_count": 177,
     "metadata": {},
     "output_type": "execute_result"
    }
   ],
   "source": [
    "df = pd.read_csv('https://raw.githubusercontent.com/doeungim/ADP_DE/refs/heads/main/ADP_SET2/data/s5.csv')\n",
    "df.head()"
   ]
  },
  {
   "cell_type": "markdown",
   "id": "8415eea1",
   "metadata": {},
   "source": [
    "이 데이터에서 183개의 샘플을 추출했을 때 샘플 무게의 평균이 69.5g에서 70.1g 사이에 있을 확률을 구하여라"
   ]
  },
  {
   "cell_type": "code",
   "execution_count": 181,
   "id": "3ba784ed",
   "metadata": {},
   "outputs": [
    {
     "data": {
      "text/plain": [
       "np.float64(0.5876910371573985)"
      ]
     },
     "execution_count": 181,
     "metadata": {},
     "output_type": "execute_result"
    }
   ],
   "source": [
    "from scipy.stats import norm\n",
    "\n",
    "x = df['w'].mean()\n",
    "std = df['w'].std()\n",
    "n = 183\n",
    "\n",
    "se = std / np.sqrt(n)\n",
    "\n",
    "norm.cdf(70.1, loc = x, scale = se) - norm.cdf(69.5, loc = x, scale = se) "
   ]
  },
  {
   "cell_type": "code",
   "execution_count": null,
   "id": "a5a8e138-5e16-425e-bcc1-abb6b204847a",
   "metadata": {},
   "outputs": [],
   "source": []
  }
 ],
 "metadata": {
  "kernelspec": {
   "display_name": "Python 3 (ipykernel)",
   "language": "python",
   "name": "python3"
  },
  "language_info": {
   "codemirror_mode": {
    "name": "ipython",
    "version": 3
   },
   "file_extension": ".py",
   "mimetype": "text/x-python",
   "name": "python",
   "nbconvert_exporter": "python",
   "pygments_lexer": "ipython3",
   "version": "3.11.3"
  }
 },
 "nbformat": 4,
 "nbformat_minor": 5
}
