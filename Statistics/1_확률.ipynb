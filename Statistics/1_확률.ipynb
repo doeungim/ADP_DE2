{
  "nbformat": 4,
  "nbformat_minor": 0,
  "metadata": {
    "colab": {
      "provenance": [],
      "authorship_tag": "ABX9TyMGrh4dlaf53teimgwyj5au",
      "include_colab_link": true
    },
    "kernelspec": {
      "name": "python3",
      "display_name": "Python 3"
    },
    "language_info": {
      "name": "python"
    }
  },
  "cells": [
    {
      "cell_type": "markdown",
      "metadata": {
        "id": "view-in-github",
        "colab_type": "text"
      },
      "source": [
        "<a href=\"https://colab.research.google.com/github/doeungim/ADP_DE2/blob/main/1_%ED%99%95%EB%A5%A0.ipynb\" target=\"_parent\"><img src=\"https://colab.research.google.com/assets/colab-badge.svg\" alt=\"Open In Colab\"/></a>"
      ]
    },
    {
      "cell_type": "code",
      "execution_count": null,
      "metadata": {
        "id": "rSPSU8R8mDkR"
      },
      "outputs": [],
      "source": [
        "from scipy.stats import binom"
      ]
    },
    {
      "cell_type": "markdown",
      "source": [
        "📌 베르누이 분포\n",
        "\n",
        "    1. 이항검정\n",
        "       scipy.stats.binom_test()\n",
        "       귀무가설 : 데이터가 p의 베르누이 분포를 따른다.\n",
        "    2. 카이제곱 적합도 검정\n",
        "       scipy.stat.chisqure()\n"
      ],
      "metadata": {
        "id": "bW-ulhsFnvzT"
      }
    },
    {
      "cell_type": "code",
      "source": [
        "import numpy as np\n",
        "import matplotlib.pyplot as plt\n",
        "from scipy.stats import bernoulli\n",
        "from scipy.stats import binomtest\n",
        "\n",
        "p = 0.7\n",
        "size = 100\n",
        "data = bernoulli.rvs(p, size = size)\n",
        "\n",
        "plt.bar([0, 1], [sum(data == 0), sum(data == 1)], tick_label=['0 (Fail)', '1 (Sucess)'], color=['red', 'blue'])\n",
        "\n",
        "\n",
        "# 검정하기 - binom_test\n",
        "# 귀무가설 : 데이터가 베르누이 분포를 따른다.\n",
        "# 대립가설 : 데이터가 베르누이 분포를 따른다.\n",
        "\n",
        "success_count = sum(data)\n",
        "n = len(data)\n",
        "p = 0.7\n",
        "\n",
        "p_val = binomtest(success_count, n, p, alternative = 'two-sided')\n",
        "print(p_val)"
      ],
      "metadata": {
        "colab": {
          "base_uri": "https://localhost:8080/",
          "height": 447
        },
        "id": "o2QBX8NRoa3h",
        "outputId": "3c18971e-1ace-47d6-dac2-151cfcfccfa5"
      },
      "execution_count": null,
      "outputs": [
        {
          "output_type": "stream",
          "name": "stdout",
          "text": [
            "BinomTestResult(k=71, n=100, alternative='two-sided', statistic=0.71, pvalue=0.9132161352465717)\n"
          ]
        },
        {
          "output_type": "display_data",
          "data": {
            "text/plain": [
              "<Figure size 640x480 with 1 Axes>"
            ],
            "image/png": "[encoded data removed]"
          },
          "metadata": {}
        }
      ]
    },
    {
      "cell_type": "code",
      "source": [
        "n = 3\n",
        "p = 0.99\n",
        "p_fail = 1 - p\n",
        "\n",
        "# 적어도 하나 이상의 신호탄이 정상적으로 작동할 확률\n",
        "print(1 - rv.cdf(0))\n",
        "\n",
        "# 신호탄이 정확히 2개만 정상 작동할 확률\n",
        "rv = binom(n,p)\n",
        "rv.pmf(2)"
      ],
      "metadata": {
        "colab": {
          "base_uri": "https://localhost:8080/"
        },
        "id": "bIBgwuamnOnm",
        "outputId": "ee28f464-fdb0-400e-bbac-ea90b69f1fda"
      },
      "execution_count": null,
      "outputs": [
        {
          "output_type": "stream",
          "name": "stdout",
          "text": [
            "0.999999\n"
          ]
        },
        {
          "output_type": "execute_result",
          "data": {
            "text/plain": [
              "0.029403000000000026"
            ]
          },
          "metadata": {},
          "execution_count": 15
        }
      ]
    },
    {
      "cell_type": "markdown",
      "source": [
        "2.12 어느 운전학원을 이수한 사람이 각 시험에서 운전 면허를 취득할 확률이 0.8, 각각의 시험이 독립일때"
      ],
      "metadata": {
        "id": "uYpTyokxqEHw"
      }
    },
    {
      "cell_type": "code",
      "source": [
        "p = 0.8\n",
        "\n",
        "# 1) 두번의 시험 안에 운전면허를 취득할 확률\n",
        "rv = binom(2, 0.8)\n",
        "p = 1 - rv.cdf(0)\n",
        "print(p)\n",
        "\n",
        "# 2) 세번의 시험 후에도 운전 면허를 취득하지 못할 확률 = 세번 중 0번 성공\n",
        "rv = binom(3, 0.8)\n",
        "print(rv.cdf(0))"
      ],
      "metadata": {
        "colab": {
          "base_uri": "https://localhost:8080/"
        },
        "id": "XpCQvoETnXzx",
        "outputId": "5850ab5c-cbc7-42c4-8fb6-c9e8a0a192ce"
      },
      "execution_count": null,
      "outputs": [
        {
          "output_type": "stream",
          "name": "stdout",
          "text": [
            "0.96\n",
            "0.007999999999999995\n"
          ]
        }
      ]
    },
    {
      "cell_type": "markdown",
      "source": [
        "📌 이항 분포"
      ],
      "metadata": {
        "id": "ECLv8dr9rPbx"
      }
    },
    {
      "cell_type": "code",
      "source": [
        "from scipy.stats import binom\n",
        "\n",
        "# ✅ 변수 설정\n",
        "n = 5   # 시행 횟수 (예: 동전을 5번 던짐)\n",
        "p = 0.5  # 성공 확률 (예: 동전 앞면이 나올 확률)\n",
        "k = 3    # 성공 횟수 (예: 앞면이 3번 나올 확률)\n",
        "\n",
        "# ✅ 정확히 k번 성공할 확률 (PMF)\n",
        "p_exact = binom.pmf(k, n, p)\n",
        "\n",
        "# ✅ k번 이하 성공할 확률 (CDF)\n",
        "p_cumulative = binom.cdf(k, n, p)\n",
        "\n",
        "# ✅ 결과 출력\n",
        "print(f\"P(X = {k}) = {p_exact:.4f} (정확히 {k}번 성공)\")\n",
        "print(f\"P(X ≤ {k}) = {p_cumulative:.4f} ({k}번 이하 성공할 확률)\")"
      ],
      "metadata": {
        "id": "ulEhJIo0qxqr"
      },
      "execution_count": null,
      "outputs": []
    },
    {
      "cell_type": "code",
      "source": [
        "# KS 검정 : 전체 분포가 이항 분포를 따르는지 검정\n",
        "from scipy.stats import binom, kstest\n",
        "\n",
        "# ✅ 이항 분포에서 샘플 데이터 생성\n",
        "sample_data = binom.rvs(100, 0.3, size=1000)\n",
        "\n",
        "# ✅ KS 검정 수행\n",
        "ks_stat, p_value = kstest(sample_data, binom.cdf, args=(100, 0.3))\n",
        "\n",
        "# ✅ 결과 출력\n",
        "print(f\"KS 검정 p-value: {p_value:.4f}\")\n",
        "if p_value < 0.05:\n",
        "    print(\"❌ 귀무가설 기각 → 데이터가 이항 분포를 따르지 않음\")\n",
        "else:\n",
        "    print(\"✅ 귀무가설 채택 → 데이터가 이항 분포를 따를 가능성이 높음\")"
      ],
      "metadata": {
        "colab": {
          "base_uri": "https://localhost:8080/"
        },
        "id": "w1smDO7qsOem",
        "outputId": "1c2882fb-4862-4790-9682-13c0f3da1b37"
      },
      "execution_count": null,
      "outputs": [
        {
          "output_type": "stream",
          "name": "stdout",
          "text": [
            "KS 검정 p-value: 0.0005\n",
            "❌ 귀무가설 기각 → 데이터가 이항 분포를 따르지 않음\n"
          ]
        }
      ]
    },
    {
      "cell_type": "markdown",
      "source": [
        "예제 3) 멘델의 법칙에 의하면 빨간색과 흰색이 섞여 있는 꽃나무를 자가수정시켜 얻은 꽃나무의 25%는 빨간 꽃을 피우게 된다고 한다. 만약 5그루의 혼합 색의 꽃나무를 자가수정시켜 5그루의 꽃나무를 얻었 을 때 다음의 확률을 구하라. </br>\n",
        " (1) 빨간색 꽃나무가 하나도 없다. </br>\n",
        " (2) 빨간색 꽃나무가 4개 이상이다 </br>"
      ],
      "metadata": {
        "id": "ts274XwPsgsO"
      }
    },
    {
      "cell_type": "code",
      "source": [
        "p = 0.25\n",
        "n = 5\n",
        "\n",
        "rv = binom(n, p)\n",
        "\n",
        "# 1) P(X = 0)\n",
        "print(rv.cdf(0))\n",
        "\n",
        "# 2) P(X >= 4)\n",
        "print(1 - rv.cdf(3))"
      ],
      "metadata": {
        "colab": {
          "base_uri": "https://localhost:8080/"
        },
        "id": "Ot85-jdPsZql",
        "outputId": "803f84c3-4b91-45f3-e4d4-5623c474e416"
      },
      "execution_count": null,
      "outputs": [
        {
          "output_type": "stream",
          "name": "stdout",
          "text": [
            "0.23730468750000006\n",
            "0.015625\n"
          ]
        }
      ]
    },
    {
      "cell_type": "markdown",
      "source": [
        "❓ 예제 4) 어떤 병이 새로운 치료 방법으로 치유될 확률이 50%인데 15명의 환자에게 치료법을 적용"
      ],
      "metadata": {
        "id": "4AxURWMPtRNP"
      }
    },
    {
      "cell_type": "code",
      "source": [
        "p = 0.5\n",
        "n = 15\n",
        "\n",
        "rv = binom(n,p)\n",
        "# 1) 6명 이하가 치유 P(X =< 6)\n",
        "print(rv.cdf(6))\n",
        "\n",
        "# 2) 6명 이상, 10명 이하\n",
        "print(rv.pmf(6) + rv.pmf(7) + rv.pmf(8) + rv.pmf(9) + rv.pmf(10))\n",
        "print(rv.cdf(10) - rv.cdf(5))\n",
        "\n",
        "# 3) 12명 이상이 치료 P(X >= 12)\n",
        "print(1 - rv.cdf(11))"
      ],
      "metadata": {
        "colab": {
          "base_uri": "https://localhost:8080/"
        },
        "id": "53wbMZhcs-lP",
        "outputId": "963cacb2-899e-4304-b0a0-be8027b0d108"
      },
      "execution_count": null,
      "outputs": [
        {
          "output_type": "stream",
          "name": "stdout",
          "text": [
            "0.30361938476562494\n",
            "0.7898864746093752\n",
            "0.789886474609375\n",
            "0.017578125\n"
          ]
        }
      ]
    },
    {
      "cell_type": "markdown",
      "source": [
        "\n",
        "❓ 미국의 백인 중 85%가 Rh十의 혈액형을 가지고 있다고 한다. 이 중에서 7명을 임의로 선택하였을 때 다음의 확률을 구하라."
      ],
      "metadata": {
        "id": "uYLGvLQnuThV"
      }
    },
    {
      "cell_type": "code",
      "source": [
        "p = 0.85\n",
        "p_negative = 1 - p\n",
        "n = 7\n",
        "rv = binom(n, p)\n",
        "\n",
        "#(1) 적어도 5명이 Rh +의 혈액형을 가지고 있다. > 5명 이상 P(X >= 5)\n",
        "print(1 - rv.cdf(4))\n",
        "\n",
        "# (2) 많아야 3명이 Rh—(Rh+가 없는 것)의 혈액형을 가지고 있다.\n",
        "print(binom.cdf(3, n, p_negative))\n"
      ],
      "metadata": {
        "colab": {
          "base_uri": "https://localhost:8080/"
        },
        "id": "-ZQBdNlltu8A",
        "outputId": "8bb0db43-205e-45b6-fada-25afd08c0c11"
      },
      "execution_count": null,
      "outputs": [
        {
          "output_type": "stream",
          "name": "stdout",
          "text": [
            "0.92623483984375\n",
            "0.987896828125\n"
          ]
        }
      ]
    },
    {
      "cell_type": "markdown",
      "source": [
        "❓정팔면체 주사위에 1~8까지 숫자가 적혀있다. 8번 주사위를 던졌을 때 다음의 확률을 구하여라"
      ],
      "metadata": {
        "id": "j6ed-3HcvdhR"
      }
    },
    {
      "cell_type": "code",
      "source": [
        "p = 1/8\n",
        "n = 8\n",
        "rv = binom(n, p)\n",
        "#(1) 숫자 1이 한 번만 나오는 경우\n",
        "print(rv.pmf(1))\n",
        "\n",
        "#(2) 숫자 2 또는 4가 5회 이상 나오는 경우 : P(X >= 5)\n",
        "print(1 - rv.cdf(4))\n",
        "\n",
        "#(3) 숫자 3이 적어도 3회 나오는 경우 = P(X >=3) 3이상\n",
        "print(1 - rv.cdf(2))\n",
        "\n",
        "# (4) 숫자 5가 많아야 3회 나오는 경우 = 3회 이하\n",
        "print(rv.cdf(3))"
      ],
      "metadata": {
        "colab": {
          "base_uri": "https://localhost:8080/"
        },
        "id": "FkckdYRdupCK",
        "outputId": "d043f51d-0597-4fe8-eb0d-76aa890dc995"
      },
      "execution_count": null,
      "outputs": [
        {
          "output_type": "stream",
          "name": "stdout",
          "text": [
            "0.3926959037780762\n",
            "0.0012300610542297363\n",
            "0.06734722852706909\n",
            "0.9887521862983704\n"
          ]
        }
      ]
    },
    {
      "cell_type": "markdown",
      "source": [
        "❓ 조사결과 70%의 성인 여성이 2년동안 적어도 1번 내과를 찾는다고 할떄, 19명의 성인 여성이 임의로 추출되었다."
      ],
      "metadata": {
        "id": "ZhHKyj0qwk_E"
      }
    },
    {
      "cell_type": "code",
      "source": [
        "p = 0.7\n",
        "n = 19\n",
        "rv = binom(n,p)\n",
        "# 1) 14명 미만이 내과를 찾을 확률\n",
        "print(rv.cdf(13))\n",
        "# 2) 적어도 17명이 내과를 찾을 확률\n",
        "print(1 - rv.cdf(16))"
      ],
      "metadata": {
        "colab": {
          "base_uri": "https://localhost:8080/"
        },
        "id": "kSHBPlbpv1F8",
        "outputId": "0f1bcbcc-c76d-48a9-d118-5385a8de4439"
      },
      "execution_count": null,
      "outputs": [
        {
          "output_type": "stream",
          "name": "stdout",
          "text": [
            "0.526137475726486\n",
            "0.04622368312925795\n"
          ]
        }
      ]
    },
    {
      "cell_type": "markdown",
      "source": [
        "❓ 20%의 3학년 학생이 장학금을 받는다. 20명의 3학년 학생을 선택하였을 때, 많아야 3명이 장학금을 받을 확률"
      ],
      "metadata": {
        "id": "VNsMNr0CxI6W"
      }
    },
    {
      "cell_type": "code",
      "source": [
        "p = 0.2\n",
        "n = 20\n",
        "\n",
        "rv = binom(n, p)\n",
        "\n",
        "# 많아야 3명 (3명 이하)\n",
        "print(rv.cdf(3))\n",
        "\n",
        "# 선택된 20명 중 장학금을 받을 사람의 기대 인원 수\n",
        "print(n * p)\n",
        "\n",
        "# 기대 인원수와 같은 수의 사람이 장학금을 받을 확률\n",
        "print(rv.pmf(4))"
      ],
      "metadata": {
        "colab": {
          "base_uri": "https://localhost:8080/"
        },
        "id": "KnrMtNP1xXV_",
        "outputId": "cf6ee5af-e393-44f5-ae38-97668784eed3"
      },
      "execution_count": null,
      "outputs": [
        {
          "output_type": "stream",
          "name": "stdout",
          "text": [
            "0.41144886195656893\n",
            "4.0\n",
            "0.2181994019461005\n"
          ]
        }
      ]
    },
    {
      "cell_type": "markdown",
      "source": [
        "❓ 어떤 암에 대해서, 초기 상태에서 발견될 경우 5년 후 생존율이 80%이다. 18명의 암 초기 환자가 있다고 할때, 5년 후 생존자를 조사하였다."
      ],
      "metadata": {
        "id": "z1tTThMvyFAj"
      }
    },
    {
      "cell_type": "code",
      "source": [
        "p = 0.8\n",
        "n = 18\n",
        "rv = binom(n,p)\n",
        "# (1) 14명의 환자가 살아있다.\n",
        "print(rv.cdf(14))\n",
        "\n",
        "# (2) 6명이 5년 이내 죽는다.\n",
        "print(binom.pmf(6, n, 1-p))\n",
        "\n",
        "# (3) 9명 이상, 13명 이하의 사람이 살아남았다.\n",
        "print(rv.cdf(13) - rv.cdf(8) )"
      ],
      "metadata": {
        "colab": {
          "base_uri": "https://localhost:8080/"
        },
        "id": "56hTcTFExhf0",
        "outputId": "39e86657-6ff0-43da-99d0-8b14a61aae2a"
      },
      "execution_count": null,
      "outputs": [
        {
          "output_type": "stream",
          "name": "stdout",
          "text": [
            "0.49897454145503223\n",
            "0.08164533543213465\n",
            "0.28273529191399416\n"
          ]
        }
      ]
    },
    {
      "cell_type": "markdown",
      "source": [
        "❓  유전법칙에 따르면 완두콩의 우성교배를 통한 자손은 네 가지 형태이고 각각의 비율이 둥글고 노 란 것, 쭈그러지고 노란 것. 둥글고 녹색인 것, 쭈그러지고 녹색인 것이 9 : 3 : 3 : 1이라고 한다. 확률변수 X를 130개의 우성교배 자손에서 둥글고 노란 것의 개수라고 할 때, X의 평균과 표준편차를 구하라."
      ],
      "metadata": {
        "id": "Z7kL6YPGzTCS"
      }
    },
    {
      "cell_type": "code",
      "source": [
        "total = 9 + 3 + 3 + 1\n",
        "round_yellow = 9\n",
        "\n",
        "p = round_yellow / total\n",
        "\n",
        "rv = binom(130, p)\n",
        "\n",
        "print(f\"평균 : {rv.mean()}\")\n",
        "print(f\"표준편차 : {rv.std()}\")"
      ],
      "metadata": {
        "colab": {
          "base_uri": "https://localhost:8080/"
        },
        "id": "sz28ImjpymyP",
        "outputId": "4a47b6dc-c3ac-4b35-ed3c-44457b68efce"
      },
      "execution_count": null,
      "outputs": [
        {
          "output_type": "stream",
          "name": "stdout",
          "text": [
            "평균 : 73.125\n",
            "표준편차 : 5.656163673374383\n"
          ]
        }
      ]
    },
    {
      "cell_type": "markdown",
      "source": [
        "❓ 길동이는 자신이 초능력을 가지고 있다고 주장하고 있다. 이 주장을 확인하기 위해 5가지의 다른 그림이 그려진 카드를 준비하고 길동이의 눈을 가리고 5장의 카드 중 하나를 선택한 다음 5가지의 카드 중 어느 카드가 선택되었는지에 대해 물어보는 작업을 16회 실시하였다. 사실은 길동이는 초능력이 없고, 임의로 대답하였다고 하자."
      ],
      "metadata": {
        "id": "2_mP0ZClz2r4"
      }
    },
    {
      "cell_type": "code",
      "source": [
        "n = 16\n",
        "p = 1/5\n",
        "\n",
        "rv = binom(n,p)\n",
        "\n",
        "#(1) 카드가 무엇인지 맞추는 횟수가 3회 이하일 확률은 얼마인가? P(X < 3)\n",
        "print(rv.cdf(3))\n",
        "\n",
        "#(2) 카드가 무엇인지를 못 맞추는 횟수가 10회 이상일 확률은 얼마인가? = 6번의 성공\n",
        "print(rv.pmf(6))"
      ],
      "metadata": {
        "colab": {
          "base_uri": "https://localhost:8080/"
        },
        "id": "IoVvwI4Azv7W",
        "outputId": "d14664d7-c0d4-48cb-85e8-721e6a74478d"
      },
      "execution_count": null,
      "outputs": [
        {
          "output_type": "stream",
          "name": "stdout",
          "text": [
            "0.5981343255101437\n",
            "0.05503055697018879\n"
          ]
        }
      ]
    },
    {
      "cell_type": "markdown",
      "source": [
        "📌 기하 분포\n",
        "  - 처음으로 성공하기까지 실패한 횟수를 나타내는 확률 분포\n",
        "\n",
        "✅ 기하 분포 검정 방법\n",
        "    \n",
        "    1) scipy.stat.chisquare() - 카이 제곱 적합도 검정\n",
        "       - 관측된 데이터와 기하분포의 기대값이 유사한지 검정\n",
        "\n",
        "    2) scipy.stat.kstest() - 전체 데이터가 기하분포의 누적분포(CDF)를 따르는지 확인\n",
        "    "
      ],
      "metadata": {
        "id": "Jqhlqdz90_5R"
      }
    },
    {
      "cell_type": "code",
      "source": [
        "import numpy as np\n",
        "from scipy.stats import geom, chisquare, kstest\n",
        "\n",
        "p = 0.3\n",
        "sample_size = 100\n",
        "sample_data = geom.rvs(p, size=sample_size)\n",
        "\n",
        "\n",
        "# 1) 카이제곱\n",
        "# 기대빈도 계산\n",
        "unique, counts = np.unique(sample_data, return_counts=True)\n",
        "\n",
        "expected_counts = geom.pmf(unique, p) * sample_size\n",
        "expected_counts *= sum(counts) / sum(expected_counts)\n",
        "\n",
        "# ✅ 카이제곱 검정 수행\n",
        "chi_stat, chi_p_value = chisquare(counts, f_exp=expected_counts)\n",
        "print(chi_p_value)\n",
        "\n",
        "\n",
        "# 2) ks test\n",
        "ks_stat, p_val = kstest(sample_data, geom.cdf, args = (p,))"
      ],
      "metadata": {
        "colab": {
          "base_uri": "https://localhost:8080/"
        },
        "id": "M9K35JZr1_HX",
        "outputId": "15bdc74e-3485-4d4a-9d80-a657e3b388dd"
      },
      "execution_count": null,
      "outputs": [
        {
          "output_type": "stream",
          "name": "stdout",
          "text": [
            "0.3869024815086478\n"
          ]
        }
      ]
    },
    {
      "cell_type": "markdown",
      "source": [
        "❓ 새로운 제품을 출시하고, 각 고객 방문시 제품 구매 확률이 0.1 일때,"
      ],
      "metadata": {
        "id": "D8oFZDXg1LMN"
      }
    },
    {
      "cell_type": "code",
      "source": [
        "rv = geom(0.1)\n",
        "# 1) 최소한명의 고객이 제품을 구매하기 까지 방문하는 고객수가 4명일 확률\n",
        "print(rv.pmf(4))\n",
        "\n",
        "# 2) 최소 한명의 고객이 제품을 구매하기 까지 방문하는 고객 수가 5명 이하일 확률\n",
        "print(rv.cdf(5))\n"
      ],
      "metadata": {
        "colab": {
          "base_uri": "https://localhost:8080/"
        },
        "id": "guxdOJCm0NTO",
        "outputId": "356519bf-ef6f-4b21-efa0-cb8cc073f5c9"
      },
      "execution_count": null,
      "outputs": [
        {
          "output_type": "stream",
          "name": "stdout",
          "text": [
            "0.0729\n",
            "0.40951000000000004\n"
          ]
        }
      ]
    },
    {
      "cell_type": "markdown",
      "source": [
        "❓ 어떤 제품이 불량일 확률이 5%이다. 이 제품을 무작위로 검사할 때, 처음으로 불량품이 나올 때까지 검사한 횟수가 기하분포를 따른다고 할 때, 3번째 검사에서 처음으로 불량이 나올 확률은?"
      ],
      "metadata": {
        "id": "CSlno6Jj3726"
      }
    },
    {
      "cell_type": "code",
      "source": [
        "rv = geom(0.05)\n",
        "print(rv.pmf(3))"
      ],
      "metadata": {
        "colab": {
          "base_uri": "https://localhost:8080/"
        },
        "id": "AoKgqcBB3d-7",
        "outputId": "1962ab36-b3c5-4c07-d252-6ffd839e0881"
      },
      "execution_count": null,
      "outputs": [
        {
          "output_type": "stream",
          "name": "stdout",
          "text": [
            "0.045125\n"
          ]
        }
      ]
    },
    {
      "cell_type": "markdown",
      "source": [
        "📌 초기하 분포\n",
        "    - 비복원 추출을 할때, 특정 성공 횟수의 확률을 계산\n",
        "\n",
        "    hypergeom.cdf(k, M, n, N)"
      ],
      "metadata": {
        "id": "ZkECmaKG5Dxg"
      }
    },
    {
      "cell_type": "code",
      "source": [
        "from scipy.stats import hypergeom\n",
        "# 감기  양성  음성\n",
        "# 남자   16    54\n",
        "# 여자   12    23\n",
        "\n",
        "# (1) 다섯명의 사람을 임의로 선택했을때, 감기에 양성인 사람이 1명일 확률\n",
        "total = 16 + 54 + 12 + 23\n",
        "positive = 16 + 12\n",
        "n = 5\n",
        "k = 1\n",
        "\n",
        "rv = hypergeom(total, positive, n)\n",
        "print(rv.pmf(k))\n",
        "\n",
        "# (2) 12명의 임의로 선택할때, 감기에 양성 반응인 사람이 6명 이상일 확률\n",
        "n = 12\n",
        "k = 6\n",
        "rv = hypergeom(total, positive, n)\n",
        "print(1- rv.cdf(k -1))\n",
        "\n",
        "# (3) 4명의 남자, 2명의 여자가 임의로 선택되었을때, 감기에 양성 반응이 없을 확률\n",
        "male_total = 16 + 54  #남자 전체\n",
        "postive_male = 16     #남자 양성 전체\n",
        "m = 4\n",
        "\n",
        "female_total = 12 + 23\n",
        "postive_female = 12\n",
        "f = 2\n",
        "\n",
        "m_rv = hypergeom(male_total, postive_male, m)\n",
        "p_male = m_rv.pmf(0)\n",
        "\n",
        "f_rv = hypergeom(female_total, postive_female, f)\n",
        "p_female = f_rv.pmf(0)\n",
        "\n",
        "male_female_negative = p_male * p_female\n",
        "print(male_female_negative)\n"
      ],
      "metadata": {
        "colab": {
          "base_uri": "https://localhost:8080/"
        },
        "id": "cVM9bREA4Cto",
        "outputId": "7fc11ef8-55c4-4dec-e28e-65404e76991c"
      },
      "execution_count": null,
      "outputs": [
        {
          "output_type": "stream",
          "name": "stdout",
          "text": [
            "0.392413489031546\n",
            "0.060189420295487905\n",
            "0.14666141083298995\n"
          ]
        }
      ]
    },
    {
      "cell_type": "markdown",
      "source": [
        "❓48대의 새 차 중 12대에 불량 오디오가 설치, 어느 영업소가 8대를 인수 했을때, 오디오가 불량인 차가 적어도 1대인 확률"
      ],
      "metadata": {
        "id": "FH0OISsh_TDm"
      }
    },
    {
      "cell_type": "code",
      "source": [
        "total = 48\n",
        "s = 12\n",
        "n = 8\n",
        "\n",
        "rv = hypergeom(total, s, n)\n",
        "# P(X >= 1)\n",
        "print(1 - rv.cdf(0))"
      ],
      "metadata": {
        "colab": {
          "base_uri": "https://localhost:8080/"
        },
        "id": "jzqCR-Gx9wbO",
        "outputId": "05f47c0d-50a1-4170-f871-c54d0d215122"
      },
      "execution_count": null,
      "outputs": [
        {
          "output_type": "stream",
          "name": "stdout",
          "text": [
            "0.9198080808981831\n"
          ]
        }
      ]
    },
    {
      "cell_type": "markdown",
      "source": [
        "❓어느 회사에서 사원을 8명 모집하기 위해 광고를 냈는데, 15명 남자, 8명 여자가 지원 임의로 8명을 선택한다면, 8명 중 여자가 3명 이상일 확률"
      ],
      "metadata": {
        "id": "uCHrUo_p_8u6"
      }
    },
    {
      "cell_type": "code",
      "source": [
        "total = 15 + 8\n",
        "S = 8   #여자 지원자 수\n",
        "n = 8   #선택된 사원수\n",
        "\n",
        "rv = hypergeom(total, S, n)\n",
        "\n",
        "# P(X ≥ 3) = 1 - P(X ≤ 2)\n",
        "print(1 - rv.cdf(2))"
      ],
      "metadata": {
        "colab": {
          "base_uri": "https://localhost:8080/"
        },
        "id": "92rk7q_A_2_Q",
        "outputId": "6c45e76c-3482-403a-b36d-4875876a101b"
      },
      "execution_count": null,
      "outputs": [
        {
          "output_type": "stream",
          "name": "stdout",
          "text": [
            "0.59606497061067\n"
          ]
        }
      ]
    },
    {
      "cell_type": "markdown",
      "source": [
        "어느 대학에서 전체 50명의 교수 중에서 5명을 뽑아 위원회를 구성한다. 통계학과에 6명의 교수가 있다고 하자."
      ],
      "metadata": {
        "id": "VLVpAjz-A04P"
      }
    },
    {
      "cell_type": "code",
      "source": [
        "total = 50\n",
        "S = 6 #통계학과 교수\n",
        "n = 5\n",
        "\n",
        "# 1) 통계학과 교수가 1명도 없을 경우\n",
        "rv = hypergeom(total, S, n)\n",
        "print(rv.pmf(0))\n",
        "\n",
        "# 2) 적어도 1명 이상의 통계학과 교수가 있을 확률\n",
        "print(1 - rv.cdf(0))"
      ],
      "metadata": {
        "colab": {
          "base_uri": "https://localhost:8080/"
        },
        "id": "VJledP6rAub5",
        "outputId": "16b3e74b-9bd0-4f15-bdba-66a1be7c26ac"
      },
      "execution_count": null,
      "outputs": [
        {
          "output_type": "stream",
          "name": "stdout",
          "text": [
            "0.5125677282939077\n",
            "0.48743227170609227\n"
          ]
        }
      ]
    },
    {
      "cell_type": "code",
      "source": [],
      "metadata": {
        "id": "CRxElxCBBEG0"
      },
      "execution_count": null,
      "outputs": []
    }
  ]
}
