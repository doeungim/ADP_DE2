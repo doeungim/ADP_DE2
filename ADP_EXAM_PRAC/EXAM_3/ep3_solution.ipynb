{
 "cells": [
  {
   "cell_type": "code",
   "execution_count": 1,
   "metadata": {},
   "outputs": [
    {
     "data": {
      "text/html": [
       "\n",
       "<style>\n",
       "/* JupyterLab 기준, InputPrompt/OutputPrompt 클래스 숨기기 */\n",
       ".lm-Widget.jp-InputPrompt.jp-InputArea-prompt,\n",
       ".lm-Widget.jp-OutputPrompt.jp-OutputArea-prompt {\n",
       "    display: none !important;\n",
       "}\n",
       "</style>\n"
      ],
      "text/plain": [
       "<IPython.core.display.HTML object>"
      ]
     },
     "metadata": {},
     "output_type": "display_data"
    }
   ],
   "source": [
    "from IPython.display import display, HTML\n",
    "hide_prompt_style = \"\"\"\n",
    "<style>\n",
    "/* JupyterLab 기준, InputPrompt/OutputPrompt 클래스 숨기기 */\n",
    ".lm-Widget.jp-InputPrompt.jp-InputArea-prompt,\n",
    ".lm-Widget.jp-OutputPrompt.jp-OutputArea-prompt {\n",
    "    display: none !important;\n",
    "}\n",
    "</style>\n",
    "\"\"\"\n",
    "\n",
    "display(HTML(hide_prompt_style))"
   ]
  },
  {
   "cell_type": "markdown",
   "metadata": {},
   "source": [
    "## 머신러닝1 \n",
    "- 한국에 위치한 A자동차 회사에서 해외로부터 부품을 수입해온다. 20년 1월부터 25년 3월까지의 수입이벤트가 발생한 순간의 데이터를 나타낸다.\n",
    "- m1.csv\n",
    "    - timestamp : 한국시각 \n",
    "    - country : 수입국가 (4개국, europe,india,japan,usa)\n",
    "    - part_cateogry: 부품 카테고리\n",
    "    - unit_price : 부품 가격 (수입국가의 화폐 단위에 맞춰짐)\n",
    "    - quantity : 부품수량\n",
    "    - part_ID : 부품 카테고리 세부 부품명\n",
    "    - 참고\n",
    "        - 같은 부품이라도 시간에 따라 가격이 달라질 수 있다.\n",
    "\n",
    "- m1_exchange.csv\n",
    "    - 20년 4월부터 25년 3월까지의 환율정보가 담겨있다. (각 국가의 기준단위에 대한 krw(원) 가격)\n",
    "    - type : 국가 정보 (jpy 1엔, usd 1달러, eur 1유로, inr 1루피)   "
   ]
  },
  {
   "cell_type": "code",
   "execution_count": 3,
   "metadata": {},
   "outputs": [],
   "source": [
    "import pandas as pd\n",
    "\n",
    "df =pd.read_csv('m1.csv')\n",
    "exc =pd.read_csv('m1_exchange.csv')"
   ]
  },
  {
   "cell_type": "markdown",
   "metadata": {},
   "source": [
    "머신러닝1     \n",
    "아래의 기준으로 전처리를 시행하라    \n",
    "1. 각 부품의 발주건에 대한 총수입금액 컬럼(total_price)을 만들고 계산하려한다..   \n",
    "    a. 국가별 관세 비율은 다음과 같다. 미국(25%), 인도(5%), 유럽(10%), 일본(3%)     \n",
    "    b. 일자별 환율은 공휴일 및 주말은 발표되지 않는다.     \n",
    "    c. 공휴일 및 주말에 구매한 건(환율 데이터에 날짜가 없는 경우)에 대한 환율 계산은 13:00 이전에는 전날의 환율을, 13:00 이후에는 다음날의 환율을 적용한다.    \n",
    "       (연속으로 쉬는 경우에도 그 다음 영업일의 환율을 반영)      \n",
    "    d. A자동차사의 각 부품에 대한 총 수입금액은 unit_price * quantity * (1+ 관세/100) * 일자별 환율과 같다.   "
   ]
  },
  {
   "cell_type": "code",
   "execution_count": 9,
   "metadata": {},
   "outputs": [
    {
     "data": {
      "text/html": [
       "<div>\n",
       "<style scoped>\n",
       "    .dataframe tbody tr th:only-of-type {\n",
       "        vertical-align: middle;\n",
       "    }\n",
       "\n",
       "    .dataframe tbody tr th {\n",
       "        vertical-align: top;\n",
       "    }\n",
       "\n",
       "    .dataframe thead th {\n",
       "        text-align: right;\n",
       "    }\n",
       "</style>\n",
       "<table border=\"1\" class=\"dataframe\">\n",
       "  <thead>\n",
       "    <tr style=\"text-align: right;\">\n",
       "      <th></th>\n",
       "      <th>timestamp</th>\n",
       "      <th>country</th>\n",
       "      <th>part_category</th>\n",
       "      <th>unit_price</th>\n",
       "      <th>quantity</th>\n",
       "      <th>part_ID</th>\n",
       "    </tr>\n",
       "  </thead>\n",
       "  <tbody>\n",
       "    <tr>\n",
       "      <th>12623</th>\n",
       "      <td>2022-08-23 11:23:00</td>\n",
       "      <td>India</td>\n",
       "      <td>Brake</td>\n",
       "      <td>9941.57</td>\n",
       "      <td>32</td>\n",
       "      <td>IDS_1969</td>\n",
       "    </tr>\n",
       "    <tr>\n",
       "      <th>21353</th>\n",
       "      <td>2024-09-30 02:33:00</td>\n",
       "      <td>Japan</td>\n",
       "      <td>Brake</td>\n",
       "      <td>28559.33</td>\n",
       "      <td>22</td>\n",
       "      <td>IDS_4124</td>\n",
       "    </tr>\n",
       "  </tbody>\n",
       "</table>\n",
       "</div>"
      ],
      "text/plain": [
       "                 timestamp country part_category  unit_price  quantity  \\\n",
       "12623  2022-08-23 11:23:00   India         Brake     9941.57        32   \n",
       "21353  2024-09-30 02:33:00   Japan         Brake    28559.33        22   \n",
       "\n",
       "        part_ID  \n",
       "12623  IDS_1969  \n",
       "21353  IDS_4124  "
      ]
     },
     "metadata": {},
     "output_type": "display_data"
    },
    {
     "data": {
      "text/html": [
       "<div>\n",
       "<style scoped>\n",
       "    .dataframe tbody tr th:only-of-type {\n",
       "        vertical-align: middle;\n",
       "    }\n",
       "\n",
       "    .dataframe tbody tr th {\n",
       "        vertical-align: top;\n",
       "    }\n",
       "\n",
       "    .dataframe thead th {\n",
       "        text-align: right;\n",
       "    }\n",
       "</style>\n",
       "<table border=\"1\" class=\"dataframe\">\n",
       "  <thead>\n",
       "    <tr style=\"text-align: right;\">\n",
       "      <th></th>\n",
       "      <th>일자</th>\n",
       "      <th>기준환율</th>\n",
       "      <th>type</th>\n",
       "    </tr>\n",
       "  </thead>\n",
       "  <tbody>\n",
       "    <tr>\n",
       "      <th>274</th>\n",
       "      <td>2024.02.27</td>\n",
       "      <td>1331.40</td>\n",
       "      <td>usd-krw</td>\n",
       "    </tr>\n",
       "    <tr>\n",
       "      <th>4832</th>\n",
       "      <td>2020.09.10</td>\n",
       "      <td>16.23</td>\n",
       "      <td>inr-krw</td>\n",
       "    </tr>\n",
       "  </tbody>\n",
       "</table>\n",
       "</div>"
      ],
      "text/plain": [
       "              일자     기준환율     type\n",
       "274   2024.02.27  1331.40  usd-krw\n",
       "4832  2020.09.10    16.23  inr-krw"
      ]
     },
     "metadata": {},
     "output_type": "display_data"
    }
   ],
   "source": [
    "display(df.sample(2))\n",
    "display(exc.sample(2))"
   ]
  },
  {
   "cell_type": "code",
   "execution_count": 13,
   "metadata": {},
   "outputs": [],
   "source": [
    "exc['일자'] = pd.to_datetime(exc['일자']) # 2020년 3월부터 존재하기 때문"
   ]
  },
  {
   "cell_type": "code",
   "execution_count": 18,
   "metadata": {},
   "outputs": [],
   "source": [
    "# 1. 두가지 컬럼 생성 -> 휴일여부(= 환율일자가 존재하지 않는 구매날짜들), 13:00기준 이전,이후 구매여부\n",
    "# 2. apply 이용해서 조건마다 해당하는 계산을 진행\n",
    "\n",
    "df['date'] = pd.to_datetime(df['timestamp']).dt.date # object 형식으로 저장이 된다.\n",
    "df['date'] = pd.to_datetime(pd.to_datetime(df['timestamp']).dt.date) # datetime64 형식으로 저장이 된다.\n",
    "df['date'] = pd.to_datetime(df['timestamp'].str.split(' ').str[0]) # datetime64 형식으로 저장이 된다."
   ]
  },
  {
   "cell_type": "code",
   "execution_count": 65,
   "metadata": {},
   "outputs": [],
   "source": [
    "# 환율의 값이 존재하는 최소값 이상의 일자 데이터만 필터하고 시작\n",
    "df_filter = df[df['date'] >= exc['일자'].min()].reset_index(drop=True).copy()"
   ]
  },
  {
   "cell_type": "code",
   "execution_count": 131,
   "metadata": {
    "scrolled": true
   },
   "outputs": [],
   "source": [
    "# 휴일여부\n",
    "df_filter['is_holiday'] = df_filter['date'].map(lambda x : 0 if x in exc['일자'].values else 1)\n",
    "df_filter['is_holiday'].value_counts()\n",
    "\n",
    "# 시간을 추출하는 2가지방법\n",
    "# pd.to_datetime(df_filter['timestamp']).dt.hour\n",
    "# df_filter['timestamp'].str.split(' ').str[1].str.split(':').str[0].astype('int')\n",
    "\n",
    "# 13:00 이전,이후 구분\n",
    "df_filter['is_over_time'] = pd.to_datetime(df_filter['timestamp']).dt.hour.map(lambda x : 1 if x>=13 else 0 )\n",
    "\n",
    "\n",
    "# apply 이용해서 조건마다 해당하는 계산을 진행\n",
    "# df_filter['date'].dt.weekday.value_counts().sort_index() # 0: 월요일, 6 : 토요일\n",
    "# 잘 정의된 def 만들고 파라미터로 country, date, is_holiday, is_over_time\n",
    "\n",
    "def check_change_day(x):\n",
    "    \n",
    "    # axis=1 옵션을 apply에 적용하면 행 별로 사용할 수 있다.\n",
    "    country = x['country'] # x.values[0]\n",
    "    date    = x['date'] # type\n",
    "    is_holiday = x['is_holiday']\n",
    "    is_over_time= x['is_over_time']\n",
    "\n",
    "    country_mapper = {\n",
    "        'Japan' : 'jpy-krw',\n",
    "        'India' : 'inr-krw',\n",
    "        'Europe': 'eur-krw',\n",
    "        'USA'   : 'usd-krw'\n",
    "    }\n",
    "\n",
    "    target_chage = country_mapper[country]\n",
    "    exchage_value = ''\n",
    "    \n",
    "    if is_holiday == 0:\n",
    "        exchage_value = exc[(exc['type'] ==target_chage) & (exc['일자'] == date)]['기준환율'].values\n",
    "        \n",
    "    else:\n",
    "        if is_over_time ==1:\n",
    "            # 최초의 date는 exc['일자'] 존재하지 않음\n",
    "            # +1 day를 반복적으로 하면서 exc['일자'] 존재하는 순간 멈춘다.\n",
    "\n",
    "            for day in range(1,7):\n",
    "                target_day = date + pd.Timedelta(days=day)\n",
    "                if target_day in exc['일자'].values:\n",
    "                    exchage_value = exc[(exc['type'] ==target_chage) & (exc['일자'] == target_day)]['기준환율'].values\n",
    "                    break\n",
    "\n",
    "        else:\n",
    "            for day in range(1,7):\n",
    "                target_day = date - pd.Timedelta(days=day)\n",
    "                if target_day in exc['일자'].values:\n",
    "                    exchage_value = exc[(exc['type'] ==target_chage) & (exc['일자'] == target_day)]['기준환율'].values\n",
    "                    break\n",
    "\n",
    "    # 그날 곱해야하는 환율 금액\n",
    "    return exchage_value[0]\n",
    "\n",
    "\n",
    "\n",
    "df_filter['exv'] = df_filter[['country', 'date', 'is_holiday', 'is_over_time']].apply(check_change_day,axis=1)"
   ]
  },
  {
   "cell_type": "code",
   "execution_count": 134,
   "metadata": {},
   "outputs": [
    {
     "data": {
      "text/plain": [
       "array(['Japan', 'India', 'Europe', 'USA'], dtype=object)"
      ]
     },
     "execution_count": 134,
     "metadata": {},
     "output_type": "execute_result"
    }
   ],
   "source": [
    "df_filter['country'].unique()"
   ]
  },
  {
   "cell_type": "code",
   "execution_count": 135,
   "metadata": {},
   "outputs": [],
   "source": [
    "# 최종 값 추출\n",
    "# A자동차사의 각 부품에 대한 총 수입금액은 unit_price * quantity * (1+ 관세/100) * 일자별 환율과 같다.\n",
    "#  미국(25%), 인도(5%), 유럽(10%), 일본(3%)\n",
    "def cal_price(x):\n",
    "    c = x['country']\n",
    "    up = x['unit_price']\n",
    "    q = x['quantity']\n",
    "    ex = x['exv']\n",
    "\n",
    "    c_ratio ={\n",
    "        'Japan':3,\n",
    "        'India':5,\n",
    "        'Europe':10,\n",
    "        'USA': 25\n",
    "    }\n",
    "    return up * q * (1 + c_ratio[c] /100) * ex\n",
    "\n",
    "df_filter['total_price'] =  df_filter[['country','unit_price','quantity','exv']].apply(cal_price,axis=1)"
   ]
  },
  {
   "cell_type": "code",
   "execution_count": 150,
   "metadata": {},
   "outputs": [
    {
     "data": {
      "text/plain": [
       "0    18.0\n",
       "1     6.0\n",
       "2     2.0\n",
       "3     7.0\n",
       "4     3.0\n",
       "Name: total_price_, dtype: float64"
      ]
     },
     "execution_count": 150,
     "metadata": {},
     "output_type": "execute_result"
    }
   ],
   "source": [
    "df_filter['total_price_'] = df_filter['total_price'] // 1000000 # 백만원 단위로 출력\n",
    "df_filter['total_price_'].head()"
   ]
  },
  {
   "cell_type": "code",
   "execution_count": null,
   "metadata": {},
   "outputs": [],
   "source": [
    "# 다른분 풀이\n",
    "'''\n",
    "저는 환율 데이터를 날짜를 date_range로 모두 채워 넣고,     \n",
    "결측치를 13시이전, bfill, 13시 이후 ffill 로 결측치 처리하고 (4개 국가 별로)    \n",
    "총 8개 데이터 만들어서 합친 다음 df와 merge 했습니다. 이 방법은 안되나요?\n",
    "'''"
   ]
  },
  {
   "cell_type": "code",
   "execution_count": 172,
   "metadata": {},
   "outputs": [
    {
     "data": {
      "text/html": [
       "<div>\n",
       "<style scoped>\n",
       "    .dataframe tbody tr th:only-of-type {\n",
       "        vertical-align: middle;\n",
       "    }\n",
       "\n",
       "    .dataframe tbody tr th {\n",
       "        vertical-align: top;\n",
       "    }\n",
       "\n",
       "    .dataframe thead th {\n",
       "        text-align: right;\n",
       "    }\n",
       "</style>\n",
       "<table border=\"1\" class=\"dataframe\">\n",
       "  <thead>\n",
       "    <tr style=\"text-align: right;\">\n",
       "      <th></th>\n",
       "      <th>timestamp</th>\n",
       "      <th>total_price</th>\n",
       "      <th>is_holiday</th>\n",
       "      <th>is_over_time</th>\n",
       "    </tr>\n",
       "  </thead>\n",
       "  <tbody>\n",
       "    <tr>\n",
       "      <th>20527</th>\n",
       "      <td>2025-01-04 06:14:00</td>\n",
       "      <td>8522815</td>\n",
       "      <td>1</td>\n",
       "      <td>0</td>\n",
       "    </tr>\n",
       "    <tr>\n",
       "      <th>17128</th>\n",
       "      <td>2024-02-10 19:26:00</td>\n",
       "      <td>3327586</td>\n",
       "      <td>1</td>\n",
       "      <td>1</td>\n",
       "    </tr>\n",
       "  </tbody>\n",
       "</table>\n",
       "</div>"
      ],
      "text/plain": [
       "                 timestamp  total_price  is_holiday  is_over_time\n",
       "20527  2025-01-04 06:14:00      8522815           1             0\n",
       "17128  2024-02-10 19:26:00      3327586           1             1"
      ]
     },
     "execution_count": 172,
     "metadata": {},
     "output_type": "execute_result"
    }
   ],
   "source": [
    "w = df_filter[(df_filter.is_holiday ==1 )][['timestamp','total_price','is_holiday','is_over_time']]\n",
    "w['total_price'] = w['total_price'].astype('int')\n",
    "w.sample(2)"
   ]
  },
  {
   "cell_type": "markdown",
   "metadata": {},
   "source": [
    "머신러닝2    \n",
    "EDA를 시행하라. 시각화 포함"
   ]
  },
  {
   "cell_type": "code",
   "execution_count": 184,
   "metadata": {},
   "outputs": [
    {
     "data": {
      "text/plain": [
       "<Axes: xlabel='date'>"
      ]
     },
     "execution_count": 184,
     "metadata": {},
     "output_type": "execute_result"
    },
    {
     "data": {
      "image/png": "[encoded data removed]",
      "text/plain": [
       "<Figure size 640x480 with 1 Axes>"
      ]
     },
     "metadata": {},
     "output_type": "display_data"
    }
   ],
   "source": [
    "# 국가별 월별 수입금액\n",
    "\n",
    "import matplotlib.pyplot as plt\n",
    "import seaborn as sns\n",
    "\n",
    "gg = df_filter.groupby([df_filter['date'].dt.strftime('%Y-%m'),'country'])['total_price_'].mean()\n",
    "# gg.unstack() # groupy된 데이터프레임을 pivot / \n",
    "gg.unstack().plot()"
   ]
  },
  {
   "cell_type": "code",
   "execution_count": 186,
   "metadata": {},
   "outputs": [
    {
     "data": {
      "text/plain": [
       "<Axes: xlabel='date'>"
      ]
     },
     "execution_count": 186,
     "metadata": {},
     "output_type": "execute_result"
    },
    {
     "data": {
      "image/png": "[encoded data removed]",
      "text/plain": [
       "<Figure size 640x480 with 1 Axes>"
      ]
     },
     "metadata": {},
     "output_type": "display_data"
    }
   ],
   "source": [
    "year_group = df_filter.groupby([df_filter['date'].dt.year,'country'])['total_price_'].mean()\n",
    "# gg.unstack() # groupy된 데이터프레임을 pivot / \n",
    "year_group.unstack().plot(kind='bar')\n",
    "\n",
    "# usa는 수입금액 증가 / japan 줄어듦"
   ]
  },
  {
   "cell_type": "markdown",
   "metadata": {},
   "source": [
    "머신러닝3    \n",
    "일자별 3국(미국,유럽,인도)수입컬럼 금액 및 파생변수를 통해 일본에서 수입한 금액을 예측하는 모델링을 진행하려한다.       \n",
    "아래 기준으로 데이터를 분할하고 모델링을 진행하라.    \n",
    "\n",
    "1. 데이터 전처리\n",
    "    (파생변수생성)\n",
    "    - 일자별 발주건들에 대해 국가별 주문수, 카테고리별 종류 수, 카테고리별 제품 수\n",
    "    - 종속변수 : 일본의 수입금액 (독립변수가 존재하지 않는 일자는 제거)\n",
    "    - 시간 관련 파생변수 4개\n",
    "2. 모델링\n",
    "    - 3가지 회귀모델\n",
    "    - 평가지표 rmse\n",
    "3. 데이터 분할\n",
    "    - 일자 기준으로 정렬 후 행의 index기준으로(0부터시작) 3의 배수이거나 4의 배수이거나 5의 배수라면 train 그 외의 경우 test로 진행"
   ]
  },
  {
   "cell_type": "code",
   "execution_count": null,
   "metadata": {},
   "outputs": [],
   "source": [
    "# 컬럼 (일자, 발주건들에 대해 국가별 주문수, 카테고리별 종류 수, 카테고리별 제품 수)"
   ]
  },
  {
   "cell_type": "code",
   "execution_count": 215,
   "metadata": {},
   "outputs": [],
   "source": [
    "remove_jp = df_filter[df_filter.country != 'Japan'].reset_index(drop=True)\n",
    "df1 = remove_jp.groupby(['date','country']).size().unstack().fillna(0).astype('int') # 일자,국가별 발주 횟수\n",
    "df2 = remove_jp.groupby(['date','part_category']).size().unstack().fillna(0).astype('int')\n",
    "df3 = remove_jp.groupby(['date','part_category'])['quantity'].sum().unstack().fillna(0).astype('int')\n",
    "\n",
    "t = pd.concat([df1,df2,df3],axis=1)"
   ]
  },
  {
   "cell_type": "code",
   "execution_count": 243,
   "metadata": {},
   "outputs": [],
   "source": [
    "y = df_filter[df_filter.country == 'Japan'][['date','total_price']].groupby(['date'])['total_price'].sum()\n",
    "tt = pd.concat([t,y],axis=1).dropna().reset_index() # 결측치제거\n",
    "tt['month'] = tt['date'].dt.month\n",
    "tt['year'] = tt['date'].dt.year\n",
    "tt['day'] = tt['date'].dt.day\n",
    "tt['quarter'] = tt['date'].dt.quarter\n",
    "\n",
    "train = tt.iloc[[x for x in tt.index if (x % 3 ==0) or (x % 4 ==0) or( x % 5 ==0)]]\n",
    "test = tt[~tt.index.isin(train.index)]"
   ]
  },
  {
   "cell_type": "code",
   "execution_count": 244,
   "metadata": {},
   "outputs": [
    {
     "data": {
      "text/plain": [
       "((792, 19), (527, 19))"
      ]
     },
     "execution_count": 244,
     "metadata": {},
     "output_type": "execute_result"
    }
   ],
   "source": [
    "train.shape , test.shape"
   ]
  },
  {
   "cell_type": "markdown",
   "metadata": {},
   "source": [
    "질문      \n",
    "EDA는 본인이 중요하다고 생각하는 주제를 잡아서 풀면 되나요?      \n",
    "아니면 출제자가 수험자에게 바라는 분석 그래프가 따로 있을까요?(점수 가감점 등)"
   ]
  },
  {
   "cell_type": "markdown",
   "metadata": {},
   "source": [
    "## 통계1\n",
    "- 주택 가격 데이터이다. (종속변수 price)\n",
    "- 3차 다항회귀 모델을 학습하고 평가하라.\n",
    "- 독립변수간의 상호작용 항만을 고려한 경우와 그렇지 않은 경우의 r2값을 포함한 모델 결과 해석을 진행하라."
   ]
  },
  {
   "cell_type": "code",
   "execution_count": 245,
   "metadata": {},
   "outputs": [
    {
     "data": {
      "text/html": [
       "<div>\n",
       "<style scoped>\n",
       "    .dataframe tbody tr th:only-of-type {\n",
       "        vertical-align: middle;\n",
       "    }\n",
       "\n",
       "    .dataframe tbody tr th {\n",
       "        vertical-align: top;\n",
       "    }\n",
       "\n",
       "    .dataframe thead th {\n",
       "        text-align: right;\n",
       "    }\n",
       "</style>\n",
       "<table border=\"1\" class=\"dataframe\">\n",
       "  <thead>\n",
       "    <tr style=\"text-align: right;\">\n",
       "      <th></th>\n",
       "      <th>Size</th>\n",
       "      <th>Rooms</th>\n",
       "      <th>Year_Built</th>\n",
       "      <th>Distance_to_Park</th>\n",
       "      <th>Price</th>\n",
       "    </tr>\n",
       "  </thead>\n",
       "  <tbody>\n",
       "    <tr>\n",
       "      <th>0</th>\n",
       "      <td>87.454012</td>\n",
       "      <td>5</td>\n",
       "      <td>2004.5</td>\n",
       "      <td>2.13</td>\n",
       "      <td>1158.64</td>\n",
       "    </tr>\n",
       "    <tr>\n",
       "      <th>1</th>\n",
       "      <td>145.071431</td>\n",
       "      <td>4</td>\n",
       "      <td>1982.7</td>\n",
       "      <td>4.33</td>\n",
       "      <td>1084.19</td>\n",
       "    </tr>\n",
       "    <tr>\n",
       "      <th>2</th>\n",
       "      <td>123.199394</td>\n",
       "      <td>3</td>\n",
       "      <td>1981.6</td>\n",
       "      <td>4.62</td>\n",
       "      <td>943.60</td>\n",
       "    </tr>\n",
       "    <tr>\n",
       "      <th>3</th>\n",
       "      <td>109.865848</td>\n",
       "      <td>4</td>\n",
       "      <td>1985.8</td>\n",
       "      <td>2.38</td>\n",
       "      <td>1185.59</td>\n",
       "    </tr>\n",
       "    <tr>\n",
       "      <th>4</th>\n",
       "      <td>65.601864</td>\n",
       "      <td>5</td>\n",
       "      <td>1980.6</td>\n",
       "      <td>2.46</td>\n",
       "      <td>1061.23</td>\n",
       "    </tr>\n",
       "  </tbody>\n",
       "</table>\n",
       "</div>"
      ],
      "text/plain": [
       "         Size  Rooms  Year_Built  Distance_to_Park    Price\n",
       "0   87.454012      5      2004.5              2.13  1158.64\n",
       "1  145.071431      4      1982.7              4.33  1084.19\n",
       "2  123.199394      3      1981.6              4.62   943.60\n",
       "3  109.865848      4      1985.8              2.38  1185.59\n",
       "4   65.601864      5      1980.6              2.46  1061.23"
      ]
     },
     "execution_count": 245,
     "metadata": {},
     "output_type": "execute_result"
    }
   ],
   "source": [
    "df =pd.read_csv('./s1.csv')\n",
    "df.head()"
   ]
  },
  {
   "cell_type": "code",
   "execution_count": 253,
   "metadata": {},
   "outputs": [
    {
     "data": {
      "text/plain": [
       "(300, 35)"
      ]
     },
     "execution_count": 253,
     "metadata": {},
     "output_type": "execute_result"
    }
   ],
   "source": [
    "from sklearn.preprocessing import PolynomialFeatures\n",
    "from sklearn.linear_model import LinearRegression\n",
    "from sklearn.metrics import r2_score\n",
    "\n",
    "x = df.drop(columns =['Price'])\n",
    "y = df['Price']\n",
    "\n",
    "poly = PolynomialFeatures(degree=3,) # 몇차항으로 만들건지에 대한 옵션\n",
    "x_poly = poly.fit_transform(x)\n",
    "\n",
    "model = LinearRegression()\n",
    "model.fit(x_poly,y)\n",
    "\n",
    "# predict = ~~~"
   ]
  },
  {
   "cell_type": "code",
   "execution_count": 252,
   "metadata": {},
   "outputs": [
    {
     "data": {
      "text/plain": [
       "array(['1', 'Size', 'Rooms', 'Year_Built', 'Distance_to_Park', 'Size^2',\n",
       "       'Size Rooms', 'Size Year_Built', 'Size Distance_to_Park',\n",
       "       'Rooms^2', 'Rooms Year_Built', 'Rooms Distance_to_Park',\n",
       "       'Year_Built^2', 'Year_Built Distance_to_Park',\n",
       "       'Distance_to_Park^2', 'Size^3', 'Size^2 Rooms',\n",
       "       'Size^2 Year_Built', 'Size^2 Distance_to_Park', 'Size Rooms^2',\n",
       "       'Size Rooms Year_Built', 'Size Rooms Distance_to_Park',\n",
       "       'Size Year_Built^2', 'Size Year_Built Distance_to_Park',\n",
       "       'Size Distance_to_Park^2', 'Rooms^3', 'Rooms^2 Year_Built',\n",
       "       'Rooms^2 Distance_to_Park', 'Rooms Year_Built^2',\n",
       "       'Rooms Year_Built Distance_to_Park', 'Rooms Distance_to_Park^2',\n",
       "       'Year_Built^3', 'Year_Built^2 Distance_to_Park',\n",
       "       'Year_Built Distance_to_Park^2', 'Distance_to_Park^3'],\n",
       "      dtype=object)"
      ]
     },
     "execution_count": 252,
     "metadata": {},
     "output_type": "execute_result"
    }
   ],
   "source": [
    "poly.get_feature_names_out()"
   ]
  },
  {
   "cell_type": "code",
   "execution_count": 255,
   "metadata": {},
   "outputs": [],
   "source": [
    "poly = PolynomialFeatures(degree=3,interaction_only=True) # 몇차항으로 만들건지에 대한 옵션\n",
    "x_poly = poly.fit_transform(x)"
   ]
  },
  {
   "cell_type": "code",
   "execution_count": 256,
   "metadata": {},
   "outputs": [
    {
     "data": {
      "text/plain": [
       "array(['1', 'Size', 'Rooms', 'Year_Built', 'Distance_to_Park',\n",
       "       'Size Rooms', 'Size Year_Built', 'Size Distance_to_Park',\n",
       "       'Rooms Year_Built', 'Rooms Distance_to_Park',\n",
       "       'Year_Built Distance_to_Park', 'Size Rooms Year_Built',\n",
       "       'Size Rooms Distance_to_Park', 'Size Year_Built Distance_to_Park',\n",
       "       'Rooms Year_Built Distance_to_Park'], dtype=object)"
      ]
     },
     "execution_count": 256,
     "metadata": {},
     "output_type": "execute_result"
    }
   ],
   "source": [
    "poly.get_feature_names_out()"
   ]
  }
 ],
 "metadata": {
  "kernelspec": {
   "display_name": "Python 3 (ipykernel)",
   "language": "python",
   "name": "python3"
  },
  "language_info": {
   "codemirror_mode": {
    "name": "ipython",
    "version": 3
   },
   "file_extension": ".py",
   "mimetype": "text/x-python",
   "name": "python",
   "nbconvert_exporter": "python",
   "pygments_lexer": "ipython3",
   "version": "3.9.6"
  }
 },
 "nbformat": 4,
 "nbformat_minor": 4
}
