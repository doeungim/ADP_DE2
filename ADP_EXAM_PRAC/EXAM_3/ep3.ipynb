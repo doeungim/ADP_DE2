{
 "cells": [
  {
   "cell_type": "markdown",
   "metadata": {},
   "source": [
    "## 머신러닝1 \n",
    "- 한국에 위치한 A자동차 회사에서 해외로 부터 부품을 수입해온다.\n",
    "- 20년 1월부터 25년 3월까지의 수입이벤트가 발생한 순간의 데이터를 나타낸다.\n",
    "- m1.csv\n",
    "    - country : 수입국가 (4개국, europe,india,japan,usa)\n",
    "    - part_cateogry: 부품 카테고리\n",
    "    - unit_price : 부품 가격 (수입국가의 화폐 단위에 맞춰짐)\n",
    "    - quantity : 부품수량\n",
    "    - 참고\n",
    "        - 같은 부품이라도 시간에 따라 가격이 달라질 수 있다.\n",
    "\n",
    "- m1_exchange.csv\n",
    "    - 20년 1월부터 25년 3월까지의 환율정보가 담겨있다. (각국가의 기준단위에 대한 krw(원) 가격)\n",
    "    - type : 국가 정보 (jpy 1엔, usd 1달러, eur 1유로, inr 1루피)   "
   ]
  },
  {
   "cell_type": "code",
   "execution_count": 35,
   "metadata": {},
   "outputs": [],
   "source": [
    "import pandas as pd\n",
    "\n",
    "df =pd.read_csv('m1.csv')\n",
    "exc =pd.read_csv('m1_exchange.csv')"
   ]
  },
  {
   "cell_type": "code",
   "execution_count": 42,
   "metadata": {},
   "outputs": [
    {
     "data": {
      "text/html": [
       "<div>\n",
       "<style scoped>\n",
       "    .dataframe tbody tr th:only-of-type {\n",
       "        vertical-align: middle;\n",
       "    }\n",
       "\n",
       "    .dataframe tbody tr th {\n",
       "        vertical-align: top;\n",
       "    }\n",
       "\n",
       "    .dataframe thead th {\n",
       "        text-align: right;\n",
       "    }\n",
       "</style>\n",
       "<table border=\"1\" class=\"dataframe\">\n",
       "  <thead>\n",
       "    <tr style=\"text-align: right;\">\n",
       "      <th></th>\n",
       "      <th>timestamp</th>\n",
       "      <th>country</th>\n",
       "      <th>part_category</th>\n",
       "      <th>unit_price</th>\n",
       "      <th>quantity</th>\n",
       "      <th>part_ID</th>\n",
       "    </tr>\n",
       "  </thead>\n",
       "  <tbody>\n",
       "    <tr>\n",
       "      <th>12513</th>\n",
       "      <td>2022-08-11 03:05:00</td>\n",
       "      <td>USA</td>\n",
       "      <td>Engine</td>\n",
       "      <td>614.11</td>\n",
       "      <td>6</td>\n",
       "      <td>IDS_5945</td>\n",
       "    </tr>\n",
       "    <tr>\n",
       "      <th>9552</th>\n",
       "      <td>2022-01-15 14:08:00</td>\n",
       "      <td>USA</td>\n",
       "      <td>Brake</td>\n",
       "      <td>420.95</td>\n",
       "      <td>31</td>\n",
       "      <td>IDS_4803</td>\n",
       "    </tr>\n",
       "    <tr>\n",
       "      <th>11674</th>\n",
       "      <td>2022-06-16 05:47:00</td>\n",
       "      <td>USA</td>\n",
       "      <td>Engine</td>\n",
       "      <td>622.20</td>\n",
       "      <td>1</td>\n",
       "      <td>IDS_5945</td>\n",
       "    </tr>\n",
       "    <tr>\n",
       "      <th>8901</th>\n",
       "      <td>2022-01-01 00:08:00</td>\n",
       "      <td>Japan</td>\n",
       "      <td>Interior</td>\n",
       "      <td>30589.31</td>\n",
       "      <td>17</td>\n",
       "      <td>IDS_5703</td>\n",
       "    </tr>\n",
       "    <tr>\n",
       "      <th>16048</th>\n",
       "      <td>2023-06-26 13:52:00</td>\n",
       "      <td>India</td>\n",
       "      <td>Interior</td>\n",
       "      <td>7233.62</td>\n",
       "      <td>150</td>\n",
       "      <td>IDS_8772</td>\n",
       "    </tr>\n",
       "  </tbody>\n",
       "</table>\n",
       "</div>"
      ],
      "text/plain": [
       "                 timestamp country part_category  unit_price  quantity  \\\n",
       "12513  2022-08-11 03:05:00     USA        Engine      614.11         6   \n",
       "9552   2022-01-15 14:08:00     USA         Brake      420.95        31   \n",
       "11674  2022-06-16 05:47:00     USA        Engine      622.20         1   \n",
       "8901   2022-01-01 00:08:00   Japan      Interior    30589.31        17   \n",
       "16048  2023-06-26 13:52:00   India      Interior     7233.62       150   \n",
       "\n",
       "        part_ID  \n",
       "12513  IDS_5945  \n",
       "9552   IDS_4803  \n",
       "11674  IDS_5945  \n",
       "8901   IDS_5703  \n",
       "16048  IDS_8772  "
      ]
     },
     "execution_count": 42,
     "metadata": {},
     "output_type": "execute_result"
    }
   ],
   "source": [
    "df.sample(5)"
   ]
  },
  {
   "cell_type": "code",
   "execution_count": 40,
   "metadata": {},
   "outputs": [
    {
     "data": {
      "text/html": [
       "<div>\n",
       "<style scoped>\n",
       "    .dataframe tbody tr th:only-of-type {\n",
       "        vertical-align: middle;\n",
       "    }\n",
       "\n",
       "    .dataframe tbody tr th {\n",
       "        vertical-align: top;\n",
       "    }\n",
       "\n",
       "    .dataframe thead th {\n",
       "        text-align: right;\n",
       "    }\n",
       "</style>\n",
       "<table border=\"1\" class=\"dataframe\">\n",
       "  <thead>\n",
       "    <tr style=\"text-align: right;\">\n",
       "      <th></th>\n",
       "      <th>일자</th>\n",
       "      <th>기준환율</th>\n",
       "      <th>type</th>\n",
       "    </tr>\n",
       "  </thead>\n",
       "  <tbody>\n",
       "    <tr>\n",
       "      <th>3155</th>\n",
       "      <td>2022.06.28</td>\n",
       "      <td>1360.04</td>\n",
       "      <td>eur-krw</td>\n",
       "    </tr>\n",
       "    <tr>\n",
       "      <th>4867</th>\n",
       "      <td>2020.07.22</td>\n",
       "      <td>16.07</td>\n",
       "      <td>inr-krw</td>\n",
       "    </tr>\n",
       "    <tr>\n",
       "      <th>81</th>\n",
       "      <td>2024.12.11</td>\n",
       "      <td>1428.10</td>\n",
       "      <td>usd-krw</td>\n",
       "    </tr>\n",
       "    <tr>\n",
       "      <th>4452</th>\n",
       "      <td>2022.03.28</td>\n",
       "      <td>15.97</td>\n",
       "      <td>inr-krw</td>\n",
       "    </tr>\n",
       "    <tr>\n",
       "      <th>383</th>\n",
       "      <td>2023.09.14</td>\n",
       "      <td>1327.80</td>\n",
       "      <td>usd-krw</td>\n",
       "    </tr>\n",
       "  </tbody>\n",
       "</table>\n",
       "</div>"
      ],
      "text/plain": [
       "              일자     기준환율     type\n",
       "3155  2022.06.28  1360.04  eur-krw\n",
       "4867  2020.07.22    16.07  inr-krw\n",
       "81    2024.12.11  1428.10  usd-krw\n",
       "4452  2022.03.28    15.97  inr-krw\n",
       "383   2023.09.14  1327.80  usd-krw"
      ]
     },
     "execution_count": 40,
     "metadata": {},
     "output_type": "execute_result"
    }
   ],
   "source": [
    "exc.sample(5)"
   ]
  },
  {
   "cell_type": "markdown",
   "metadata": {},
   "source": [
    "머신러닝1     \n",
    "아래의 기준으로 전처리를 시행하라    \n",
    "1. 각 부품의 발주건에 대한 총수입금액 컬럼(total_price)을 만들고 계산하려한다..   \n",
    "    a. 국가별 관세 비율은 다음과 같다. 미국(25%), 인도(5%), 유럽(10%), 일본(3%)     \n",
    "    b. 일자별 환율은 공휴일 및 주말은 발표되지 않는다.     \n",
    "    c. 공휴일 및 주말에 구매한 건에 대한 환율 계산은 13:00 이전에는 전날의 환율을, 13:00 이후에는 다음날의 환율을 적용한다.    \n",
    "       (연속으로 쉬는 경우에도 그 다음 영업일의 환율을 반영)      \n",
    "    d. A자동차가 부품에 대해 총수입금액은 unit_price * quantity * (1+ 관세/100) * 일자별 환율과 같다.   "
   ]
  },
  {
   "cell_type": "code",
   "execution_count": null,
   "metadata": {},
   "outputs": [],
   "source": []
  },
  {
   "cell_type": "markdown",
   "metadata": {},
   "source": [
    "머신러닝2    \n",
    "EDA를 시행하라. 시각화 포함"
   ]
  },
  {
   "cell_type": "code",
   "execution_count": null,
   "metadata": {},
   "outputs": [],
   "source": []
  },
  {
   "cell_type": "markdown",
   "metadata": {},
   "source": [
    "머신러닝3    \n",
    "일자별 3국(미국,유럽,인도)수입컬럼 금액 및 파생변수를 통해 일본에서 수입한 금액을 예측하는 모델링을 진행하려한다.       \n",
    "아래 기준으로 데이터를 분할하고 모델링을 진행하라.    \n",
    "\n",
    "1. 데이터 전처리\n",
    "    (파생변수생성)\n",
    "    - 일자별 3국의 수입국가 개수, 카테고리별 종류 수, 카테고리별 제품 수\n",
    "    - 종속변수 : 일본의 수입금액 (독립변수가 존재하지 않는 일자는 제거)\n",
    "    - 시간 관련 파생변수 4개\n",
    "2. 모델링\n",
    "    - 3가지 회귀모델\n",
    "    - 평가지표 rmse\n",
    "3. 데이터 분할\n",
    "    - 일자 기준으로 정렬 후 행의 index기준으로(0부터시작) 3의 배수이거나 4의 배수이거나 5의 배수라면 train 그 외의 경우 test로 진행"
   ]
  },
  {
   "cell_type": "code",
   "execution_count": null,
   "metadata": {},
   "outputs": [],
   "source": []
  },
  {
   "cell_type": "markdown",
   "metadata": {},
   "source": [
    "## 통계1\n",
    "- 주택 가격 데이터이다. (종속변수 price)\n",
    "- 3차 다항회귀 모델을 학습하고 평가하라.\n",
    "- 독립변수간의 상호작용 항만을 고려한 경우와 그렇지 않은 경우의 r2값을 포함한 모델 결과 해석을 진행하라."
   ]
  },
  {
   "cell_type": "code",
   "execution_count": 54,
   "metadata": {},
   "outputs": [
    {
     "data": {
      "text/html": [
       "<div>\n",
       "<style scoped>\n",
       "    .dataframe tbody tr th:only-of-type {\n",
       "        vertical-align: middle;\n",
       "    }\n",
       "\n",
       "    .dataframe tbody tr th {\n",
       "        vertical-align: top;\n",
       "    }\n",
       "\n",
       "    .dataframe thead th {\n",
       "        text-align: right;\n",
       "    }\n",
       "</style>\n",
       "<table border=\"1\" class=\"dataframe\">\n",
       "  <thead>\n",
       "    <tr style=\"text-align: right;\">\n",
       "      <th></th>\n",
       "      <th>Size</th>\n",
       "      <th>Rooms</th>\n",
       "      <th>Year_Built</th>\n",
       "      <th>Distance_to_Park</th>\n",
       "      <th>Price</th>\n",
       "    </tr>\n",
       "  </thead>\n",
       "  <tbody>\n",
       "    <tr>\n",
       "      <th>0</th>\n",
       "      <td>87.454012</td>\n",
       "      <td>5</td>\n",
       "      <td>2004.5</td>\n",
       "      <td>2.13</td>\n",
       "      <td>1158.64</td>\n",
       "    </tr>\n",
       "    <tr>\n",
       "      <th>1</th>\n",
       "      <td>145.071431</td>\n",
       "      <td>4</td>\n",
       "      <td>1982.7</td>\n",
       "      <td>4.33</td>\n",
       "      <td>1084.19</td>\n",
       "    </tr>\n",
       "    <tr>\n",
       "      <th>2</th>\n",
       "      <td>123.199394</td>\n",
       "      <td>3</td>\n",
       "      <td>1981.6</td>\n",
       "      <td>4.62</td>\n",
       "      <td>943.60</td>\n",
       "    </tr>\n",
       "    <tr>\n",
       "      <th>3</th>\n",
       "      <td>109.865848</td>\n",
       "      <td>4</td>\n",
       "      <td>1985.8</td>\n",
       "      <td>2.38</td>\n",
       "      <td>1185.59</td>\n",
       "    </tr>\n",
       "    <tr>\n",
       "      <th>4</th>\n",
       "      <td>65.601864</td>\n",
       "      <td>5</td>\n",
       "      <td>1980.6</td>\n",
       "      <td>2.46</td>\n",
       "      <td>1061.23</td>\n",
       "    </tr>\n",
       "  </tbody>\n",
       "</table>\n",
       "</div>"
      ],
      "text/plain": [
       "         Size  Rooms  Year_Built  Distance_to_Park    Price\n",
       "0   87.454012      5      2004.5              2.13  1158.64\n",
       "1  145.071431      4      1982.7              4.33  1084.19\n",
       "2  123.199394      3      1981.6              4.62   943.60\n",
       "3  109.865848      4      1985.8              2.38  1185.59\n",
       "4   65.601864      5      1980.6              2.46  1061.23"
      ]
     },
     "execution_count": 54,
     "metadata": {},
     "output_type": "execute_result"
    }
   ],
   "source": [
    "df =pd.read_csv('./s1.csv')\n",
    "df.head()\n"
   ]
  },
  {
   "cell_type": "code",
   "execution_count": null,
   "metadata": {},
   "outputs": [],
   "source": []
  }
 ],
 "metadata": {
  "kernelspec": {
   "display_name": "Python 3",
   "language": "python",
   "name": "python3"
  },
  "language_info": {
   "codemirror_mode": {
    "name": "ipython",
    "version": 3
   },
   "file_extension": ".py",
   "mimetype": "text/x-python",
   "name": "python",
   "nbconvert_exporter": "python",
   "pygments_lexer": "ipython3",
   "version": "3.9.6"
  }
 },
 "nbformat": 4,
 "nbformat_minor": 2
}
