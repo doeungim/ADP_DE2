{
 "cells": [
  {
   "cell_type": "markdown",
   "metadata": {},
   "source": [
    "머신러닝1\n",
    "- 강판 결함에 관한 데이터셋이다. 강판 결함은 Pastry,  Z_Scratch,  K_Scatch,  Stains,  Dirtiness,  Bumps,  Other_Faults로 총 7가지가 존재합니다."
   ]
  },
  {
   "cell_type": "markdown",
   "metadata": {},
   "source": [
    "머신러닝1-1    \n",
    "아래의 기준으로 전처리하라\n",
    "1. 강판결함 7종은 원핫인코딩으로 되어있다. 두가지 이상의 결함이 동시에 존재하는 데이터와 결함이 하나도 존재하지 않는 노이즈 데이터 행을 제거하고    \n",
    "원핫인코딩 컬럼을 하나의 종속변수 컬럼(컬럼명 y)으로 만들고 각 결함을 알파벳 순으로 정렬하여 1~7까지 매핑하여 나타내라.\n",
    "2. 종속변수 관련 데이터는 y 컬럼만 남기고 모두 제거한다.\n",
    "3. 종속변수를 제외하고 unique값이 100개 이하인 컬럼은 제거하라"
   ]
  },
  {
   "cell_type": "code",
   "execution_count": null,
   "metadata": {},
   "outputs": [],
   "source": []
  },
  {
   "cell_type": "markdown",
   "metadata": {},
   "source": [
    "머신러닝1-2    \n",
    "이상치 처리 후 데이터 EDA 시각화 포함"
   ]
  },
  {
   "cell_type": "code",
   "execution_count": null,
   "metadata": {},
   "outputs": [],
   "source": []
  },
  {
   "cell_type": "markdown",
   "metadata": {},
   "source": [
    "머신러닝1-3      \n",
    "1-3~1-7까지 문제는 종속변수가 1과 4인 데이터만 필터하여 작업을 진행한다.      \n",
    "독립변수의 차원축소의 필요성에 대해서 설명하고 현 데이터에 대해 차원축소 작업의 타당성을 검토하라"
   ]
  },
  {
   "cell_type": "code",
   "execution_count": null,
   "metadata": {},
   "outputs": [],
   "source": []
  },
  {
   "cell_type": "markdown",
   "metadata": {},
   "source": [
    "머신러닝1-4    \n",
    "1-3에서 유효하다 판단한 데이터를 바탕(종속변수 y 컬럼제외)으로 kmeans 클러스터링을 진행한다.             \n",
    "실루엣 계수와 엘보우 방법을 통해 적절한 k값을 선택하라 "
   ]
  },
  {
   "cell_type": "code",
   "execution_count": null,
   "metadata": {},
   "outputs": [],
   "source": []
  },
  {
   "cell_type": "markdown",
   "metadata": {},
   "source": [
    "머신러닝 1-5     \n",
    "1-4에서 판단한 적절한 K값을 바탕으로 클러스터링을 진행하고 두 개의 그래프를 그려라.       \n",
    "그래프 1 : 두 개의 주성분 좌표(1-3에서 차원축소를 하지 않았었다면 차원축소를 진행하고 두개의 주성분만 추출한다)상에 scatter를 뿌리고 클러스터 label별로 색을 다르게 칠한다    \n",
    "그래프 2 : 두 개의 주성분 좌표(1-3에서 차원축소를 하지 않았었다면 차원축소를 진행하고 두개의 주성분만 추출한다)상에 scatter를 뿌리고 종속변수y label(1 또는 4)별로 색을 다르게 칠한다"
   ]
  },
  {
   "cell_type": "code",
   "execution_count": null,
   "metadata": {},
   "outputs": [],
   "source": []
  },
  {
   "cell_type": "markdown",
   "metadata": {},
   "source": [
    "머신러닝 1-6     \n",
    "1-3에서 유효하다 판단한 데이터를 바탕(종속변수 y 컬럼제외)으로 dbscan 클러스터링을 진행한다.     \n",
    "적절한 파라미터 튜닝을 통해 적절한 클러스터링 모델링을 진행하라. (이상치는 적당히 적으며 각 클러스터의 분포는 골고루 분포된)"
   ]
  },
  {
   "cell_type": "code",
   "execution_count": null,
   "metadata": {},
   "outputs": [],
   "source": []
  },
  {
   "cell_type": "markdown",
   "metadata": {},
   "source": [
    "머신러닝 1-7    \n",
    "1-6에서 판단한 적절한 클러스터링 모델을 통해 두 개의 그래프를 그려라.     \n",
    "그래프 1 : 두 개의 주성분 좌표(1-3에서 차원축소를 하지 않았었다면 차원축소를 진행하고 두개의 주성분만 추출한다)상에 scatter를 뿌리고 클러스터 label별로 색을 다르게 칠한다    \n",
    "그래프 2 : 두 개의 주성분 좌표(1-3에서 차원축소를 하지 않았었다면 차원축소를 진행하고 두개의 주성분만 추출한다)상에 scatter를 뿌리고 종속변수y label(1 또는 4)별로 색을 다르게 칠한다"
   ]
  },
  {
   "cell_type": "code",
   "execution_count": null,
   "metadata": {},
   "outputs": [],
   "source": []
  },
  {
   "cell_type": "markdown",
   "metadata": {},
   "source": [
    "머신러닝 1-8     \n",
    "1-2에서 전처리를 마친 데이터를 바탕으로 분류모델을 만들려고한다. 아래 기준을 바탕으로 전처리를 진행하여 모델링을하라     \n",
    "\n",
    "1. 종속변수(y)가 3,5값을 가지는 데이터만 필터한다.\n",
    "2. id의 1의 자리가 0~6인 경우 train으로 7~9인 경우 test로 한다.\n",
    "3. 3개의 분류모델을 사용한다. 평가지표는 auc로 한다. \n",
    "4. 모델마다 train과 test 데이터 각각에 대해 roc-auc그래프를 그리고(총 6개) 해석한다 "
   ]
  },
  {
   "cell_type": "code",
   "execution_count": null,
   "metadata": {},
   "outputs": [],
   "source": []
  },
  {
   "cell_type": "markdown",
   "metadata": {},
   "source": [
    "머신러닝 1-9     \n",
    "1-2에서 전처리를 마친 데이터를 바탕으로 분류모델을 만들려고한다. 아래 기준을 바탕으로 전처리를 진행하여 모델링을하라     \n",
    "\n",
    "1. 종속변수(y)가 3,5값을 가지는 데이터만 필터한다.\n",
    "2. id의 1의 자리가 0~6인 경우 train으로 7~9인 경우 test로 한다.\n",
    "3. 2개의 분류모델을 사용한다. 평가지표는 f1-score 한다. \n",
    "4. 각 모델을 학습하는데 있어서 3개 이상의 하이퍼 파라미터로 grid search를 진행한다."
   ]
  },
  {
   "cell_type": "code",
   "execution_count": null,
   "metadata": {},
   "outputs": [],
   "source": []
  },
  {
   "cell_type": "markdown",
   "metadata": {},
   "source": [
    "머신러닝 1-10     \n",
    "1-2에서 전처리를 마친 데이터를 바탕으로 분류모델을 만들려고한다. 아래 기준을 바탕으로 전처리를 진행하여 모델링을하라     \n",
    "\n",
    "1. 종속변수(y)가 3,5값을 가지는 데이터만 필터한다.\n",
    "2. id의 1의 자리가 0~6인 경우 train으로 7~9인 경우 test로 한다.\n",
    "3. 2개의 분류모델을 사용한다. 평가지표는 f1-score 한다. \n",
    "4. 각 모델을 학습하는데 있어서 3개 이상의 하이퍼 파라미터로 grid search를 진행한다."
   ]
  },
  {
   "cell_type": "code",
   "execution_count": null,
   "metadata": {},
   "outputs": [],
   "source": []
  },
  {
   "cell_type": "markdown",
   "metadata": {},
   "source": [
    "머신러닝 1-11     \n",
    "1-2에서 전처리를 마친 데이터를 바탕으로 분류모델을 만들려고한다. 아래 기준을 바탕으로 전처리를 진행하여 모델링을하라     \n",
    "\n",
    "1. 종속변수(y)가 3,5값을 가지는 데이터만 필터한다.\n",
    "2. id의 1의 자리가 0~6인 경우 train으로 7~9인 경우 test로 한다.\n",
    "3. 2개의 분류모델을 사용한다. 평가지표는 accuracy로 한다. \n",
    "4. train모델을 평가하는데 있어 kfold방식으로 진행하고 평가한다. 최종 모델은 train 전체데이터로 학습하고 Test 데이터에 대해 평가하라"
   ]
  },
  {
   "cell_type": "markdown",
   "metadata": {},
   "source": []
  }
 ],
 "metadata": {
  "kernelspec": {
   "display_name": "Python 3",
   "language": "python",
   "name": "python3"
  },
  "language_info": {
   "codemirror_mode": {
    "name": "ipython",
    "version": 3
   },
   "file_extension": ".py",
   "mimetype": "text/x-python",
   "name": "python",
   "nbconvert_exporter": "python",
   "pygments_lexer": "ipython3",
   "version": "3.9.6"
  }
 },
 "nbformat": 4,
 "nbformat_minor": 2
}
